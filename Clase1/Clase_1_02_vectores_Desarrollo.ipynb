{
  "cells": [
    {
      "cell_type": "markdown",
      "metadata": {
        "collapsed": true,
        "id": "Yb2RXjL2Igun"
      },
      "source": [
        "# Parte 1: Introducción a R (continuación)\n",
        "\n",
        "**Profesor:** Rodrigo Morales <br>\n",
        "**E-mail:** rumorale1@gmail.com\n",
        "\n"
      ]
    },
    {
      "cell_type": "markdown",
      "metadata": {
        "id": "d_bHZs66Iguo"
      },
      "source": [
        "## 3. Vectores y matrices\n",
        "\n",
        "### 3.1 Vectores\n",
        "\n",
        "En R, así como en la mayoría de los lenguajes de programación, uno de los objetos más usuales para almacenar información son los vectores, los que corresponden a arreglos unidimensionales que almacenan un mismo tipo de dato en cada una de sus entradas.\n",
        "\n",
        "Todo vector en R se puede declarar con la letra \"c\" seguido de los elementos que lo componen entre paréntesis y separados por comas."
      ]
    },
    {
      "cell_type": "code",
      "execution_count": null,
      "metadata": {
        "colab": {
          "base_uri": "https://localhost:8080/",
          "height": 34
        },
        "id": "ljQ0JcsTIgup",
        "outputId": "3423de96-8a1a-4e20-e6b7-8e37ecf8df9e",
        "vscode": {
          "languageId": "r"
        }
      },
      "outputs": [
        {
          "data": {
            "text/html": [
              "<style>\n",
              ".list-inline {list-style: none; margin:0; padding: 0}\n",
              ".list-inline>li {display: inline-block}\n",
              ".list-inline>li:not(:last-child)::after {content: \"\\00b7\"; padding: 0 .5ex}\n",
              "</style>\n",
              "<ol class=list-inline><li>8</li><li>10</li><li>12</li><li>14</li><li>16</li><li>18</li></ol>\n"
            ],
            "text/latex": [
              "\\begin{enumerate*}\n",
              "\\item 8\n",
              "\\item 10\n",
              "\\item 12\n",
              "\\item 14\n",
              "\\item 16\n",
              "\\item 18\n",
              "\\end{enumerate*}\n"
            ],
            "text/markdown": [
              "1. 8\n",
              "2. 10\n",
              "3. 12\n",
              "4. 14\n",
              "5. 16\n",
              "6. 18\n",
              "\n",
              "\n"
            ],
            "text/plain": [
              "[1]  8 10 12 14 16 18"
            ]
          },
          "metadata": {},
          "output_type": "display_data"
        }
      ],
      "source": [
        "# Declaración de dos vectores\n",
        "v <- c(1, 2, 3, 4, 5,  6)\n",
        "w <- c(7, 8, 9,10,11, 12)\n",
        "\n",
        "\n",
        "v + w\n"
      ]
    },
    {
      "cell_type": "code",
      "execution_count": null,
      "metadata": {
        "colab": {
          "base_uri": "https://localhost:8080/",
          "height": 52
        },
        "id": "6AyF4jdwALFh",
        "outputId": "87f301b8-b9af-49e8-b2d1-eb205cd63fb9",
        "vscode": {
          "languageId": "r"
        }
      },
      "outputs": [
        {
          "data": {
            "text/html": [
              "<style>\n",
              ".list-inline {list-style: none; margin:0; padding: 0}\n",
              ".list-inline>li {display: inline-block}\n",
              ".list-inline>li:not(:last-child)::after {content: \"\\00b7\"; padding: 0 .5ex}\n",
              "</style>\n",
              "<ol class=list-inline><li>8</li><li>10</li><li>12</li><li>14</li><li>12</li><li>14</li><li>16</li><li>18</li></ol>\n"
            ],
            "text/latex": [
              "\\begin{enumerate*}\n",
              "\\item 8\n",
              "\\item 10\n",
              "\\item 12\n",
              "\\item 14\n",
              "\\item 12\n",
              "\\item 14\n",
              "\\item 16\n",
              "\\item 18\n",
              "\\end{enumerate*}\n"
            ],
            "text/markdown": [
              "1. 8\n",
              "2. 10\n",
              "3. 12\n",
              "4. 14\n",
              "5. 12\n",
              "6. 14\n",
              "7. 16\n",
              "8. 18\n",
              "\n",
              "\n"
            ],
            "text/plain": [
              "[1]  8 10 12 14 12 14 16 18"
            ]
          },
          "metadata": {},
          "output_type": "display_data"
        },
        {
          "data": {
            "text/html": [
              "<style>\n",
              ".list-inline {list-style: none; margin:0; padding: 0}\n",
              ".list-inline>li {display: inline-block}\n",
              ".list-inline>li:not(:last-child)::after {content: \"\\00b7\"; padding: 0 .5ex}\n",
              "</style>\n",
              "<ol class=list-inline><li>8</li><li>10</li><li>12</li><li>14</li><li>12</li><li>14</li><li>16</li><li>18</li></ol>\n"
            ],
            "text/latex": [
              "\\begin{enumerate*}\n",
              "\\item 8\n",
              "\\item 10\n",
              "\\item 12\n",
              "\\item 14\n",
              "\\item 12\n",
              "\\item 14\n",
              "\\item 16\n",
              "\\item 18\n",
              "\\end{enumerate*}\n"
            ],
            "text/markdown": [
              "1. 8\n",
              "2. 10\n",
              "3. 12\n",
              "4. 14\n",
              "5. 12\n",
              "6. 14\n",
              "7. 16\n",
              "8. 18\n",
              "\n",
              "\n"
            ],
            "text/plain": [
              "[1]  8 10 12 14 12 14 16 18"
            ]
          },
          "metadata": {},
          "output_type": "display_data"
        }
      ],
      "source": [
        "v  <- c(1, 2, 3, 4, 5,  6, 7, 8)\n",
        "w  <- c(7, 8, 9, 10 )\n",
        "w1 <- c(7, 8, 9, 10, 7, 8, 9, 10)\n",
        "v + w\n",
        "v + w1"
      ]
    },
    {
      "cell_type": "code",
      "execution_count": null,
      "metadata": {
        "colab": {
          "base_uri": "https://localhost:8080/",
          "height": 69
        },
        "id": "GxHhDdS4Iguy",
        "outputId": "bdd91943-d261-4260-975c-562a66e2cb5a",
        "vscode": {
          "languageId": "r"
        }
      },
      "outputs": [
        {
          "data": {
            "text/html": [
              "'numeric'"
            ],
            "text/latex": [
              "'numeric'"
            ],
            "text/markdown": [
              "'numeric'"
            ],
            "text/plain": [
              "[1] \"numeric\""
            ]
          },
          "metadata": {},
          "output_type": "display_data"
        },
        {
          "data": {
            "text/html": [
              "'double'"
            ],
            "text/latex": [
              "'double'"
            ],
            "text/markdown": [
              "'double'"
            ],
            "text/plain": [
              "[1] \"double\""
            ]
          },
          "metadata": {},
          "output_type": "display_data"
        },
        {
          "name": "stdout",
          "output_type": "stream",
          "text": [
            " num [1:8] 1 2 3 4 5 6 7 8\n"
          ]
        }
      ],
      "source": [
        "# clase y tipo de dato\n",
        "class(v)\n",
        "typeof(v)\n",
        "str(v)"
      ]
    },
    {
      "cell_type": "code",
      "execution_count": null,
      "metadata": {
        "colab": {
          "base_uri": "https://localhost:8080/",
          "height": 34
        },
        "id": "FUBvbIN9Igu4",
        "outputId": "aeb27911-bfd8-4a32-d887-503f18438f58",
        "vscode": {
          "languageId": "r"
        }
      },
      "outputs": [
        {
          "data": {
            "text/html": [
              "<style>\n",
              ".list-inline {list-style: none; margin:0; padding: 0}\n",
              ".list-inline>li {display: inline-block}\n",
              ".list-inline>li:not(:last-child)::after {content: \"\\00b7\"; padding: 0 .5ex}\n",
              "</style>\n",
              "<ol class=list-inline><li>TRUE</li><li>FALSE</li><li>FALSE</li><li>TRUE</li></ol>\n"
            ],
            "text/latex": [
              "\\begin{enumerate*}\n",
              "\\item TRUE\n",
              "\\item FALSE\n",
              "\\item FALSE\n",
              "\\item TRUE\n",
              "\\end{enumerate*}\n"
            ],
            "text/markdown": [
              "1. TRUE\n",
              "2. FALSE\n",
              "3. FALSE\n",
              "4. TRUE\n",
              "\n",
              "\n"
            ],
            "text/plain": [
              "[1]  TRUE FALSE FALSE  TRUE"
            ]
          },
          "metadata": {},
          "output_type": "display_data"
        }
      ],
      "source": [
        "# vectores lógicos\n",
        "\n",
        "l <- c(T, F, 2>3, 3==3)\n",
        "l"
      ]
    },
    {
      "cell_type": "code",
      "execution_count": null,
      "metadata": {
        "colab": {
          "base_uri": "https://localhost:8080/",
          "height": 69
        },
        "id": "R88mjniaIgu_",
        "outputId": "a77442f8-4db2-46b6-b4e6-4817f10e426a",
        "vscode": {
          "languageId": "r"
        }
      },
      "outputs": [
        {
          "data": {
            "text/html": [
              "<style>\n",
              ".list-inline {list-style: none; margin:0; padding: 0}\n",
              ".list-inline>li {display: inline-block}\n",
              ".list-inline>li:not(:last-child)::after {content: \"\\00b7\"; padding: 0 .5ex}\n",
              "</style>\n",
              "<ol class=list-inline><li>1</li><li>2</li><li>3</li></ol>\n"
            ],
            "text/latex": [
              "\\begin{enumerate*}\n",
              "\\item 1\n",
              "\\item 2\n",
              "\\item 3\n",
              "\\end{enumerate*}\n"
            ],
            "text/markdown": [
              "1. 1\n",
              "2. 2\n",
              "3. 3\n",
              "\n",
              "\n"
            ],
            "text/plain": [
              "[1] 1 2 3"
            ]
          },
          "metadata": {},
          "output_type": "display_data"
        },
        {
          "data": {
            "text/html": [
              "<style>\n",
              ".list-inline {list-style: none; margin:0; padding: 0}\n",
              ".list-inline>li {display: inline-block}\n",
              ".list-inline>li:not(:last-child)::after {content: \"\\00b7\"; padding: 0 .5ex}\n",
              "</style>\n",
              "<ol class=list-inline><li>'a'</li><li>'b'</li><li>'c'</li></ol>\n"
            ],
            "text/latex": [
              "\\begin{enumerate*}\n",
              "\\item 'a'\n",
              "\\item 'b'\n",
              "\\item 'c'\n",
              "\\end{enumerate*}\n"
            ],
            "text/markdown": [
              "1. 'a'\n",
              "2. 'b'\n",
              "3. 'c'\n",
              "\n",
              "\n"
            ],
            "text/plain": [
              "[1] \"a\" \"b\" \"c\""
            ]
          },
          "metadata": {},
          "output_type": "display_data"
        },
        {
          "data": {
            "text/html": [
              "<style>\n",
              ".dl-inline {width: auto; margin:0; padding: 0}\n",
              ".dl-inline>dt, .dl-inline>dd {float: none; width: auto; display: inline-block}\n",
              ".dl-inline>dt::after {content: \":\\0020\"; padding-right: .5ex}\n",
              ".dl-inline>dt:not(:first-of-type) {padding-left: .5ex}\n",
              "</style><dl class=dl-inline><dt>a</dt><dd>1</dd><dt>b</dt><dd>2</dd><dt>c</dt><dd>3</dd></dl>\n"
            ],
            "text/latex": [
              "\\begin{description*}\n",
              "\\item[a] 1\n",
              "\\item[b] 2\n",
              "\\item[c] 3\n",
              "\\end{description*}\n"
            ],
            "text/markdown": [
              "a\n",
              ":   1b\n",
              ":   2c\n",
              ":   3\n",
              "\n"
            ],
            "text/plain": [
              "a b c \n",
              "1 2 3 "
            ]
          },
          "metadata": {},
          "output_type": "display_data"
        }
      ],
      "source": [
        "# Nombres de las entradas de un vector\n",
        "\n",
        "v2 <- c(1,2,3)\n",
        "\n",
        "v2\n",
        "\n",
        "names(v2) <- c(\"a\", \"b\", \"c\")\n",
        "\n",
        "names(v2)\n",
        "\n",
        "v2"
      ]
    },
    {
      "cell_type": "code",
      "execution_count": null,
      "metadata": {
        "id": "OAhPpN3vIgvB",
        "vscode": {
          "languageId": "r"
        }
      },
      "outputs": [],
      "source": [
        "# podemos asignar los nombres a vector 1\n"
      ]
    },
    {
      "cell_type": "code",
      "execution_count": null,
      "metadata": {
        "id": "E6dxkyP5IgvF",
        "vscode": {
          "languageId": "r"
        }
      },
      "outputs": [],
      "source": [
        "# nombres de las entradas con la función, names()\n"
      ]
    },
    {
      "cell_type": "code",
      "execution_count": null,
      "metadata": {
        "id": "7Ayre5BlIgvH",
        "vscode": {
          "languageId": "r"
        }
      },
      "outputs": [],
      "source": [
        "#combinar vectores\n"
      ]
    },
    {
      "cell_type": "code",
      "execution_count": null,
      "metadata": {
        "id": "QETBghXxIgvI",
        "vscode": {
          "languageId": "r"
        }
      },
      "outputs": [],
      "source": [
        "# c : es una abreviación de \"combine\"\n"
      ]
    },
    {
      "cell_type": "markdown",
      "metadata": {
        "id": "MX35j24_IgvN"
      },
      "source": [
        "#### 3.1.1 Acceso a los elementos de un vector\n",
        "\n",
        "El acceso a los elementos de un vector se puede llevar acabo indicando la posición del elemento (los naturales parten en 1!), el nombre de la casilla que lo contiene, o bien mediante sentencias lógicas que retornen \"TRUE\" en la posición deseada.\n",
        "\n"
      ]
    },
    {
      "cell_type": "code",
      "execution_count": null,
      "metadata": {
        "colab": {
          "base_uri": "https://localhost:8080/",
          "height": 52
        },
        "id": "zW2_TzKxIgvN",
        "outputId": "f72a00e9-54e2-4e2d-91e2-acf491363ed5",
        "vscode": {
          "languageId": "r"
        }
      },
      "outputs": [
        {
          "data": {
            "text/html": [
              "<strong>a:</strong> 1"
            ],
            "text/latex": [
              "\\textbf{a:} 1"
            ],
            "text/markdown": [
              "**a:** 1"
            ],
            "text/plain": [
              "a \n",
              "1 "
            ]
          },
          "metadata": {},
          "output_type": "display_data"
        },
        {
          "data": {
            "text/html": [
              "<style>\n",
              ".dl-inline {width: auto; margin:0; padding: 0}\n",
              ".dl-inline>dt, .dl-inline>dd {float: none; width: auto; display: inline-block}\n",
              ".dl-inline>dt::after {content: \":\\0020\"; padding-right: .5ex}\n",
              ".dl-inline>dt:not(:first-of-type) {padding-left: .5ex}\n",
              "</style><dl class=dl-inline><dt>a</dt><dd>1</dd><dt>c</dt><dd>3</dd></dl>\n"
            ],
            "text/latex": [
              "\\begin{description*}\n",
              "\\item[a] 1\n",
              "\\item[c] 3\n",
              "\\end{description*}\n"
            ],
            "text/markdown": [
              "a\n",
              ":   1c\n",
              ":   3\n",
              "\n"
            ],
            "text/plain": [
              "a c \n",
              "1 3 "
            ]
          },
          "metadata": {},
          "output_type": "display_data"
        }
      ],
      "source": [
        "# Mediante posición\n",
        "\n",
        "v2[1]\n",
        "\n",
        "v2[c(1, 3)]"
      ]
    },
    {
      "cell_type": "code",
      "execution_count": null,
      "metadata": {
        "id": "XWL1ZIyMIgvR",
        "vscode": {
          "languageId": "r"
        }
      },
      "outputs": [],
      "source": [
        "# retorna los elementos de las casillas 1  y 4 de vector2\n"
      ]
    },
    {
      "cell_type": "code",
      "execution_count": null,
      "metadata": {
        "id": "uBqEKq1aIgvT",
        "vscode": {
          "languageId": "r"
        }
      },
      "outputs": [],
      "source": [
        "#NOTA 3:5, R lo interpreta como c(3,4,5)\n"
      ]
    },
    {
      "cell_type": "code",
      "execution_count": null,
      "metadata": {
        "colab": {
          "base_uri": "https://localhost:8080/",
          "height": 69
        },
        "id": "XIuQSfvKIgvV",
        "outputId": "60f1725c-9d9e-46da-cf79-d199396524cd",
        "vscode": {
          "languageId": "r"
        }
      },
      "outputs": [
        {
          "data": {
            "text/html": [
              "<strong>b:</strong> 2"
            ],
            "text/latex": [
              "\\textbf{b:} 2"
            ],
            "text/markdown": [
              "**b:** 2"
            ],
            "text/plain": [
              "b \n",
              "2 "
            ]
          },
          "metadata": {},
          "output_type": "display_data"
        },
        {
          "data": {
            "text/html": [
              "<strong>c:</strong> 3"
            ],
            "text/latex": [
              "\\textbf{c:} 3"
            ],
            "text/markdown": [
              "**c:** 3"
            ],
            "text/plain": [
              "c \n",
              "3 "
            ]
          },
          "metadata": {},
          "output_type": "display_data"
        },
        {
          "data": {
            "text/html": [
              "<style>\n",
              ".dl-inline {width: auto; margin:0; padding: 0}\n",
              ".dl-inline>dt, .dl-inline>dd {float: none; width: auto; display: inline-block}\n",
              ".dl-inline>dt::after {content: \":\\0020\"; padding-right: .5ex}\n",
              ".dl-inline>dt:not(:first-of-type) {padding-left: .5ex}\n",
              "</style><dl class=dl-inline><dt>a</dt><dd>1</dd><dt>c</dt><dd>3</dd></dl>\n"
            ],
            "text/latex": [
              "\\begin{description*}\n",
              "\\item[a] 1\n",
              "\\item[c] 3\n",
              "\\end{description*}\n"
            ],
            "text/markdown": [
              "a\n",
              ":   1c\n",
              ":   3\n",
              "\n"
            ],
            "text/plain": [
              "a c \n",
              "1 3 "
            ]
          },
          "metadata": {},
          "output_type": "display_data"
        }
      ],
      "source": [
        "# podemos acceder a los elmentos mediante el nombre\n",
        "v2[\"b\"]\n",
        "v2[\"c\"]\n",
        "v2[c(\"a\", \"c\")]\n"
      ]
    },
    {
      "cell_type": "code",
      "execution_count": null,
      "metadata": {
        "colab": {
          "base_uri": "https://localhost:8080/",
          "height": 52
        },
        "id": "lXN99mUsCpzc",
        "outputId": "3beca215-4ff9-42eb-ed0f-f6f4d125a614",
        "vscode": {
          "languageId": "r"
        }
      },
      "outputs": [
        {
          "data": {
            "text/html": [
              "<strong>c:</strong> 3"
            ],
            "text/latex": [
              "\\textbf{c:} 3"
            ],
            "text/markdown": [
              "**c:** 3"
            ],
            "text/plain": [
              "c \n",
              "3 "
            ]
          },
          "metadata": {},
          "output_type": "display_data"
        },
        {
          "data": {
            "text/html": [
              "<style>\n",
              ".dl-inline {width: auto; margin:0; padding: 0}\n",
              ".dl-inline>dt, .dl-inline>dd {float: none; width: auto; display: inline-block}\n",
              ".dl-inline>dt::after {content: \":\\0020\"; padding-right: .5ex}\n",
              ".dl-inline>dt:not(:first-of-type) {padding-left: .5ex}\n",
              "</style><dl class=dl-inline><dt>a</dt><dd>1</dd><dt>c</dt><dd>3</dd></dl>\n"
            ],
            "text/latex": [
              "\\begin{description*}\n",
              "\\item[a] 1\n",
              "\\item[c] 3\n",
              "\\end{description*}\n"
            ],
            "text/markdown": [
              "a\n",
              ":   1c\n",
              ":   3\n",
              "\n"
            ],
            "text/plain": [
              "a c \n",
              "1 3 "
            ]
          },
          "metadata": {},
          "output_type": "display_data"
        }
      ],
      "source": [
        "# condiciones\n",
        "v2[ v2 >= 3  ]\n",
        "\n",
        "v2[ v2 >= 3 | v2<=1 ]\n"
      ]
    },
    {
      "cell_type": "code",
      "execution_count": null,
      "metadata": {
        "colab": {
          "base_uri": "https://localhost:8080/",
          "height": 52
        },
        "id": "SGWlUruuDERC",
        "outputId": "77d0fd2c-6a81-42ef-f1a0-37f1e427458a",
        "vscode": {
          "languageId": "r"
        }
      },
      "outputs": [
        {
          "data": {
            "text/html": [
              "<style>\n",
              ".dl-inline {width: auto; margin:0; padding: 0}\n",
              ".dl-inline>dt, .dl-inline>dd {float: none; width: auto; display: inline-block}\n",
              ".dl-inline>dt::after {content: \":\\0020\"; padding-right: .5ex}\n",
              ".dl-inline>dt:not(:first-of-type) {padding-left: .5ex}\n",
              "</style><dl class=dl-inline><dt>a</dt><dd>1</dd><dt>a</dt><dd>1</dd><dt>b</dt><dd>2</dd><dt>b</dt><dd>2</dd><dt>c</dt><dd>3</dd><dt>c</dt><dd>3</dd></dl>\n"
            ],
            "text/latex": [
              "\\begin{description*}\n",
              "\\item[a] 1\n",
              "\\item[a] 1\n",
              "\\item[b] 2\n",
              "\\item[b] 2\n",
              "\\item[c] 3\n",
              "\\item[c] 3\n",
              "\\end{description*}\n"
            ],
            "text/markdown": [
              "a\n",
              ":   1a\n",
              ":   1b\n",
              ":   2b\n",
              ":   2c\n",
              ":   3c\n",
              ":   3\n",
              "\n"
            ],
            "text/plain": [
              "a a b b c c \n",
              "1 1 2 2 3 3 "
            ]
          },
          "metadata": {},
          "output_type": "display_data"
        },
        {
          "data": {
            "text/html": [
              "<style>\n",
              ".dl-inline {width: auto; margin:0; padding: 0}\n",
              ".dl-inline>dt, .dl-inline>dd {float: none; width: auto; display: inline-block}\n",
              ".dl-inline>dt::after {content: \":\\0020\"; padding-right: .5ex}\n",
              ".dl-inline>dt:not(:first-of-type) {padding-left: .5ex}\n",
              "</style><dl class=dl-inline><dt>a</dt><dd>1</dd><dt>a</dt><dd>1</dd><dt>c</dt><dd>3</dd><dt>c</dt><dd>3</dd></dl>\n"
            ],
            "text/latex": [
              "\\begin{description*}\n",
              "\\item[a] 1\n",
              "\\item[a] 1\n",
              "\\item[c] 3\n",
              "\\item[c] 3\n",
              "\\end{description*}\n"
            ],
            "text/markdown": [
              "a\n",
              ":   1a\n",
              ":   1c\n",
              ":   3c\n",
              ":   3\n",
              "\n"
            ],
            "text/plain": [
              "a a c c \n",
              "1 1 3 3 "
            ]
          },
          "metadata": {},
          "output_type": "display_data"
        }
      ],
      "source": [
        "v3 <- c(1, 1, 2, 2, 3, 3)\n",
        "\n",
        "names(v3) <- c(\"a\", \"a\", \"b\", \"b\", \"c\", \"c\")\n",
        "\n",
        "v3\n",
        "\n",
        "v3[ v3 >= 3 | v3<=1 ]\n",
        "\n"
      ]
    },
    {
      "cell_type": "code",
      "execution_count": null,
      "metadata": {
        "colab": {
          "base_uri": "https://localhost:8080/",
          "height": 34
        },
        "id": "Ny6nh9QeDqbt",
        "outputId": "15aee407-29ad-473f-b23b-22d9d20b6d6a",
        "vscode": {
          "languageId": "r"
        }
      },
      "outputs": [
        {
          "data": {
            "text/html": [
              "<style>\n",
              ".dl-inline {width: auto; margin:0; padding: 0}\n",
              ".dl-inline>dt, .dl-inline>dd {float: none; width: auto; display: inline-block}\n",
              ".dl-inline>dt::after {content: \":\\0020\"; padding-right: .5ex}\n",
              ".dl-inline>dt:not(:first-of-type) {padding-left: .5ex}\n",
              "</style><dl class=dl-inline><dt>b</dt><dd>2</dd><dt>b</dt><dd>2</dd><dt>c</dt><dd>3</dd><dt>c</dt><dd>3</dd></dl>\n"
            ],
            "text/latex": [
              "\\begin{description*}\n",
              "\\item[b] 2\n",
              "\\item[b] 2\n",
              "\\item[c] 3\n",
              "\\item[c] 3\n",
              "\\end{description*}\n"
            ],
            "text/markdown": [
              "b\n",
              ":   2b\n",
              ":   2c\n",
              ":   3c\n",
              ":   3\n",
              "\n"
            ],
            "text/plain": [
              "b b c c \n",
              "2 2 3 3 "
            ]
          },
          "metadata": {},
          "output_type": "display_data"
        }
      ],
      "source": [
        "v3[-c(1,2)]"
      ]
    },
    {
      "cell_type": "code",
      "execution_count": null,
      "metadata": {
        "colab": {
          "base_uri": "https://localhost:8080/",
          "height": 69
        },
        "id": "TYd9UBOJEE5o",
        "outputId": "6941c41f-7165-4e4e-a1d2-a927b54d2d9d",
        "vscode": {
          "languageId": "r"
        }
      },
      "outputs": [
        {
          "data": {
            "text/html": [
              "<style>\n",
              ".dl-inline {width: auto; margin:0; padding: 0}\n",
              ".dl-inline>dt, .dl-inline>dd {float: none; width: auto; display: inline-block}\n",
              ".dl-inline>dt::after {content: \":\\0020\"; padding-right: .5ex}\n",
              ".dl-inline>dt:not(:first-of-type) {padding-left: .5ex}\n",
              "</style><dl class=dl-inline><dt>c</dt><dd>5</dd><dt>c</dt><dd>6</dd></dl>\n"
            ],
            "text/latex": [
              "\\begin{description*}\n",
              "\\item[c] 5\n",
              "\\item[c] 6\n",
              "\\end{description*}\n"
            ],
            "text/markdown": [
              "c\n",
              ":   5c\n",
              ":   6\n",
              "\n"
            ],
            "text/plain": [
              "c c \n",
              "5 6 "
            ]
          },
          "metadata": {},
          "output_type": "display_data"
        },
        {
          "data": {
            "text/html": [
              "<style>\n",
              ".list-inline {list-style: none; margin:0; padding: 0}\n",
              ".list-inline>li {display: inline-block}\n",
              ".list-inline>li:not(:last-child)::after {content: \"\\00b7\"; padding: 0 .5ex}\n",
              "</style>\n",
              "<ol class=list-inline><li>1</li><li>2</li></ol>\n"
            ],
            "text/latex": [
              "\\begin{enumerate*}\n",
              "\\item 1\n",
              "\\item 2\n",
              "\\end{enumerate*}\n"
            ],
            "text/markdown": [
              "1. 1\n",
              "2. 2\n",
              "\n",
              "\n"
            ],
            "text/plain": [
              "[1] 1 2"
            ]
          },
          "metadata": {},
          "output_type": "display_data"
        },
        {
          "data": {
            "text/html": [
              "<style>\n",
              ".dl-inline {width: auto; margin:0; padding: 0}\n",
              ".dl-inline>dt, .dl-inline>dd {float: none; width: auto; display: inline-block}\n",
              ".dl-inline>dt::after {content: \":\\0020\"; padding-right: .5ex}\n",
              ".dl-inline>dt:not(:first-of-type) {padding-left: .5ex}\n",
              "</style><dl class=dl-inline><dt>b</dt><dd>2</dd><dt>b</dt><dd>2</dd><dt>c</dt><dd>3</dd><dt>c</dt><dd>3</dd></dl>\n"
            ],
            "text/latex": [
              "\\begin{description*}\n",
              "\\item[b] 2\n",
              "\\item[b] 2\n",
              "\\item[c] 3\n",
              "\\item[c] 3\n",
              "\\end{description*}\n"
            ],
            "text/markdown": [
              "b\n",
              ":   2b\n",
              ":   2c\n",
              ":   3c\n",
              ":   3\n",
              "\n"
            ],
            "text/plain": [
              "b b c c \n",
              "2 2 3 3 "
            ]
          },
          "metadata": {},
          "output_type": "display_data"
        }
      ],
      "source": [
        "which(v3 >= 3)\n",
        "\n",
        "which(names(v3) == \"a\")\n",
        "\n",
        "v3[-which(names(v3) == \"a\")]"
      ]
    },
    {
      "cell_type": "code",
      "execution_count": null,
      "metadata": {
        "colab": {
          "base_uri": "https://localhost:8080/",
          "height": 34
        },
        "id": "IHjnaSSyIgvX",
        "outputId": "2f5a6ce2-0c84-4995-d269-4c4625bda2cf",
        "vscode": {
          "languageId": "r"
        }
      },
      "outputs": [
        {
          "data": {
            "text/html": [
              "<style>\n",
              ".dl-inline {width: auto; margin:0; padding: 0}\n",
              ".dl-inline>dt, .dl-inline>dd {float: none; width: auto; display: inline-block}\n",
              ".dl-inline>dt::after {content: \":\\0020\"; padding-right: .5ex}\n",
              ".dl-inline>dt:not(:first-of-type) {padding-left: .5ex}\n",
              "</style><dl class=dl-inline><dt>a</dt><dd>1</dd><dt>a</dt><dd>4</dd><dt>b</dt><dd>2</dd><dt>b</dt><dd>5</dd><dt>c</dt><dd>3</dd><dt>c</dt><dd>6</dd></dl>\n"
            ],
            "text/latex": [
              "\\begin{description*}\n",
              "\\item[a] 1\n",
              "\\item[a] 4\n",
              "\\item[b] 2\n",
              "\\item[b] 5\n",
              "\\item[c] 3\n",
              "\\item[c] 6\n",
              "\\end{description*}\n"
            ],
            "text/markdown": [
              "a\n",
              ":   1a\n",
              ":   4b\n",
              ":   2b\n",
              ":   5c\n",
              ":   3c\n",
              ":   6\n",
              "\n"
            ],
            "text/plain": [
              "a a b b c c \n",
              "1 4 2 5 3 6 "
            ]
          },
          "metadata": {},
          "output_type": "display_data"
        }
      ],
      "source": [
        "# cambiar una entrada de un vector o cambiar un nombre\n",
        "v3[2] = 4\n",
        "v3[4] = 5\n",
        "v3[6] = 6\n",
        "v3"
      ]
    },
    {
      "cell_type": "code",
      "execution_count": null,
      "metadata": {
        "colab": {
          "base_uri": "https://localhost:8080/",
          "height": 69
        },
        "id": "KCKDbYtRIgvZ",
        "outputId": "38dd0448-a07d-4666-d82e-8523715dd430",
        "vscode": {
          "languageId": "r"
        }
      },
      "outputs": [
        {
          "data": {
            "text/html": [
              "<style>\n",
              ".list-inline {list-style: none; margin:0; padding: 0}\n",
              ".list-inline>li {display: inline-block}\n",
              ".list-inline>li:not(:last-child)::after {content: \"\\00b7\"; padding: 0 .5ex}\n",
              "</style>\n",
              "<ol class=list-inline><li>1</li><li>6</li><li>11</li><li>16</li><li>21</li><li>26</li><li>31</li><li>36</li><li>41</li><li>46</li><li>51</li><li>56</li><li>61</li><li>66</li><li>71</li><li>76</li><li>81</li><li>86</li><li>91</li><li>96</li></ol>\n"
            ],
            "text/latex": [
              "\\begin{enumerate*}\n",
              "\\item 1\n",
              "\\item 6\n",
              "\\item 11\n",
              "\\item 16\n",
              "\\item 21\n",
              "\\item 26\n",
              "\\item 31\n",
              "\\item 36\n",
              "\\item 41\n",
              "\\item 46\n",
              "\\item 51\n",
              "\\item 56\n",
              "\\item 61\n",
              "\\item 66\n",
              "\\item 71\n",
              "\\item 76\n",
              "\\item 81\n",
              "\\item 86\n",
              "\\item 91\n",
              "\\item 96\n",
              "\\end{enumerate*}\n"
            ],
            "text/markdown": [
              "1. 1\n",
              "2. 6\n",
              "3. 11\n",
              "4. 16\n",
              "5. 21\n",
              "6. 26\n",
              "7. 31\n",
              "8. 36\n",
              "9. 41\n",
              "10. 46\n",
              "11. 51\n",
              "12. 56\n",
              "13. 61\n",
              "14. 66\n",
              "15. 71\n",
              "16. 76\n",
              "17. 81\n",
              "18. 86\n",
              "19. 91\n",
              "20. 96\n",
              "\n",
              "\n"
            ],
            "text/plain": [
              " [1]  1  6 11 16 21 26 31 36 41 46 51 56 61 66 71 76 81 86 91 96"
            ]
          },
          "metadata": {},
          "output_type": "display_data"
        },
        {
          "data": {
            "text/html": [
              "<style>\n",
              ".list-inline {list-style: none; margin:0; padding: 0}\n",
              ".list-inline>li {display: inline-block}\n",
              ".list-inline>li:not(:last-child)::after {content: \"\\00b7\"; padding: 0 .5ex}\n",
              "</style>\n",
              "<ol class=list-inline><li>1</li><li>6</li><li>11</li><li>16</li><li>21</li><li>26</li><li>31</li><li>36</li><li>41</li><li>46</li><li>51</li><li>56</li><li>61</li><li>66</li><li>71</li><li>76</li><li>81</li><li>86</li><li>91</li><li>96</li></ol>\n"
            ],
            "text/latex": [
              "\\begin{enumerate*}\n",
              "\\item 1\n",
              "\\item 6\n",
              "\\item 11\n",
              "\\item 16\n",
              "\\item 21\n",
              "\\item 26\n",
              "\\item 31\n",
              "\\item 36\n",
              "\\item 41\n",
              "\\item 46\n",
              "\\item 51\n",
              "\\item 56\n",
              "\\item 61\n",
              "\\item 66\n",
              "\\item 71\n",
              "\\item 76\n",
              "\\item 81\n",
              "\\item 86\n",
              "\\item 91\n",
              "\\item 96\n",
              "\\end{enumerate*}\n"
            ],
            "text/markdown": [
              "1. 1\n",
              "2. 6\n",
              "3. 11\n",
              "4. 16\n",
              "5. 21\n",
              "6. 26\n",
              "7. 31\n",
              "8. 36\n",
              "9. 41\n",
              "10. 46\n",
              "11. 51\n",
              "12. 56\n",
              "13. 61\n",
              "14. 66\n",
              "15. 71\n",
              "16. 76\n",
              "17. 81\n",
              "18. 86\n",
              "19. 91\n",
              "20. 96\n",
              "\n",
              "\n"
            ],
            "text/plain": [
              " [1]  1  6 11 16 21 26 31 36 41 46 51 56 61 66 71 76 81 86 91 96"
            ]
          },
          "metadata": {},
          "output_type": "display_data"
        },
        {
          "data": {
            "text/html": [
              "<style>\n",
              ".list-inline {list-style: none; margin:0; padding: 0}\n",
              ".list-inline>li {display: inline-block}\n",
              ".list-inline>li:not(:last-child)::after {content: \"\\00b7\"; padding: 0 .5ex}\n",
              "</style>\n",
              "<ol class=list-inline><li>1</li><li>6</li><li>11</li><li>16</li><li>21</li><li>26</li><li>31</li><li>36</li><li>41</li><li>46</li><li>51</li><li>56</li><li>61</li><li>66</li><li>71</li><li>76</li><li>81</li><li>86</li><li>91</li><li>96</li></ol>\n"
            ],
            "text/latex": [
              "\\begin{enumerate*}\n",
              "\\item 1\n",
              "\\item 6\n",
              "\\item 11\n",
              "\\item 16\n",
              "\\item 21\n",
              "\\item 26\n",
              "\\item 31\n",
              "\\item 36\n",
              "\\item 41\n",
              "\\item 46\n",
              "\\item 51\n",
              "\\item 56\n",
              "\\item 61\n",
              "\\item 66\n",
              "\\item 71\n",
              "\\item 76\n",
              "\\item 81\n",
              "\\item 86\n",
              "\\item 91\n",
              "\\item 96\n",
              "\\end{enumerate*}\n"
            ],
            "text/markdown": [
              "1. 1\n",
              "2. 6\n",
              "3. 11\n",
              "4. 16\n",
              "5. 21\n",
              "6. 26\n",
              "7. 31\n",
              "8. 36\n",
              "9. 41\n",
              "10. 46\n",
              "11. 51\n",
              "12. 56\n",
              "13. 61\n",
              "14. 66\n",
              "15. 71\n",
              "16. 76\n",
              "17. 81\n",
              "18. 86\n",
              "19. 91\n",
              "20. 96\n",
              "\n",
              "\n"
            ],
            "text/plain": [
              " [1]  1  6 11 16 21 26 31 36 41 46 51 56 61 66 71 76 81 86 91 96"
            ]
          },
          "metadata": {},
          "output_type": "display_data"
        }
      ],
      "source": [
        "#v4 <- c(1, 2, 3, 4, 5, 6, 7, ...., 100)\n",
        "#seq(from = 1, to = 100, by = 1)\n",
        "\n",
        "seq(from = 1, to = 100, by = 5)\n",
        "\n",
        "seq(by = 5, to = 100, from = 1)\n",
        "\n",
        "seq(1, 100, 5)\n"
      ]
    },
    {
      "cell_type": "code",
      "execution_count": null,
      "metadata": {
        "colab": {
          "base_uri": "https://localhost:8080/",
          "height": 156
        },
        "id": "6cmqXm7TI1Jy",
        "outputId": "d3ad931c-5ede-49dd-ff4e-d40530161124",
        "vscode": {
          "languageId": "r"
        }
      },
      "outputs": [
        {
          "data": {
            "text/html": [
              "<style>\n",
              ".list-inline {list-style: none; margin:0; padding: 0}\n",
              ".list-inline>li {display: inline-block}\n",
              ".list-inline>li:not(:last-child)::after {content: \"\\00b7\"; padding: 0 .5ex}\n",
              "</style>\n",
              "<ol class=list-inline><li>1</li><li>2</li><li>3</li><li>4</li><li>5</li><li>6</li><li>7</li><li>8</li><li>9</li><li>10</li><li>11</li><li>12</li><li>13</li><li>14</li><li>15</li><li>16</li><li>17</li><li>18</li><li>19</li><li>20</li><li>21</li><li>22</li><li>23</li><li>24</li><li>25</li><li>26</li><li>27</li><li>28</li><li>29</li><li>30</li><li>31</li><li>32</li><li>33</li><li>34</li><li>35</li><li>36</li><li>37</li><li>38</li><li>39</li><li>40</li><li>41</li><li>42</li><li>43</li><li>44</li><li>45</li><li>46</li><li>47</li><li>48</li><li>49</li><li>50</li><li>51</li><li>52</li><li>53</li><li>54</li><li>55</li><li>56</li><li>57</li><li>58</li><li>59</li><li>60</li><li>61</li><li>62</li><li>63</li><li>64</li><li>65</li><li>66</li><li>67</li><li>68</li><li>69</li><li>70</li><li>71</li><li>72</li><li>73</li><li>74</li><li>75</li><li>76</li><li>77</li><li>78</li><li>79</li><li>80</li><li>81</li><li>82</li><li>83</li><li>84</li><li>85</li><li>86</li><li>87</li><li>88</li><li>89</li><li>90</li><li>91</li><li>92</li><li>93</li><li>94</li><li>95</li><li>96</li><li>97</li><li>98</li><li>99</li><li>100</li></ol>\n"
            ],
            "text/latex": [
              "\\begin{enumerate*}\n",
              "\\item 1\n",
              "\\item 2\n",
              "\\item 3\n",
              "\\item 4\n",
              "\\item 5\n",
              "\\item 6\n",
              "\\item 7\n",
              "\\item 8\n",
              "\\item 9\n",
              "\\item 10\n",
              "\\item 11\n",
              "\\item 12\n",
              "\\item 13\n",
              "\\item 14\n",
              "\\item 15\n",
              "\\item 16\n",
              "\\item 17\n",
              "\\item 18\n",
              "\\item 19\n",
              "\\item 20\n",
              "\\item 21\n",
              "\\item 22\n",
              "\\item 23\n",
              "\\item 24\n",
              "\\item 25\n",
              "\\item 26\n",
              "\\item 27\n",
              "\\item 28\n",
              "\\item 29\n",
              "\\item 30\n",
              "\\item 31\n",
              "\\item 32\n",
              "\\item 33\n",
              "\\item 34\n",
              "\\item 35\n",
              "\\item 36\n",
              "\\item 37\n",
              "\\item 38\n",
              "\\item 39\n",
              "\\item 40\n",
              "\\item 41\n",
              "\\item 42\n",
              "\\item 43\n",
              "\\item 44\n",
              "\\item 45\n",
              "\\item 46\n",
              "\\item 47\n",
              "\\item 48\n",
              "\\item 49\n",
              "\\item 50\n",
              "\\item 51\n",
              "\\item 52\n",
              "\\item 53\n",
              "\\item 54\n",
              "\\item 55\n",
              "\\item 56\n",
              "\\item 57\n",
              "\\item 58\n",
              "\\item 59\n",
              "\\item 60\n",
              "\\item 61\n",
              "\\item 62\n",
              "\\item 63\n",
              "\\item 64\n",
              "\\item 65\n",
              "\\item 66\n",
              "\\item 67\n",
              "\\item 68\n",
              "\\item 69\n",
              "\\item 70\n",
              "\\item 71\n",
              "\\item 72\n",
              "\\item 73\n",
              "\\item 74\n",
              "\\item 75\n",
              "\\item 76\n",
              "\\item 77\n",
              "\\item 78\n",
              "\\item 79\n",
              "\\item 80\n",
              "\\item 81\n",
              "\\item 82\n",
              "\\item 83\n",
              "\\item 84\n",
              "\\item 85\n",
              "\\item 86\n",
              "\\item 87\n",
              "\\item 88\n",
              "\\item 89\n",
              "\\item 90\n",
              "\\item 91\n",
              "\\item 92\n",
              "\\item 93\n",
              "\\item 94\n",
              "\\item 95\n",
              "\\item 96\n",
              "\\item 97\n",
              "\\item 98\n",
              "\\item 99\n",
              "\\item 100\n",
              "\\end{enumerate*}\n"
            ],
            "text/markdown": [
              "1. 1\n",
              "2. 2\n",
              "3. 3\n",
              "4. 4\n",
              "5. 5\n",
              "6. 6\n",
              "7. 7\n",
              "8. 8\n",
              "9. 9\n",
              "10. 10\n",
              "11. 11\n",
              "12. 12\n",
              "13. 13\n",
              "14. 14\n",
              "15. 15\n",
              "16. 16\n",
              "17. 17\n",
              "18. 18\n",
              "19. 19\n",
              "20. 20\n",
              "21. 21\n",
              "22. 22\n",
              "23. 23\n",
              "24. 24\n",
              "25. 25\n",
              "26. 26\n",
              "27. 27\n",
              "28. 28\n",
              "29. 29\n",
              "30. 30\n",
              "31. 31\n",
              "32. 32\n",
              "33. 33\n",
              "34. 34\n",
              "35. 35\n",
              "36. 36\n",
              "37. 37\n",
              "38. 38\n",
              "39. 39\n",
              "40. 40\n",
              "41. 41\n",
              "42. 42\n",
              "43. 43\n",
              "44. 44\n",
              "45. 45\n",
              "46. 46\n",
              "47. 47\n",
              "48. 48\n",
              "49. 49\n",
              "50. 50\n",
              "51. 51\n",
              "52. 52\n",
              "53. 53\n",
              "54. 54\n",
              "55. 55\n",
              "56. 56\n",
              "57. 57\n",
              "58. 58\n",
              "59. 59\n",
              "60. 60\n",
              "61. 61\n",
              "62. 62\n",
              "63. 63\n",
              "64. 64\n",
              "65. 65\n",
              "66. 66\n",
              "67. 67\n",
              "68. 68\n",
              "69. 69\n",
              "70. 70\n",
              "71. 71\n",
              "72. 72\n",
              "73. 73\n",
              "74. 74\n",
              "75. 75\n",
              "76. 76\n",
              "77. 77\n",
              "78. 78\n",
              "79. 79\n",
              "80. 80\n",
              "81. 81\n",
              "82. 82\n",
              "83. 83\n",
              "84. 84\n",
              "85. 85\n",
              "86. 86\n",
              "87. 87\n",
              "88. 88\n",
              "89. 89\n",
              "90. 90\n",
              "91. 91\n",
              "92. 92\n",
              "93. 93\n",
              "94. 94\n",
              "95. 95\n",
              "96. 96\n",
              "97. 97\n",
              "98. 98\n",
              "99. 99\n",
              "100. 100\n",
              "\n",
              "\n"
            ],
            "text/plain": [
              "  [1]   1   2   3   4   5   6   7   8   9  10  11  12  13  14  15  16  17  18\n",
              " [19]  19  20  21  22  23  24  25  26  27  28  29  30  31  32  33  34  35  36\n",
              " [37]  37  38  39  40  41  42  43  44  45  46  47  48  49  50  51  52  53  54\n",
              " [55]  55  56  57  58  59  60  61  62  63  64  65  66  67  68  69  70  71  72\n",
              " [73]  73  74  75  76  77  78  79  80  81  82  83  84  85  86  87  88  89  90\n",
              " [91]  91  92  93  94  95  96  97  98  99 100"
            ]
          },
          "metadata": {},
          "output_type": "display_data"
        },
        {
          "data": {
            "text/html": [
              "<style>\n",
              ".list-inline {list-style: none; margin:0; padding: 0}\n",
              ".list-inline>li {display: inline-block}\n",
              ".list-inline>li:not(:last-child)::after {content: \"\\00b7\"; padding: 0 .5ex}\n",
              "</style>\n",
              "<ol class=list-inline><li>1</li><li>2</li><li>3</li><li>4</li><li>5</li><li>6</li><li>7</li><li>8</li><li>9</li><li>10</li><li>11</li><li>12</li><li>13</li><li>14</li><li>15</li><li>16</li><li>17</li><li>18</li><li>19</li><li>20</li><li>21</li><li>22</li><li>23</li><li>24</li><li>25</li><li>26</li><li>27</li><li>28</li><li>29</li><li>30</li><li>31</li><li>32</li><li>33</li><li>34</li><li>35</li><li>36</li><li>37</li><li>38</li><li>39</li><li>40</li><li>41</li><li>42</li><li>43</li><li>44</li><li>45</li><li>46</li><li>47</li><li>48</li><li>49</li><li>50</li><li>51</li><li>52</li><li>53</li><li>54</li><li>55</li><li>56</li><li>57</li><li>58</li><li>59</li><li>60</li><li>61</li><li>62</li><li>63</li><li>64</li><li>65</li><li>66</li><li>67</li><li>68</li><li>69</li><li>70</li><li>71</li><li>72</li><li>73</li><li>74</li><li>75</li><li>76</li><li>77</li><li>78</li><li>79</li><li>80</li><li>81</li><li>82</li><li>83</li><li>84</li><li>85</li><li>86</li><li>87</li><li>88</li><li>89</li><li>90</li><li>91</li><li>92</li><li>93</li><li>94</li><li>95</li><li>96</li><li>97</li><li>98</li><li>99</li><li>100</li></ol>\n"
            ],
            "text/latex": [
              "\\begin{enumerate*}\n",
              "\\item 1\n",
              "\\item 2\n",
              "\\item 3\n",
              "\\item 4\n",
              "\\item 5\n",
              "\\item 6\n",
              "\\item 7\n",
              "\\item 8\n",
              "\\item 9\n",
              "\\item 10\n",
              "\\item 11\n",
              "\\item 12\n",
              "\\item 13\n",
              "\\item 14\n",
              "\\item 15\n",
              "\\item 16\n",
              "\\item 17\n",
              "\\item 18\n",
              "\\item 19\n",
              "\\item 20\n",
              "\\item 21\n",
              "\\item 22\n",
              "\\item 23\n",
              "\\item 24\n",
              "\\item 25\n",
              "\\item 26\n",
              "\\item 27\n",
              "\\item 28\n",
              "\\item 29\n",
              "\\item 30\n",
              "\\item 31\n",
              "\\item 32\n",
              "\\item 33\n",
              "\\item 34\n",
              "\\item 35\n",
              "\\item 36\n",
              "\\item 37\n",
              "\\item 38\n",
              "\\item 39\n",
              "\\item 40\n",
              "\\item 41\n",
              "\\item 42\n",
              "\\item 43\n",
              "\\item 44\n",
              "\\item 45\n",
              "\\item 46\n",
              "\\item 47\n",
              "\\item 48\n",
              "\\item 49\n",
              "\\item 50\n",
              "\\item 51\n",
              "\\item 52\n",
              "\\item 53\n",
              "\\item 54\n",
              "\\item 55\n",
              "\\item 56\n",
              "\\item 57\n",
              "\\item 58\n",
              "\\item 59\n",
              "\\item 60\n",
              "\\item 61\n",
              "\\item 62\n",
              "\\item 63\n",
              "\\item 64\n",
              "\\item 65\n",
              "\\item 66\n",
              "\\item 67\n",
              "\\item 68\n",
              "\\item 69\n",
              "\\item 70\n",
              "\\item 71\n",
              "\\item 72\n",
              "\\item 73\n",
              "\\item 74\n",
              "\\item 75\n",
              "\\item 76\n",
              "\\item 77\n",
              "\\item 78\n",
              "\\item 79\n",
              "\\item 80\n",
              "\\item 81\n",
              "\\item 82\n",
              "\\item 83\n",
              "\\item 84\n",
              "\\item 85\n",
              "\\item 86\n",
              "\\item 87\n",
              "\\item 88\n",
              "\\item 89\n",
              "\\item 90\n",
              "\\item 91\n",
              "\\item 92\n",
              "\\item 93\n",
              "\\item 94\n",
              "\\item 95\n",
              "\\item 96\n",
              "\\item 97\n",
              "\\item 98\n",
              "\\item 99\n",
              "\\item 100\n",
              "\\end{enumerate*}\n"
            ],
            "text/markdown": [
              "1. 1\n",
              "2. 2\n",
              "3. 3\n",
              "4. 4\n",
              "5. 5\n",
              "6. 6\n",
              "7. 7\n",
              "8. 8\n",
              "9. 9\n",
              "10. 10\n",
              "11. 11\n",
              "12. 12\n",
              "13. 13\n",
              "14. 14\n",
              "15. 15\n",
              "16. 16\n",
              "17. 17\n",
              "18. 18\n",
              "19. 19\n",
              "20. 20\n",
              "21. 21\n",
              "22. 22\n",
              "23. 23\n",
              "24. 24\n",
              "25. 25\n",
              "26. 26\n",
              "27. 27\n",
              "28. 28\n",
              "29. 29\n",
              "30. 30\n",
              "31. 31\n",
              "32. 32\n",
              "33. 33\n",
              "34. 34\n",
              "35. 35\n",
              "36. 36\n",
              "37. 37\n",
              "38. 38\n",
              "39. 39\n",
              "40. 40\n",
              "41. 41\n",
              "42. 42\n",
              "43. 43\n",
              "44. 44\n",
              "45. 45\n",
              "46. 46\n",
              "47. 47\n",
              "48. 48\n",
              "49. 49\n",
              "50. 50\n",
              "51. 51\n",
              "52. 52\n",
              "53. 53\n",
              "54. 54\n",
              "55. 55\n",
              "56. 56\n",
              "57. 57\n",
              "58. 58\n",
              "59. 59\n",
              "60. 60\n",
              "61. 61\n",
              "62. 62\n",
              "63. 63\n",
              "64. 64\n",
              "65. 65\n",
              "66. 66\n",
              "67. 67\n",
              "68. 68\n",
              "69. 69\n",
              "70. 70\n",
              "71. 71\n",
              "72. 72\n",
              "73. 73\n",
              "74. 74\n",
              "75. 75\n",
              "76. 76\n",
              "77. 77\n",
              "78. 78\n",
              "79. 79\n",
              "80. 80\n",
              "81. 81\n",
              "82. 82\n",
              "83. 83\n",
              "84. 84\n",
              "85. 85\n",
              "86. 86\n",
              "87. 87\n",
              "88. 88\n",
              "89. 89\n",
              "90. 90\n",
              "91. 91\n",
              "92. 92\n",
              "93. 93\n",
              "94. 94\n",
              "95. 95\n",
              "96. 96\n",
              "97. 97\n",
              "98. 98\n",
              "99. 99\n",
              "100. 100\n",
              "\n",
              "\n"
            ],
            "text/plain": [
              "  [1]   1   2   3   4   5   6   7   8   9  10  11  12  13  14  15  16  17  18\n",
              " [19]  19  20  21  22  23  24  25  26  27  28  29  30  31  32  33  34  35  36\n",
              " [37]  37  38  39  40  41  42  43  44  45  46  47  48  49  50  51  52  53  54\n",
              " [55]  55  56  57  58  59  60  61  62  63  64  65  66  67  68  69  70  71  72\n",
              " [73]  73  74  75  76  77  78  79  80  81  82  83  84  85  86  87  88  89  90\n",
              " [91]  91  92  93  94  95  96  97  98  99 100"
            ]
          },
          "metadata": {},
          "output_type": "display_data"
        },
        {
          "data": {
            "text/html": [
              "<style>\n",
              ".list-inline {list-style: none; margin:0; padding: 0}\n",
              ".list-inline>li {display: inline-block}\n",
              ".list-inline>li:not(:last-child)::after {content: \"\\00b7\"; padding: 0 .5ex}\n",
              "</style>\n",
              "<ol class=list-inline><li>5</li><li>6</li><li>7</li><li>8</li><li>9</li><li>10</li></ol>\n"
            ],
            "text/latex": [
              "\\begin{enumerate*}\n",
              "\\item 5\n",
              "\\item 6\n",
              "\\item 7\n",
              "\\item 8\n",
              "\\item 9\n",
              "\\item 10\n",
              "\\end{enumerate*}\n"
            ],
            "text/markdown": [
              "1. 5\n",
              "2. 6\n",
              "3. 7\n",
              "4. 8\n",
              "5. 9\n",
              "6. 10\n",
              "\n",
              "\n"
            ],
            "text/plain": [
              "[1]  5  6  7  8  9 10"
            ]
          },
          "metadata": {},
          "output_type": "display_data"
        },
        {
          "data": {
            "text/html": [
              "<style>\n",
              ".list-inline {list-style: none; margin:0; padding: 0}\n",
              ".list-inline>li {display: inline-block}\n",
              ".list-inline>li:not(:last-child)::after {content: \"\\00b7\"; padding: 0 .5ex}\n",
              "</style>\n",
              "<ol class=list-inline><li>5</li><li>6</li><li>7</li><li>8</li><li>9</li><li>10</li></ol>\n"
            ],
            "text/latex": [
              "\\begin{enumerate*}\n",
              "\\item 5\n",
              "\\item 6\n",
              "\\item 7\n",
              "\\item 8\n",
              "\\item 9\n",
              "\\item 10\n",
              "\\end{enumerate*}\n"
            ],
            "text/markdown": [
              "1. 5\n",
              "2. 6\n",
              "3. 7\n",
              "4. 8\n",
              "5. 9\n",
              "6. 10\n",
              "\n",
              "\n"
            ],
            "text/plain": [
              "[1]  5  6  7  8  9 10"
            ]
          },
          "metadata": {},
          "output_type": "display_data"
        }
      ],
      "source": [
        "seq(from = 1, to = 100, by = 1)\n",
        "\n",
        "1:100 # -> seq(from = 1, to = 100, by = 1)\n",
        "\n",
        "5:10 #-> seq(from = 5, to = 10, by = 1)\n"
      ]
    },
    {
      "cell_type": "code",
      "execution_count": null,
      "metadata": {
        "colab": {
          "base_uri": "https://localhost:8080/",
          "height": 52
        },
        "id": "hinlW69bF6TF",
        "outputId": "6d27af41-89b6-4b6a-c2c2-85a49b43d975",
        "vscode": {
          "languageId": "r"
        }
      },
      "outputs": [
        {
          "data": {
            "text/html": [
              "<style>\n",
              ".list-inline {list-style: none; margin:0; padding: 0}\n",
              ".list-inline>li {display: inline-block}\n",
              ".list-inline>li:not(:last-child)::after {content: \"\\00b7\"; padding: 0 .5ex}\n",
              "</style>\n",
              "<ol class=list-inline><li><time datetime=\"2025-12-01\">2025-12-01</time></li><li><time datetime=\"2025-12-02\">2025-12-02</time></li><li><time datetime=\"2025-12-03\">2025-12-03</time></li><li><time datetime=\"2025-12-04\">2025-12-04</time></li><li><time datetime=\"2025-12-05\">2025-12-05</time></li><li><time datetime=\"2025-12-06\">2025-12-06</time></li><li><time datetime=\"2025-12-07\">2025-12-07</time></li><li><time datetime=\"2025-12-08\">2025-12-08</time></li><li><time datetime=\"2025-12-09\">2025-12-09</time></li><li><time datetime=\"2025-12-10\">2025-12-10</time></li><li><time datetime=\"2025-12-11\">2025-12-11</time></li><li><time datetime=\"2025-12-12\">2025-12-12</time></li><li><time datetime=\"2025-12-13\">2025-12-13</time></li><li><time datetime=\"2025-12-14\">2025-12-14</time></li><li><time datetime=\"2025-12-15\">2025-12-15</time></li></ol>\n"
            ],
            "text/latex": [
              "\\begin{enumerate*}\n",
              "\\item 2025-12-01\n",
              "\\item 2025-12-02\n",
              "\\item 2025-12-03\n",
              "\\item 2025-12-04\n",
              "\\item 2025-12-05\n",
              "\\item 2025-12-06\n",
              "\\item 2025-12-07\n",
              "\\item 2025-12-08\n",
              "\\item 2025-12-09\n",
              "\\item 2025-12-10\n",
              "\\item 2025-12-11\n",
              "\\item 2025-12-12\n",
              "\\item 2025-12-13\n",
              "\\item 2025-12-14\n",
              "\\item 2025-12-15\n",
              "\\end{enumerate*}\n"
            ],
            "text/markdown": [
              "1. 2025-12-01\n",
              "2. 2025-12-02\n",
              "3. 2025-12-03\n",
              "4. 2025-12-04\n",
              "5. 2025-12-05\n",
              "6. 2025-12-06\n",
              "7. 2025-12-07\n",
              "8. 2025-12-08\n",
              "9. 2025-12-09\n",
              "10. 2025-12-10\n",
              "11. 2025-12-11\n",
              "12. 2025-12-12\n",
              "13. 2025-12-13\n",
              "14. 2025-12-14\n",
              "15. 2025-12-15\n",
              "\n",
              "\n"
            ],
            "text/plain": [
              " [1] \"2025-12-01\" \"2025-12-02\" \"2025-12-03\" \"2025-12-04\" \"2025-12-05\"\n",
              " [6] \"2025-12-06\" \"2025-12-07\" \"2025-12-08\" \"2025-12-09\" \"2025-12-10\"\n",
              "[11] \"2025-12-11\" \"2025-12-12\" \"2025-12-13\" \"2025-12-14\" \"2025-12-15\""
            ]
          },
          "metadata": {},
          "output_type": "display_data"
        }
      ],
      "source": [
        "f <- seq(from = as.Date(\"2025-01-01\"), to = as.Date(\"2025-12-31\"), by = \"1 day\")\n",
        "\n",
        "f[f >= \"2025-12-01\" & f<= \"2025-12-15\"]"
      ]
    },
    {
      "cell_type": "code",
      "execution_count": null,
      "metadata": {
        "colab": {
          "base_uri": "https://localhost:8080/",
          "height": 86
        },
        "id": "_pb6dWbpIcFn",
        "outputId": "c30bc62c-673c-4e63-9c0d-baad0397da08",
        "vscode": {
          "languageId": "r"
        }
      },
      "outputs": [
        {
          "data": {
            "text/html": [
              "<style>\n",
              ".list-inline {list-style: none; margin:0; padding: 0}\n",
              ".list-inline>li {display: inline-block}\n",
              ".list-inline>li:not(:last-child)::after {content: \"\\00b7\"; padding: 0 .5ex}\n",
              "</style>\n",
              "<ol class=list-inline><li>'a'</li><li>'b'</li><li>'c'</li><li>'d'</li><li>'e'</li><li>'f'</li><li>'g'</li><li>'h'</li><li>'i'</li><li>'j'</li><li>'k'</li><li>'l'</li><li>'m'</li><li>'n'</li><li>'o'</li><li>'p'</li><li>'q'</li><li>'r'</li><li>'s'</li><li>'t'</li><li>'u'</li><li>'v'</li><li>'w'</li><li>'x'</li><li>'y'</li><li>'z'</li></ol>\n"
            ],
            "text/latex": [
              "\\begin{enumerate*}\n",
              "\\item 'a'\n",
              "\\item 'b'\n",
              "\\item 'c'\n",
              "\\item 'd'\n",
              "\\item 'e'\n",
              "\\item 'f'\n",
              "\\item 'g'\n",
              "\\item 'h'\n",
              "\\item 'i'\n",
              "\\item 'j'\n",
              "\\item 'k'\n",
              "\\item 'l'\n",
              "\\item 'm'\n",
              "\\item 'n'\n",
              "\\item 'o'\n",
              "\\item 'p'\n",
              "\\item 'q'\n",
              "\\item 'r'\n",
              "\\item 's'\n",
              "\\item 't'\n",
              "\\item 'u'\n",
              "\\item 'v'\n",
              "\\item 'w'\n",
              "\\item 'x'\n",
              "\\item 'y'\n",
              "\\item 'z'\n",
              "\\end{enumerate*}\n"
            ],
            "text/markdown": [
              "1. 'a'\n",
              "2. 'b'\n",
              "3. 'c'\n",
              "4. 'd'\n",
              "5. 'e'\n",
              "6. 'f'\n",
              "7. 'g'\n",
              "8. 'h'\n",
              "9. 'i'\n",
              "10. 'j'\n",
              "11. 'k'\n",
              "12. 'l'\n",
              "13. 'm'\n",
              "14. 'n'\n",
              "15. 'o'\n",
              "16. 'p'\n",
              "17. 'q'\n",
              "18. 'r'\n",
              "19. 's'\n",
              "20. 't'\n",
              "21. 'u'\n",
              "22. 'v'\n",
              "23. 'w'\n",
              "24. 'x'\n",
              "25. 'y'\n",
              "26. 'z'\n",
              "\n",
              "\n"
            ],
            "text/plain": [
              " [1] \"a\" \"b\" \"c\" \"d\" \"e\" \"f\" \"g\" \"h\" \"i\" \"j\" \"k\" \"l\" \"m\" \"n\" \"o\" \"p\" \"q\" \"r\" \"s\"\n",
              "[20] \"t\" \"u\" \"v\" \"w\" \"x\" \"y\" \"z\""
            ]
          },
          "metadata": {},
          "output_type": "display_data"
        },
        {
          "data": {
            "text/html": [
              "<style>\n",
              ".list-inline {list-style: none; margin:0; padding: 0}\n",
              ".list-inline>li {display: inline-block}\n",
              ".list-inline>li:not(:last-child)::after {content: \"\\00b7\"; padding: 0 .5ex}\n",
              "</style>\n",
              "<ol class=list-inline><li>'A'</li><li>'B'</li><li>'C'</li><li>'D'</li><li>'E'</li><li>'F'</li><li>'G'</li><li>'H'</li><li>'I'</li><li>'J'</li><li>'K'</li><li>'L'</li><li>'M'</li><li>'N'</li><li>'O'</li><li>'P'</li><li>'Q'</li><li>'R'</li><li>'S'</li><li>'T'</li><li>'U'</li><li>'V'</li><li>'W'</li><li>'X'</li><li>'Y'</li><li>'Z'</li></ol>\n"
            ],
            "text/latex": [
              "\\begin{enumerate*}\n",
              "\\item 'A'\n",
              "\\item 'B'\n",
              "\\item 'C'\n",
              "\\item 'D'\n",
              "\\item 'E'\n",
              "\\item 'F'\n",
              "\\item 'G'\n",
              "\\item 'H'\n",
              "\\item 'I'\n",
              "\\item 'J'\n",
              "\\item 'K'\n",
              "\\item 'L'\n",
              "\\item 'M'\n",
              "\\item 'N'\n",
              "\\item 'O'\n",
              "\\item 'P'\n",
              "\\item 'Q'\n",
              "\\item 'R'\n",
              "\\item 'S'\n",
              "\\item 'T'\n",
              "\\item 'U'\n",
              "\\item 'V'\n",
              "\\item 'W'\n",
              "\\item 'X'\n",
              "\\item 'Y'\n",
              "\\item 'Z'\n",
              "\\end{enumerate*}\n"
            ],
            "text/markdown": [
              "1. 'A'\n",
              "2. 'B'\n",
              "3. 'C'\n",
              "4. 'D'\n",
              "5. 'E'\n",
              "6. 'F'\n",
              "7. 'G'\n",
              "8. 'H'\n",
              "9. 'I'\n",
              "10. 'J'\n",
              "11. 'K'\n",
              "12. 'L'\n",
              "13. 'M'\n",
              "14. 'N'\n",
              "15. 'O'\n",
              "16. 'P'\n",
              "17. 'Q'\n",
              "18. 'R'\n",
              "19. 'S'\n",
              "20. 'T'\n",
              "21. 'U'\n",
              "22. 'V'\n",
              "23. 'W'\n",
              "24. 'X'\n",
              "25. 'Y'\n",
              "26. 'Z'\n",
              "\n",
              "\n"
            ],
            "text/plain": [
              " [1] \"A\" \"B\" \"C\" \"D\" \"E\" \"F\" \"G\" \"H\" \"I\" \"J\" \"K\" \"L\" \"M\" \"N\" \"O\" \"P\" \"Q\" \"R\" \"S\"\n",
              "[20] \"T\" \"U\" \"V\" \"W\" \"X\" \"Y\" \"Z\""
            ]
          },
          "metadata": {},
          "output_type": "display_data"
        },
        {
          "data": {
            "text/html": [
              "<style>\n",
              ".list-inline {list-style: none; margin:0; padding: 0}\n",
              ".list-inline>li {display: inline-block}\n",
              ".list-inline>li:not(:last-child)::after {content: \"\\00b7\"; padding: 0 .5ex}\n",
              "</style>\n",
              "<ol class=list-inline><li>'A'</li><li>'B'</li><li>'C'</li><li>'D'</li><li>'E'</li><li>'F'</li><li>'G'</li><li>'H'</li><li>'I'</li><li>'J'</li><li>'K'</li><li>'L'</li><li>'M'</li><li>'N'</li><li>'O'</li><li>'P'</li><li>'Q'</li><li>'R'</li><li>'S'</li><li>'T'</li><li>'U'</li><li>'V'</li><li>'W'</li><li>'X'</li><li>'Y'</li><li>'Z'</li></ol>\n"
            ],
            "text/latex": [
              "\\begin{enumerate*}\n",
              "\\item 'A'\n",
              "\\item 'B'\n",
              "\\item 'C'\n",
              "\\item 'D'\n",
              "\\item 'E'\n",
              "\\item 'F'\n",
              "\\item 'G'\n",
              "\\item 'H'\n",
              "\\item 'I'\n",
              "\\item 'J'\n",
              "\\item 'K'\n",
              "\\item 'L'\n",
              "\\item 'M'\n",
              "\\item 'N'\n",
              "\\item 'O'\n",
              "\\item 'P'\n",
              "\\item 'Q'\n",
              "\\item 'R'\n",
              "\\item 'S'\n",
              "\\item 'T'\n",
              "\\item 'U'\n",
              "\\item 'V'\n",
              "\\item 'W'\n",
              "\\item 'X'\n",
              "\\item 'Y'\n",
              "\\item 'Z'\n",
              "\\end{enumerate*}\n"
            ],
            "text/markdown": [
              "1. 'A'\n",
              "2. 'B'\n",
              "3. 'C'\n",
              "4. 'D'\n",
              "5. 'E'\n",
              "6. 'F'\n",
              "7. 'G'\n",
              "8. 'H'\n",
              "9. 'I'\n",
              "10. 'J'\n",
              "11. 'K'\n",
              "12. 'L'\n",
              "13. 'M'\n",
              "14. 'N'\n",
              "15. 'O'\n",
              "16. 'P'\n",
              "17. 'Q'\n",
              "18. 'R'\n",
              "19. 'S'\n",
              "20. 'T'\n",
              "21. 'U'\n",
              "22. 'V'\n",
              "23. 'W'\n",
              "24. 'X'\n",
              "25. 'Y'\n",
              "26. 'Z'\n",
              "\n",
              "\n"
            ],
            "text/plain": [
              " [1] \"A\" \"B\" \"C\" \"D\" \"E\" \"F\" \"G\" \"H\" \"I\" \"J\" \"K\" \"L\" \"M\" \"N\" \"O\" \"P\" \"Q\" \"R\" \"S\"\n",
              "[20] \"T\" \"U\" \"V\" \"W\" \"X\" \"Y\" \"Z\""
            ]
          },
          "metadata": {},
          "output_type": "display_data"
        },
        {
          "data": {
            "text/html": [
              "<style>\n",
              ".list-inline {list-style: none; margin:0; padding: 0}\n",
              ".list-inline>li {display: inline-block}\n",
              ".list-inline>li:not(:last-child)::after {content: \"\\00b7\"; padding: 0 .5ex}\n",
              "</style>\n",
              "<ol class=list-inline><li>'a'</li><li>'b'</li><li>'c'</li><li>'d'</li><li>'e'</li><li>'f'</li><li>'g'</li><li>'h'</li><li>'i'</li><li>'j'</li><li>'k'</li><li>'l'</li><li>'m'</li><li>'n'</li><li>'o'</li><li>'p'</li><li>'q'</li><li>'r'</li><li>'s'</li><li>'t'</li><li>'u'</li><li>'v'</li><li>'w'</li><li>'x'</li><li>'y'</li><li>'z'</li></ol>\n"
            ],
            "text/latex": [
              "\\begin{enumerate*}\n",
              "\\item 'a'\n",
              "\\item 'b'\n",
              "\\item 'c'\n",
              "\\item 'd'\n",
              "\\item 'e'\n",
              "\\item 'f'\n",
              "\\item 'g'\n",
              "\\item 'h'\n",
              "\\item 'i'\n",
              "\\item 'j'\n",
              "\\item 'k'\n",
              "\\item 'l'\n",
              "\\item 'm'\n",
              "\\item 'n'\n",
              "\\item 'o'\n",
              "\\item 'p'\n",
              "\\item 'q'\n",
              "\\item 'r'\n",
              "\\item 's'\n",
              "\\item 't'\n",
              "\\item 'u'\n",
              "\\item 'v'\n",
              "\\item 'w'\n",
              "\\item 'x'\n",
              "\\item 'y'\n",
              "\\item 'z'\n",
              "\\end{enumerate*}\n"
            ],
            "text/markdown": [
              "1. 'a'\n",
              "2. 'b'\n",
              "3. 'c'\n",
              "4. 'd'\n",
              "5. 'e'\n",
              "6. 'f'\n",
              "7. 'g'\n",
              "8. 'h'\n",
              "9. 'i'\n",
              "10. 'j'\n",
              "11. 'k'\n",
              "12. 'l'\n",
              "13. 'm'\n",
              "14. 'n'\n",
              "15. 'o'\n",
              "16. 'p'\n",
              "17. 'q'\n",
              "18. 'r'\n",
              "19. 's'\n",
              "20. 't'\n",
              "21. 'u'\n",
              "22. 'v'\n",
              "23. 'w'\n",
              "24. 'x'\n",
              "25. 'y'\n",
              "26. 'z'\n",
              "\n",
              "\n"
            ],
            "text/plain": [
              " [1] \"a\" \"b\" \"c\" \"d\" \"e\" \"f\" \"g\" \"h\" \"i\" \"j\" \"k\" \"l\" \"m\" \"n\" \"o\" \"p\" \"q\" \"r\" \"s\"\n",
              "[20] \"t\" \"u\" \"v\" \"w\" \"x\" \"y\" \"z\""
            ]
          },
          "metadata": {},
          "output_type": "display_data"
        }
      ],
      "source": [
        "letters\n",
        "LETTERS\n",
        "\n",
        "#toupper, tolower\n",
        "toupper(letters)\n",
        "tolower(LETTERS)\n"
      ]
    },
    {
      "cell_type": "code",
      "execution_count": null,
      "metadata": {
        "id": "cVzhj4ASIgvb",
        "vscode": {
          "languageId": "r"
        }
      },
      "outputs": [],
      "source": [
        "# podemos cambiar uno de los nombres (ej, queremos cambiar el séptimo nombre)\n"
      ]
    },
    {
      "cell_type": "code",
      "execution_count": null,
      "metadata": {
        "id": "b6oqx_D4Igvd",
        "vscode": {
          "languageId": "r"
        }
      },
      "outputs": [],
      "source": [
        "# podemos modificar varias posiciones a la vez\n",
        "# queremos re-asignar los valores \"XX\" y \"ZZ\" en las posiciones 3 y 7 respecivamente\n"
      ]
    },
    {
      "cell_type": "markdown",
      "metadata": {
        "id": "R-Jd2plHlyar"
      },
      "source": [
        "#### 🧮 Ejercicio 1: Operaciones y acceso en vectores\n",
        "Objetivo: reforzar acceso por posición, nombre y condición lógica.\n",
        "\n",
        "1. Obtén la edad de Marta y Teresa.\n",
        "2. Calcula la edad promedio de quienes tienen 30 años o más.\n",
        "3. Reasigna 18 años a Nicolás.\n",
        "4. Reemplaza cualquier edad menor a 18 con NA.\n",
        "5. Crea un nuevo vector con los nombres de las personas mayores de edad."
      ]
    },
    {
      "cell_type": "code",
      "execution_count": null,
      "metadata": {
        "id": "Rnouj_0CmCza",
        "vscode": {
          "languageId": "r"
        }
      },
      "outputs": [],
      "source": [
        "# Dado el siguiente vector:\n",
        "edades <- c(15, 23, 42, 19, 35, 28, 16, 54)\n",
        "names(edades) <- c(\"Ana\", \"Luis\", \"Marta\", \"Pedro\", \"Sofía\", \"Raúl\", \"Nicolás\", \"Teresa\")\n"
      ]
    },
    {
      "cell_type": "code",
      "execution_count": null,
      "metadata": {
        "colab": {
          "base_uri": "https://localhost:8080/",
          "height": 69
        },
        "id": "y8VwY-1PGwqI",
        "outputId": "8722f912-b971-44ad-c416-77ad864dde16",
        "vscode": {
          "languageId": "r"
        }
      },
      "outputs": [
        {
          "data": {
            "text/html": [
              "<style>\n",
              ".dl-inline {width: auto; margin:0; padding: 0}\n",
              ".dl-inline>dt, .dl-inline>dd {float: none; width: auto; display: inline-block}\n",
              ".dl-inline>dt::after {content: \":\\0020\"; padding-right: .5ex}\n",
              ".dl-inline>dt:not(:first-of-type) {padding-left: .5ex}\n",
              "</style><dl class=dl-inline><dt>Marta</dt><dd>42</dd><dt>Teresa</dt><dd>54</dd></dl>\n"
            ],
            "text/latex": [
              "\\begin{description*}\n",
              "\\item[Marta] 42\n",
              "\\item[Teresa] 54\n",
              "\\end{description*}\n"
            ],
            "text/markdown": [
              "Marta\n",
              ":   42Teresa\n",
              ":   54\n",
              "\n"
            ],
            "text/plain": [
              " Marta Teresa \n",
              "    42     54 "
            ]
          },
          "metadata": {},
          "output_type": "display_data"
        },
        {
          "data": {
            "text/html": [
              "43.6666666666667"
            ],
            "text/latex": [
              "43.6666666666667"
            ],
            "text/markdown": [
              "43.6666666666667"
            ],
            "text/plain": [
              "[1] 43.66667"
            ]
          },
          "metadata": {},
          "output_type": "display_data"
        },
        {
          "data": {
            "text/html": [
              "<style>\n",
              ".dl-inline {width: auto; margin:0; padding: 0}\n",
              ".dl-inline>dt, .dl-inline>dd {float: none; width: auto; display: inline-block}\n",
              ".dl-inline>dt::after {content: \":\\0020\"; padding-right: .5ex}\n",
              ".dl-inline>dt:not(:first-of-type) {padding-left: .5ex}\n",
              "</style><dl class=dl-inline><dt>Ana</dt><dd>15</dd><dt>Luis</dt><dd>23</dd><dt>Marta</dt><dd>42</dd><dt>Pedro</dt><dd>19</dd><dt>Sofía</dt><dd>35</dd><dt>Raúl</dt><dd>28</dd><dt>Nicolás</dt><dd>18</dd><dt>Teresa</dt><dd>54</dd></dl>\n"
            ],
            "text/latex": [
              "\\begin{description*}\n",
              "\\item[Ana] 15\n",
              "\\item[Luis] 23\n",
              "\\item[Marta] 42\n",
              "\\item[Pedro] 19\n",
              "\\item[Sofía] 35\n",
              "\\item[Raúl] 28\n",
              "\\item[Nicolás] 18\n",
              "\\item[Teresa] 54\n",
              "\\end{description*}\n"
            ],
            "text/markdown": [
              "Ana\n",
              ":   15Luis\n",
              ":   23Marta\n",
              ":   42Pedro\n",
              ":   19Sofía\n",
              ":   35Raúl\n",
              ":   28Nicolás\n",
              ":   18Teresa\n",
              ":   54\n",
              "\n"
            ],
            "text/plain": [
              "    Ana    Luis   Marta   Pedro   Sofía    Raúl Nicolás  Teresa \n",
              "     15      23      42      19      35      28      18      54 "
            ]
          },
          "metadata": {},
          "output_type": "display_data"
        }
      ],
      "source": [
        "#1\n",
        "edades[c(\"Marta\", \"Teresa\")]\n",
        "#edades[\"Marta\", \"Teresa\"]\n",
        "\n",
        "#2 mean\n",
        "mean(edades[ edades >= 30 ])\n",
        "\n",
        "#3\n",
        "edades[\"Nicolás\"] = 18\n",
        "edades"
      ]
    },
    {
      "cell_type": "markdown",
      "metadata": {
        "id": "XzyIBLZxIgvg"
      },
      "source": [
        "**Algunas sentencias de utilidad**\n",
        "\n",
        "También es posible acceder a los alementos de un vector mediante sentencias lógicas que retornen \"TRUE\" en la posición deseada. Para ello algunas funciones que son de utilidad son las siguientes.\n",
        "\n",
        "   **Conectores lógicos**\n",
        "\n",
        "    &, && |                  : conector y\n",
        "    |,||                     : conector o\n",
        "    ==                       : igual\n",
        "    !                        : negación\n",
        "    !=                       : distinto\n",
        "    >, >=                    : mayor que, mayor o igual que\n",
        "    <,<=                     : menor que, menor o igual que\n",
        "    is.na()                  : es NA?\n",
        "    which()                  : en qué posición es verdadera la expresión evaluada?\n",
        "    which.min(), which.max() : en qué posición se alcanza el mínimi/máximo\n",
        "    %in%                     : los elementos están en?\n",
        "    \n",
        "    "
      ]
    },
    {
      "cell_type": "code",
      "execution_count": null,
      "metadata": {
        "id": "NhZPJo56Igvh",
        "vscode": {
          "languageId": "r"
        }
      },
      "outputs": [],
      "source": [
        "# para acceder a elementos de un vector tenemos:\n",
        "# 1. por posicion\n",
        "# 2. por nombre\n",
        "# 3. por indicatrices lógicas (un vector con TRUE (T) o FALSE (F) del mismo largo del que quiero consultar)\n",
        "\n",
        "\n",
        "\n",
        "\n"
      ]
    },
    {
      "cell_type": "code",
      "execution_count": null,
      "metadata": {
        "id": "5C4hDsvSIgvj",
        "vscode": {
          "languageId": "r"
        }
      },
      "outputs": [],
      "source": [
        "# Esto facilita la búsqueda dentro de un un vector. Ej: retornar los elementos mayores aun valor dado\n"
      ]
    },
    {
      "cell_type": "code",
      "execution_count": null,
      "metadata": {
        "id": "bj-wjeddIgvl",
        "vscode": {
          "languageId": "r"
        }
      },
      "outputs": [],
      "source": [
        "# con esta idea en mente podríamos, por ejemplo, rescatar las edades con valor mayor o igual a 18 años\n"
      ]
    },
    {
      "cell_type": "code",
      "execution_count": null,
      "metadata": {
        "id": "fvq5tBXVIgvm",
        "vscode": {
          "languageId": "r"
        }
      },
      "outputs": [],
      "source": [
        "# podríamos guardar el vector de T o F's en una variable para luego referenciarla\n",
        "\n"
      ]
    },
    {
      "cell_type": "code",
      "execution_count": null,
      "metadata": {
        "id": "ioUJy8UEIgvz",
        "vscode": {
          "languageId": "r"
        }
      },
      "outputs": [],
      "source": [
        "#?which.max\n",
        "#podemos rescatar el valor mediante el índice guardado\n",
        "\n"
      ]
    },
    {
      "cell_type": "code",
      "execution_count": null,
      "metadata": {
        "id": "_8-SMxfWIgv0",
        "vscode": {
          "languageId": "r"
        }
      },
      "outputs": [],
      "source": [
        "# Operador %in%\n",
        "# vector_a %in% vector_b (qué elementos del vector a están en el vector b)\n",
        "# retorna un  vector de TRUE's y FALSE's del largo del primer vector(a) (izquierda)\n"
      ]
    },
    {
      "cell_type": "code",
      "execution_count": null,
      "metadata": {
        "id": "s9bYOQ4GIgv2",
        "vscode": {
          "languageId": "r"
        }
      },
      "outputs": [],
      "source": [
        "# podemos utilizar la función all() para evaluar si todos los elementos de un vector son TRUE.\n"
      ]
    },
    {
      "cell_type": "code",
      "execution_count": null,
      "metadata": {
        "id": "Wd-mSv3PIgv4",
        "vscode": {
          "languageId": "r"
        }
      },
      "outputs": [],
      "source": [
        "# si quisiéramos evaluar que todos los elementos de la izq. estén en la derecha,\n",
        "# podemos utilizar la función all()."
      ]
    },
    {
      "cell_type": "code",
      "execution_count": null,
      "metadata": {
        "id": "Zn85mjGmIgv5",
        "vscode": {
          "languageId": "r"
        }
      },
      "outputs": [],
      "source": []
    },
    {
      "cell_type": "code",
      "execution_count": null,
      "metadata": {
        "id": "1YGnzt1zIgv7",
        "vscode": {
          "languageId": "r"
        }
      },
      "outputs": [],
      "source": [
        "# aritmética con vectores\n",
        "# operación de vectore de igual largo\n"
      ]
    },
    {
      "cell_type": "code",
      "execution_count": null,
      "metadata": {
        "colab": {
          "base_uri": "https://localhost:8080/",
          "height": 69
        },
        "id": "Bw8lX76XIgv8",
        "outputId": "aff24d21-ea56-45e4-9798-851f395e7633",
        "vscode": {
          "languageId": "r"
        }
      },
      "outputs": [
        {
          "data": {
            "text/html": [
              "<style>\n",
              ".list-inline {list-style: none; margin:0; padding: 0}\n",
              ".list-inline>li {display: inline-block}\n",
              ".list-inline>li:not(:last-child)::after {content: \"\\00b7\"; padding: 0 .5ex}\n",
              "</style>\n",
              "<ol class=list-inline><li>1</li><li>2</li><li>3</li><li>4</li><li>5</li><li>6</li><li>7</li><li>8</li></ol>\n"
            ],
            "text/latex": [
              "\\begin{enumerate*}\n",
              "\\item 1\n",
              "\\item 2\n",
              "\\item 3\n",
              "\\item 4\n",
              "\\item 5\n",
              "\\item 6\n",
              "\\item 7\n",
              "\\item 8\n",
              "\\end{enumerate*}\n"
            ],
            "text/markdown": [
              "1. 1\n",
              "2. 2\n",
              "3. 3\n",
              "4. 4\n",
              "5. 5\n",
              "6. 6\n",
              "7. 7\n",
              "8. 8\n",
              "\n",
              "\n"
            ],
            "text/plain": [
              "[1] 1 2 3 4 5 6 7 8"
            ]
          },
          "metadata": {},
          "output_type": "display_data"
        },
        {
          "data": {
            "text/html": [
              "<style>\n",
              ".list-inline {list-style: none; margin:0; padding: 0}\n",
              ".list-inline>li {display: inline-block}\n",
              ".list-inline>li:not(:last-child)::after {content: \"\\00b7\"; padding: 0 .5ex}\n",
              "</style>\n",
              "<ol class=list-inline><li>7</li><li>8</li><li>9</li><li>10</li></ol>\n"
            ],
            "text/latex": [
              "\\begin{enumerate*}\n",
              "\\item 7\n",
              "\\item 8\n",
              "\\item 9\n",
              "\\item 10\n",
              "\\end{enumerate*}\n"
            ],
            "text/markdown": [
              "1. 7\n",
              "2. 8\n",
              "3. 9\n",
              "4. 10\n",
              "\n",
              "\n"
            ],
            "text/plain": [
              "[1]  7  8  9 10"
            ]
          },
          "metadata": {},
          "output_type": "display_data"
        },
        {
          "data": {
            "text/html": [
              "<style>\n",
              ".list-inline {list-style: none; margin:0; padding: 0}\n",
              ".list-inline>li {display: inline-block}\n",
              ".list-inline>li:not(:last-child)::after {content: \"\\00b7\"; padding: 0 .5ex}\n",
              "</style>\n",
              "<ol class=list-inline><li>7</li><li>16</li><li>27</li><li>40</li><li>35</li><li>48</li><li>63</li><li>80</li></ol>\n"
            ],
            "text/latex": [
              "\\begin{enumerate*}\n",
              "\\item 7\n",
              "\\item 16\n",
              "\\item 27\n",
              "\\item 40\n",
              "\\item 35\n",
              "\\item 48\n",
              "\\item 63\n",
              "\\item 80\n",
              "\\end{enumerate*}\n"
            ],
            "text/markdown": [
              "1. 7\n",
              "2. 16\n",
              "3. 27\n",
              "4. 40\n",
              "5. 35\n",
              "6. 48\n",
              "7. 63\n",
              "8. 80\n",
              "\n",
              "\n"
            ],
            "text/plain": [
              "[1]  7 16 27 40 35 48 63 80"
            ]
          },
          "metadata": {},
          "output_type": "display_data"
        }
      ],
      "source": [
        "#ponderaciones por escalares\n",
        "\n",
        "v\n",
        "w\n",
        "v * w"
      ]
    },
    {
      "cell_type": "code",
      "execution_count": null,
      "metadata": {
        "id": "syufc9_OIgv_",
        "vscode": {
          "languageId": "r"
        }
      },
      "outputs": [],
      "source": [
        "#CUIDADO: Si se operan vectores de dstinto largo se reciclan los valores del vector más pequeño\n"
      ]
    },
    {
      "cell_type": "code",
      "execution_count": null,
      "metadata": {
        "id": "9kfbx6J4IgwC",
        "vscode": {
          "languageId": "r"
        }
      },
      "outputs": [],
      "source": [
        "# NOTA:\n",
        "# podemos determinar el largo de un vector mediante la función length()\n"
      ]
    },
    {
      "cell_type": "markdown",
      "metadata": {
        "id": "tBLcA43TnGqo"
      },
      "source": [
        "####🧩 Ejercicio 2: Comparaciones y operadores lógicos\n",
        "Objetivo: practicar %in%, which(), any(), all().\n",
        "\n",
        "1. ¿Qué lenguajes están en ambos vectores?\n",
        "2. ¿Hay algún lenguaje en v2 que no esté en v1?\n",
        "3. Usa all() para verificar si todos los elementos de v2 están contenidos en v1.\n",
        "4. Usa which() para indicar la posición de \"SQL\" dentro de v1."
      ]
    },
    {
      "cell_type": "markdown",
      "metadata": {
        "id": "LIr-IFowIgwD"
      },
      "source": [
        "**Secuencias**\n",
        "\n",
        "En R es posible generar de manera rápida y sencilla algunas secuencias numéricas y almacenarlas en un vector.\n",
        "\n",
        "Ejemplo de estas funciones son :\n",
        "\n",
        "    rep()\n",
        "    seq()\n",
        "    \n",
        "Más adelante veremos como generar números aleatorios siguiendo alguna función de distribución de interés.\n",
        "\n"
      ]
    },
    {
      "cell_type": "code",
      "execution_count": null,
      "metadata": {
        "colab": {
          "base_uri": "https://localhost:8080/",
          "height": 34
        },
        "id": "wk0fB_gWIgwE",
        "outputId": "c1d6122e-f717-456d-8406-53712f8ec308",
        "vscode": {
          "languageId": "r"
        }
      },
      "outputs": [
        {
          "data": {
            "text/html": [
              "<style>\n",
              ".list-inline {list-style: none; margin:0; padding: 0}\n",
              ".list-inline>li {display: inline-block}\n",
              ".list-inline>li:not(:last-child)::after {content: \"\\00b7\"; padding: 0 .5ex}\n",
              "</style>\n",
              "<ol class=list-inline><li>1</li><li>2</li><li>3</li><li>1</li><li>2</li><li>3</li><li>1</li><li>2</li><li>3</li><li>1</li><li>2</li><li>3</li><li>1</li><li>2</li><li>3</li></ol>\n"
            ],
            "text/latex": [
              "\\begin{enumerate*}\n",
              "\\item 1\n",
              "\\item 2\n",
              "\\item 3\n",
              "\\item 1\n",
              "\\item 2\n",
              "\\item 3\n",
              "\\item 1\n",
              "\\item 2\n",
              "\\item 3\n",
              "\\item 1\n",
              "\\item 2\n",
              "\\item 3\n",
              "\\item 1\n",
              "\\item 2\n",
              "\\item 3\n",
              "\\end{enumerate*}\n"
            ],
            "text/markdown": [
              "1. 1\n",
              "2. 2\n",
              "3. 3\n",
              "4. 1\n",
              "5. 2\n",
              "6. 3\n",
              "7. 1\n",
              "8. 2\n",
              "9. 3\n",
              "10. 1\n",
              "11. 2\n",
              "12. 3\n",
              "13. 1\n",
              "14. 2\n",
              "15. 3\n",
              "\n",
              "\n"
            ],
            "text/plain": [
              " [1] 1 2 3 1 2 3 1 2 3 1 2 3 1 2 3"
            ]
          },
          "metadata": {},
          "output_type": "display_data"
        }
      ],
      "source": [
        "# a vimos que fácilmente ppodemos generar vectores de enteros consecutivos vía \":\"\n",
        "v5 <- c(1, 2, 3)\n",
        "\n",
        "rep(v5, 5)"
      ]
    },
    {
      "cell_type": "code",
      "execution_count": null,
      "metadata": {
        "id": "rG-Q3PmhIgwG",
        "vscode": {
          "languageId": "r"
        }
      },
      "outputs": [],
      "source": [
        "# Ejemplo de secuencia con rep (utilice distintos tipos de datos)\n"
      ]
    },
    {
      "cell_type": "code",
      "execution_count": null,
      "metadata": {
        "colab": {
          "base_uri": "https://localhost:8080/",
          "height": 69
        },
        "id": "PpEgoWDXIgwI",
        "outputId": "8c94eeb9-f857-4abd-fa25-54cd6debb390",
        "vscode": {
          "languageId": "r"
        }
      },
      "outputs": [
        {
          "data": {
            "text/html": [
              "<style>\n",
              ".list-inline {list-style: none; margin:0; padding: 0}\n",
              ".list-inline>li {display: inline-block}\n",
              ".list-inline>li:not(:last-child)::after {content: \"\\00b7\"; padding: 0 .5ex}\n",
              "</style>\n",
              "<ol class=list-inline><li>1</li><li>25.75</li><li>50.5</li><li>75.25</li><li>100</li></ol>\n"
            ],
            "text/latex": [
              "\\begin{enumerate*}\n",
              "\\item 1\n",
              "\\item 25.75\n",
              "\\item 50.5\n",
              "\\item 75.25\n",
              "\\item 100\n",
              "\\end{enumerate*}\n"
            ],
            "text/markdown": [
              "1. 1\n",
              "2. 25.75\n",
              "3. 50.5\n",
              "4. 75.25\n",
              "5. 100\n",
              "\n",
              "\n"
            ],
            "text/plain": [
              "[1]   1.00  25.75  50.50  75.25 100.00"
            ]
          },
          "metadata": {},
          "output_type": "display_data"
        },
        {
          "data": {
            "text/html": [
              "<style>\n",
              ".list-inline {list-style: none; margin:0; padding: 0}\n",
              ".list-inline>li {display: inline-block}\n",
              ".list-inline>li:not(:last-child)::after {content: \"\\00b7\"; padding: 0 .5ex}\n",
              "</style>\n",
              "<ol class=list-inline><li>1</li><li>34</li><li>67</li><li>100</li></ol>\n"
            ],
            "text/latex": [
              "\\begin{enumerate*}\n",
              "\\item 1\n",
              "\\item 34\n",
              "\\item 67\n",
              "\\item 100\n",
              "\\end{enumerate*}\n"
            ],
            "text/markdown": [
              "1. 1\n",
              "2. 34\n",
              "3. 67\n",
              "4. 100\n",
              "\n",
              "\n"
            ],
            "text/plain": [
              "[1]   1  34  67 100"
            ]
          },
          "metadata": {},
          "output_type": "display_data"
        },
        {
          "data": {
            "text/html": [
              "<style>\n",
              ".list-inline {list-style: none; margin:0; padding: 0}\n",
              ".list-inline>li {display: inline-block}\n",
              ".list-inline>li:not(:last-child)::after {content: \"\\00b7\"; padding: 0 .5ex}\n",
              "</style>\n",
              "<ol class=list-inline><li>1</li><li>50.5</li><li>100</li></ol>\n"
            ],
            "text/latex": [
              "\\begin{enumerate*}\n",
              "\\item 1\n",
              "\\item 50.5\n",
              "\\item 100\n",
              "\\end{enumerate*}\n"
            ],
            "text/markdown": [
              "1. 1\n",
              "2. 50.5\n",
              "3. 100\n",
              "\n",
              "\n"
            ],
            "text/plain": [
              "[1]   1.0  50.5 100.0"
            ]
          },
          "metadata": {},
          "output_type": "display_data"
        }
      ],
      "source": [
        "# podemos controlar el largo del vector resultante con el parámetro length.out\n",
        "seq(1, 100, length.out = 5)\n",
        "seq(1, 100, length.out = 4)\n",
        "seq(1, 100, length.out = 3)\n"
      ]
    },
    {
      "cell_type": "code",
      "execution_count": null,
      "metadata": {
        "colab": {
          "base_uri": "https://localhost:8080/",
          "height": 121
        },
        "id": "d15mEcK6J5gJ",
        "outputId": "90e9933d-26d8-4bc7-dc2e-cf0826e8e5ba",
        "vscode": {
          "languageId": "r"
        }
      },
      "outputs": [
        {
          "data": {
            "text/html": [
              "<style>\n",
              ".list-inline {list-style: none; margin:0; padding: 0}\n",
              ".list-inline>li {display: inline-block}\n",
              ".list-inline>li:not(:last-child)::after {content: \"\\00b7\"; padding: 0 .5ex}\n",
              "</style>\n",
              "<ol class=list-inline><li>'a'</li><li>'b'</li><li>'c'</li><li>'d'</li><li>'e'</li></ol>\n"
            ],
            "text/latex": [
              "\\begin{enumerate*}\n",
              "\\item 'a'\n",
              "\\item 'b'\n",
              "\\item 'c'\n",
              "\\item 'd'\n",
              "\\item 'e'\n",
              "\\end{enumerate*}\n"
            ],
            "text/markdown": [
              "1. 'a'\n",
              "2. 'b'\n",
              "3. 'c'\n",
              "4. 'd'\n",
              "5. 'e'\n",
              "\n",
              "\n"
            ],
            "text/plain": [
              "[1] \"a\" \"b\" \"c\" \"d\" \"e\""
            ]
          },
          "metadata": {},
          "output_type": "display_data"
        },
        {
          "data": {
            "text/html": [
              "<style>\n",
              ".list-inline {list-style: none; margin:0; padding: 0}\n",
              ".list-inline>li {display: inline-block}\n",
              ".list-inline>li:not(:last-child)::after {content: \"\\00b7\"; padding: 0 .5ex}\n",
              "</style>\n",
              "<ol class=list-inline><li>'c'</li><li>'d'</li><li>'e'</li><li>'f'</li><li>'g'</li><li>'h'</li><li>'i'</li><li>'j'</li></ol>\n"
            ],
            "text/latex": [
              "\\begin{enumerate*}\n",
              "\\item 'c'\n",
              "\\item 'd'\n",
              "\\item 'e'\n",
              "\\item 'f'\n",
              "\\item 'g'\n",
              "\\item 'h'\n",
              "\\item 'i'\n",
              "\\item 'j'\n",
              "\\end{enumerate*}\n"
            ],
            "text/markdown": [
              "1. 'c'\n",
              "2. 'd'\n",
              "3. 'e'\n",
              "4. 'f'\n",
              "5. 'g'\n",
              "6. 'h'\n",
              "7. 'i'\n",
              "8. 'j'\n",
              "\n",
              "\n"
            ],
            "text/plain": [
              "[1] \"c\" \"d\" \"e\" \"f\" \"g\" \"h\" \"i\" \"j\""
            ]
          },
          "metadata": {},
          "output_type": "display_data"
        },
        {
          "data": {
            "text/html": [
              "<style>\n",
              ".list-inline {list-style: none; margin:0; padding: 0}\n",
              ".list-inline>li {display: inline-block}\n",
              ".list-inline>li:not(:last-child)::after {content: \"\\00b7\"; padding: 0 .5ex}\n",
              "</style>\n",
              "<ol class=list-inline><li>'c'</li><li>'d'</li><li>'e'</li></ol>\n"
            ],
            "text/latex": [
              "\\begin{enumerate*}\n",
              "\\item 'c'\n",
              "\\item 'd'\n",
              "\\item 'e'\n",
              "\\end{enumerate*}\n"
            ],
            "text/markdown": [
              "1. 'c'\n",
              "2. 'd'\n",
              "3. 'e'\n",
              "\n",
              "\n"
            ],
            "text/plain": [
              "[1] \"c\" \"d\" \"e\""
            ]
          },
          "metadata": {},
          "output_type": "display_data"
        },
        {
          "data": {
            "text/html": [
              "<style>\n",
              ".list-inline {list-style: none; margin:0; padding: 0}\n",
              ".list-inline>li {display: inline-block}\n",
              ".list-inline>li:not(:last-child)::after {content: \"\\00b7\"; padding: 0 .5ex}\n",
              "</style>\n",
              "<ol class=list-inline><li>'a'</li><li>'b'</li></ol>\n"
            ],
            "text/latex": [
              "\\begin{enumerate*}\n",
              "\\item 'a'\n",
              "\\item 'b'\n",
              "\\end{enumerate*}\n"
            ],
            "text/markdown": [
              "1. 'a'\n",
              "2. 'b'\n",
              "\n",
              "\n"
            ],
            "text/plain": [
              "[1] \"a\" \"b\""
            ]
          },
          "metadata": {},
          "output_type": "display_data"
        },
        {
          "data": {
            "text/html": [
              "<style>\n",
              ".list-inline {list-style: none; margin:0; padding: 0}\n",
              ".list-inline>li {display: inline-block}\n",
              ".list-inline>li:not(:last-child)::after {content: \"\\00b7\"; padding: 0 .5ex}\n",
              "</style>\n",
              "<ol class=list-inline><li>'f'</li><li>'g'</li><li>'h'</li><li>'i'</li><li>'j'</li></ol>\n"
            ],
            "text/latex": [
              "\\begin{enumerate*}\n",
              "\\item 'f'\n",
              "\\item 'g'\n",
              "\\item 'h'\n",
              "\\item 'i'\n",
              "\\item 'j'\n",
              "\\end{enumerate*}\n"
            ],
            "text/markdown": [
              "1. 'f'\n",
              "2. 'g'\n",
              "3. 'h'\n",
              "4. 'i'\n",
              "5. 'j'\n",
              "\n",
              "\n"
            ],
            "text/plain": [
              "[1] \"f\" \"g\" \"h\" \"i\" \"j\""
            ]
          },
          "metadata": {},
          "output_type": "display_data"
        },
        {
          "data": {
            "text/html": [
              "<style>\n",
              ".list-inline {list-style: none; margin:0; padding: 0}\n",
              ".list-inline>li {display: inline-block}\n",
              ".list-inline>li:not(:last-child)::after {content: \"\\00b7\"; padding: 0 .5ex}\n",
              "</style>\n",
              "<ol class=list-inline><li>5</li><li>6</li><li>7</li><li>8</li></ol>\n"
            ],
            "text/latex": [
              "\\begin{enumerate*}\n",
              "\\item 5\n",
              "\\item 6\n",
              "\\item 7\n",
              "\\item 8\n",
              "\\end{enumerate*}\n"
            ],
            "text/markdown": [
              "1. 5\n",
              "2. 6\n",
              "3. 7\n",
              "4. 8\n",
              "\n",
              "\n"
            ],
            "text/plain": [
              "[1] 5 6 7 8"
            ]
          },
          "metadata": {},
          "output_type": "display_data"
        }
      ],
      "source": [
        "l = letters[1:5]\n",
        "\n",
        "l\n",
        "j = letters[3:10]\n",
        "\n",
        "j\n",
        "\n",
        "#%in% -> in de sql\n",
        "\n",
        "l[l %in% j]\n",
        "\n",
        "l[!(l %in% j)]\n",
        "\n",
        "j[ j %in% l   ]\n",
        "\n",
        "j[!(j %in% l)]\n",
        "\n",
        "\n",
        "\n",
        "v[v >= 5]\n",
        "\n"
      ]
    },
    {
      "cell_type": "code",
      "execution_count": null,
      "metadata": {
        "colab": {
          "base_uri": "https://localhost:8080/",
          "height": 86
        },
        "id": "CuOX-Gm_LUY7",
        "outputId": "eb41eae6-4ad7-4582-be0e-cf6a510fab12",
        "vscode": {
          "languageId": "r"
        }
      },
      "outputs": [
        {
          "data": {
            "text/html": [
              "<style>\n",
              ".list-inline {list-style: none; margin:0; padding: 0}\n",
              ".list-inline>li {display: inline-block}\n",
              ".list-inline>li:not(:last-child)::after {content: \"\\00b7\"; padding: 0 .5ex}\n",
              "</style>\n",
              "<ol class=list-inline><li>'c'</li><li>'d'</li><li>'e'</li></ol>\n"
            ],
            "text/latex": [
              "\\begin{enumerate*}\n",
              "\\item 'c'\n",
              "\\item 'd'\n",
              "\\item 'e'\n",
              "\\end{enumerate*}\n"
            ],
            "text/markdown": [
              "1. 'c'\n",
              "2. 'd'\n",
              "3. 'e'\n",
              "\n",
              "\n"
            ],
            "text/plain": [
              "[1] \"c\" \"d\" \"e\""
            ]
          },
          "metadata": {},
          "output_type": "display_data"
        },
        {
          "data": {
            "text/html": [
              "<style>\n",
              ".list-inline {list-style: none; margin:0; padding: 0}\n",
              ".list-inline>li {display: inline-block}\n",
              ".list-inline>li:not(:last-child)::after {content: \"\\00b7\"; padding: 0 .5ex}\n",
              "</style>\n",
              "<ol class=list-inline><li>'a'</li><li>'b'</li><li>'c'</li><li>'d'</li><li>'e'</li><li>'f'</li><li>'g'</li><li>'h'</li><li>'i'</li><li>'j'</li></ol>\n"
            ],
            "text/latex": [
              "\\begin{enumerate*}\n",
              "\\item 'a'\n",
              "\\item 'b'\n",
              "\\item 'c'\n",
              "\\item 'd'\n",
              "\\item 'e'\n",
              "\\item 'f'\n",
              "\\item 'g'\n",
              "\\item 'h'\n",
              "\\item 'i'\n",
              "\\item 'j'\n",
              "\\end{enumerate*}\n"
            ],
            "text/markdown": [
              "1. 'a'\n",
              "2. 'b'\n",
              "3. 'c'\n",
              "4. 'd'\n",
              "5. 'e'\n",
              "6. 'f'\n",
              "7. 'g'\n",
              "8. 'h'\n",
              "9. 'i'\n",
              "10. 'j'\n",
              "\n",
              "\n"
            ],
            "text/plain": [
              " [1] \"a\" \"b\" \"c\" \"d\" \"e\" \"f\" \"g\" \"h\" \"i\" \"j\""
            ]
          },
          "metadata": {},
          "output_type": "display_data"
        },
        {
          "data": {
            "text/html": [
              "<style>\n",
              ".list-inline {list-style: none; margin:0; padding: 0}\n",
              ".list-inline>li {display: inline-block}\n",
              ".list-inline>li:not(:last-child)::after {content: \"\\00b7\"; padding: 0 .5ex}\n",
              "</style>\n",
              "<ol class=list-inline><li>'a'</li><li>'b'</li></ol>\n"
            ],
            "text/latex": [
              "\\begin{enumerate*}\n",
              "\\item 'a'\n",
              "\\item 'b'\n",
              "\\end{enumerate*}\n"
            ],
            "text/markdown": [
              "1. 'a'\n",
              "2. 'b'\n",
              "\n",
              "\n"
            ],
            "text/plain": [
              "[1] \"a\" \"b\""
            ]
          },
          "metadata": {},
          "output_type": "display_data"
        },
        {
          "data": {
            "text/html": [
              "FALSE"
            ],
            "text/latex": [
              "FALSE"
            ],
            "text/markdown": [
              "FALSE"
            ],
            "text/plain": [
              "[1] FALSE"
            ]
          },
          "metadata": {},
          "output_type": "display_data"
        }
      ],
      "source": [
        "intersect(l, j)\n",
        "union(l, j)\n",
        "setdiff(l, j)\n",
        "setequal(l, j)"
      ]
    },
    {
      "cell_type": "code",
      "execution_count": null,
      "metadata": {
        "id": "8gREY4xSLPyo",
        "vscode": {
          "languageId": "r"
        }
      },
      "outputs": [],
      "source": [
        "?intersect"
      ]
    },
    {
      "cell_type": "code",
      "execution_count": null,
      "metadata": {
        "colab": {
          "base_uri": "https://localhost:8080/",
          "height": 104
        },
        "id": "8XScOFAnLrXj",
        "outputId": "a5d8c440-de74-4ab0-a165-a632c5d28bb4",
        "vscode": {
          "languageId": "r"
        }
      },
      "outputs": [
        {
          "data": {
            "text/html": [
              "<style>\n",
              ".list-inline {list-style: none; margin:0; padding: 0}\n",
              ".list-inline>li {display: inline-block}\n",
              ".list-inline>li:not(:last-child)::after {content: \"\\00b7\"; padding: 0 .5ex}\n",
              "</style>\n",
              "<ol class=list-inline><li>1.38536032766525</li><li>1.33488770112534</li><li>1.67696526237743</li><li>1.54354903811417</li><li>1.50242437547997</li><li>1.45054797395444</li><li>1.4906796638675</li><li>1.49061313474249</li><li>1.67662661237292</li><li>1.33393523506497</li></ol>\n"
            ],
            "text/latex": [
              "\\begin{enumerate*}\n",
              "\\item 1.38536032766525\n",
              "\\item 1.33488770112534\n",
              "\\item 1.67696526237743\n",
              "\\item 1.54354903811417\n",
              "\\item 1.50242437547997\n",
              "\\item 1.45054797395444\n",
              "\\item 1.4906796638675\n",
              "\\item 1.49061313474249\n",
              "\\item 1.67662661237292\n",
              "\\item 1.33393523506497\n",
              "\\end{enumerate*}\n"
            ],
            "text/markdown": [
              "1. 1.38536032766525\n",
              "2. 1.33488770112534\n",
              "3. 1.67696526237743\n",
              "4. 1.54354903811417\n",
              "5. 1.50242437547997\n",
              "6. 1.45054797395444\n",
              "7. 1.4906796638675\n",
              "8. 1.49061313474249\n",
              "9. 1.67662661237292\n",
              "10. 1.33393523506497\n",
              "\n",
              "\n"
            ],
            "text/plain": [
              " [1] 1.385360 1.334888 1.676965 1.543549 1.502424 1.450548 1.490680 1.490613\n",
              " [9] 1.676627 1.333935"
            ]
          },
          "metadata": {},
          "output_type": "display_data"
        },
        {
          "data": {
            "text/html": [
              "<style>\n",
              ".list-inline {list-style: none; margin:0; padding: 0}\n",
              ".list-inline>li {display: inline-block}\n",
              ".list-inline>li:not(:last-child)::after {content: \"\\00b7\"; padding: 0 .5ex}\n",
              "</style>\n",
              "<ol class=list-inline><li>0.806929591810331</li><li>0.976426667533815</li><li>0.241858861176297</li><li>0.58886757818982</li><li>0.274648757185787</li><li>0.99452101951465</li><li>0.389808454550803</li><li>0.180175733519718</li><li>0.561068301554769</li><li>0.141515787690878</li></ol>\n"
            ],
            "text/latex": [
              "\\begin{enumerate*}\n",
              "\\item 0.806929591810331\n",
              "\\item 0.976426667533815\n",
              "\\item 0.241858861176297\n",
              "\\item 0.58886757818982\n",
              "\\item 0.274648757185787\n",
              "\\item 0.99452101951465\n",
              "\\item 0.389808454550803\n",
              "\\item 0.180175733519718\n",
              "\\item 0.561068301554769\n",
              "\\item 0.141515787690878\n",
              "\\end{enumerate*}\n"
            ],
            "text/markdown": [
              "1. 0.806929591810331\n",
              "2. 0.976426667533815\n",
              "3. 0.241858861176297\n",
              "4. 0.58886757818982\n",
              "5. 0.274648757185787\n",
              "6. 0.99452101951465\n",
              "7. 0.389808454550803\n",
              "8. 0.180175733519718\n",
              "9. 0.561068301554769\n",
              "10. 0.141515787690878\n",
              "\n",
              "\n"
            ],
            "text/plain": [
              " [1] 0.8069296 0.9764267 0.2418589 0.5888676 0.2746488 0.9945210 0.3898085\n",
              " [8] 0.1801757 0.5610683 0.1415158"
            ]
          },
          "metadata": {},
          "output_type": "display_data"
        },
        {
          "data": {
            "text/html": [
              "<style>\n",
              ".list-inline {list-style: none; margin:0; padding: 0}\n",
              ".list-inline>li {display: inline-block}\n",
              ".list-inline>li:not(:last-child)::after {content: \"\\00b7\"; padding: 0 .5ex}\n",
              "</style>\n",
              "<ol class=list-inline><li>5</li><li>4</li><li>4</li><li>5</li><li>7</li><li>4</li><li>6</li><li>4</li><li>4</li><li>4</li></ol>\n"
            ],
            "text/latex": [
              "\\begin{enumerate*}\n",
              "\\item 5\n",
              "\\item 4\n",
              "\\item 4\n",
              "\\item 5\n",
              "\\item 7\n",
              "\\item 4\n",
              "\\item 6\n",
              "\\item 4\n",
              "\\item 4\n",
              "\\item 4\n",
              "\\end{enumerate*}\n"
            ],
            "text/markdown": [
              "1. 5\n",
              "2. 4\n",
              "3. 4\n",
              "4. 5\n",
              "5. 7\n",
              "6. 4\n",
              "7. 6\n",
              "8. 4\n",
              "9. 4\n",
              "10. 4\n",
              "\n",
              "\n"
            ],
            "text/plain": [
              " [1] 5 4 4 5 7 4 6 4 4 4"
            ]
          },
          "metadata": {},
          "output_type": "display_data"
        }
      ],
      "source": [
        "# random normal\n",
        "rnorm(n = 10, mean = 1.60, sd = 0.2)\n",
        "\n",
        "# random uniform\n",
        "runif(n = 10, 0, 1)\n",
        "\n",
        "# random binomial\n",
        "rbinom(size = 10, n = 10, prob = 0.5 )\n",
        "\n"
      ]
    },
    {
      "cell_type": "code",
      "execution_count": null,
      "metadata": {
        "colab": {
          "base_uri": "https://localhost:8080/",
          "height": 437
        },
        "id": "jy7JF88gNYCp",
        "outputId": "89267ed4-f02f-499a-96c5-873e5629599b",
        "vscode": {
          "languageId": "r"
        }
      },
      "outputs": [
        {
          "data": {
            "image/png": "[encoded data removed]",
            "text/plain": [
              "Plot with title “Histogram of rnorm(n = 10000, mean = 1.6, sd = 0.2)”"
            ]
          },
          "metadata": {
            "image/png": {
              "height": 420,
              "width": 420
            }
          },
          "output_type": "display_data"
        }
      ],
      "source": [
        "#plot(x = rep(1, 10), y = rnorm(n = 10, mean = 1.60, sd = 0.2) )\n",
        "\n",
        "hist(rnorm(n = 10000, mean = 1.60, sd = 0.2))"
      ]
    },
    {
      "cell_type": "code",
      "execution_count": null,
      "metadata": {
        "id": "gGkgGylnIgwK",
        "vscode": {
          "languageId": "r"
        }
      },
      "outputs": [],
      "source": [
        "# ejemplo de función seq (utilice argumento by, y otro ejemplo con argumento length.out)\n"
      ]
    },
    {
      "cell_type": "code",
      "execution_count": null,
      "metadata": {
        "id": "psRswQHBIgwO",
        "vscode": {
          "languageId": "r"
        }
      },
      "outputs": [],
      "source": [
        "# ejemplo de vector aleatorio siguiendo una determinada distribución\n",
        "\n",
        "# distribución uniforme\n",
        "# distribución normal\n"
      ]
    },
    {
      "cell_type": "markdown",
      "metadata": {
        "id": "Rgq7C1JAn-Ee"
      },
      "source": [
        "#### ⚙️ Ejercicio 3: Secuencias y generación de datos\n",
        "Objetivo: aplicar :, seq(), rep() y length.out.\n",
        "\n",
        "1. Crea una secuencia del 1 al 20 de 2 en 2.\n",
        "2. Crea un vector de 24 elementos con los meses del año repetidos 2 veces usando rep().\n",
        "3. Crea un vector de 50 números entre 0 y 1 con incremento uniforme usando seq().\n",
        "4. Genera un vector de 10 números aleatorios con distribución normal (media 100, sd 15).\n",
        "5. ¿Cuántos de esos valores son mayores a 115?"
      ]
    },
    {
      "cell_type": "code",
      "execution_count": null,
      "metadata": {
        "id": "dIheeZPEopAO",
        "vscode": {
          "languageId": "r"
        }
      },
      "outputs": [],
      "source": []
    },
    {
      "cell_type": "markdown",
      "metadata": {
        "id": "TlnEINwUIgwP"
      },
      "source": [
        "### 3.2 Funciones (primera parte)\n",
        "\n",
        "#### 3.2.1 Funciones vectorizadas y operaciones con vectores\n",
        "\n",
        "R es un lenguaje funcional, en el sentido de que prácticamente cada llamada a R corresponde a una función que puede (o no) recibir argumentos de entrada.\n",
        "Una de las ventajas es que existe una amplia, muy amplia,... verdaderamente amplia!, variedad de funciones disponibles, tanto en las librerías que vienen con la instalación por defecto como las librerías disponibles en CRAN o en toda la comunidad R.\n",
        "\n",
        "En R, una función $f$ se dice vectorizada si dado un vector $\\mathbf{x}=(x_1,x_2,\\dots,x_n)$, se tiene que $f(\\mathbf{x})=(f(x_1),f(x_2),\\dots,f(x_n))$.\n",
        "Esto hace que, por ejemplo, la aritmética de vectores se más sencilla de implentar y con un menor tiempo de cómputo . Gran parte de las funciones disponibles en la librerías (bibliotecas o *packages*) de R corresponden a funciones vectorizadas.\n",
        "A modo de ejemplo, a cotinuación se muestran algunas funciones (de las más básicas) aritméticas, y funciones para trabajar con texto:\n",
        "    \n",
        "    +,-,*,/\n",
        "    abs()\n",
        "    sqrt()\n",
        "    cos()\n",
        "    sin()\n",
        "    tan()\n",
        "    nchar()\n",
        "    susbtr()\n",
        "    grepl()\n",
        "    gsub()\n",
        "    \n",
        "   \n",
        "   \n",
        "   "
      ]
    },
    {
      "cell_type": "code",
      "execution_count": null,
      "metadata": {
        "id": "tO3oB1bnIgwP",
        "vscode": {
          "languageId": "r"
        }
      },
      "outputs": [],
      "source": [
        "# 3.2. Funciones (primera parte) ------------\n",
        "# 3.2.1 Funciones vectorizadas\n",
        "# Ejemplos básicos de funciones(vectorizadas)\n"
      ]
    },
    {
      "cell_type": "markdown",
      "metadata": {
        "id": "BKft6dT_o1TL"
      },
      "source": [
        "#### 🔠 Ejercicio 4: Operaciones vectorizadas\n",
        "Objetivo: trabajar con funciones que se aplican elemento a elemento.\n",
        "\n",
        "1. Calcula a + b, a * b y a / b.\n",
        "2. Calcula el logaritmo natural y raíz cuadrada de cada elemento de 'a'.\n",
        "3. Eleva cada elemento de 'b' al cuadrado.\n",
        "4. Crea un nuevo vector c con los resultados de (a + b) / 2."
      ]
    },
    {
      "cell_type": "code",
      "execution_count": 1,
      "metadata": {
        "id": "2LDOEyGxo78c",
        "vscode": {
          "languageId": "r"
        }
      },
      "outputs": [],
      "source": [
        "# Considera los vectores:\n",
        "a <- c(2, 4, 6, 8)\n",
        "b <- c(1, 3, 5, 7)"
      ]
    },
    {
      "cell_type": "code",
      "execution_count": 8,
      "metadata": {
        "vscode": {
          "languageId": "r"
        }
      },
      "outputs": [
        {
          "data": {
            "text/html": [
              "<style>\n",
              ".list-inline {list-style: none; margin:0; padding: 0}\n",
              ".list-inline>li {display: inline-block}\n",
              ".list-inline>li:not(:last-child)::after {content: \"\\00b7\"; padding: 0 .5ex}\n",
              "</style>\n",
              "<ol class=list-inline><li>3</li><li>7</li><li>11</li><li>15</li></ol>\n"
            ],
            "text/latex": [
              "\\begin{enumerate*}\n",
              "\\item 3\n",
              "\\item 7\n",
              "\\item 11\n",
              "\\item 15\n",
              "\\end{enumerate*}\n"
            ],
            "text/markdown": [
              "1. 3\n",
              "2. 7\n",
              "3. 11\n",
              "4. 15\n",
              "\n",
              "\n"
            ],
            "text/plain": [
              "[1]  3  7 11 15"
            ]
          },
          "metadata": {},
          "output_type": "display_data"
        },
        {
          "data": {
            "text/html": [
              "<style>\n",
              ".list-inline {list-style: none; margin:0; padding: 0}\n",
              ".list-inline>li {display: inline-block}\n",
              ".list-inline>li:not(:last-child)::after {content: \"\\00b7\"; padding: 0 .5ex}\n",
              "</style>\n",
              "<ol class=list-inline><li>2</li><li>12</li><li>30</li><li>56</li></ol>\n"
            ],
            "text/latex": [
              "\\begin{enumerate*}\n",
              "\\item 2\n",
              "\\item 12\n",
              "\\item 30\n",
              "\\item 56\n",
              "\\end{enumerate*}\n"
            ],
            "text/markdown": [
              "1. 2\n",
              "2. 12\n",
              "3. 30\n",
              "4. 56\n",
              "\n",
              "\n"
            ],
            "text/plain": [
              "[1]  2 12 30 56"
            ]
          },
          "metadata": {},
          "output_type": "display_data"
        },
        {
          "data": {
            "text/html": [
              "<style>\n",
              ".list-inline {list-style: none; margin:0; padding: 0}\n",
              ".list-inline>li {display: inline-block}\n",
              ".list-inline>li:not(:last-child)::after {content: \"\\00b7\"; padding: 0 .5ex}\n",
              "</style>\n",
              "<ol class=list-inline><li>2</li><li>1.33333333333333</li><li>1.2</li><li>1.14285714285714</li></ol>\n"
            ],
            "text/latex": [
              "\\begin{enumerate*}\n",
              "\\item 2\n",
              "\\item 1.33333333333333\n",
              "\\item 1.2\n",
              "\\item 1.14285714285714\n",
              "\\end{enumerate*}\n"
            ],
            "text/markdown": [
              "1. 2\n",
              "2. 1.33333333333333\n",
              "3. 1.2\n",
              "4. 1.14285714285714\n",
              "\n",
              "\n"
            ],
            "text/plain": [
              "[1] 2.000000 1.333333 1.200000 1.142857"
            ]
          },
          "metadata": {},
          "output_type": "display_data"
        },
        {
          "data": {
            "text/html": [
              "<style>\n",
              ".list-inline {list-style: none; margin:0; padding: 0}\n",
              ".list-inline>li {display: inline-block}\n",
              ".list-inline>li:not(:last-child)::after {content: \"\\00b7\"; padding: 0 .5ex}\n",
              "</style>\n",
              "<ol class=list-inline><li>0.693147180559945</li><li>1.38629436111989</li><li>1.79175946922805</li><li>2.07944154167984</li></ol>\n"
            ],
            "text/latex": [
              "\\begin{enumerate*}\n",
              "\\item 0.693147180559945\n",
              "\\item 1.38629436111989\n",
              "\\item 1.79175946922805\n",
              "\\item 2.07944154167984\n",
              "\\end{enumerate*}\n"
            ],
            "text/markdown": [
              "1. 0.693147180559945\n",
              "2. 1.38629436111989\n",
              "3. 1.79175946922805\n",
              "4. 2.07944154167984\n",
              "\n",
              "\n"
            ],
            "text/plain": [
              "[1] 0.6931472 1.3862944 1.7917595 2.0794415"
            ]
          },
          "metadata": {},
          "output_type": "display_data"
        },
        {
          "data": {
            "text/html": [
              "<style>\n",
              ".list-inline {list-style: none; margin:0; padding: 0}\n",
              ".list-inline>li {display: inline-block}\n",
              ".list-inline>li:not(:last-child)::after {content: \"\\00b7\"; padding: 0 .5ex}\n",
              "</style>\n",
              "<ol class=list-inline><li>1.4142135623731</li><li>2</li><li>2.44948974278318</li><li>2.82842712474619</li></ol>\n"
            ],
            "text/latex": [
              "\\begin{enumerate*}\n",
              "\\item 1.4142135623731\n",
              "\\item 2\n",
              "\\item 2.44948974278318\n",
              "\\item 2.82842712474619\n",
              "\\end{enumerate*}\n"
            ],
            "text/markdown": [
              "1. 1.4142135623731\n",
              "2. 2\n",
              "3. 2.44948974278318\n",
              "4. 2.82842712474619\n",
              "\n",
              "\n"
            ],
            "text/plain": [
              "[1] 1.414214 2.000000 2.449490 2.828427"
            ]
          },
          "metadata": {},
          "output_type": "display_data"
        },
        {
          "data": {
            "text/html": [
              "<style>\n",
              ".list-inline {list-style: none; margin:0; padding: 0}\n",
              ".list-inline>li {display: inline-block}\n",
              ".list-inline>li:not(:last-child)::after {content: \"\\00b7\"; padding: 0 .5ex}\n",
              "</style>\n",
              "<ol class=list-inline><li>1</li><li>9</li><li>25</li><li>49</li></ol>\n"
            ],
            "text/latex": [
              "\\begin{enumerate*}\n",
              "\\item 1\n",
              "\\item 9\n",
              "\\item 25\n",
              "\\item 49\n",
              "\\end{enumerate*}\n"
            ],
            "text/markdown": [
              "1. 1\n",
              "2. 9\n",
              "3. 25\n",
              "4. 49\n",
              "\n",
              "\n"
            ],
            "text/plain": [
              "[1]  1  9 25 49"
            ]
          },
          "metadata": {},
          "output_type": "display_data"
        },
        {
          "data": {
            "text/html": [
              "<style>\n",
              ".list-inline {list-style: none; margin:0; padding: 0}\n",
              ".list-inline>li {display: inline-block}\n",
              ".list-inline>li:not(:last-child)::after {content: \"\\00b7\"; padding: 0 .5ex}\n",
              "</style>\n",
              "<ol class=list-inline><li>1.5</li><li>3.5</li><li>5.5</li><li>7.5</li></ol>\n"
            ],
            "text/latex": [
              "\\begin{enumerate*}\n",
              "\\item 1.5\n",
              "\\item 3.5\n",
              "\\item 5.5\n",
              "\\item 7.5\n",
              "\\end{enumerate*}\n"
            ],
            "text/markdown": [
              "1. 1.5\n",
              "2. 3.5\n",
              "3. 5.5\n",
              "4. 7.5\n",
              "\n",
              "\n"
            ],
            "text/plain": [
              "[1] 1.5 3.5 5.5 7.5"
            ]
          },
          "metadata": {},
          "output_type": "display_data"
        }
      ],
      "source": [
        "# 1\n",
        "a + b\n",
        "a * b\n",
        "a / b\n",
        "\n",
        "# 2\n",
        "log(a)\n",
        "sqrt(a)\n",
        "\n",
        "# 3\n",
        "b^2\n",
        "\n",
        "# 4\n",
        "c <- (a + b) / 2\n",
        "\n",
        "c\n"
      ]
    },
    {
      "cell_type": "code",
      "execution_count": null,
      "metadata": {
        "vscode": {
          "languageId": "r"
        }
      },
      "outputs": [
        {
          "data": {
            "text/html": [
              "<style>\n",
              ".list-inline {list-style: none; margin:0; padding: 0}\n",
              ".list-inline>li {display: inline-block}\n",
              ".list-inline>li:not(:last-child)::after {content: \"\\00b7\"; padding: 0 .5ex}\n",
              "</style>\n",
              "<ol class=list-inline><li>0.693147180559945</li><li>1.38629436111989</li><li>1.79175946922805</li><li>2.07944154167984</li></ol>\n"
            ],
            "text/latex": [
              "\\begin{enumerate*}\n",
              "\\item 0.693147180559945\n",
              "\\item 1.38629436111989\n",
              "\\item 1.79175946922805\n",
              "\\item 2.07944154167984\n",
              "\\end{enumerate*}\n"
            ],
            "text/markdown": [
              "1. 0.693147180559945\n",
              "2. 1.38629436111989\n",
              "3. 1.79175946922805\n",
              "4. 2.07944154167984\n",
              "\n",
              "\n"
            ],
            "text/plain": [
              "[1] 0.6931472 1.3862944 1.7917595 2.0794415"
            ]
          },
          "metadata": {},
          "output_type": "display_data"
        },
        {
          "data": {
            "text/html": [
              "<style>\n",
              ".list-inline {list-style: none; margin:0; padding: 0}\n",
              ".list-inline>li {display: inline-block}\n",
              ".list-inline>li:not(:last-child)::after {content: \"\\00b7\"; padding: 0 .5ex}\n",
              "</style>\n",
              "<ol class=list-inline><li>1.4142135623731</li><li>2</li><li>2.44948974278318</li><li>2.82842712474619</li></ol>\n"
            ],
            "text/latex": [
              "\\begin{enumerate*}\n",
              "\\item 1.4142135623731\n",
              "\\item 2\n",
              "\\item 2.44948974278318\n",
              "\\item 2.82842712474619\n",
              "\\end{enumerate*}\n"
            ],
            "text/markdown": [
              "1. 1.4142135623731\n",
              "2. 2\n",
              "3. 2.44948974278318\n",
              "4. 2.82842712474619\n",
              "\n",
              "\n"
            ],
            "text/plain": [
              "[1] 1.414214 2.000000 2.449490 2.828427"
            ]
          },
          "metadata": {},
          "output_type": "display_data"
        }
      ],
      "source": []
    },
    {
      "cell_type": "markdown",
      "metadata": {
        "id": "A_zBrIVBpLKq"
      },
      "source": [
        " CUIDADO: ¿qué ocurre si cambias b <- c(1, 3)? Observa cómo R recicla los valores."
      ]
    },
    {
      "cell_type": "code",
      "execution_count": null,
      "metadata": {
        "id": "NivskO3jIgwT",
        "vscode": {
          "languageId": "r"
        }
      },
      "outputs": [],
      "source": [
        "# funciones para manipular texto\n",
        " #cantidad de caracteres\n",
        "\n",
        "\n"
      ]
    },
    {
      "cell_type": "code",
      "execution_count": null,
      "metadata": {
        "id": "tA55foL1IgwX",
        "vscode": {
          "languageId": "r"
        }
      },
      "outputs": [],
      "source": [
        "# substring substr()\n",
        "\n"
      ]
    },
    {
      "cell_type": "code",
      "execution_count": null,
      "metadata": {
        "id": "vjRwdUbiIgwY",
        "vscode": {
          "languageId": "r"
        }
      },
      "outputs": [],
      "source": [
        "# grepl() evlaúa si un  caracter está contenido en otro. (LIKE)\n",
        "#?grepl()\n",
        "grepl(\"ala\", \"palabra\")\n",
        "grepl(\"alo\", \"palabra\")\n",
        "\n",
        "\n",
        "#gsub() reemblaza un substring por otro\n",
        "#?gsub\n",
        "\n",
        "# si reemplazamos en un vector de palabras\n",
        "\n"
      ]
    },
    {
      "cell_type": "markdown",
      "metadata": {
        "id": "y52FOVOvpd-m"
      },
      "source": [
        "####💬 Ejercicio 5: Funciones con texto\n",
        "Objetivo: aplicar nchar(), substr(), grep(), gsub().\n",
        "\n",
        "1. Usa nchar() para obtener la longitud de cada texto.\n",
        "2. Extrae los primeros 5 caracteres de cada frase.\n",
        "3. Usa grep() para identificar qué frases contienen la palabra \"R\".\n",
        "4. Usa gsub() para reemplazar \"R\" por \"RStudio\" en todo el vector.\n",
        "5. Crea un nuevo vector donde todas las letras estén en minúscula."
      ]
    },
    {
      "cell_type": "code",
      "execution_count": null,
      "metadata": {
        "id": "0ry83FSNpwzR",
        "vscode": {
          "languageId": "r"
        }
      },
      "outputs": [],
      "source": [
        "# Considere el siguiente vector\n",
        "\n",
        "palabras <- c(\"R es genial\", \"Me gusta programar en R\", \"Python también\", \"R y datos\")\n"
      ]
    },
    {
      "cell_type": "code",
      "execution_count": null,
      "metadata": {
        "id": "0j9kKUbzIgwZ",
        "vscode": {
          "languageId": "r"
        }
      },
      "outputs": [],
      "source": [
        "#gsub() reemplaza caracteres dentro de un texto\n",
        "#https://www.tidytextmining.com/\n"
      ]
    },
    {
      "cell_type": "markdown",
      "metadata": {
        "id": "biTKrKs1qw1L"
      },
      "source": [
        "####🧠 Ejercicio final\n",
        "Objetivo: combinar vectores, operaciones lógicas y funciones.\n",
        "\n",
        "1. Crea un vector de notas entre 1.0 y 7.0 (10 valores aleatorios con distribución normal, media 5, sd 1)\n",
        "2. Reemplaza las notas mayores a 7 con 7 y las menores a 1 con 1.\n",
        "3. Asigna nombres de alumnos \"A1\" a \"A10\".\n",
        "4. Calcula el promedio general.\n",
        "5. Crea un vector lógico que indique quiénes aprobaron (nota >= 4).\n",
        "6. Usa names() para mostrar solo los nombres de quienes aprobaron.\n",
        "7. Calcula el promedio de aprobados y reprobados por separado."
      ]
    },
    {
      "cell_type": "code",
      "execution_count": 16,
      "metadata": {
        "id": "6SmWcM1Vq3v6",
        "vscode": {
          "languageId": "r"
        }
      },
      "outputs": [
        {
          "data": {
            "text/html": [
              "<style>\n",
              ".list-inline {list-style: none; margin:0; padding: 0}\n",
              ".list-inline>li {display: inline-block}\n",
              ".list-inline>li:not(:last-child)::after {content: \"\\00b7\"; padding: 0 .5ex}\n",
              "</style>\n",
              "<ol class=list-inline><li>5.2589054652866</li><li>5.07341036446536</li><li>5.71528459642994</li><li>3.20889427128576</li><li>3.73201383313012</li><li>6.49981624668422</li><li>5.03301771848865</li><li>5.61331926492851</li><li>6.30464765765038</li><li>4.21821134663224</li></ol>\n"
            ],
            "text/latex": [
              "\\begin{enumerate*}\n",
              "\\item 5.2589054652866\n",
              "\\item 5.07341036446536\n",
              "\\item 5.71528459642994\n",
              "\\item 3.20889427128576\n",
              "\\item 3.73201383313012\n",
              "\\item 6.49981624668422\n",
              "\\item 5.03301771848865\n",
              "\\item 5.61331926492851\n",
              "\\item 6.30464765765038\n",
              "\\item 4.21821134663224\n",
              "\\end{enumerate*}\n"
            ],
            "text/markdown": [
              "1. 5.2589054652866\n",
              "2. 5.07341036446536\n",
              "3. 5.71528459642994\n",
              "4. 3.20889427128576\n",
              "5. 3.73201383313012\n",
              "6. 6.49981624668422\n",
              "7. 5.03301771848865\n",
              "8. 5.61331926492851\n",
              "9. 6.30464765765038\n",
              "10. 4.21821134663224\n",
              "\n",
              "\n"
            ],
            "text/plain": [
              " [1] 5.258905 5.073410 5.715285 3.208894 3.732014 6.499816 5.033018 5.613319\n",
              " [9] 6.304648 4.218211"
            ]
          },
          "metadata": {},
          "output_type": "display_data"
        },
        {
          "data": {
            "text/html": [
              "<style>\n",
              ".list-inline {list-style: none; margin:0; padding: 0}\n",
              ".list-inline>li {display: inline-block}\n",
              ".list-inline>li:not(:last-child)::after {content: \"\\00b7\"; padding: 0 .5ex}\n",
              "</style>\n",
              "<ol class=list-inline><li>5.2589054652866</li><li>5.07341036446536</li><li>5.71528459642994</li><li>3.20889427128576</li><li>3.73201383313012</li><li>6.49981624668422</li><li>5.03301771848865</li><li>5.61331926492851</li><li>6.30464765765038</li><li>4.21821134663224</li></ol>\n"
            ],
            "text/latex": [
              "\\begin{enumerate*}\n",
              "\\item 5.2589054652866\n",
              "\\item 5.07341036446536\n",
              "\\item 5.71528459642994\n",
              "\\item 3.20889427128576\n",
              "\\item 3.73201383313012\n",
              "\\item 6.49981624668422\n",
              "\\item 5.03301771848865\n",
              "\\item 5.61331926492851\n",
              "\\item 6.30464765765038\n",
              "\\item 4.21821134663224\n",
              "\\end{enumerate*}\n"
            ],
            "text/markdown": [
              "1. 5.2589054652866\n",
              "2. 5.07341036446536\n",
              "3. 5.71528459642994\n",
              "4. 3.20889427128576\n",
              "5. 3.73201383313012\n",
              "6. 6.49981624668422\n",
              "7. 5.03301771848865\n",
              "8. 5.61331926492851\n",
              "9. 6.30464765765038\n",
              "10. 4.21821134663224\n",
              "\n",
              "\n"
            ],
            "text/plain": [
              " [1] 5.258905 5.073410 5.715285 3.208894 3.732014 6.499816 5.033018 5.613319\n",
              " [9] 6.304648 4.218211"
            ]
          },
          "metadata": {},
          "output_type": "display_data"
        },
        {
          "data": {
            "text/html": [
              "<style>\n",
              ".dl-inline {width: auto; margin:0; padding: 0}\n",
              ".dl-inline>dt, .dl-inline>dd {float: none; width: auto; display: inline-block}\n",
              ".dl-inline>dt::after {content: \":\\0020\"; padding-right: .5ex}\n",
              ".dl-inline>dt:not(:first-of-type) {padding-left: .5ex}\n",
              "</style><dl class=dl-inline><dt>A 1</dt><dd>5.2589054652866</dd><dt>A 2</dt><dd>5.07341036446536</dd><dt>A 3</dt><dd>5.71528459642994</dd><dt>A 4</dt><dd>3.20889427128576</dd><dt>A 5</dt><dd>3.73201383313012</dd><dt>A 6</dt><dd>6.49981624668422</dd><dt>A 7</dt><dd>5.03301771848865</dd><dt>A 8</dt><dd>5.61331926492851</dd><dt>A 9</dt><dd>6.30464765765038</dd><dt>A 10</dt><dd>4.21821134663224</dd></dl>\n"
            ],
            "text/latex": [
              "\\begin{description*}\n",
              "\\item[A 1] 5.2589054652866\n",
              "\\item[A 2] 5.07341036446536\n",
              "\\item[A 3] 5.71528459642994\n",
              "\\item[A 4] 3.20889427128576\n",
              "\\item[A 5] 3.73201383313012\n",
              "\\item[A 6] 6.49981624668422\n",
              "\\item[A 7] 5.03301771848865\n",
              "\\item[A 8] 5.61331926492851\n",
              "\\item[A 9] 6.30464765765038\n",
              "\\item[A 10] 4.21821134663224\n",
              "\\end{description*}\n"
            ],
            "text/markdown": [
              "A 1\n",
              ":   5.2589054652866A 2\n",
              ":   5.07341036446536A 3\n",
              ":   5.71528459642994A 4\n",
              ":   3.20889427128576A 5\n",
              ":   3.73201383313012A 6\n",
              ":   6.49981624668422A 7\n",
              ":   5.03301771848865A 8\n",
              ":   5.61331926492851A 9\n",
              ":   6.30464765765038A 10\n",
              ":   4.21821134663224\n",
              "\n"
            ],
            "text/plain": [
              "     A 1      A 2      A 3      A 4      A 5      A 6      A 7      A 8 \n",
              "5.258905 5.073410 5.715285 3.208894 3.732014 6.499816 5.033018 5.613319 \n",
              "     A 9     A 10 \n",
              "6.304648 4.218211 "
            ]
          },
          "metadata": {},
          "output_type": "display_data"
        },
        {
          "data": {
            "text/html": [
              "5.06575207649818"
            ],
            "text/latex": [
              "5.06575207649818"
            ],
            "text/markdown": [
              "5.06575207649818"
            ],
            "text/plain": [
              "[1] 5.065752"
            ]
          },
          "metadata": {},
          "output_type": "display_data"
        },
        {
          "data": {
            "text/html": [
              "<style>\n",
              ".dl-inline {width: auto; margin:0; padding: 0}\n",
              ".dl-inline>dt, .dl-inline>dd {float: none; width: auto; display: inline-block}\n",
              ".dl-inline>dt::after {content: \":\\0020\"; padding-right: .5ex}\n",
              ".dl-inline>dt:not(:first-of-type) {padding-left: .5ex}\n",
              "</style><dl class=dl-inline><dt>A 1</dt><dd>TRUE</dd><dt>A 2</dt><dd>TRUE</dd><dt>A 3</dt><dd>TRUE</dd><dt>A 4</dt><dd>FALSE</dd><dt>A 5</dt><dd>FALSE</dd><dt>A 6</dt><dd>TRUE</dd><dt>A 7</dt><dd>TRUE</dd><dt>A 8</dt><dd>TRUE</dd><dt>A 9</dt><dd>TRUE</dd><dt>A 10</dt><dd>TRUE</dd></dl>\n"
            ],
            "text/latex": [
              "\\begin{description*}\n",
              "\\item[A 1] TRUE\n",
              "\\item[A 2] TRUE\n",
              "\\item[A 3] TRUE\n",
              "\\item[A 4] FALSE\n",
              "\\item[A 5] FALSE\n",
              "\\item[A 6] TRUE\n",
              "\\item[A 7] TRUE\n",
              "\\item[A 8] TRUE\n",
              "\\item[A 9] TRUE\n",
              "\\item[A 10] TRUE\n",
              "\\end{description*}\n"
            ],
            "text/markdown": [
              "A 1\n",
              ":   TRUEA 2\n",
              ":   TRUEA 3\n",
              ":   TRUEA 4\n",
              ":   FALSEA 5\n",
              ":   FALSEA 6\n",
              ":   TRUEA 7\n",
              ":   TRUEA 8\n",
              ":   TRUEA 9\n",
              ":   TRUEA 10\n",
              ":   TRUE\n",
              "\n"
            ],
            "text/plain": [
              "  A 1   A 2   A 3   A 4   A 5   A 6   A 7   A 8   A 9  A 10 \n",
              " TRUE  TRUE  TRUE FALSE FALSE  TRUE  TRUE  TRUE  TRUE  TRUE "
            ]
          },
          "metadata": {},
          "output_type": "display_data"
        },
        {
          "data": {
            "text/html": [
              "<style>\n",
              ".list-inline {list-style: none; margin:0; padding: 0}\n",
              ".list-inline>li {display: inline-block}\n",
              ".list-inline>li:not(:last-child)::after {content: \"\\00b7\"; padding: 0 .5ex}\n",
              "</style>\n",
              "<ol class=list-inline><li>'A 1'</li><li>'A 2'</li><li>'A 3'</li><li>'A 6'</li><li>'A 7'</li><li>'A 8'</li><li>'A 9'</li><li>'A 10'</li></ol>\n"
            ],
            "text/latex": [
              "\\begin{enumerate*}\n",
              "\\item 'A 1'\n",
              "\\item 'A 2'\n",
              "\\item 'A 3'\n",
              "\\item 'A 6'\n",
              "\\item 'A 7'\n",
              "\\item 'A 8'\n",
              "\\item 'A 9'\n",
              "\\item 'A 10'\n",
              "\\end{enumerate*}\n"
            ],
            "text/markdown": [
              "1. 'A 1'\n",
              "2. 'A 2'\n",
              "3. 'A 3'\n",
              "4. 'A 6'\n",
              "5. 'A 7'\n",
              "6. 'A 8'\n",
              "7. 'A 9'\n",
              "8. 'A 10'\n",
              "\n",
              "\n"
            ],
            "text/plain": [
              "[1] \"A 1\"  \"A 2\"  \"A 3\"  \"A 6\"  \"A 7\"  \"A 8\"  \"A 9\"  \"A 10\""
            ]
          },
          "metadata": {},
          "output_type": "display_data"
        },
        {
          "data": {
            "text/html": [
              "5.46457658257074"
            ],
            "text/latex": [
              "5.46457658257074"
            ],
            "text/markdown": [
              "5.46457658257074"
            ],
            "text/plain": [
              "[1] 5.464577"
            ]
          },
          "metadata": {},
          "output_type": "display_data"
        },
        {
          "data": {
            "text/html": [
              "3.47045405220794"
            ],
            "text/latex": [
              "3.47045405220794"
            ],
            "text/markdown": [
              "3.47045405220794"
            ],
            "text/plain": [
              "[1] 3.470454"
            ]
          },
          "metadata": {},
          "output_type": "display_data"
        }
      ],
      "source": [
        "#1\n",
        "notas <- rnorm(n = 10, mean = 5, sd = 1) # observación esto no asegura que la nota mínima/máxima aleatoria sea 1 o 7 respectivamente\n",
        "notas\n",
        "\n",
        "#2\n",
        "notas[notas > 7] <- 7\n",
        "notas[notas < 1] <- 1\n",
        "notas\n",
        "\n",
        "#3\n",
        "\n",
        "names(notas) <- paste('A', 1:10)\n",
        "notas\n",
        "\n",
        "#4\n",
        "mean(notas)\n",
        "\n",
        "#5\n",
        "notas >= 4\n",
        "\n",
        "#6\n",
        "names(notas)[notas >= 4]\n",
        "\n",
        "#7\n",
        "mean(notas[notas >= 4])\n",
        "mean(notas[notas < 4])\n",
        "\n",
        "\n"
      ]
    }
  ],
  "metadata": {
    "colab": {
      "provenance": []
    },
    "kernelspec": {
      "display_name": "R",
      "language": "R",
      "name": "ir"
    },
    "language_info": {
      "codemirror_mode": "r",
      "file_extension": ".r",
      "mimetype": "text/x-r-source",
      "name": "R",
      "pygments_lexer": "r",
      "version": "4.5.1"
    }
  },
  "nbformat": 4,
  "nbformat_minor": 0
}
