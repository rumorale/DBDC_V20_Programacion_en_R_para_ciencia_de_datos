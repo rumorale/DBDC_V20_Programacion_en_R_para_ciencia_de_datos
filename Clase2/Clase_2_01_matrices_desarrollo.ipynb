{
  "cells": [
    {
      "cell_type": "markdown",
      "metadata": {
        "collapsed": true,
        "id": "qGvtNqVzSqoX"
      },
      "source": [
        "# Parte 1: Introducción a R (continuación)\n",
        "\n",
        "**Profesor:** Rodrigo Morales <br>\n",
        "**E-mail:** rumorale1@gmail.com\n",
        "\n",
        "\n",
        "\n",
        "### 3.2 Matrices\n",
        "\n",
        "En R, así como en otros lenguajes de programación, una matriz es básicamente un arreglo bi-dimensional, donde las entradas horizontales se entienden como filas y las verticales como columnas. Es posible imaginar una matriz como un arreglo de vectores como columnas (o filas) del mismo largo.\n",
        "\n",
        " * ¿Qué se guarda en una matriz?<br>\n",
        "    Sólo datos de un mismo tipo.\n",
        "     \n",
        " * ¿Cómo se declara una matriz?<br>\n",
        "    Se puede definir de varias maneras, indicando los elementos que la componen, o combinando vectores como filas o columnas.\n",
        "\n",
        " * ¿Cómo se accede a sus elementos?<br>\n",
        "    Indicando la posición del vector fila, seguido de la posición del vector columna (como es usual)."
      ]
    },
    {
      "cell_type": "code",
      "execution_count": null,
      "metadata": {
        "id": "TKVO3cuZSqoY",
        "trusted": true,
        "vscode": {
          "languageId": "r"
        }
      },
      "outputs": [],
      "source": [
        "# 3.2 Matrices ------------\n",
        "#?matrix de dos filas y 3 columnas, parametros ncol, nrow y byrow\n",
        "# recibe un vector de elementos\n",
        "A <- matrix( c(1,1,2,3,5,8), ncol = 3, nrow = 2)\n",
        "A\n",
        "\n",
        "B <- matrix(c(1,1,2,3,5,8), ncol = 3, nrow = 2, byrow = T)\n",
        "B"
      ]
    },
    {
      "cell_type": "code",
      "execution_count": 1,
      "metadata": {
        "vscode": {
          "languageId": "r"
        }
      },
      "outputs": [
        {
          "data": {
            "text/html": [
              "<table class=\"dataframe\">\n",
              "<caption>A matrix: 2 × 3 of type dbl</caption>\n",
              "<tbody>\n",
              "\t<tr><td>1</td><td>2</td><td>5</td></tr>\n",
              "\t<tr><td>1</td><td>3</td><td>8</td></tr>\n",
              "</tbody>\n",
              "</table>\n"
            ],
            "text/latex": [
              "A matrix: 2 × 3 of type dbl\n",
              "\\begin{tabular}{lll}\n",
              "\t 1 & 2 & 5\\\\\n",
              "\t 1 & 3 & 8\\\\\n",
              "\\end{tabular}\n"
            ],
            "text/markdown": [
              "\n",
              "A matrix: 2 × 3 of type dbl\n",
              "\n",
              "| 1 | 2 | 5 |\n",
              "| 1 | 3 | 8 |\n",
              "\n"
            ],
            "text/plain": [
              "     [,1] [,2] [,3]\n",
              "[1,] 1    2    5   \n",
              "[2,] 1    3    8   "
            ]
          },
          "metadata": {},
          "output_type": "display_data"
        }
      ],
      "source": [
        "matrix( c(1,1,2,3,5,8), ncol = 3, nrow = 2)"
      ]
    },
    {
      "cell_type": "code",
      "execution_count": 8,
      "metadata": {
        "vscode": {
          "languageId": "r"
        }
      },
      "outputs": [],
      "source": [
        "\n",
        "\n",
        "m1 <- matrix(1:100,nrow = 20, ncol = 5, byrow = T)\n",
        "\n",
        "m2 <- matrix(1:100,nrow = 20, ncol = 5, byrow = F)"
      ]
    },
    {
      "cell_type": "code",
      "execution_count": null,
      "metadata": {
        "id": "Gm3PDTciSqof",
        "trusted": true,
        "vscode": {
          "languageId": "r"
        }
      },
      "outputs": [
        {
          "data": {
            "text/html": [
              "<style>\n",
              ".list-inline {list-style: none; margin:0; padding: 0}\n",
              ".list-inline>li {display: inline-block}\n",
              ".list-inline>li:not(:last-child)::after {content: \"\\00b7\"; padding: 0 .5ex}\n",
              "</style>\n",
              "<ol class=list-inline><li>'matrix'</li><li>'array'</li></ol>\n"
            ],
            "text/latex": [
              "\\begin{enumerate*}\n",
              "\\item 'matrix'\n",
              "\\item 'array'\n",
              "\\end{enumerate*}\n"
            ],
            "text/markdown": [
              "1. 'matrix'\n",
              "2. 'array'\n",
              "\n",
              "\n"
            ],
            "text/plain": [
              "[1] \"matrix\" \"array\" "
            ]
          },
          "metadata": {},
          "output_type": "display_data"
        },
        {
          "data": {
            "text/html": [
              "<style>\n",
              ".list-inline {list-style: none; margin:0; padding: 0}\n",
              ".list-inline>li {display: inline-block}\n",
              ".list-inline>li:not(:last-child)::after {content: \"\\00b7\"; padding: 0 .5ex}\n",
              "</style>\n",
              "<ol class=list-inline><li>2</li><li>3</li></ol>\n"
            ],
            "text/latex": [
              "\\begin{enumerate*}\n",
              "\\item 2\n",
              "\\item 3\n",
              "\\end{enumerate*}\n"
            ],
            "text/markdown": [
              "1. 2\n",
              "2. 3\n",
              "\n",
              "\n"
            ],
            "text/plain": [
              "[1] 2 3"
            ]
          },
          "metadata": {},
          "output_type": "display_data"
        }
      ],
      "source": [
        "# clase y atributo dim"
      ]
    },
    {
      "cell_type": "code",
      "execution_count": null,
      "metadata": {
        "id": "2TXNSoedSqoh",
        "trusted": true,
        "vscode": {
          "languageId": "r"
        }
      },
      "outputs": [
        {
          "data": {
            "text/html": [
              "<style>\n",
              ".list-inline {list-style: none; margin:0; padding: 0}\n",
              ".list-inline>li {display: inline-block}\n",
              ".list-inline>li:not(:last-child)::after {content: \"\\00b7\"; padding: 0 .5ex}\n",
              "</style>\n",
              "<ol class=list-inline><li>1</li><li>2</li><li>3</li><li>4</li><li>5</li><li>6</li><li>7</li><li>8</li><li>9</li><li>10</li></ol>\n"
            ],
            "text/latex": [
              "\\begin{enumerate*}\n",
              "\\item 1\n",
              "\\item 2\n",
              "\\item 3\n",
              "\\item 4\n",
              "\\item 5\n",
              "\\item 6\n",
              "\\item 7\n",
              "\\item 8\n",
              "\\item 9\n",
              "\\item 10\n",
              "\\end{enumerate*}\n"
            ],
            "text/markdown": [
              "1. 1\n",
              "2. 2\n",
              "3. 3\n",
              "4. 4\n",
              "5. 5\n",
              "6. 6\n",
              "7. 7\n",
              "8. 8\n",
              "9. 9\n",
              "10. 10\n",
              "\n",
              "\n"
            ],
            "text/plain": [
              " [1]  1  2  3  4  5  6  7  8  9 10"
            ]
          },
          "metadata": {},
          "output_type": "display_data"
        },
        {
          "data": {
            "text/html": [
              "<style>\n",
              ".list-inline {list-style: none; margin:0; padding: 0}\n",
              ".list-inline>li {display: inline-block}\n",
              ".list-inline>li:not(:last-child)::after {content: \"\\00b7\"; padding: 0 .5ex}\n",
              "</style>\n",
              "<ol class=list-inline><li>15</li><li>16</li><li>17</li><li>18</li><li>19</li><li>20</li><li>21</li><li>22</li><li>23</li><li>24</li></ol>\n"
            ],
            "text/latex": [
              "\\begin{enumerate*}\n",
              "\\item 15\n",
              "\\item 16\n",
              "\\item 17\n",
              "\\item 18\n",
              "\\item 19\n",
              "\\item 20\n",
              "\\item 21\n",
              "\\item 22\n",
              "\\item 23\n",
              "\\item 24\n",
              "\\end{enumerate*}\n"
            ],
            "text/markdown": [
              "1. 15\n",
              "2. 16\n",
              "3. 17\n",
              "4. 18\n",
              "5. 19\n",
              "6. 20\n",
              "7. 21\n",
              "8. 22\n",
              "9. 23\n",
              "10. 24\n",
              "\n",
              "\n"
            ],
            "text/plain": [
              " [1] 15 16 17 18 19 20 21 22 23 24"
            ]
          },
          "metadata": {},
          "output_type": "display_data"
        },
        {
          "data": {
            "text/html": [
              "<table class=\"dataframe\">\n",
              "<caption>A matrix: 10 × 2 of type int</caption>\n",
              "<thead>\n",
              "\t<tr><th scope=col>v1</th><th scope=col>v2</th></tr>\n",
              "</thead>\n",
              "<tbody>\n",
              "\t<tr><td> 1</td><td>15</td></tr>\n",
              "\t<tr><td> 2</td><td>16</td></tr>\n",
              "\t<tr><td> 3</td><td>17</td></tr>\n",
              "\t<tr><td> 4</td><td>18</td></tr>\n",
              "\t<tr><td> 5</td><td>19</td></tr>\n",
              "\t<tr><td> 6</td><td>20</td></tr>\n",
              "\t<tr><td> 7</td><td>21</td></tr>\n",
              "\t<tr><td> 8</td><td>22</td></tr>\n",
              "\t<tr><td> 9</td><td>23</td></tr>\n",
              "\t<tr><td>10</td><td>24</td></tr>\n",
              "</tbody>\n",
              "</table>\n"
            ],
            "text/latex": [
              "A matrix: 10 × 2 of type int\n",
              "\\begin{tabular}{ll}\n",
              " v1 & v2\\\\\n",
              "\\hline\n",
              "\t  1 & 15\\\\\n",
              "\t  2 & 16\\\\\n",
              "\t  3 & 17\\\\\n",
              "\t  4 & 18\\\\\n",
              "\t  5 & 19\\\\\n",
              "\t  6 & 20\\\\\n",
              "\t  7 & 21\\\\\n",
              "\t  8 & 22\\\\\n",
              "\t  9 & 23\\\\\n",
              "\t 10 & 24\\\\\n",
              "\\end{tabular}\n"
            ],
            "text/markdown": [
              "\n",
              "A matrix: 10 × 2 of type int\n",
              "\n",
              "| v1 | v2 |\n",
              "|---|---|\n",
              "|  1 | 15 |\n",
              "|  2 | 16 |\n",
              "|  3 | 17 |\n",
              "|  4 | 18 |\n",
              "|  5 | 19 |\n",
              "|  6 | 20 |\n",
              "|  7 | 21 |\n",
              "|  8 | 22 |\n",
              "|  9 | 23 |\n",
              "| 10 | 24 |\n",
              "\n"
            ],
            "text/plain": [
              "      v1 v2\n",
              " [1,]  1 15\n",
              " [2,]  2 16\n",
              " [3,]  3 17\n",
              " [4,]  4 18\n",
              " [5,]  5 19\n",
              " [6,]  6 20\n",
              " [7,]  7 21\n",
              " [8,]  8 22\n",
              " [9,]  9 23\n",
              "[10,] 10 24"
            ]
          },
          "metadata": {},
          "output_type": "display_data"
        },
        {
          "data": {
            "text/html": [
              "<table class=\"dataframe\">\n",
              "<caption>A matrix: 2 × 10 of type int</caption>\n",
              "<tbody>\n",
              "\t<tr><th scope=row>v1</th><td> 1</td><td> 2</td><td> 3</td><td> 4</td><td> 5</td><td> 6</td><td> 7</td><td> 8</td><td> 9</td><td>10</td></tr>\n",
              "\t<tr><th scope=row>v2</th><td>15</td><td>16</td><td>17</td><td>18</td><td>19</td><td>20</td><td>21</td><td>22</td><td>23</td><td>24</td></tr>\n",
              "</tbody>\n",
              "</table>\n"
            ],
            "text/latex": [
              "A matrix: 2 × 10 of type int\n",
              "\\begin{tabular}{r|llllllllll}\n",
              "\tv1 &  1 &  2 &  3 &  4 &  5 &  6 &  7 &  8 &  9 & 10\\\\\n",
              "\tv2 & 15 & 16 & 17 & 18 & 19 & 20 & 21 & 22 & 23 & 24\\\\\n",
              "\\end{tabular}\n"
            ],
            "text/markdown": [
              "\n",
              "A matrix: 2 × 10 of type int\n",
              "\n",
              "| v1 |  1 |  2 |  3 |  4 |  5 |  6 |  7 |  8 |  9 | 10 |\n",
              "| v2 | 15 | 16 | 17 | 18 | 19 | 20 | 21 | 22 | 23 | 24 |\n",
              "\n"
            ],
            "text/plain": [
              "   [,1] [,2] [,3] [,4] [,5] [,6] [,7] [,8] [,9] [,10]\n",
              "v1  1    2    3    4    5    6    7    8    9   10   \n",
              "v2 15   16   17   18   19   20   21   22   23   24   "
            ]
          },
          "metadata": {},
          "output_type": "display_data"
        }
      ],
      "source": [
        "# Genere dos vectores del mismo largo y forme una matriz.\n",
        "\n",
        "v1 <- 1:10\n",
        "v2 <- 15:24\n",
        "\n",
        "\n",
        "cbind(v1, v2)\n",
        "\n",
        "rbind(v1, v2)\n"
      ]
    },
    {
      "cell_type": "markdown",
      "metadata": {},
      "source": [
        "Funciones cbind() y rbind() "
      ]
    },
    {
      "cell_type": "code",
      "execution_count": null,
      "metadata": {
        "id": "gDzbcsNVSqom",
        "trusted": true,
        "vscode": {
          "languageId": "r"
        }
      },
      "outputs": [
        {
          "data": {
            "text/html": [
              "<table class=\"dataframe\">\n",
              "<caption>A matrix: 20 × 6 of type int</caption>\n",
              "<thead>\n",
              "\t<tr><th scope=col>a</th><th scope=col>b</th><th scope=col>c</th><th scope=col>d</th><th scope=col>e</th><th scope=col>v1</th></tr>\n",
              "</thead>\n",
              "<tbody>\n",
              "\t<tr><td> 1</td><td> 2</td><td> 3</td><td> 4</td><td>  5</td><td>100</td></tr>\n",
              "\t<tr><td> 6</td><td> 7</td><td> 8</td><td> 9</td><td> 10</td><td>101</td></tr>\n",
              "\t<tr><td>11</td><td>12</td><td>13</td><td>14</td><td> 15</td><td>102</td></tr>\n",
              "\t<tr><td>16</td><td>17</td><td>18</td><td>19</td><td> 20</td><td>103</td></tr>\n",
              "\t<tr><td>21</td><td>22</td><td>23</td><td>24</td><td> 25</td><td>104</td></tr>\n",
              "\t<tr><td>26</td><td>27</td><td>28</td><td>29</td><td> 30</td><td>105</td></tr>\n",
              "\t<tr><td>31</td><td>32</td><td>33</td><td>34</td><td> 35</td><td>106</td></tr>\n",
              "\t<tr><td>36</td><td>37</td><td>38</td><td>39</td><td> 40</td><td>107</td></tr>\n",
              "\t<tr><td>41</td><td>42</td><td>43</td><td>44</td><td> 45</td><td>108</td></tr>\n",
              "\t<tr><td>46</td><td>47</td><td>48</td><td>49</td><td> 50</td><td>109</td></tr>\n",
              "\t<tr><td>51</td><td>52</td><td>53</td><td>54</td><td> 55</td><td>110</td></tr>\n",
              "\t<tr><td>56</td><td>57</td><td>58</td><td>59</td><td> 60</td><td>111</td></tr>\n",
              "\t<tr><td>61</td><td>62</td><td>63</td><td>64</td><td> 65</td><td>112</td></tr>\n",
              "\t<tr><td>66</td><td>67</td><td>68</td><td>69</td><td> 70</td><td>113</td></tr>\n",
              "\t<tr><td>71</td><td>72</td><td>73</td><td>74</td><td> 75</td><td>114</td></tr>\n",
              "\t<tr><td>76</td><td>77</td><td>78</td><td>79</td><td> 80</td><td>115</td></tr>\n",
              "\t<tr><td>81</td><td>82</td><td>83</td><td>84</td><td> 85</td><td>116</td></tr>\n",
              "\t<tr><td>86</td><td>87</td><td>88</td><td>89</td><td> 90</td><td>117</td></tr>\n",
              "\t<tr><td>91</td><td>92</td><td>93</td><td>94</td><td> 95</td><td>118</td></tr>\n",
              "\t<tr><td>96</td><td>97</td><td>98</td><td>99</td><td>100</td><td>119</td></tr>\n",
              "</tbody>\n",
              "</table>\n"
            ],
            "text/latex": [
              "A matrix: 20 × 6 of type int\n",
              "\\begin{tabular}{llllll}\n",
              " a & b & c & d & e & v1\\\\\n",
              "\\hline\n",
              "\t  1 &  2 &  3 &  4 &   5 & 100\\\\\n",
              "\t  6 &  7 &  8 &  9 &  10 & 101\\\\\n",
              "\t 11 & 12 & 13 & 14 &  15 & 102\\\\\n",
              "\t 16 & 17 & 18 & 19 &  20 & 103\\\\\n",
              "\t 21 & 22 & 23 & 24 &  25 & 104\\\\\n",
              "\t 26 & 27 & 28 & 29 &  30 & 105\\\\\n",
              "\t 31 & 32 & 33 & 34 &  35 & 106\\\\\n",
              "\t 36 & 37 & 38 & 39 &  40 & 107\\\\\n",
              "\t 41 & 42 & 43 & 44 &  45 & 108\\\\\n",
              "\t 46 & 47 & 48 & 49 &  50 & 109\\\\\n",
              "\t 51 & 52 & 53 & 54 &  55 & 110\\\\\n",
              "\t 56 & 57 & 58 & 59 &  60 & 111\\\\\n",
              "\t 61 & 62 & 63 & 64 &  65 & 112\\\\\n",
              "\t 66 & 67 & 68 & 69 &  70 & 113\\\\\n",
              "\t 71 & 72 & 73 & 74 &  75 & 114\\\\\n",
              "\t 76 & 77 & 78 & 79 &  80 & 115\\\\\n",
              "\t 81 & 82 & 83 & 84 &  85 & 116\\\\\n",
              "\t 86 & 87 & 88 & 89 &  90 & 117\\\\\n",
              "\t 91 & 92 & 93 & 94 &  95 & 118\\\\\n",
              "\t 96 & 97 & 98 & 99 & 100 & 119\\\\\n",
              "\\end{tabular}\n"
            ],
            "text/markdown": [
              "\n",
              "A matrix: 20 × 6 of type int\n",
              "\n",
              "| a | b | c | d | e | v1 |\n",
              "|---|---|---|---|---|---|\n",
              "|  1 |  2 |  3 |  4 |   5 | 100 |\n",
              "|  6 |  7 |  8 |  9 |  10 | 101 |\n",
              "| 11 | 12 | 13 | 14 |  15 | 102 |\n",
              "| 16 | 17 | 18 | 19 |  20 | 103 |\n",
              "| 21 | 22 | 23 | 24 |  25 | 104 |\n",
              "| 26 | 27 | 28 | 29 |  30 | 105 |\n",
              "| 31 | 32 | 33 | 34 |  35 | 106 |\n",
              "| 36 | 37 | 38 | 39 |  40 | 107 |\n",
              "| 41 | 42 | 43 | 44 |  45 | 108 |\n",
              "| 46 | 47 | 48 | 49 |  50 | 109 |\n",
              "| 51 | 52 | 53 | 54 |  55 | 110 |\n",
              "| 56 | 57 | 58 | 59 |  60 | 111 |\n",
              "| 61 | 62 | 63 | 64 |  65 | 112 |\n",
              "| 66 | 67 | 68 | 69 |  70 | 113 |\n",
              "| 71 | 72 | 73 | 74 |  75 | 114 |\n",
              "| 76 | 77 | 78 | 79 |  80 | 115 |\n",
              "| 81 | 82 | 83 | 84 |  85 | 116 |\n",
              "| 86 | 87 | 88 | 89 |  90 | 117 |\n",
              "| 91 | 92 | 93 | 94 |  95 | 118 |\n",
              "| 96 | 97 | 98 | 99 | 100 | 119 |\n",
              "\n"
            ],
            "text/plain": [
              "      a  b  c  d  e   v1 \n",
              " [1,]  1  2  3  4   5 100\n",
              " [2,]  6  7  8  9  10 101\n",
              " [3,] 11 12 13 14  15 102\n",
              " [4,] 16 17 18 19  20 103\n",
              " [5,] 21 22 23 24  25 104\n",
              " [6,] 26 27 28 29  30 105\n",
              " [7,] 31 32 33 34  35 106\n",
              " [8,] 36 37 38 39  40 107\n",
              " [9,] 41 42 43 44  45 108\n",
              "[10,] 46 47 48 49  50 109\n",
              "[11,] 51 52 53 54  55 110\n",
              "[12,] 56 57 58 59  60 111\n",
              "[13,] 61 62 63 64  65 112\n",
              "[14,] 66 67 68 69  70 113\n",
              "[15,] 71 72 73 74  75 114\n",
              "[16,] 76 77 78 79  80 115\n",
              "[17,] 81 82 83 84  85 116\n",
              "[18,] 86 87 88 89  90 117\n",
              "[19,] 91 92 93 94  95 118\n",
              "[20,] 96 97 98 99 100 119"
            ]
          },
          "metadata": {},
          "output_type": "display_data"
        },
        {
          "data": {
            "text/html": [
              "<table class=\"dataframe\">\n",
              "<caption>A matrix: 20 × 5 of type int</caption>\n",
              "<thead>\n",
              "\t<tr><th></th><th scope=col>a</th><th scope=col>b</th><th scope=col>c</th><th scope=col>d</th><th scope=col>e</th></tr>\n",
              "</thead>\n",
              "<tbody>\n",
              "\t<tr><th scope=row>A</th><td> 1</td><td> 2</td><td> 3</td><td> 4</td><td>  5</td></tr>\n",
              "\t<tr><th scope=row>B</th><td> 6</td><td> 7</td><td> 8</td><td> 9</td><td> 10</td></tr>\n",
              "\t<tr><th scope=row>C</th><td>11</td><td>12</td><td>13</td><td>14</td><td> 15</td></tr>\n",
              "\t<tr><th scope=row>D</th><td>16</td><td>17</td><td>18</td><td>19</td><td> 20</td></tr>\n",
              "\t<tr><th scope=row>E</th><td>21</td><td>22</td><td>23</td><td>24</td><td> 25</td></tr>\n",
              "\t<tr><th scope=row>F</th><td>26</td><td>27</td><td>28</td><td>29</td><td> 30</td></tr>\n",
              "\t<tr><th scope=row>G</th><td>31</td><td>32</td><td>33</td><td>34</td><td> 35</td></tr>\n",
              "\t<tr><th scope=row>H</th><td>36</td><td>37</td><td>38</td><td>39</td><td> 40</td></tr>\n",
              "\t<tr><th scope=row>I</th><td>41</td><td>42</td><td>43</td><td>44</td><td> 45</td></tr>\n",
              "\t<tr><th scope=row>J</th><td>46</td><td>47</td><td>48</td><td>49</td><td> 50</td></tr>\n",
              "\t<tr><th scope=row>K</th><td>51</td><td>52</td><td>53</td><td>54</td><td> 55</td></tr>\n",
              "\t<tr><th scope=row>L</th><td>56</td><td>57</td><td>58</td><td>59</td><td> 60</td></tr>\n",
              "\t<tr><th scope=row>M</th><td>61</td><td>62</td><td>63</td><td>64</td><td> 65</td></tr>\n",
              "\t<tr><th scope=row>N</th><td>66</td><td>67</td><td>68</td><td>69</td><td> 70</td></tr>\n",
              "\t<tr><th scope=row>O</th><td>71</td><td>72</td><td>73</td><td>74</td><td> 75</td></tr>\n",
              "\t<tr><th scope=row>P</th><td>76</td><td>77</td><td>78</td><td>79</td><td> 80</td></tr>\n",
              "\t<tr><th scope=row>Q</th><td>81</td><td>82</td><td>83</td><td>84</td><td> 85</td></tr>\n",
              "\t<tr><th scope=row>R</th><td>86</td><td>87</td><td>88</td><td>89</td><td> 90</td></tr>\n",
              "\t<tr><th scope=row>S</th><td>91</td><td>92</td><td>93</td><td>94</td><td> 95</td></tr>\n",
              "\t<tr><th scope=row>T</th><td>96</td><td>97</td><td>98</td><td>99</td><td>100</td></tr>\n",
              "</tbody>\n",
              "</table>\n"
            ],
            "text/latex": [
              "A matrix: 20 × 5 of type int\n",
              "\\begin{tabular}{r|lllll}\n",
              "  & a & b & c & d & e\\\\\n",
              "\\hline\n",
              "\tA &  1 &  2 &  3 &  4 &   5\\\\\n",
              "\tB &  6 &  7 &  8 &  9 &  10\\\\\n",
              "\tC & 11 & 12 & 13 & 14 &  15\\\\\n",
              "\tD & 16 & 17 & 18 & 19 &  20\\\\\n",
              "\tE & 21 & 22 & 23 & 24 &  25\\\\\n",
              "\tF & 26 & 27 & 28 & 29 &  30\\\\\n",
              "\tG & 31 & 32 & 33 & 34 &  35\\\\\n",
              "\tH & 36 & 37 & 38 & 39 &  40\\\\\n",
              "\tI & 41 & 42 & 43 & 44 &  45\\\\\n",
              "\tJ & 46 & 47 & 48 & 49 &  50\\\\\n",
              "\tK & 51 & 52 & 53 & 54 &  55\\\\\n",
              "\tL & 56 & 57 & 58 & 59 &  60\\\\\n",
              "\tM & 61 & 62 & 63 & 64 &  65\\\\\n",
              "\tN & 66 & 67 & 68 & 69 &  70\\\\\n",
              "\tO & 71 & 72 & 73 & 74 &  75\\\\\n",
              "\tP & 76 & 77 & 78 & 79 &  80\\\\\n",
              "\tQ & 81 & 82 & 83 & 84 &  85\\\\\n",
              "\tR & 86 & 87 & 88 & 89 &  90\\\\\n",
              "\tS & 91 & 92 & 93 & 94 &  95\\\\\n",
              "\tT & 96 & 97 & 98 & 99 & 100\\\\\n",
              "\\end{tabular}\n"
            ],
            "text/markdown": [
              "\n",
              "A matrix: 20 × 5 of type int\n",
              "\n",
              "| <!--/--> | a | b | c | d | e |\n",
              "|---|---|---|---|---|---|\n",
              "| A |  1 |  2 |  3 |  4 |   5 |\n",
              "| B |  6 |  7 |  8 |  9 |  10 |\n",
              "| C | 11 | 12 | 13 | 14 |  15 |\n",
              "| D | 16 | 17 | 18 | 19 |  20 |\n",
              "| E | 21 | 22 | 23 | 24 |  25 |\n",
              "| F | 26 | 27 | 28 | 29 |  30 |\n",
              "| G | 31 | 32 | 33 | 34 |  35 |\n",
              "| H | 36 | 37 | 38 | 39 |  40 |\n",
              "| I | 41 | 42 | 43 | 44 |  45 |\n",
              "| J | 46 | 47 | 48 | 49 |  50 |\n",
              "| K | 51 | 52 | 53 | 54 |  55 |\n",
              "| L | 56 | 57 | 58 | 59 |  60 |\n",
              "| M | 61 | 62 | 63 | 64 |  65 |\n",
              "| N | 66 | 67 | 68 | 69 |  70 |\n",
              "| O | 71 | 72 | 73 | 74 |  75 |\n",
              "| P | 76 | 77 | 78 | 79 |  80 |\n",
              "| Q | 81 | 82 | 83 | 84 |  85 |\n",
              "| R | 86 | 87 | 88 | 89 |  90 |\n",
              "| S | 91 | 92 | 93 | 94 |  95 |\n",
              "| T | 96 | 97 | 98 | 99 | 100 |\n",
              "\n"
            ],
            "text/plain": [
              "  a  b  c  d  e  \n",
              "A  1  2  3  4   5\n",
              "B  6  7  8  9  10\n",
              "C 11 12 13 14  15\n",
              "D 16 17 18 19  20\n",
              "E 21 22 23 24  25\n",
              "F 26 27 28 29  30\n",
              "G 31 32 33 34  35\n",
              "H 36 37 38 39  40\n",
              "I 41 42 43 44  45\n",
              "J 46 47 48 49  50\n",
              "K 51 52 53 54  55\n",
              "L 56 57 58 59  60\n",
              "M 61 62 63 64  65\n",
              "N 66 67 68 69  70\n",
              "O 71 72 73 74  75\n",
              "P 76 77 78 79  80\n",
              "Q 81 82 83 84  85\n",
              "R 86 87 88 89  90\n",
              "S 91 92 93 94  95\n",
              "T 96 97 98 99 100"
            ]
          },
          "metadata": {},
          "output_type": "display_data"
        }
      ],
      "source": [
        "# NOTA: Podemos añadir una fila/columna a una matriz existente\n",
        "\n",
        "v1 <- 100:119\n",
        "\n",
        "cbind(m1, v1)\n",
        "\n",
        "colnames(m1) <- letters[1:5]\n",
        "\n",
        "rownames(m1) <- LETTERS[1:20]\n",
        "\n",
        "m1"
      ]
    },
    {
      "cell_type": "markdown",
      "metadata": {},
      "source": [
        "Matrices diagonales"
      ]
    },
    {
      "cell_type": "code",
      "execution_count": 40,
      "metadata": {
        "id": "QLOH0514Sqoo",
        "trusted": true,
        "vscode": {
          "languageId": "r"
        }
      },
      "outputs": [
        {
          "data": {
            "text/html": [
              "<table class=\"dataframe\">\n",
              "<caption>A matrix: 3 × 3 of type dbl</caption>\n",
              "<tbody>\n",
              "\t<tr><td>1</td><td>0</td><td>0</td></tr>\n",
              "\t<tr><td>0</td><td>2</td><td>0</td></tr>\n",
              "\t<tr><td>0</td><td>0</td><td>3</td></tr>\n",
              "</tbody>\n",
              "</table>\n"
            ],
            "text/latex": [
              "A matrix: 3 × 3 of type dbl\n",
              "\\begin{tabular}{lll}\n",
              "\t 1 & 0 & 0\\\\\n",
              "\t 0 & 2 & 0\\\\\n",
              "\t 0 & 0 & 3\\\\\n",
              "\\end{tabular}\n"
            ],
            "text/markdown": [
              "\n",
              "A matrix: 3 × 3 of type dbl\n",
              "\n",
              "| 1 | 0 | 0 |\n",
              "| 0 | 2 | 0 |\n",
              "| 0 | 0 | 3 |\n",
              "\n"
            ],
            "text/plain": [
              "     [,1] [,2] [,3]\n",
              "[1,] 1    0    0   \n",
              "[2,] 0    2    0   \n",
              "[3,] 0    0    3   "
            ]
          },
          "metadata": {},
          "output_type": "display_data"
        }
      ],
      "source": [
        "#?diag\n",
        "\n",
        "diag(c(1,2,3))\n"
      ]
    },
    {
      "cell_type": "markdown",
      "metadata": {},
      "source": [
        "Acceso a elementos de una matriz"
      ]
    },
    {
      "cell_type": "code",
      "execution_count": 43,
      "metadata": {
        "id": "xIfUV82ASqot",
        "trusted": true,
        "vscode": {
          "languageId": "r"
        }
      },
      "outputs": [
        {
          "data": {
            "text/html": [
              "50"
            ],
            "text/latex": [
              "50"
            ],
            "text/markdown": [
              "50"
            ],
            "text/plain": [
              "[1] 50"
            ]
          },
          "metadata": {},
          "output_type": "display_data"
        }
      ],
      "source": [
        "\n",
        "# acceder a la posicion 10, 5\n",
        "#posicion\n",
        "m1[ 10 , 5 ] \n"
      ]
    },
    {
      "cell_type": "code",
      "execution_count": 44,
      "metadata": {
        "vscode": {
          "languageId": "r"
        }
      },
      "outputs": [
        {
          "data": {
            "text/html": [
              "<table class=\"dataframe\">\n",
              "<caption>A matrix: 20 × 0 of type int</caption>\n",
              "<tbody>\n",
              "\t<tr><th scope=row>A</th></tr>\n",
              "\t<tr><th scope=row>B</th></tr>\n",
              "\t<tr><th scope=row>C</th></tr>\n",
              "\t<tr><th scope=row>D</th></tr>\n",
              "\t<tr><th scope=row>E</th></tr>\n",
              "\t<tr><th scope=row>F</th></tr>\n",
              "\t<tr><th scope=row>G</th></tr>\n",
              "\t<tr><th scope=row>H</th></tr>\n",
              "\t<tr><th scope=row>I</th></tr>\n",
              "\t<tr><th scope=row>J</th></tr>\n",
              "\t<tr><th scope=row>K</th></tr>\n",
              "\t<tr><th scope=row>L</th></tr>\n",
              "\t<tr><th scope=row>M</th></tr>\n",
              "\t<tr><th scope=row>N</th></tr>\n",
              "\t<tr><th scope=row>O</th></tr>\n",
              "\t<tr><th scope=row>P</th></tr>\n",
              "\t<tr><th scope=row>Q</th></tr>\n",
              "\t<tr><th scope=row>R</th></tr>\n",
              "\t<tr><th scope=row>S</th></tr>\n",
              "\t<tr><th scope=row>T</th></tr>\n",
              "</tbody>\n",
              "</table>\n"
            ],
            "text/latex": [
              "A matrix: 20 × 0 of type int\n",
              "\\begin{tabular}{r|}\n",
              "\tA\\\\\n",
              "\tB\\\\\n",
              "\tC\\\\\n",
              "\tD\\\\\n",
              "\tE\\\\\n",
              "\tF\\\\\n",
              "\tG\\\\\n",
              "\tH\\\\\n",
              "\tI\\\\\n",
              "\tJ\\\\\n",
              "\tK\\\\\n",
              "\tL\\\\\n",
              "\tM\\\\\n",
              "\tN\\\\\n",
              "\tO\\\\\n",
              "\tP\\\\\n",
              "\tQ\\\\\n",
              "\tR\\\\\n",
              "\tS\\\\\n",
              "\tT\\\\\n",
              "\\end{tabular}\n"
            ],
            "text/markdown": [
              "\n",
              "A matrix: 20 × 0 of type int\n",
              "\n",
              "| A |\n",
              "| B |\n",
              "| C |\n",
              "| D |\n",
              "| E |\n",
              "| F |\n",
              "| G |\n",
              "| H |\n",
              "| I |\n",
              "| J |\n",
              "| K |\n",
              "| L |\n",
              "| M |\n",
              "| N |\n",
              "| O |\n",
              "| P |\n",
              "| Q |\n",
              "| R |\n",
              "| S |\n",
              "| T |\n",
              "\n"
            ],
            "text/plain": [
              " \n",
              "A\n",
              "B\n",
              "C\n",
              "D\n",
              "E\n",
              "F\n",
              "G\n",
              "H\n",
              "I\n",
              "J\n",
              "K\n",
              "L\n",
              "M\n",
              "N\n",
              "O\n",
              "P\n",
              "Q\n",
              "R\n",
              "S\n",
              "T"
            ]
          },
          "metadata": {},
          "output_type": "display_data"
        }
      ],
      "source": [
        "\n",
        "\n",
        "# por condicion lógica\n",
        "\n",
        "m1[ , m1[1,] >= 10 ]\n",
        "\n",
        "\n",
        "\n"
      ]
    },
    {
      "cell_type": "markdown",
      "metadata": {},
      "source": [
        "Acceso a Filas y columnas"
      ]
    },
    {
      "cell_type": "code",
      "execution_count": 47,
      "metadata": {
        "id": "rkq7J4nLSqow",
        "trusted": true,
        "vscode": {
          "languageId": "r"
        }
      },
      "outputs": [
        {
          "data": {
            "text/html": [
              "100"
            ],
            "text/latex": [
              "100"
            ],
            "text/markdown": [
              "100"
            ],
            "text/plain": [
              "[1] 100"
            ]
          },
          "metadata": {},
          "output_type": "display_data"
        },
        {
          "data": {
            "text/html": [
              "<table class=\"dataframe\">\n",
              "<caption>A matrix: 20 × 5 of type dbl</caption>\n",
              "<thead>\n",
              "\t<tr><th></th><th scope=col>a</th><th scope=col>b</th><th scope=col>c</th><th scope=col>d</th><th scope=col>e</th></tr>\n",
              "</thead>\n",
              "<tbody>\n",
              "\t<tr><th scope=row>A</th><td> 1</td><td> 2</td><td> 3</td><td> 4</td><td>  5</td></tr>\n",
              "\t<tr><th scope=row>B</th><td> 6</td><td> 7</td><td> 8</td><td> 9</td><td> 10</td></tr>\n",
              "\t<tr><th scope=row>C</th><td>11</td><td>12</td><td>13</td><td>14</td><td> 15</td></tr>\n",
              "\t<tr><th scope=row>D</th><td>16</td><td>17</td><td>18</td><td>19</td><td> 20</td></tr>\n",
              "\t<tr><th scope=row>E</th><td>21</td><td>22</td><td>23</td><td>24</td><td> 25</td></tr>\n",
              "\t<tr><th scope=row>F</th><td>26</td><td>27</td><td>28</td><td>29</td><td> 30</td></tr>\n",
              "\t<tr><th scope=row>G</th><td>31</td><td>32</td><td>33</td><td>34</td><td> 35</td></tr>\n",
              "\t<tr><th scope=row>H</th><td>36</td><td>37</td><td>38</td><td>39</td><td> 40</td></tr>\n",
              "\t<tr><th scope=row>I</th><td>41</td><td>42</td><td>43</td><td>44</td><td> 45</td></tr>\n",
              "\t<tr><th scope=row>J</th><td>46</td><td>47</td><td>48</td><td>49</td><td>100</td></tr>\n",
              "\t<tr><th scope=row>K</th><td>51</td><td>52</td><td>53</td><td>54</td><td> 55</td></tr>\n",
              "\t<tr><th scope=row>L</th><td>56</td><td>57</td><td>58</td><td>59</td><td> 60</td></tr>\n",
              "\t<tr><th scope=row>M</th><td>61</td><td>62</td><td>63</td><td>64</td><td> 65</td></tr>\n",
              "\t<tr><th scope=row>N</th><td>66</td><td>67</td><td>68</td><td>69</td><td> 70</td></tr>\n",
              "\t<tr><th scope=row>O</th><td>71</td><td>72</td><td>73</td><td>74</td><td> 75</td></tr>\n",
              "\t<tr><th scope=row>P</th><td>76</td><td>77</td><td>78</td><td>79</td><td> 80</td></tr>\n",
              "\t<tr><th scope=row>Q</th><td>81</td><td>82</td><td>83</td><td>84</td><td> 85</td></tr>\n",
              "\t<tr><th scope=row>R</th><td>86</td><td>87</td><td>88</td><td>89</td><td> 90</td></tr>\n",
              "\t<tr><th scope=row>S</th><td>91</td><td>92</td><td>93</td><td>94</td><td> 95</td></tr>\n",
              "\t<tr><th scope=row>T</th><td>96</td><td>97</td><td>98</td><td>99</td><td>100</td></tr>\n",
              "</tbody>\n",
              "</table>\n"
            ],
            "text/latex": [
              "A matrix: 20 × 5 of type dbl\n",
              "\\begin{tabular}{r|lllll}\n",
              "  & a & b & c & d & e\\\\\n",
              "\\hline\n",
              "\tA &  1 &  2 &  3 &  4 &   5\\\\\n",
              "\tB &  6 &  7 &  8 &  9 &  10\\\\\n",
              "\tC & 11 & 12 & 13 & 14 &  15\\\\\n",
              "\tD & 16 & 17 & 18 & 19 &  20\\\\\n",
              "\tE & 21 & 22 & 23 & 24 &  25\\\\\n",
              "\tF & 26 & 27 & 28 & 29 &  30\\\\\n",
              "\tG & 31 & 32 & 33 & 34 &  35\\\\\n",
              "\tH & 36 & 37 & 38 & 39 &  40\\\\\n",
              "\tI & 41 & 42 & 43 & 44 &  45\\\\\n",
              "\tJ & 46 & 47 & 48 & 49 & 100\\\\\n",
              "\tK & 51 & 52 & 53 & 54 &  55\\\\\n",
              "\tL & 56 & 57 & 58 & 59 &  60\\\\\n",
              "\tM & 61 & 62 & 63 & 64 &  65\\\\\n",
              "\tN & 66 & 67 & 68 & 69 &  70\\\\\n",
              "\tO & 71 & 72 & 73 & 74 &  75\\\\\n",
              "\tP & 76 & 77 & 78 & 79 &  80\\\\\n",
              "\tQ & 81 & 82 & 83 & 84 &  85\\\\\n",
              "\tR & 86 & 87 & 88 & 89 &  90\\\\\n",
              "\tS & 91 & 92 & 93 & 94 &  95\\\\\n",
              "\tT & 96 & 97 & 98 & 99 & 100\\\\\n",
              "\\end{tabular}\n"
            ],
            "text/markdown": [
              "\n",
              "A matrix: 20 × 5 of type dbl\n",
              "\n",
              "| <!--/--> | a | b | c | d | e |\n",
              "|---|---|---|---|---|---|\n",
              "| A |  1 |  2 |  3 |  4 |   5 |\n",
              "| B |  6 |  7 |  8 |  9 |  10 |\n",
              "| C | 11 | 12 | 13 | 14 |  15 |\n",
              "| D | 16 | 17 | 18 | 19 |  20 |\n",
              "| E | 21 | 22 | 23 | 24 |  25 |\n",
              "| F | 26 | 27 | 28 | 29 |  30 |\n",
              "| G | 31 | 32 | 33 | 34 |  35 |\n",
              "| H | 36 | 37 | 38 | 39 |  40 |\n",
              "| I | 41 | 42 | 43 | 44 |  45 |\n",
              "| J | 46 | 47 | 48 | 49 | 100 |\n",
              "| K | 51 | 52 | 53 | 54 |  55 |\n",
              "| L | 56 | 57 | 58 | 59 |  60 |\n",
              "| M | 61 | 62 | 63 | 64 |  65 |\n",
              "| N | 66 | 67 | 68 | 69 |  70 |\n",
              "| O | 71 | 72 | 73 | 74 |  75 |\n",
              "| P | 76 | 77 | 78 | 79 |  80 |\n",
              "| Q | 81 | 82 | 83 | 84 |  85 |\n",
              "| R | 86 | 87 | 88 | 89 |  90 |\n",
              "| S | 91 | 92 | 93 | 94 |  95 |\n",
              "| T | 96 | 97 | 98 | 99 | 100 |\n",
              "\n"
            ],
            "text/plain": [
              "  a  b  c  d  e  \n",
              "A  1  2  3  4   5\n",
              "B  6  7  8  9  10\n",
              "C 11 12 13 14  15\n",
              "D 16 17 18 19  20\n",
              "E 21 22 23 24  25\n",
              "F 26 27 28 29  30\n",
              "G 31 32 33 34  35\n",
              "H 36 37 38 39  40\n",
              "I 41 42 43 44  45\n",
              "J 46 47 48 49 100\n",
              "K 51 52 53 54  55\n",
              "L 56 57 58 59  60\n",
              "M 61 62 63 64  65\n",
              "N 66 67 68 69  70\n",
              "O 71 72 73 74  75\n",
              "P 76 77 78 79  80\n",
              "Q 81 82 83 84  85\n",
              "R 86 87 88 89  90\n",
              "S 91 92 93 94  95\n",
              "T 96 97 98 99 100"
            ]
          },
          "metadata": {},
          "output_type": "display_data"
        }
      ],
      "source": [
        "#Recordemos que podemos actualizar elementos de un vector como:\n",
        "\n",
        "m1[ 10 , 5 ] \n",
        "\n",
        "m1[ 10 , 5 ] = 100\n",
        "\n",
        "m1"
      ]
    },
    {
      "cell_type": "markdown",
      "metadata": {},
      "source": [
        "Acceso mediante nombres"
      ]
    },
    {
      "cell_type": "code",
      "execution_count": null,
      "metadata": {
        "id": "KstW38ylSkSV",
        "vscode": {
          "languageId": "r"
        }
      },
      "outputs": [],
      "source": [
        "# Acceso mediante nombres\n",
        "\n",
        "m1[ \"J\", \"e\"]\n",
        "\n",
        "m1[ c(\"A\", \"B\", \"D\"), \"e\"]"
      ]
    },
    {
      "cell_type": "markdown",
      "metadata": {},
      "source": [
        "Acceso mediante \"indicatrices\" lógicas"
      ]
    },
    {
      "cell_type": "code",
      "execution_count": null,
      "metadata": {
        "id": "qt9bcwQgSqo0",
        "trusted": true,
        "vscode": {
          "languageId": "r"
        }
      },
      "outputs": [],
      "source": [
        "#Quiero obtener los elementos (1,1) y (2,3) de M3\n",
        "# 1: Crear una matriz de 3x4 con TRUE en dichas posiciones y FALSE en las restantes.\n"
      ]
    },
    {
      "cell_type": "code",
      "execution_count": null,
      "metadata": {
        "id": "m4DDikCTSqo2",
        "trusted": true,
        "vscode": {
          "languageId": "r"
        }
      },
      "outputs": [],
      "source": [
        "# Podemos evaluar las casillas de una matriz mediante sentencias lógicas\n"
      ]
    },
    {
      "cell_type": "markdown",
      "metadata": {
        "id": "DtKi8VpVSqo8"
      },
      "source": [
        "### **Álgebra de matrices**\n",
        "\n",
        "Las operaciones suma (resta) y ponderación por escalar se llevan cabo mediante los mismos operadores utilizados para valores numéricos y vectores (+,-,*, /). Para multiplicar matrices en cambio, se utiliza el operador %\\*%, mientras que para invertirlas se utiliza la función solve(), t() para transponer y det() para el cálculo del determinante en el caso de matrices cuadradas."
      ]
    },
    {
      "cell_type": "code",
      "execution_count": null,
      "metadata": {
        "id": "tSphDch3Sqo-",
        "trusted": true,
        "vscode": {
          "languageId": "r"
        }
      },
      "outputs": [
        {
          "data": {
            "text/html": [
              "<table class=\"dataframe\">\n",
              "<caption>A matrix: 20 × 5 of type int</caption>\n",
              "<thead>\n",
              "\t<tr><th></th><th scope=col>a</th><th scope=col>b</th><th scope=col>c</th><th scope=col>d</th><th scope=col>e</th></tr>\n",
              "</thead>\n",
              "<tbody>\n",
              "\t<tr><th scope=row>A</th><td>  2</td><td> 23</td><td> 44</td><td> 65</td><td> 86</td></tr>\n",
              "\t<tr><th scope=row>B</th><td>  8</td><td> 29</td><td> 50</td><td> 71</td><td> 92</td></tr>\n",
              "\t<tr><th scope=row>C</th><td> 14</td><td> 35</td><td> 56</td><td> 77</td><td> 98</td></tr>\n",
              "\t<tr><th scope=row>D</th><td> 20</td><td> 41</td><td> 62</td><td> 83</td><td>104</td></tr>\n",
              "\t<tr><th scope=row>E</th><td> 26</td><td> 47</td><td> 68</td><td> 89</td><td>110</td></tr>\n",
              "\t<tr><th scope=row>F</th><td> 32</td><td> 53</td><td> 74</td><td> 95</td><td>116</td></tr>\n",
              "\t<tr><th scope=row>G</th><td> 38</td><td> 59</td><td> 80</td><td>101</td><td>122</td></tr>\n",
              "\t<tr><th scope=row>H</th><td> 44</td><td> 65</td><td> 86</td><td>107</td><td>128</td></tr>\n",
              "\t<tr><th scope=row>I</th><td> 50</td><td> 71</td><td> 92</td><td>113</td><td>134</td></tr>\n",
              "\t<tr><th scope=row>J</th><td> 56</td><td> 77</td><td> 98</td><td>119</td><td>140</td></tr>\n",
              "\t<tr><th scope=row>K</th><td> 62</td><td> 83</td><td>104</td><td>125</td><td>146</td></tr>\n",
              "\t<tr><th scope=row>L</th><td> 68</td><td> 89</td><td>110</td><td>131</td><td>152</td></tr>\n",
              "\t<tr><th scope=row>M</th><td> 74</td><td> 95</td><td>116</td><td>137</td><td>158</td></tr>\n",
              "\t<tr><th scope=row>N</th><td> 80</td><td>101</td><td>122</td><td>143</td><td>164</td></tr>\n",
              "\t<tr><th scope=row>O</th><td> 86</td><td>107</td><td>128</td><td>149</td><td>170</td></tr>\n",
              "\t<tr><th scope=row>P</th><td> 92</td><td>113</td><td>134</td><td>155</td><td>176</td></tr>\n",
              "\t<tr><th scope=row>Q</th><td> 98</td><td>119</td><td>140</td><td>161</td><td>182</td></tr>\n",
              "\t<tr><th scope=row>R</th><td>104</td><td>125</td><td>146</td><td>167</td><td>188</td></tr>\n",
              "\t<tr><th scope=row>S</th><td>110</td><td>131</td><td>152</td><td>173</td><td>194</td></tr>\n",
              "\t<tr><th scope=row>T</th><td>116</td><td>137</td><td>158</td><td>179</td><td>200</td></tr>\n",
              "</tbody>\n",
              "</table>\n"
            ],
            "text/latex": [
              "A matrix: 20 × 5 of type int\n",
              "\\begin{tabular}{r|lllll}\n",
              "  & a & b & c & d & e\\\\\n",
              "\\hline\n",
              "\tA &   2 &  23 &  44 &  65 &  86\\\\\n",
              "\tB &   8 &  29 &  50 &  71 &  92\\\\\n",
              "\tC &  14 &  35 &  56 &  77 &  98\\\\\n",
              "\tD &  20 &  41 &  62 &  83 & 104\\\\\n",
              "\tE &  26 &  47 &  68 &  89 & 110\\\\\n",
              "\tF &  32 &  53 &  74 &  95 & 116\\\\\n",
              "\tG &  38 &  59 &  80 & 101 & 122\\\\\n",
              "\tH &  44 &  65 &  86 & 107 & 128\\\\\n",
              "\tI &  50 &  71 &  92 & 113 & 134\\\\\n",
              "\tJ &  56 &  77 &  98 & 119 & 140\\\\\n",
              "\tK &  62 &  83 & 104 & 125 & 146\\\\\n",
              "\tL &  68 &  89 & 110 & 131 & 152\\\\\n",
              "\tM &  74 &  95 & 116 & 137 & 158\\\\\n",
              "\tN &  80 & 101 & 122 & 143 & 164\\\\\n",
              "\tO &  86 & 107 & 128 & 149 & 170\\\\\n",
              "\tP &  92 & 113 & 134 & 155 & 176\\\\\n",
              "\tQ &  98 & 119 & 140 & 161 & 182\\\\\n",
              "\tR & 104 & 125 & 146 & 167 & 188\\\\\n",
              "\tS & 110 & 131 & 152 & 173 & 194\\\\\n",
              "\tT & 116 & 137 & 158 & 179 & 200\\\\\n",
              "\\end{tabular}\n"
            ],
            "text/markdown": [
              "\n",
              "A matrix: 20 × 5 of type int\n",
              "\n",
              "| <!--/--> | a | b | c | d | e |\n",
              "|---|---|---|---|---|---|\n",
              "| A |   2 |  23 |  44 |  65 |  86 |\n",
              "| B |   8 |  29 |  50 |  71 |  92 |\n",
              "| C |  14 |  35 |  56 |  77 |  98 |\n",
              "| D |  20 |  41 |  62 |  83 | 104 |\n",
              "| E |  26 |  47 |  68 |  89 | 110 |\n",
              "| F |  32 |  53 |  74 |  95 | 116 |\n",
              "| G |  38 |  59 |  80 | 101 | 122 |\n",
              "| H |  44 |  65 |  86 | 107 | 128 |\n",
              "| I |  50 |  71 |  92 | 113 | 134 |\n",
              "| J |  56 |  77 |  98 | 119 | 140 |\n",
              "| K |  62 |  83 | 104 | 125 | 146 |\n",
              "| L |  68 |  89 | 110 | 131 | 152 |\n",
              "| M |  74 |  95 | 116 | 137 | 158 |\n",
              "| N |  80 | 101 | 122 | 143 | 164 |\n",
              "| O |  86 | 107 | 128 | 149 | 170 |\n",
              "| P |  92 | 113 | 134 | 155 | 176 |\n",
              "| Q |  98 | 119 | 140 | 161 | 182 |\n",
              "| R | 104 | 125 | 146 | 167 | 188 |\n",
              "| S | 110 | 131 | 152 | 173 | 194 |\n",
              "| T | 116 | 137 | 158 | 179 | 200 |\n",
              "\n"
            ],
            "text/plain": [
              "  a   b   c   d   e  \n",
              "A   2  23  44  65  86\n",
              "B   8  29  50  71  92\n",
              "C  14  35  56  77  98\n",
              "D  20  41  62  83 104\n",
              "E  26  47  68  89 110\n",
              "F  32  53  74  95 116\n",
              "G  38  59  80 101 122\n",
              "H  44  65  86 107 128\n",
              "I  50  71  92 113 134\n",
              "J  56  77  98 119 140\n",
              "K  62  83 104 125 146\n",
              "L  68  89 110 131 152\n",
              "M  74  95 116 137 158\n",
              "N  80 101 122 143 164\n",
              "O  86 107 128 149 170\n",
              "P  92 113 134 155 176\n",
              "Q  98 119 140 161 182\n",
              "R 104 125 146 167 188\n",
              "S 110 131 152 173 194\n",
              "T 116 137 158 179 200"
            ]
          },
          "metadata": {},
          "output_type": "display_data"
        },
        {
          "data": {
            "text/html": [
              "<table class=\"dataframe\">\n",
              "<caption>A matrix: 20 × 5 of type int</caption>\n",
              "<thead>\n",
              "\t<tr><th></th><th scope=col>a</th><th scope=col>b</th><th scope=col>c</th><th scope=col>d</th><th scope=col>e</th></tr>\n",
              "</thead>\n",
              "<tbody>\n",
              "\t<tr><th scope=row>A</th><td>   1</td><td>  42</td><td> 123</td><td> 244</td><td>  405</td></tr>\n",
              "\t<tr><th scope=row>B</th><td>  12</td><td> 154</td><td> 336</td><td> 558</td><td>  820</td></tr>\n",
              "\t<tr><th scope=row>C</th><td>  33</td><td> 276</td><td> 559</td><td> 882</td><td> 1245</td></tr>\n",
              "\t<tr><th scope=row>D</th><td>  64</td><td> 408</td><td> 792</td><td>1216</td><td> 1680</td></tr>\n",
              "\t<tr><th scope=row>E</th><td> 105</td><td> 550</td><td>1035</td><td>1560</td><td> 2125</td></tr>\n",
              "\t<tr><th scope=row>F</th><td> 156</td><td> 702</td><td>1288</td><td>1914</td><td> 2580</td></tr>\n",
              "\t<tr><th scope=row>G</th><td> 217</td><td> 864</td><td>1551</td><td>2278</td><td> 3045</td></tr>\n",
              "\t<tr><th scope=row>H</th><td> 288</td><td>1036</td><td>1824</td><td>2652</td><td> 3520</td></tr>\n",
              "\t<tr><th scope=row>I</th><td> 369</td><td>1218</td><td>2107</td><td>3036</td><td> 4005</td></tr>\n",
              "\t<tr><th scope=row>J</th><td> 460</td><td>1410</td><td>2400</td><td>3430</td><td> 4500</td></tr>\n",
              "\t<tr><th scope=row>K</th><td> 561</td><td>1612</td><td>2703</td><td>3834</td><td> 5005</td></tr>\n",
              "\t<tr><th scope=row>L</th><td> 672</td><td>1824</td><td>3016</td><td>4248</td><td> 5520</td></tr>\n",
              "\t<tr><th scope=row>M</th><td> 793</td><td>2046</td><td>3339</td><td>4672</td><td> 6045</td></tr>\n",
              "\t<tr><th scope=row>N</th><td> 924</td><td>2278</td><td>3672</td><td>5106</td><td> 6580</td></tr>\n",
              "\t<tr><th scope=row>O</th><td>1065</td><td>2520</td><td>4015</td><td>5550</td><td> 7125</td></tr>\n",
              "\t<tr><th scope=row>P</th><td>1216</td><td>2772</td><td>4368</td><td>6004</td><td> 7680</td></tr>\n",
              "\t<tr><th scope=row>Q</th><td>1377</td><td>3034</td><td>4731</td><td>6468</td><td> 8245</td></tr>\n",
              "\t<tr><th scope=row>R</th><td>1548</td><td>3306</td><td>5104</td><td>6942</td><td> 8820</td></tr>\n",
              "\t<tr><th scope=row>S</th><td>1729</td><td>3588</td><td>5487</td><td>7426</td><td> 9405</td></tr>\n",
              "\t<tr><th scope=row>T</th><td>1920</td><td>3880</td><td>5880</td><td>7920</td><td>10000</td></tr>\n",
              "</tbody>\n",
              "</table>\n"
            ],
            "text/latex": [
              "A matrix: 20 × 5 of type int\n",
              "\\begin{tabular}{r|lllll}\n",
              "  & a & b & c & d & e\\\\\n",
              "\\hline\n",
              "\tA &    1 &   42 &  123 &  244 &   405\\\\\n",
              "\tB &   12 &  154 &  336 &  558 &   820\\\\\n",
              "\tC &   33 &  276 &  559 &  882 &  1245\\\\\n",
              "\tD &   64 &  408 &  792 & 1216 &  1680\\\\\n",
              "\tE &  105 &  550 & 1035 & 1560 &  2125\\\\\n",
              "\tF &  156 &  702 & 1288 & 1914 &  2580\\\\\n",
              "\tG &  217 &  864 & 1551 & 2278 &  3045\\\\\n",
              "\tH &  288 & 1036 & 1824 & 2652 &  3520\\\\\n",
              "\tI &  369 & 1218 & 2107 & 3036 &  4005\\\\\n",
              "\tJ &  460 & 1410 & 2400 & 3430 &  4500\\\\\n",
              "\tK &  561 & 1612 & 2703 & 3834 &  5005\\\\\n",
              "\tL &  672 & 1824 & 3016 & 4248 &  5520\\\\\n",
              "\tM &  793 & 2046 & 3339 & 4672 &  6045\\\\\n",
              "\tN &  924 & 2278 & 3672 & 5106 &  6580\\\\\n",
              "\tO & 1065 & 2520 & 4015 & 5550 &  7125\\\\\n",
              "\tP & 1216 & 2772 & 4368 & 6004 &  7680\\\\\n",
              "\tQ & 1377 & 3034 & 4731 & 6468 &  8245\\\\\n",
              "\tR & 1548 & 3306 & 5104 & 6942 &  8820\\\\\n",
              "\tS & 1729 & 3588 & 5487 & 7426 &  9405\\\\\n",
              "\tT & 1920 & 3880 & 5880 & 7920 & 10000\\\\\n",
              "\\end{tabular}\n"
            ],
            "text/markdown": [
              "\n",
              "A matrix: 20 × 5 of type int\n",
              "\n",
              "| <!--/--> | a | b | c | d | e |\n",
              "|---|---|---|---|---|---|\n",
              "| A |    1 |   42 |  123 |  244 |   405 |\n",
              "| B |   12 |  154 |  336 |  558 |   820 |\n",
              "| C |   33 |  276 |  559 |  882 |  1245 |\n",
              "| D |   64 |  408 |  792 | 1216 |  1680 |\n",
              "| E |  105 |  550 | 1035 | 1560 |  2125 |\n",
              "| F |  156 |  702 | 1288 | 1914 |  2580 |\n",
              "| G |  217 |  864 | 1551 | 2278 |  3045 |\n",
              "| H |  288 | 1036 | 1824 | 2652 |  3520 |\n",
              "| I |  369 | 1218 | 2107 | 3036 |  4005 |\n",
              "| J |  460 | 1410 | 2400 | 3430 |  4500 |\n",
              "| K |  561 | 1612 | 2703 | 3834 |  5005 |\n",
              "| L |  672 | 1824 | 3016 | 4248 |  5520 |\n",
              "| M |  793 | 2046 | 3339 | 4672 |  6045 |\n",
              "| N |  924 | 2278 | 3672 | 5106 |  6580 |\n",
              "| O | 1065 | 2520 | 4015 | 5550 |  7125 |\n",
              "| P | 1216 | 2772 | 4368 | 6004 |  7680 |\n",
              "| Q | 1377 | 3034 | 4731 | 6468 |  8245 |\n",
              "| R | 1548 | 3306 | 5104 | 6942 |  8820 |\n",
              "| S | 1729 | 3588 | 5487 | 7426 |  9405 |\n",
              "| T | 1920 | 3880 | 5880 | 7920 | 10000 |\n",
              "\n"
            ],
            "text/plain": [
              "  a    b    c    d    e    \n",
              "A    1   42  123  244   405\n",
              "B   12  154  336  558   820\n",
              "C   33  276  559  882  1245\n",
              "D   64  408  792 1216  1680\n",
              "E  105  550 1035 1560  2125\n",
              "F  156  702 1288 1914  2580\n",
              "G  217  864 1551 2278  3045\n",
              "H  288 1036 1824 2652  3520\n",
              "I  369 1218 2107 3036  4005\n",
              "J  460 1410 2400 3430  4500\n",
              "K  561 1612 2703 3834  5005\n",
              "L  672 1824 3016 4248  5520\n",
              "M  793 2046 3339 4672  6045\n",
              "N  924 2278 3672 5106  6580\n",
              "O 1065 2520 4015 5550  7125\n",
              "P 1216 2772 4368 6004  7680\n",
              "Q 1377 3034 4731 6468  8245\n",
              "R 1548 3306 5104 6942  8820\n",
              "S 1729 3588 5487 7426  9405\n",
              "T 1920 3880 5880 7920 10000"
            ]
          },
          "metadata": {},
          "output_type": "display_data"
        },
        {
          "data": {
            "text/html": [
              "<table class=\"dataframe\">\n",
              "<caption>A matrix: 20 × 5 of type int</caption>\n",
              "<thead>\n",
              "\t<tr><th></th><th scope=col>a</th><th scope=col>b</th><th scope=col>c</th><th scope=col>d</th><th scope=col>e</th></tr>\n",
              "</thead>\n",
              "<tbody>\n",
              "\t<tr><th scope=row>A</th><td> 1</td><td> 2</td><td> 3</td><td> 4</td><td>  5</td></tr>\n",
              "\t<tr><th scope=row>B</th><td> 6</td><td> 7</td><td> 8</td><td> 9</td><td> 10</td></tr>\n",
              "\t<tr><th scope=row>C</th><td>11</td><td>12</td><td>13</td><td>14</td><td> 15</td></tr>\n",
              "\t<tr><th scope=row>D</th><td>16</td><td>17</td><td>18</td><td>19</td><td> 20</td></tr>\n",
              "\t<tr><th scope=row>E</th><td>21</td><td>22</td><td>23</td><td>24</td><td> 25</td></tr>\n",
              "\t<tr><th scope=row>F</th><td>26</td><td>27</td><td>28</td><td>29</td><td> 30</td></tr>\n",
              "\t<tr><th scope=row>G</th><td>31</td><td>32</td><td>33</td><td>34</td><td> 35</td></tr>\n",
              "\t<tr><th scope=row>H</th><td>36</td><td>37</td><td>38</td><td>39</td><td> 40</td></tr>\n",
              "\t<tr><th scope=row>I</th><td>41</td><td>42</td><td>43</td><td>44</td><td> 45</td></tr>\n",
              "\t<tr><th scope=row>J</th><td>46</td><td>47</td><td>48</td><td>49</td><td> 50</td></tr>\n",
              "\t<tr><th scope=row>K</th><td>51</td><td>52</td><td>53</td><td>54</td><td> 55</td></tr>\n",
              "\t<tr><th scope=row>L</th><td>56</td><td>57</td><td>58</td><td>59</td><td> 60</td></tr>\n",
              "\t<tr><th scope=row>M</th><td>61</td><td>62</td><td>63</td><td>64</td><td> 65</td></tr>\n",
              "\t<tr><th scope=row>N</th><td>66</td><td>67</td><td>68</td><td>69</td><td> 70</td></tr>\n",
              "\t<tr><th scope=row>O</th><td>71</td><td>72</td><td>73</td><td>74</td><td> 75</td></tr>\n",
              "\t<tr><th scope=row>P</th><td>76</td><td>77</td><td>78</td><td>79</td><td> 80</td></tr>\n",
              "\t<tr><th scope=row>Q</th><td>81</td><td>82</td><td>83</td><td>84</td><td> 85</td></tr>\n",
              "\t<tr><th scope=row>R</th><td>86</td><td>87</td><td>88</td><td>89</td><td> 90</td></tr>\n",
              "\t<tr><th scope=row>S</th><td>91</td><td>92</td><td>93</td><td>94</td><td> 95</td></tr>\n",
              "\t<tr><th scope=row>T</th><td>96</td><td>97</td><td>98</td><td>99</td><td>100</td></tr>\n",
              "</tbody>\n",
              "</table>\n"
            ],
            "text/latex": [
              "A matrix: 20 × 5 of type int\n",
              "\\begin{tabular}{r|lllll}\n",
              "  & a & b & c & d & e\\\\\n",
              "\\hline\n",
              "\tA &  1 &  2 &  3 &  4 &   5\\\\\n",
              "\tB &  6 &  7 &  8 &  9 &  10\\\\\n",
              "\tC & 11 & 12 & 13 & 14 &  15\\\\\n",
              "\tD & 16 & 17 & 18 & 19 &  20\\\\\n",
              "\tE & 21 & 22 & 23 & 24 &  25\\\\\n",
              "\tF & 26 & 27 & 28 & 29 &  30\\\\\n",
              "\tG & 31 & 32 & 33 & 34 &  35\\\\\n",
              "\tH & 36 & 37 & 38 & 39 &  40\\\\\n",
              "\tI & 41 & 42 & 43 & 44 &  45\\\\\n",
              "\tJ & 46 & 47 & 48 & 49 &  50\\\\\n",
              "\tK & 51 & 52 & 53 & 54 &  55\\\\\n",
              "\tL & 56 & 57 & 58 & 59 &  60\\\\\n",
              "\tM & 61 & 62 & 63 & 64 &  65\\\\\n",
              "\tN & 66 & 67 & 68 & 69 &  70\\\\\n",
              "\tO & 71 & 72 & 73 & 74 &  75\\\\\n",
              "\tP & 76 & 77 & 78 & 79 &  80\\\\\n",
              "\tQ & 81 & 82 & 83 & 84 &  85\\\\\n",
              "\tR & 86 & 87 & 88 & 89 &  90\\\\\n",
              "\tS & 91 & 92 & 93 & 94 &  95\\\\\n",
              "\tT & 96 & 97 & 98 & 99 & 100\\\\\n",
              "\\end{tabular}\n"
            ],
            "text/markdown": [
              "\n",
              "A matrix: 20 × 5 of type int\n",
              "\n",
              "| <!--/--> | a | b | c | d | e |\n",
              "|---|---|---|---|---|---|\n",
              "| A |  1 |  2 |  3 |  4 |   5 |\n",
              "| B |  6 |  7 |  8 |  9 |  10 |\n",
              "| C | 11 | 12 | 13 | 14 |  15 |\n",
              "| D | 16 | 17 | 18 | 19 |  20 |\n",
              "| E | 21 | 22 | 23 | 24 |  25 |\n",
              "| F | 26 | 27 | 28 | 29 |  30 |\n",
              "| G | 31 | 32 | 33 | 34 |  35 |\n",
              "| H | 36 | 37 | 38 | 39 |  40 |\n",
              "| I | 41 | 42 | 43 | 44 |  45 |\n",
              "| J | 46 | 47 | 48 | 49 |  50 |\n",
              "| K | 51 | 52 | 53 | 54 |  55 |\n",
              "| L | 56 | 57 | 58 | 59 |  60 |\n",
              "| M | 61 | 62 | 63 | 64 |  65 |\n",
              "| N | 66 | 67 | 68 | 69 |  70 |\n",
              "| O | 71 | 72 | 73 | 74 |  75 |\n",
              "| P | 76 | 77 | 78 | 79 |  80 |\n",
              "| Q | 81 | 82 | 83 | 84 |  85 |\n",
              "| R | 86 | 87 | 88 | 89 |  90 |\n",
              "| S | 91 | 92 | 93 | 94 |  95 |\n",
              "| T | 96 | 97 | 98 | 99 | 100 |\n",
              "\n"
            ],
            "text/plain": [
              "  a  b  c  d  e  \n",
              "A  1  2  3  4   5\n",
              "B  6  7  8  9  10\n",
              "C 11 12 13 14  15\n",
              "D 16 17 18 19  20\n",
              "E 21 22 23 24  25\n",
              "F 26 27 28 29  30\n",
              "G 31 32 33 34  35\n",
              "H 36 37 38 39  40\n",
              "I 41 42 43 44  45\n",
              "J 46 47 48 49  50\n",
              "K 51 52 53 54  55\n",
              "L 56 57 58 59  60\n",
              "M 61 62 63 64  65\n",
              "N 66 67 68 69  70\n",
              "O 71 72 73 74  75\n",
              "P 76 77 78 79  80\n",
              "Q 81 82 83 84  85\n",
              "R 86 87 88 89  90\n",
              "S 91 92 93 94  95\n",
              "T 96 97 98 99 100"
            ]
          },
          "metadata": {},
          "output_type": "display_data"
        },
        {
          "data": {
            "text/html": [
              "<table class=\"dataframe\">\n",
              "<caption>A matrix: 20 × 5 of type int</caption>\n",
              "<tbody>\n",
              "\t<tr><td> 1</td><td>21</td><td>41</td><td>61</td><td> 81</td></tr>\n",
              "\t<tr><td> 2</td><td>22</td><td>42</td><td>62</td><td> 82</td></tr>\n",
              "\t<tr><td> 3</td><td>23</td><td>43</td><td>63</td><td> 83</td></tr>\n",
              "\t<tr><td> 4</td><td>24</td><td>44</td><td>64</td><td> 84</td></tr>\n",
              "\t<tr><td> 5</td><td>25</td><td>45</td><td>65</td><td> 85</td></tr>\n",
              "\t<tr><td> 6</td><td>26</td><td>46</td><td>66</td><td> 86</td></tr>\n",
              "\t<tr><td> 7</td><td>27</td><td>47</td><td>67</td><td> 87</td></tr>\n",
              "\t<tr><td> 8</td><td>28</td><td>48</td><td>68</td><td> 88</td></tr>\n",
              "\t<tr><td> 9</td><td>29</td><td>49</td><td>69</td><td> 89</td></tr>\n",
              "\t<tr><td>10</td><td>30</td><td>50</td><td>70</td><td> 90</td></tr>\n",
              "\t<tr><td>11</td><td>31</td><td>51</td><td>71</td><td> 91</td></tr>\n",
              "\t<tr><td>12</td><td>32</td><td>52</td><td>72</td><td> 92</td></tr>\n",
              "\t<tr><td>13</td><td>33</td><td>53</td><td>73</td><td> 93</td></tr>\n",
              "\t<tr><td>14</td><td>34</td><td>54</td><td>74</td><td> 94</td></tr>\n",
              "\t<tr><td>15</td><td>35</td><td>55</td><td>75</td><td> 95</td></tr>\n",
              "\t<tr><td>16</td><td>36</td><td>56</td><td>76</td><td> 96</td></tr>\n",
              "\t<tr><td>17</td><td>37</td><td>57</td><td>77</td><td> 97</td></tr>\n",
              "\t<tr><td>18</td><td>38</td><td>58</td><td>78</td><td> 98</td></tr>\n",
              "\t<tr><td>19</td><td>39</td><td>59</td><td>79</td><td> 99</td></tr>\n",
              "\t<tr><td>20</td><td>40</td><td>60</td><td>80</td><td>100</td></tr>\n",
              "</tbody>\n",
              "</table>\n"
            ],
            "text/latex": [
              "A matrix: 20 × 5 of type int\n",
              "\\begin{tabular}{lllll}\n",
              "\t  1 & 21 & 41 & 61 &  81\\\\\n",
              "\t  2 & 22 & 42 & 62 &  82\\\\\n",
              "\t  3 & 23 & 43 & 63 &  83\\\\\n",
              "\t  4 & 24 & 44 & 64 &  84\\\\\n",
              "\t  5 & 25 & 45 & 65 &  85\\\\\n",
              "\t  6 & 26 & 46 & 66 &  86\\\\\n",
              "\t  7 & 27 & 47 & 67 &  87\\\\\n",
              "\t  8 & 28 & 48 & 68 &  88\\\\\n",
              "\t  9 & 29 & 49 & 69 &  89\\\\\n",
              "\t 10 & 30 & 50 & 70 &  90\\\\\n",
              "\t 11 & 31 & 51 & 71 &  91\\\\\n",
              "\t 12 & 32 & 52 & 72 &  92\\\\\n",
              "\t 13 & 33 & 53 & 73 &  93\\\\\n",
              "\t 14 & 34 & 54 & 74 &  94\\\\\n",
              "\t 15 & 35 & 55 & 75 &  95\\\\\n",
              "\t 16 & 36 & 56 & 76 &  96\\\\\n",
              "\t 17 & 37 & 57 & 77 &  97\\\\\n",
              "\t 18 & 38 & 58 & 78 &  98\\\\\n",
              "\t 19 & 39 & 59 & 79 &  99\\\\\n",
              "\t 20 & 40 & 60 & 80 & 100\\\\\n",
              "\\end{tabular}\n"
            ],
            "text/markdown": [
              "\n",
              "A matrix: 20 × 5 of type int\n",
              "\n",
              "|  1 | 21 | 41 | 61 |  81 |\n",
              "|  2 | 22 | 42 | 62 |  82 |\n",
              "|  3 | 23 | 43 | 63 |  83 |\n",
              "|  4 | 24 | 44 | 64 |  84 |\n",
              "|  5 | 25 | 45 | 65 |  85 |\n",
              "|  6 | 26 | 46 | 66 |  86 |\n",
              "|  7 | 27 | 47 | 67 |  87 |\n",
              "|  8 | 28 | 48 | 68 |  88 |\n",
              "|  9 | 29 | 49 | 69 |  89 |\n",
              "| 10 | 30 | 50 | 70 |  90 |\n",
              "| 11 | 31 | 51 | 71 |  91 |\n",
              "| 12 | 32 | 52 | 72 |  92 |\n",
              "| 13 | 33 | 53 | 73 |  93 |\n",
              "| 14 | 34 | 54 | 74 |  94 |\n",
              "| 15 | 35 | 55 | 75 |  95 |\n",
              "| 16 | 36 | 56 | 76 |  96 |\n",
              "| 17 | 37 | 57 | 77 |  97 |\n",
              "| 18 | 38 | 58 | 78 |  98 |\n",
              "| 19 | 39 | 59 | 79 |  99 |\n",
              "| 20 | 40 | 60 | 80 | 100 |\n",
              "\n"
            ],
            "text/plain": [
              "      [,1] [,2] [,3] [,4] [,5]\n",
              " [1,]  1   21   41   61    81 \n",
              " [2,]  2   22   42   62    82 \n",
              " [3,]  3   23   43   63    83 \n",
              " [4,]  4   24   44   64    84 \n",
              " [5,]  5   25   45   65    85 \n",
              " [6,]  6   26   46   66    86 \n",
              " [7,]  7   27   47   67    87 \n",
              " [8,]  8   28   48   68    88 \n",
              " [9,]  9   29   49   69    89 \n",
              "[10,] 10   30   50   70    90 \n",
              "[11,] 11   31   51   71    91 \n",
              "[12,] 12   32   52   72    92 \n",
              "[13,] 13   33   53   73    93 \n",
              "[14,] 14   34   54   74    94 \n",
              "[15,] 15   35   55   75    95 \n",
              "[16,] 16   36   56   76    96 \n",
              "[17,] 17   37   57   77    97 \n",
              "[18,] 18   38   58   78    98 \n",
              "[19,] 19   39   59   79    99 \n",
              "[20,] 20   40   60   80   100 "
            ]
          },
          "metadata": {},
          "output_type": "display_data"
        },
        {
          "data": {
            "text/html": [
              "<table class=\"dataframe\">\n",
              "<caption>A matrix: 20 × 20 of type dbl</caption>\n",
              "<tbody>\n",
              "\t<tr><th scope=row>A</th><td>  815</td><td>  830</td><td>  845</td><td>  860</td><td>  875</td><td>  890</td><td>  905</td><td>  920</td><td>  935</td><td>  950</td><td>  965</td><td>  980</td><td>  995</td><td> 1010</td><td> 1025</td><td> 1040</td><td> 1055</td><td> 1070</td><td> 1085</td><td> 1100</td></tr>\n",
              "\t<tr><th scope=row>B</th><td> 1840</td><td> 1880</td><td> 1920</td><td> 1960</td><td> 2000</td><td> 2040</td><td> 2080</td><td> 2120</td><td> 2160</td><td> 2200</td><td> 2240</td><td> 2280</td><td> 2320</td><td> 2360</td><td> 2400</td><td> 2440</td><td> 2480</td><td> 2520</td><td> 2560</td><td> 2600</td></tr>\n",
              "\t<tr><th scope=row>C</th><td> 2865</td><td> 2930</td><td> 2995</td><td> 3060</td><td> 3125</td><td> 3190</td><td> 3255</td><td> 3320</td><td> 3385</td><td> 3450</td><td> 3515</td><td> 3580</td><td> 3645</td><td> 3710</td><td> 3775</td><td> 3840</td><td> 3905</td><td> 3970</td><td> 4035</td><td> 4100</td></tr>\n",
              "\t<tr><th scope=row>D</th><td> 3890</td><td> 3980</td><td> 4070</td><td> 4160</td><td> 4250</td><td> 4340</td><td> 4430</td><td> 4520</td><td> 4610</td><td> 4700</td><td> 4790</td><td> 4880</td><td> 4970</td><td> 5060</td><td> 5150</td><td> 5240</td><td> 5330</td><td> 5420</td><td> 5510</td><td> 5600</td></tr>\n",
              "\t<tr><th scope=row>E</th><td> 4915</td><td> 5030</td><td> 5145</td><td> 5260</td><td> 5375</td><td> 5490</td><td> 5605</td><td> 5720</td><td> 5835</td><td> 5950</td><td> 6065</td><td> 6180</td><td> 6295</td><td> 6410</td><td> 6525</td><td> 6640</td><td> 6755</td><td> 6870</td><td> 6985</td><td> 7100</td></tr>\n",
              "\t<tr><th scope=row>F</th><td> 5940</td><td> 6080</td><td> 6220</td><td> 6360</td><td> 6500</td><td> 6640</td><td> 6780</td><td> 6920</td><td> 7060</td><td> 7200</td><td> 7340</td><td> 7480</td><td> 7620</td><td> 7760</td><td> 7900</td><td> 8040</td><td> 8180</td><td> 8320</td><td> 8460</td><td> 8600</td></tr>\n",
              "\t<tr><th scope=row>G</th><td> 6965</td><td> 7130</td><td> 7295</td><td> 7460</td><td> 7625</td><td> 7790</td><td> 7955</td><td> 8120</td><td> 8285</td><td> 8450</td><td> 8615</td><td> 8780</td><td> 8945</td><td> 9110</td><td> 9275</td><td> 9440</td><td> 9605</td><td> 9770</td><td> 9935</td><td>10100</td></tr>\n",
              "\t<tr><th scope=row>H</th><td> 7990</td><td> 8180</td><td> 8370</td><td> 8560</td><td> 8750</td><td> 8940</td><td> 9130</td><td> 9320</td><td> 9510</td><td> 9700</td><td> 9890</td><td>10080</td><td>10270</td><td>10460</td><td>10650</td><td>10840</td><td>11030</td><td>11220</td><td>11410</td><td>11600</td></tr>\n",
              "\t<tr><th scope=row>I</th><td> 9015</td><td> 9230</td><td> 9445</td><td> 9660</td><td> 9875</td><td>10090</td><td>10305</td><td>10520</td><td>10735</td><td>10950</td><td>11165</td><td>11380</td><td>11595</td><td>11810</td><td>12025</td><td>12240</td><td>12455</td><td>12670</td><td>12885</td><td>13100</td></tr>\n",
              "\t<tr><th scope=row>J</th><td>10040</td><td>10280</td><td>10520</td><td>10760</td><td>11000</td><td>11240</td><td>11480</td><td>11720</td><td>11960</td><td>12200</td><td>12440</td><td>12680</td><td>12920</td><td>13160</td><td>13400</td><td>13640</td><td>13880</td><td>14120</td><td>14360</td><td>14600</td></tr>\n",
              "\t<tr><th scope=row>K</th><td>11065</td><td>11330</td><td>11595</td><td>11860</td><td>12125</td><td>12390</td><td>12655</td><td>12920</td><td>13185</td><td>13450</td><td>13715</td><td>13980</td><td>14245</td><td>14510</td><td>14775</td><td>15040</td><td>15305</td><td>15570</td><td>15835</td><td>16100</td></tr>\n",
              "\t<tr><th scope=row>L</th><td>12090</td><td>12380</td><td>12670</td><td>12960</td><td>13250</td><td>13540</td><td>13830</td><td>14120</td><td>14410</td><td>14700</td><td>14990</td><td>15280</td><td>15570</td><td>15860</td><td>16150</td><td>16440</td><td>16730</td><td>17020</td><td>17310</td><td>17600</td></tr>\n",
              "\t<tr><th scope=row>M</th><td>13115</td><td>13430</td><td>13745</td><td>14060</td><td>14375</td><td>14690</td><td>15005</td><td>15320</td><td>15635</td><td>15950</td><td>16265</td><td>16580</td><td>16895</td><td>17210</td><td>17525</td><td>17840</td><td>18155</td><td>18470</td><td>18785</td><td>19100</td></tr>\n",
              "\t<tr><th scope=row>N</th><td>14140</td><td>14480</td><td>14820</td><td>15160</td><td>15500</td><td>15840</td><td>16180</td><td>16520</td><td>16860</td><td>17200</td><td>17540</td><td>17880</td><td>18220</td><td>18560</td><td>18900</td><td>19240</td><td>19580</td><td>19920</td><td>20260</td><td>20600</td></tr>\n",
              "\t<tr><th scope=row>O</th><td>15165</td><td>15530</td><td>15895</td><td>16260</td><td>16625</td><td>16990</td><td>17355</td><td>17720</td><td>18085</td><td>18450</td><td>18815</td><td>19180</td><td>19545</td><td>19910</td><td>20275</td><td>20640</td><td>21005</td><td>21370</td><td>21735</td><td>22100</td></tr>\n",
              "\t<tr><th scope=row>P</th><td>16190</td><td>16580</td><td>16970</td><td>17360</td><td>17750</td><td>18140</td><td>18530</td><td>18920</td><td>19310</td><td>19700</td><td>20090</td><td>20480</td><td>20870</td><td>21260</td><td>21650</td><td>22040</td><td>22430</td><td>22820</td><td>23210</td><td>23600</td></tr>\n",
              "\t<tr><th scope=row>Q</th><td>17215</td><td>17630</td><td>18045</td><td>18460</td><td>18875</td><td>19290</td><td>19705</td><td>20120</td><td>20535</td><td>20950</td><td>21365</td><td>21780</td><td>22195</td><td>22610</td><td>23025</td><td>23440</td><td>23855</td><td>24270</td><td>24685</td><td>25100</td></tr>\n",
              "\t<tr><th scope=row>R</th><td>18240</td><td>18680</td><td>19120</td><td>19560</td><td>20000</td><td>20440</td><td>20880</td><td>21320</td><td>21760</td><td>22200</td><td>22640</td><td>23080</td><td>23520</td><td>23960</td><td>24400</td><td>24840</td><td>25280</td><td>25720</td><td>26160</td><td>26600</td></tr>\n",
              "\t<tr><th scope=row>S</th><td>19265</td><td>19730</td><td>20195</td><td>20660</td><td>21125</td><td>21590</td><td>22055</td><td>22520</td><td>22985</td><td>23450</td><td>23915</td><td>24380</td><td>24845</td><td>25310</td><td>25775</td><td>26240</td><td>26705</td><td>27170</td><td>27635</td><td>28100</td></tr>\n",
              "\t<tr><th scope=row>T</th><td>20290</td><td>20780</td><td>21270</td><td>21760</td><td>22250</td><td>22740</td><td>23230</td><td>23720</td><td>24210</td><td>24700</td><td>25190</td><td>25680</td><td>26170</td><td>26660</td><td>27150</td><td>27640</td><td>28130</td><td>28620</td><td>29110</td><td>29600</td></tr>\n",
              "</tbody>\n",
              "</table>\n"
            ],
            "text/latex": [
              "A matrix: 20 × 20 of type dbl\n",
              "\\begin{tabular}{r|llllllllllllllllllll}\n",
              "\tA &   815 &   830 &   845 &   860 &   875 &   890 &   905 &   920 &   935 &   950 &   965 &   980 &   995 &  1010 &  1025 &  1040 &  1055 &  1070 &  1085 &  1100\\\\\n",
              "\tB &  1840 &  1880 &  1920 &  1960 &  2000 &  2040 &  2080 &  2120 &  2160 &  2200 &  2240 &  2280 &  2320 &  2360 &  2400 &  2440 &  2480 &  2520 &  2560 &  2600\\\\\n",
              "\tC &  2865 &  2930 &  2995 &  3060 &  3125 &  3190 &  3255 &  3320 &  3385 &  3450 &  3515 &  3580 &  3645 &  3710 &  3775 &  3840 &  3905 &  3970 &  4035 &  4100\\\\\n",
              "\tD &  3890 &  3980 &  4070 &  4160 &  4250 &  4340 &  4430 &  4520 &  4610 &  4700 &  4790 &  4880 &  4970 &  5060 &  5150 &  5240 &  5330 &  5420 &  5510 &  5600\\\\\n",
              "\tE &  4915 &  5030 &  5145 &  5260 &  5375 &  5490 &  5605 &  5720 &  5835 &  5950 &  6065 &  6180 &  6295 &  6410 &  6525 &  6640 &  6755 &  6870 &  6985 &  7100\\\\\n",
              "\tF &  5940 &  6080 &  6220 &  6360 &  6500 &  6640 &  6780 &  6920 &  7060 &  7200 &  7340 &  7480 &  7620 &  7760 &  7900 &  8040 &  8180 &  8320 &  8460 &  8600\\\\\n",
              "\tG &  6965 &  7130 &  7295 &  7460 &  7625 &  7790 &  7955 &  8120 &  8285 &  8450 &  8615 &  8780 &  8945 &  9110 &  9275 &  9440 &  9605 &  9770 &  9935 & 10100\\\\\n",
              "\tH &  7990 &  8180 &  8370 &  8560 &  8750 &  8940 &  9130 &  9320 &  9510 &  9700 &  9890 & 10080 & 10270 & 10460 & 10650 & 10840 & 11030 & 11220 & 11410 & 11600\\\\\n",
              "\tI &  9015 &  9230 &  9445 &  9660 &  9875 & 10090 & 10305 & 10520 & 10735 & 10950 & 11165 & 11380 & 11595 & 11810 & 12025 & 12240 & 12455 & 12670 & 12885 & 13100\\\\\n",
              "\tJ & 10040 & 10280 & 10520 & 10760 & 11000 & 11240 & 11480 & 11720 & 11960 & 12200 & 12440 & 12680 & 12920 & 13160 & 13400 & 13640 & 13880 & 14120 & 14360 & 14600\\\\\n",
              "\tK & 11065 & 11330 & 11595 & 11860 & 12125 & 12390 & 12655 & 12920 & 13185 & 13450 & 13715 & 13980 & 14245 & 14510 & 14775 & 15040 & 15305 & 15570 & 15835 & 16100\\\\\n",
              "\tL & 12090 & 12380 & 12670 & 12960 & 13250 & 13540 & 13830 & 14120 & 14410 & 14700 & 14990 & 15280 & 15570 & 15860 & 16150 & 16440 & 16730 & 17020 & 17310 & 17600\\\\\n",
              "\tM & 13115 & 13430 & 13745 & 14060 & 14375 & 14690 & 15005 & 15320 & 15635 & 15950 & 16265 & 16580 & 16895 & 17210 & 17525 & 17840 & 18155 & 18470 & 18785 & 19100\\\\\n",
              "\tN & 14140 & 14480 & 14820 & 15160 & 15500 & 15840 & 16180 & 16520 & 16860 & 17200 & 17540 & 17880 & 18220 & 18560 & 18900 & 19240 & 19580 & 19920 & 20260 & 20600\\\\\n",
              "\tO & 15165 & 15530 & 15895 & 16260 & 16625 & 16990 & 17355 & 17720 & 18085 & 18450 & 18815 & 19180 & 19545 & 19910 & 20275 & 20640 & 21005 & 21370 & 21735 & 22100\\\\\n",
              "\tP & 16190 & 16580 & 16970 & 17360 & 17750 & 18140 & 18530 & 18920 & 19310 & 19700 & 20090 & 20480 & 20870 & 21260 & 21650 & 22040 & 22430 & 22820 & 23210 & 23600\\\\\n",
              "\tQ & 17215 & 17630 & 18045 & 18460 & 18875 & 19290 & 19705 & 20120 & 20535 & 20950 & 21365 & 21780 & 22195 & 22610 & 23025 & 23440 & 23855 & 24270 & 24685 & 25100\\\\\n",
              "\tR & 18240 & 18680 & 19120 & 19560 & 20000 & 20440 & 20880 & 21320 & 21760 & 22200 & 22640 & 23080 & 23520 & 23960 & 24400 & 24840 & 25280 & 25720 & 26160 & 26600\\\\\n",
              "\tS & 19265 & 19730 & 20195 & 20660 & 21125 & 21590 & 22055 & 22520 & 22985 & 23450 & 23915 & 24380 & 24845 & 25310 & 25775 & 26240 & 26705 & 27170 & 27635 & 28100\\\\\n",
              "\tT & 20290 & 20780 & 21270 & 21760 & 22250 & 22740 & 23230 & 23720 & 24210 & 24700 & 25190 & 25680 & 26170 & 26660 & 27150 & 27640 & 28130 & 28620 & 29110 & 29600\\\\\n",
              "\\end{tabular}\n"
            ],
            "text/markdown": [
              "\n",
              "A matrix: 20 × 20 of type dbl\n",
              "\n",
              "| A |   815 |   830 |   845 |   860 |   875 |   890 |   905 |   920 |   935 |   950 |   965 |   980 |   995 |  1010 |  1025 |  1040 |  1055 |  1070 |  1085 |  1100 |\n",
              "| B |  1840 |  1880 |  1920 |  1960 |  2000 |  2040 |  2080 |  2120 |  2160 |  2200 |  2240 |  2280 |  2320 |  2360 |  2400 |  2440 |  2480 |  2520 |  2560 |  2600 |\n",
              "| C |  2865 |  2930 |  2995 |  3060 |  3125 |  3190 |  3255 |  3320 |  3385 |  3450 |  3515 |  3580 |  3645 |  3710 |  3775 |  3840 |  3905 |  3970 |  4035 |  4100 |\n",
              "| D |  3890 |  3980 |  4070 |  4160 |  4250 |  4340 |  4430 |  4520 |  4610 |  4700 |  4790 |  4880 |  4970 |  5060 |  5150 |  5240 |  5330 |  5420 |  5510 |  5600 |\n",
              "| E |  4915 |  5030 |  5145 |  5260 |  5375 |  5490 |  5605 |  5720 |  5835 |  5950 |  6065 |  6180 |  6295 |  6410 |  6525 |  6640 |  6755 |  6870 |  6985 |  7100 |\n",
              "| F |  5940 |  6080 |  6220 |  6360 |  6500 |  6640 |  6780 |  6920 |  7060 |  7200 |  7340 |  7480 |  7620 |  7760 |  7900 |  8040 |  8180 |  8320 |  8460 |  8600 |\n",
              "| G |  6965 |  7130 |  7295 |  7460 |  7625 |  7790 |  7955 |  8120 |  8285 |  8450 |  8615 |  8780 |  8945 |  9110 |  9275 |  9440 |  9605 |  9770 |  9935 | 10100 |\n",
              "| H |  7990 |  8180 |  8370 |  8560 |  8750 |  8940 |  9130 |  9320 |  9510 |  9700 |  9890 | 10080 | 10270 | 10460 | 10650 | 10840 | 11030 | 11220 | 11410 | 11600 |\n",
              "| I |  9015 |  9230 |  9445 |  9660 |  9875 | 10090 | 10305 | 10520 | 10735 | 10950 | 11165 | 11380 | 11595 | 11810 | 12025 | 12240 | 12455 | 12670 | 12885 | 13100 |\n",
              "| J | 10040 | 10280 | 10520 | 10760 | 11000 | 11240 | 11480 | 11720 | 11960 | 12200 | 12440 | 12680 | 12920 | 13160 | 13400 | 13640 | 13880 | 14120 | 14360 | 14600 |\n",
              "| K | 11065 | 11330 | 11595 | 11860 | 12125 | 12390 | 12655 | 12920 | 13185 | 13450 | 13715 | 13980 | 14245 | 14510 | 14775 | 15040 | 15305 | 15570 | 15835 | 16100 |\n",
              "| L | 12090 | 12380 | 12670 | 12960 | 13250 | 13540 | 13830 | 14120 | 14410 | 14700 | 14990 | 15280 | 15570 | 15860 | 16150 | 16440 | 16730 | 17020 | 17310 | 17600 |\n",
              "| M | 13115 | 13430 | 13745 | 14060 | 14375 | 14690 | 15005 | 15320 | 15635 | 15950 | 16265 | 16580 | 16895 | 17210 | 17525 | 17840 | 18155 | 18470 | 18785 | 19100 |\n",
              "| N | 14140 | 14480 | 14820 | 15160 | 15500 | 15840 | 16180 | 16520 | 16860 | 17200 | 17540 | 17880 | 18220 | 18560 | 18900 | 19240 | 19580 | 19920 | 20260 | 20600 |\n",
              "| O | 15165 | 15530 | 15895 | 16260 | 16625 | 16990 | 17355 | 17720 | 18085 | 18450 | 18815 | 19180 | 19545 | 19910 | 20275 | 20640 | 21005 | 21370 | 21735 | 22100 |\n",
              "| P | 16190 | 16580 | 16970 | 17360 | 17750 | 18140 | 18530 | 18920 | 19310 | 19700 | 20090 | 20480 | 20870 | 21260 | 21650 | 22040 | 22430 | 22820 | 23210 | 23600 |\n",
              "| Q | 17215 | 17630 | 18045 | 18460 | 18875 | 19290 | 19705 | 20120 | 20535 | 20950 | 21365 | 21780 | 22195 | 22610 | 23025 | 23440 | 23855 | 24270 | 24685 | 25100 |\n",
              "| R | 18240 | 18680 | 19120 | 19560 | 20000 | 20440 | 20880 | 21320 | 21760 | 22200 | 22640 | 23080 | 23520 | 23960 | 24400 | 24840 | 25280 | 25720 | 26160 | 26600 |\n",
              "| S | 19265 | 19730 | 20195 | 20660 | 21125 | 21590 | 22055 | 22520 | 22985 | 23450 | 23915 | 24380 | 24845 | 25310 | 25775 | 26240 | 26705 | 27170 | 27635 | 28100 |\n",
              "| T | 20290 | 20780 | 21270 | 21760 | 22250 | 22740 | 23230 | 23720 | 24210 | 24700 | 25190 | 25680 | 26170 | 26660 | 27150 | 27640 | 28130 | 28620 | 29110 | 29600 |\n",
              "\n"
            ],
            "text/plain": [
              "  [,1]  [,2]  [,3]  [,4]  [,5]  [,6]  [,7]  [,8]  [,9]  [,10] [,11] [,12] [,13]\n",
              "A   815   830   845   860   875   890   905   920   935   950   965   980   995\n",
              "B  1840  1880  1920  1960  2000  2040  2080  2120  2160  2200  2240  2280  2320\n",
              "C  2865  2930  2995  3060  3125  3190  3255  3320  3385  3450  3515  3580  3645\n",
              "D  3890  3980  4070  4160  4250  4340  4430  4520  4610  4700  4790  4880  4970\n",
              "E  4915  5030  5145  5260  5375  5490  5605  5720  5835  5950  6065  6180  6295\n",
              "F  5940  6080  6220  6360  6500  6640  6780  6920  7060  7200  7340  7480  7620\n",
              "G  6965  7130  7295  7460  7625  7790  7955  8120  8285  8450  8615  8780  8945\n",
              "H  7990  8180  8370  8560  8750  8940  9130  9320  9510  9700  9890 10080 10270\n",
              "I  9015  9230  9445  9660  9875 10090 10305 10520 10735 10950 11165 11380 11595\n",
              "J 10040 10280 10520 10760 11000 11240 11480 11720 11960 12200 12440 12680 12920\n",
              "K 11065 11330 11595 11860 12125 12390 12655 12920 13185 13450 13715 13980 14245\n",
              "L 12090 12380 12670 12960 13250 13540 13830 14120 14410 14700 14990 15280 15570\n",
              "M 13115 13430 13745 14060 14375 14690 15005 15320 15635 15950 16265 16580 16895\n",
              "N 14140 14480 14820 15160 15500 15840 16180 16520 16860 17200 17540 17880 18220\n",
              "O 15165 15530 15895 16260 16625 16990 17355 17720 18085 18450 18815 19180 19545\n",
              "P 16190 16580 16970 17360 17750 18140 18530 18920 19310 19700 20090 20480 20870\n",
              "Q 17215 17630 18045 18460 18875 19290 19705 20120 20535 20950 21365 21780 22195\n",
              "R 18240 18680 19120 19560 20000 20440 20880 21320 21760 22200 22640 23080 23520\n",
              "S 19265 19730 20195 20660 21125 21590 22055 22520 22985 23450 23915 24380 24845\n",
              "T 20290 20780 21270 21760 22250 22740 23230 23720 24210 24700 25190 25680 26170\n",
              "  [,14] [,15] [,16] [,17] [,18] [,19] [,20]\n",
              "A  1010  1025  1040  1055  1070  1085  1100\n",
              "B  2360  2400  2440  2480  2520  2560  2600\n",
              "C  3710  3775  3840  3905  3970  4035  4100\n",
              "D  5060  5150  5240  5330  5420  5510  5600\n",
              "E  6410  6525  6640  6755  6870  6985  7100\n",
              "F  7760  7900  8040  8180  8320  8460  8600\n",
              "G  9110  9275  9440  9605  9770  9935 10100\n",
              "H 10460 10650 10840 11030 11220 11410 11600\n",
              "I 11810 12025 12240 12455 12670 12885 13100\n",
              "J 13160 13400 13640 13880 14120 14360 14600\n",
              "K 14510 14775 15040 15305 15570 15835 16100\n",
              "L 15860 16150 16440 16730 17020 17310 17600\n",
              "M 17210 17525 17840 18155 18470 18785 19100\n",
              "N 18560 18900 19240 19580 19920 20260 20600\n",
              "O 19910 20275 20640 21005 21370 21735 22100\n",
              "P 21260 21650 22040 22430 22820 23210 23600\n",
              "Q 22610 23025 23440 23855 24270 24685 25100\n",
              "R 23960 24400 24840 25280 25720 26160 26600\n",
              "S 25310 25775 26240 26705 27170 27635 28100\n",
              "T 26660 27150 27640 28130 28620 29110 29600"
            ]
          },
          "metadata": {},
          "output_type": "display_data"
        },
        {
          "data": {
            "text/html": [
              "<table class=\"dataframe\">\n",
              "<caption>A matrix: 5 × 50 of type int</caption>\n",
              "<tbody>\n",
              "\t<tr><td>1</td><td> 6</td><td>11</td><td>16</td><td>21</td><td>26</td><td>31</td><td>36</td><td>41</td><td>46</td><td>⋯</td><td>201</td><td>206</td><td>211</td><td>216</td><td>221</td><td>226</td><td>231</td><td>236</td><td>241</td><td>246</td></tr>\n",
              "\t<tr><td>2</td><td> 7</td><td>12</td><td>17</td><td>22</td><td>27</td><td>32</td><td>37</td><td>42</td><td>47</td><td>⋯</td><td>202</td><td>207</td><td>212</td><td>217</td><td>222</td><td>227</td><td>232</td><td>237</td><td>242</td><td>247</td></tr>\n",
              "\t<tr><td>3</td><td> 8</td><td>13</td><td>18</td><td>23</td><td>28</td><td>33</td><td>38</td><td>43</td><td>48</td><td>⋯</td><td>203</td><td>208</td><td>213</td><td>218</td><td>223</td><td>228</td><td>233</td><td>238</td><td>243</td><td>248</td></tr>\n",
              "\t<tr><td>4</td><td> 9</td><td>14</td><td>19</td><td>24</td><td>29</td><td>34</td><td>39</td><td>44</td><td>49</td><td>⋯</td><td>204</td><td>209</td><td>214</td><td>219</td><td>224</td><td>229</td><td>234</td><td>239</td><td>244</td><td>249</td></tr>\n",
              "\t<tr><td>5</td><td>10</td><td>15</td><td>20</td><td>25</td><td>30</td><td>35</td><td>40</td><td>45</td><td>50</td><td>⋯</td><td>205</td><td>210</td><td>215</td><td>220</td><td>225</td><td>230</td><td>235</td><td>240</td><td>245</td><td>250</td></tr>\n",
              "</tbody>\n",
              "</table>\n"
            ],
            "text/latex": [
              "A matrix: 5 × 50 of type int\n",
              "\\begin{tabular}{lllllllllllllllllllll}\n",
              "\t 1 &  6 & 11 & 16 & 21 & 26 & 31 & 36 & 41 & 46 & ⋯ & 201 & 206 & 211 & 216 & 221 & 226 & 231 & 236 & 241 & 246\\\\\n",
              "\t 2 &  7 & 12 & 17 & 22 & 27 & 32 & 37 & 42 & 47 & ⋯ & 202 & 207 & 212 & 217 & 222 & 227 & 232 & 237 & 242 & 247\\\\\n",
              "\t 3 &  8 & 13 & 18 & 23 & 28 & 33 & 38 & 43 & 48 & ⋯ & 203 & 208 & 213 & 218 & 223 & 228 & 233 & 238 & 243 & 248\\\\\n",
              "\t 4 &  9 & 14 & 19 & 24 & 29 & 34 & 39 & 44 & 49 & ⋯ & 204 & 209 & 214 & 219 & 224 & 229 & 234 & 239 & 244 & 249\\\\\n",
              "\t 5 & 10 & 15 & 20 & 25 & 30 & 35 & 40 & 45 & 50 & ⋯ & 205 & 210 & 215 & 220 & 225 & 230 & 235 & 240 & 245 & 250\\\\\n",
              "\\end{tabular}\n"
            ],
            "text/markdown": [
              "\n",
              "A matrix: 5 × 50 of type int\n",
              "\n",
              "| 1 |  6 | 11 | 16 | 21 | 26 | 31 | 36 | 41 | 46 | ⋯ | 201 | 206 | 211 | 216 | 221 | 226 | 231 | 236 | 241 | 246 |\n",
              "| 2 |  7 | 12 | 17 | 22 | 27 | 32 | 37 | 42 | 47 | ⋯ | 202 | 207 | 212 | 217 | 222 | 227 | 232 | 237 | 242 | 247 |\n",
              "| 3 |  8 | 13 | 18 | 23 | 28 | 33 | 38 | 43 | 48 | ⋯ | 203 | 208 | 213 | 218 | 223 | 228 | 233 | 238 | 243 | 248 |\n",
              "| 4 |  9 | 14 | 19 | 24 | 29 | 34 | 39 | 44 | 49 | ⋯ | 204 | 209 | 214 | 219 | 224 | 229 | 234 | 239 | 244 | 249 |\n",
              "| 5 | 10 | 15 | 20 | 25 | 30 | 35 | 40 | 45 | 50 | ⋯ | 205 | 210 | 215 | 220 | 225 | 230 | 235 | 240 | 245 | 250 |\n",
              "\n"
            ],
            "text/plain": [
              "     [,1] [,2] [,3] [,4] [,5] [,6] [,7] [,8] [,9] [,10] [,11] [,12] [,13] [,14]\n",
              "[1,] 1     6   11   16   21   26   31   36   41   46    ⋯     201   206   211  \n",
              "[2,] 2     7   12   17   22   27   32   37   42   47    ⋯     202   207   212  \n",
              "[3,] 3     8   13   18   23   28   33   38   43   48    ⋯     203   208   213  \n",
              "[4,] 4     9   14   19   24   29   34   39   44   49    ⋯     204   209   214  \n",
              "[5,] 5    10   15   20   25   30   35   40   45   50    ⋯     205   210   215  \n",
              "     [,15] [,16] [,17] [,18] [,19] [,20] [,21]\n",
              "[1,] 216   221   226   231   236   241   246  \n",
              "[2,] 217   222   227   232   237   242   247  \n",
              "[3,] 218   223   228   233   238   243   248  \n",
              "[4,] 219   224   229   234   239   244   249  \n",
              "[5,] 220   225   230   235   240   245   250  "
            ]
          },
          "metadata": {},
          "output_type": "display_data"
        },
        {
          "data": {
            "text/html": [
              "<table class=\"dataframe\">\n",
              "<caption>A matrix: 20 × 50 of type dbl</caption>\n",
              "<tbody>\n",
              "\t<tr><th scope=row>A</th><td>  55</td><td> 130</td><td> 205</td><td> 280</td><td>  355</td><td>  430</td><td>  505</td><td>  580</td><td>  655</td><td>  730</td><td>⋯</td><td> 3055</td><td>  3130</td><td>  3205</td><td>  3280</td><td>  3355</td><td>  3430</td><td>  3505</td><td>  3580</td><td>  3655</td><td>  3730</td></tr>\n",
              "\t<tr><th scope=row>B</th><td> 130</td><td> 330</td><td> 530</td><td> 730</td><td>  930</td><td> 1130</td><td> 1330</td><td> 1530</td><td> 1730</td><td> 1930</td><td>⋯</td><td> 8130</td><td>  8330</td><td>  8530</td><td>  8730</td><td>  8930</td><td>  9130</td><td>  9330</td><td>  9530</td><td>  9730</td><td>  9930</td></tr>\n",
              "\t<tr><th scope=row>C</th><td> 205</td><td> 530</td><td> 855</td><td>1180</td><td> 1505</td><td> 1830</td><td> 2155</td><td> 2480</td><td> 2805</td><td> 3130</td><td>⋯</td><td>13205</td><td> 13530</td><td> 13855</td><td> 14180</td><td> 14505</td><td> 14830</td><td> 15155</td><td> 15480</td><td> 15805</td><td> 16130</td></tr>\n",
              "\t<tr><th scope=row>D</th><td> 280</td><td> 730</td><td>1180</td><td>1630</td><td> 2080</td><td> 2530</td><td> 2980</td><td> 3430</td><td> 3880</td><td> 4330</td><td>⋯</td><td>18280</td><td> 18730</td><td> 19180</td><td> 19630</td><td> 20080</td><td> 20530</td><td> 20980</td><td> 21430</td><td> 21880</td><td> 22330</td></tr>\n",
              "\t<tr><th scope=row>E</th><td> 355</td><td> 930</td><td>1505</td><td>2080</td><td> 2655</td><td> 3230</td><td> 3805</td><td> 4380</td><td> 4955</td><td> 5530</td><td>⋯</td><td>23355</td><td> 23930</td><td> 24505</td><td> 25080</td><td> 25655</td><td> 26230</td><td> 26805</td><td> 27380</td><td> 27955</td><td> 28530</td></tr>\n",
              "\t<tr><th scope=row>F</th><td> 430</td><td>1130</td><td>1830</td><td>2530</td><td> 3230</td><td> 3930</td><td> 4630</td><td> 5330</td><td> 6030</td><td> 6730</td><td>⋯</td><td>28430</td><td> 29130</td><td> 29830</td><td> 30530</td><td> 31230</td><td> 31930</td><td> 32630</td><td> 33330</td><td> 34030</td><td> 34730</td></tr>\n",
              "\t<tr><th scope=row>G</th><td> 505</td><td>1330</td><td>2155</td><td>2980</td><td> 3805</td><td> 4630</td><td> 5455</td><td> 6280</td><td> 7105</td><td> 7930</td><td>⋯</td><td>33505</td><td> 34330</td><td> 35155</td><td> 35980</td><td> 36805</td><td> 37630</td><td> 38455</td><td> 39280</td><td> 40105</td><td> 40930</td></tr>\n",
              "\t<tr><th scope=row>H</th><td> 580</td><td>1530</td><td>2480</td><td>3430</td><td> 4380</td><td> 5330</td><td> 6280</td><td> 7230</td><td> 8180</td><td> 9130</td><td>⋯</td><td>38580</td><td> 39530</td><td> 40480</td><td> 41430</td><td> 42380</td><td> 43330</td><td> 44280</td><td> 45230</td><td> 46180</td><td> 47130</td></tr>\n",
              "\t<tr><th scope=row>I</th><td> 655</td><td>1730</td><td>2805</td><td>3880</td><td> 4955</td><td> 6030</td><td> 7105</td><td> 8180</td><td> 9255</td><td>10330</td><td>⋯</td><td>43655</td><td> 44730</td><td> 45805</td><td> 46880</td><td> 47955</td><td> 49030</td><td> 50105</td><td> 51180</td><td> 52255</td><td> 53330</td></tr>\n",
              "\t<tr><th scope=row>J</th><td> 730</td><td>1930</td><td>3130</td><td>4330</td><td> 5530</td><td> 6730</td><td> 7930</td><td> 9130</td><td>10330</td><td>11530</td><td>⋯</td><td>48730</td><td> 49930</td><td> 51130</td><td> 52330</td><td> 53530</td><td> 54730</td><td> 55930</td><td> 57130</td><td> 58330</td><td> 59530</td></tr>\n",
              "\t<tr><th scope=row>K</th><td> 805</td><td>2130</td><td>3455</td><td>4780</td><td> 6105</td><td> 7430</td><td> 8755</td><td>10080</td><td>11405</td><td>12730</td><td>⋯</td><td>53805</td><td> 55130</td><td> 56455</td><td> 57780</td><td> 59105</td><td> 60430</td><td> 61755</td><td> 63080</td><td> 64405</td><td> 65730</td></tr>\n",
              "\t<tr><th scope=row>L</th><td> 880</td><td>2330</td><td>3780</td><td>5230</td><td> 6680</td><td> 8130</td><td> 9580</td><td>11030</td><td>12480</td><td>13930</td><td>⋯</td><td>58880</td><td> 60330</td><td> 61780</td><td> 63230</td><td> 64680</td><td> 66130</td><td> 67580</td><td> 69030</td><td> 70480</td><td> 71930</td></tr>\n",
              "\t<tr><th scope=row>M</th><td> 955</td><td>2530</td><td>4105</td><td>5680</td><td> 7255</td><td> 8830</td><td>10405</td><td>11980</td><td>13555</td><td>15130</td><td>⋯</td><td>63955</td><td> 65530</td><td> 67105</td><td> 68680</td><td> 70255</td><td> 71830</td><td> 73405</td><td> 74980</td><td> 76555</td><td> 78130</td></tr>\n",
              "\t<tr><th scope=row>N</th><td>1030</td><td>2730</td><td>4430</td><td>6130</td><td> 7830</td><td> 9530</td><td>11230</td><td>12930</td><td>14630</td><td>16330</td><td>⋯</td><td>69030</td><td> 70730</td><td> 72430</td><td> 74130</td><td> 75830</td><td> 77530</td><td> 79230</td><td> 80930</td><td> 82630</td><td> 84330</td></tr>\n",
              "\t<tr><th scope=row>O</th><td>1105</td><td>2930</td><td>4755</td><td>6580</td><td> 8405</td><td>10230</td><td>12055</td><td>13880</td><td>15705</td><td>17530</td><td>⋯</td><td>74105</td><td> 75930</td><td> 77755</td><td> 79580</td><td> 81405</td><td> 83230</td><td> 85055</td><td> 86880</td><td> 88705</td><td> 90530</td></tr>\n",
              "\t<tr><th scope=row>P</th><td>1180</td><td>3130</td><td>5080</td><td>7030</td><td> 8980</td><td>10930</td><td>12880</td><td>14830</td><td>16780</td><td>18730</td><td>⋯</td><td>79180</td><td> 81130</td><td> 83080</td><td> 85030</td><td> 86980</td><td> 88930</td><td> 90880</td><td> 92830</td><td> 94780</td><td> 96730</td></tr>\n",
              "\t<tr><th scope=row>Q</th><td>1255</td><td>3330</td><td>5405</td><td>7480</td><td> 9555</td><td>11630</td><td>13705</td><td>15780</td><td>17855</td><td>19930</td><td>⋯</td><td>84255</td><td> 86330</td><td> 88405</td><td> 90480</td><td> 92555</td><td> 94630</td><td> 96705</td><td> 98780</td><td>100855</td><td>102930</td></tr>\n",
              "\t<tr><th scope=row>R</th><td>1330</td><td>3530</td><td>5730</td><td>7930</td><td>10130</td><td>12330</td><td>14530</td><td>16730</td><td>18930</td><td>21130</td><td>⋯</td><td>89330</td><td> 91530</td><td> 93730</td><td> 95930</td><td> 98130</td><td>100330</td><td>102530</td><td>104730</td><td>106930</td><td>109130</td></tr>\n",
              "\t<tr><th scope=row>S</th><td>1405</td><td>3730</td><td>6055</td><td>8380</td><td>10705</td><td>13030</td><td>15355</td><td>17680</td><td>20005</td><td>22330</td><td>⋯</td><td>94405</td><td> 96730</td><td> 99055</td><td>101380</td><td>103705</td><td>106030</td><td>108355</td><td>110680</td><td>113005</td><td>115330</td></tr>\n",
              "\t<tr><th scope=row>T</th><td>1480</td><td>3930</td><td>6380</td><td>8830</td><td>11280</td><td>13730</td><td>16180</td><td>18630</td><td>21080</td><td>23530</td><td>⋯</td><td>99480</td><td>101930</td><td>104380</td><td>106830</td><td>109280</td><td>111730</td><td>114180</td><td>116630</td><td>119080</td><td>121530</td></tr>\n",
              "</tbody>\n",
              "</table>\n"
            ],
            "text/latex": [
              "A matrix: 20 × 50 of type dbl\n",
              "\\begin{tabular}{r|lllllllllllllllllllll}\n",
              "\tA &   55 &  130 &  205 &  280 &   355 &   430 &   505 &   580 &   655 &   730 & ⋯ &  3055 &   3130 &   3205 &   3280 &   3355 &   3430 &   3505 &   3580 &   3655 &   3730\\\\\n",
              "\tB &  130 &  330 &  530 &  730 &   930 &  1130 &  1330 &  1530 &  1730 &  1930 & ⋯ &  8130 &   8330 &   8530 &   8730 &   8930 &   9130 &   9330 &   9530 &   9730 &   9930\\\\\n",
              "\tC &  205 &  530 &  855 & 1180 &  1505 &  1830 &  2155 &  2480 &  2805 &  3130 & ⋯ & 13205 &  13530 &  13855 &  14180 &  14505 &  14830 &  15155 &  15480 &  15805 &  16130\\\\\n",
              "\tD &  280 &  730 & 1180 & 1630 &  2080 &  2530 &  2980 &  3430 &  3880 &  4330 & ⋯ & 18280 &  18730 &  19180 &  19630 &  20080 &  20530 &  20980 &  21430 &  21880 &  22330\\\\\n",
              "\tE &  355 &  930 & 1505 & 2080 &  2655 &  3230 &  3805 &  4380 &  4955 &  5530 & ⋯ & 23355 &  23930 &  24505 &  25080 &  25655 &  26230 &  26805 &  27380 &  27955 &  28530\\\\\n",
              "\tF &  430 & 1130 & 1830 & 2530 &  3230 &  3930 &  4630 &  5330 &  6030 &  6730 & ⋯ & 28430 &  29130 &  29830 &  30530 &  31230 &  31930 &  32630 &  33330 &  34030 &  34730\\\\\n",
              "\tG &  505 & 1330 & 2155 & 2980 &  3805 &  4630 &  5455 &  6280 &  7105 &  7930 & ⋯ & 33505 &  34330 &  35155 &  35980 &  36805 &  37630 &  38455 &  39280 &  40105 &  40930\\\\\n",
              "\tH &  580 & 1530 & 2480 & 3430 &  4380 &  5330 &  6280 &  7230 &  8180 &  9130 & ⋯ & 38580 &  39530 &  40480 &  41430 &  42380 &  43330 &  44280 &  45230 &  46180 &  47130\\\\\n",
              "\tI &  655 & 1730 & 2805 & 3880 &  4955 &  6030 &  7105 &  8180 &  9255 & 10330 & ⋯ & 43655 &  44730 &  45805 &  46880 &  47955 &  49030 &  50105 &  51180 &  52255 &  53330\\\\\n",
              "\tJ &  730 & 1930 & 3130 & 4330 &  5530 &  6730 &  7930 &  9130 & 10330 & 11530 & ⋯ & 48730 &  49930 &  51130 &  52330 &  53530 &  54730 &  55930 &  57130 &  58330 &  59530\\\\\n",
              "\tK &  805 & 2130 & 3455 & 4780 &  6105 &  7430 &  8755 & 10080 & 11405 & 12730 & ⋯ & 53805 &  55130 &  56455 &  57780 &  59105 &  60430 &  61755 &  63080 &  64405 &  65730\\\\\n",
              "\tL &  880 & 2330 & 3780 & 5230 &  6680 &  8130 &  9580 & 11030 & 12480 & 13930 & ⋯ & 58880 &  60330 &  61780 &  63230 &  64680 &  66130 &  67580 &  69030 &  70480 &  71930\\\\\n",
              "\tM &  955 & 2530 & 4105 & 5680 &  7255 &  8830 & 10405 & 11980 & 13555 & 15130 & ⋯ & 63955 &  65530 &  67105 &  68680 &  70255 &  71830 &  73405 &  74980 &  76555 &  78130\\\\\n",
              "\tN & 1030 & 2730 & 4430 & 6130 &  7830 &  9530 & 11230 & 12930 & 14630 & 16330 & ⋯ & 69030 &  70730 &  72430 &  74130 &  75830 &  77530 &  79230 &  80930 &  82630 &  84330\\\\\n",
              "\tO & 1105 & 2930 & 4755 & 6580 &  8405 & 10230 & 12055 & 13880 & 15705 & 17530 & ⋯ & 74105 &  75930 &  77755 &  79580 &  81405 &  83230 &  85055 &  86880 &  88705 &  90530\\\\\n",
              "\tP & 1180 & 3130 & 5080 & 7030 &  8980 & 10930 & 12880 & 14830 & 16780 & 18730 & ⋯ & 79180 &  81130 &  83080 &  85030 &  86980 &  88930 &  90880 &  92830 &  94780 &  96730\\\\\n",
              "\tQ & 1255 & 3330 & 5405 & 7480 &  9555 & 11630 & 13705 & 15780 & 17855 & 19930 & ⋯ & 84255 &  86330 &  88405 &  90480 &  92555 &  94630 &  96705 &  98780 & 100855 & 102930\\\\\n",
              "\tR & 1330 & 3530 & 5730 & 7930 & 10130 & 12330 & 14530 & 16730 & 18930 & 21130 & ⋯ & 89330 &  91530 &  93730 &  95930 &  98130 & 100330 & 102530 & 104730 & 106930 & 109130\\\\\n",
              "\tS & 1405 & 3730 & 6055 & 8380 & 10705 & 13030 & 15355 & 17680 & 20005 & 22330 & ⋯ & 94405 &  96730 &  99055 & 101380 & 103705 & 106030 & 108355 & 110680 & 113005 & 115330\\\\\n",
              "\tT & 1480 & 3930 & 6380 & 8830 & 11280 & 13730 & 16180 & 18630 & 21080 & 23530 & ⋯ & 99480 & 101930 & 104380 & 106830 & 109280 & 111730 & 114180 & 116630 & 119080 & 121530\\\\\n",
              "\\end{tabular}\n"
            ],
            "text/markdown": [
              "\n",
              "A matrix: 20 × 50 of type dbl\n",
              "\n",
              "| A |   55 |  130 |  205 |  280 |   355 |   430 |   505 |   580 |   655 |   730 | ⋯ |  3055 |   3130 |   3205 |   3280 |   3355 |   3430 |   3505 |   3580 |   3655 |   3730 |\n",
              "| B |  130 |  330 |  530 |  730 |   930 |  1130 |  1330 |  1530 |  1730 |  1930 | ⋯ |  8130 |   8330 |   8530 |   8730 |   8930 |   9130 |   9330 |   9530 |   9730 |   9930 |\n",
              "| C |  205 |  530 |  855 | 1180 |  1505 |  1830 |  2155 |  2480 |  2805 |  3130 | ⋯ | 13205 |  13530 |  13855 |  14180 |  14505 |  14830 |  15155 |  15480 |  15805 |  16130 |\n",
              "| D |  280 |  730 | 1180 | 1630 |  2080 |  2530 |  2980 |  3430 |  3880 |  4330 | ⋯ | 18280 |  18730 |  19180 |  19630 |  20080 |  20530 |  20980 |  21430 |  21880 |  22330 |\n",
              "| E |  355 |  930 | 1505 | 2080 |  2655 |  3230 |  3805 |  4380 |  4955 |  5530 | ⋯ | 23355 |  23930 |  24505 |  25080 |  25655 |  26230 |  26805 |  27380 |  27955 |  28530 |\n",
              "| F |  430 | 1130 | 1830 | 2530 |  3230 |  3930 |  4630 |  5330 |  6030 |  6730 | ⋯ | 28430 |  29130 |  29830 |  30530 |  31230 |  31930 |  32630 |  33330 |  34030 |  34730 |\n",
              "| G |  505 | 1330 | 2155 | 2980 |  3805 |  4630 |  5455 |  6280 |  7105 |  7930 | ⋯ | 33505 |  34330 |  35155 |  35980 |  36805 |  37630 |  38455 |  39280 |  40105 |  40930 |\n",
              "| H |  580 | 1530 | 2480 | 3430 |  4380 |  5330 |  6280 |  7230 |  8180 |  9130 | ⋯ | 38580 |  39530 |  40480 |  41430 |  42380 |  43330 |  44280 |  45230 |  46180 |  47130 |\n",
              "| I |  655 | 1730 | 2805 | 3880 |  4955 |  6030 |  7105 |  8180 |  9255 | 10330 | ⋯ | 43655 |  44730 |  45805 |  46880 |  47955 |  49030 |  50105 |  51180 |  52255 |  53330 |\n",
              "| J |  730 | 1930 | 3130 | 4330 |  5530 |  6730 |  7930 |  9130 | 10330 | 11530 | ⋯ | 48730 |  49930 |  51130 |  52330 |  53530 |  54730 |  55930 |  57130 |  58330 |  59530 |\n",
              "| K |  805 | 2130 | 3455 | 4780 |  6105 |  7430 |  8755 | 10080 | 11405 | 12730 | ⋯ | 53805 |  55130 |  56455 |  57780 |  59105 |  60430 |  61755 |  63080 |  64405 |  65730 |\n",
              "| L |  880 | 2330 | 3780 | 5230 |  6680 |  8130 |  9580 | 11030 | 12480 | 13930 | ⋯ | 58880 |  60330 |  61780 |  63230 |  64680 |  66130 |  67580 |  69030 |  70480 |  71930 |\n",
              "| M |  955 | 2530 | 4105 | 5680 |  7255 |  8830 | 10405 | 11980 | 13555 | 15130 | ⋯ | 63955 |  65530 |  67105 |  68680 |  70255 |  71830 |  73405 |  74980 |  76555 |  78130 |\n",
              "| N | 1030 | 2730 | 4430 | 6130 |  7830 |  9530 | 11230 | 12930 | 14630 | 16330 | ⋯ | 69030 |  70730 |  72430 |  74130 |  75830 |  77530 |  79230 |  80930 |  82630 |  84330 |\n",
              "| O | 1105 | 2930 | 4755 | 6580 |  8405 | 10230 | 12055 | 13880 | 15705 | 17530 | ⋯ | 74105 |  75930 |  77755 |  79580 |  81405 |  83230 |  85055 |  86880 |  88705 |  90530 |\n",
              "| P | 1180 | 3130 | 5080 | 7030 |  8980 | 10930 | 12880 | 14830 | 16780 | 18730 | ⋯ | 79180 |  81130 |  83080 |  85030 |  86980 |  88930 |  90880 |  92830 |  94780 |  96730 |\n",
              "| Q | 1255 | 3330 | 5405 | 7480 |  9555 | 11630 | 13705 | 15780 | 17855 | 19930 | ⋯ | 84255 |  86330 |  88405 |  90480 |  92555 |  94630 |  96705 |  98780 | 100855 | 102930 |\n",
              "| R | 1330 | 3530 | 5730 | 7930 | 10130 | 12330 | 14530 | 16730 | 18930 | 21130 | ⋯ | 89330 |  91530 |  93730 |  95930 |  98130 | 100330 | 102530 | 104730 | 106930 | 109130 |\n",
              "| S | 1405 | 3730 | 6055 | 8380 | 10705 | 13030 | 15355 | 17680 | 20005 | 22330 | ⋯ | 94405 |  96730 |  99055 | 101380 | 103705 | 106030 | 108355 | 110680 | 113005 | 115330 |\n",
              "| T | 1480 | 3930 | 6380 | 8830 | 11280 | 13730 | 16180 | 18630 | 21080 | 23530 | ⋯ | 99480 | 101930 | 104380 | 106830 | 109280 | 111730 | 114180 | 116630 | 119080 | 121530 |\n",
              "\n"
            ],
            "text/plain": [
              "  [,1] [,2] [,3] [,4] [,5]  [,6]  [,7]  [,8]  [,9]  [,10] [,11] [,12] [,13] \n",
              "A   55  130  205  280   355   430   505   580   655   730 ⋯      3055   3130\n",
              "B  130  330  530  730   930  1130  1330  1530  1730  1930 ⋯      8130   8330\n",
              "C  205  530  855 1180  1505  1830  2155  2480  2805  3130 ⋯     13205  13530\n",
              "D  280  730 1180 1630  2080  2530  2980  3430  3880  4330 ⋯     18280  18730\n",
              "E  355  930 1505 2080  2655  3230  3805  4380  4955  5530 ⋯     23355  23930\n",
              "F  430 1130 1830 2530  3230  3930  4630  5330  6030  6730 ⋯     28430  29130\n",
              "G  505 1330 2155 2980  3805  4630  5455  6280  7105  7930 ⋯     33505  34330\n",
              "H  580 1530 2480 3430  4380  5330  6280  7230  8180  9130 ⋯     38580  39530\n",
              "I  655 1730 2805 3880  4955  6030  7105  8180  9255 10330 ⋯     43655  44730\n",
              "J  730 1930 3130 4330  5530  6730  7930  9130 10330 11530 ⋯     48730  49930\n",
              "K  805 2130 3455 4780  6105  7430  8755 10080 11405 12730 ⋯     53805  55130\n",
              "L  880 2330 3780 5230  6680  8130  9580 11030 12480 13930 ⋯     58880  60330\n",
              "M  955 2530 4105 5680  7255  8830 10405 11980 13555 15130 ⋯     63955  65530\n",
              "N 1030 2730 4430 6130  7830  9530 11230 12930 14630 16330 ⋯     69030  70730\n",
              "O 1105 2930 4755 6580  8405 10230 12055 13880 15705 17530 ⋯     74105  75930\n",
              "P 1180 3130 5080 7030  8980 10930 12880 14830 16780 18730 ⋯     79180  81130\n",
              "Q 1255 3330 5405 7480  9555 11630 13705 15780 17855 19930 ⋯     84255  86330\n",
              "R 1330 3530 5730 7930 10130 12330 14530 16730 18930 21130 ⋯     89330  91530\n",
              "S 1405 3730 6055 8380 10705 13030 15355 17680 20005 22330 ⋯     94405  96730\n",
              "T 1480 3930 6380 8830 11280 13730 16180 18630 21080 23530 ⋯     99480 101930\n",
              "  [,14]  [,15]  [,16]  [,17]  [,18]  [,19]  [,20]  [,21] \n",
              "A   3205   3280   3355   3430   3505   3580   3655   3730\n",
              "B   8530   8730   8930   9130   9330   9530   9730   9930\n",
              "C  13855  14180  14505  14830  15155  15480  15805  16130\n",
              "D  19180  19630  20080  20530  20980  21430  21880  22330\n",
              "E  24505  25080  25655  26230  26805  27380  27955  28530\n",
              "F  29830  30530  31230  31930  32630  33330  34030  34730\n",
              "G  35155  35980  36805  37630  38455  39280  40105  40930\n",
              "H  40480  41430  42380  43330  44280  45230  46180  47130\n",
              "I  45805  46880  47955  49030  50105  51180  52255  53330\n",
              "J  51130  52330  53530  54730  55930  57130  58330  59530\n",
              "K  56455  57780  59105  60430  61755  63080  64405  65730\n",
              "L  61780  63230  64680  66130  67580  69030  70480  71930\n",
              "M  67105  68680  70255  71830  73405  74980  76555  78130\n",
              "N  72430  74130  75830  77530  79230  80930  82630  84330\n",
              "O  77755  79580  81405  83230  85055  86880  88705  90530\n",
              "P  83080  85030  86980  88930  90880  92830  94780  96730\n",
              "Q  88405  90480  92555  94630  96705  98780 100855 102930\n",
              "R  93730  95930  98130 100330 102530 104730 106930 109130\n",
              "S  99055 101380 103705 106030 108355 110680 113005 115330\n",
              "T 104380 106830 109280 111730 114180 116630 119080 121530"
            ]
          },
          "metadata": {},
          "output_type": "display_data"
        }
      ],
      "source": [
        "# Álgbra de matrices  ------------\n",
        "\n",
        "m1 + m2\n",
        "\n",
        "m1 * m2 #-> no es la multiplicacion matricial\n",
        "\n",
        "m1 #-> 20 filas, 5 columans\n",
        "m2 #-> 20 filas, 5 columans\n",
        "\n",
        "\n",
        "m1 %*% t(m2) #(20, 5) x (5, 20) -> 20, 20 -> multiplicación matricial\n",
        "\n",
        "#(20, 5) x (5, 50) -> 20, 50\n",
        "m3 <- matrix(1:250,nrow = 5, ncol = 50)\n",
        "m3\n",
        "\n",
        "\n",
        "m1 %*% m3"
      ]
    },
    {
      "cell_type": "code",
      "execution_count": 49,
      "metadata": {
        "id": "crNocLSqSqpA",
        "trusted": true,
        "vscode": {
          "languageId": "r"
        }
      },
      "outputs": [
        {
          "data": {
            "text/html": [
              "<table class=\"dataframe\">\n",
              "<caption>A matrix: 20 × 5 of type dbl</caption>\n",
              "<thead>\n",
              "\t<tr><th></th><th scope=col>a</th><th scope=col>b</th><th scope=col>c</th><th scope=col>d</th><th scope=col>e</th></tr>\n",
              "</thead>\n",
              "<tbody>\n",
              "\t<tr><th scope=row>A</th><td>   1</td><td>  42</td><td> 123</td><td> 244</td><td>  405</td></tr>\n",
              "\t<tr><th scope=row>B</th><td>  12</td><td> 154</td><td> 336</td><td> 558</td><td>  820</td></tr>\n",
              "\t<tr><th scope=row>C</th><td>  33</td><td> 276</td><td> 559</td><td> 882</td><td> 1245</td></tr>\n",
              "\t<tr><th scope=row>D</th><td>  64</td><td> 408</td><td> 792</td><td>1216</td><td> 1680</td></tr>\n",
              "\t<tr><th scope=row>E</th><td> 105</td><td> 550</td><td>1035</td><td>1560</td><td> 2125</td></tr>\n",
              "\t<tr><th scope=row>F</th><td> 156</td><td> 702</td><td>1288</td><td>1914</td><td> 2580</td></tr>\n",
              "\t<tr><th scope=row>G</th><td> 217</td><td> 864</td><td>1551</td><td>2278</td><td> 3045</td></tr>\n",
              "\t<tr><th scope=row>H</th><td> 288</td><td>1036</td><td>1824</td><td>2652</td><td> 3520</td></tr>\n",
              "\t<tr><th scope=row>I</th><td> 369</td><td>1218</td><td>2107</td><td>3036</td><td> 4005</td></tr>\n",
              "\t<tr><th scope=row>J</th><td> 460</td><td>1410</td><td>2400</td><td>3430</td><td> 9000</td></tr>\n",
              "\t<tr><th scope=row>K</th><td> 561</td><td>1612</td><td>2703</td><td>3834</td><td> 5005</td></tr>\n",
              "\t<tr><th scope=row>L</th><td> 672</td><td>1824</td><td>3016</td><td>4248</td><td> 5520</td></tr>\n",
              "\t<tr><th scope=row>M</th><td> 793</td><td>2046</td><td>3339</td><td>4672</td><td> 6045</td></tr>\n",
              "\t<tr><th scope=row>N</th><td> 924</td><td>2278</td><td>3672</td><td>5106</td><td> 6580</td></tr>\n",
              "\t<tr><th scope=row>O</th><td>1065</td><td>2520</td><td>4015</td><td>5550</td><td> 7125</td></tr>\n",
              "\t<tr><th scope=row>P</th><td>1216</td><td>2772</td><td>4368</td><td>6004</td><td> 7680</td></tr>\n",
              "\t<tr><th scope=row>Q</th><td>1377</td><td>3034</td><td>4731</td><td>6468</td><td> 8245</td></tr>\n",
              "\t<tr><th scope=row>R</th><td>1548</td><td>3306</td><td>5104</td><td>6942</td><td> 8820</td></tr>\n",
              "\t<tr><th scope=row>S</th><td>1729</td><td>3588</td><td>5487</td><td>7426</td><td> 9405</td></tr>\n",
              "\t<tr><th scope=row>T</th><td>1920</td><td>3880</td><td>5880</td><td>7920</td><td>10000</td></tr>\n",
              "</tbody>\n",
              "</table>\n"
            ],
            "text/latex": [
              "A matrix: 20 × 5 of type dbl\n",
              "\\begin{tabular}{r|lllll}\n",
              "  & a & b & c & d & e\\\\\n",
              "\\hline\n",
              "\tA &    1 &   42 &  123 &  244 &   405\\\\\n",
              "\tB &   12 &  154 &  336 &  558 &   820\\\\\n",
              "\tC &   33 &  276 &  559 &  882 &  1245\\\\\n",
              "\tD &   64 &  408 &  792 & 1216 &  1680\\\\\n",
              "\tE &  105 &  550 & 1035 & 1560 &  2125\\\\\n",
              "\tF &  156 &  702 & 1288 & 1914 &  2580\\\\\n",
              "\tG &  217 &  864 & 1551 & 2278 &  3045\\\\\n",
              "\tH &  288 & 1036 & 1824 & 2652 &  3520\\\\\n",
              "\tI &  369 & 1218 & 2107 & 3036 &  4005\\\\\n",
              "\tJ &  460 & 1410 & 2400 & 3430 &  9000\\\\\n",
              "\tK &  561 & 1612 & 2703 & 3834 &  5005\\\\\n",
              "\tL &  672 & 1824 & 3016 & 4248 &  5520\\\\\n",
              "\tM &  793 & 2046 & 3339 & 4672 &  6045\\\\\n",
              "\tN &  924 & 2278 & 3672 & 5106 &  6580\\\\\n",
              "\tO & 1065 & 2520 & 4015 & 5550 &  7125\\\\\n",
              "\tP & 1216 & 2772 & 4368 & 6004 &  7680\\\\\n",
              "\tQ & 1377 & 3034 & 4731 & 6468 &  8245\\\\\n",
              "\tR & 1548 & 3306 & 5104 & 6942 &  8820\\\\\n",
              "\tS & 1729 & 3588 & 5487 & 7426 &  9405\\\\\n",
              "\tT & 1920 & 3880 & 5880 & 7920 & 10000\\\\\n",
              "\\end{tabular}\n"
            ],
            "text/markdown": [
              "\n",
              "A matrix: 20 × 5 of type dbl\n",
              "\n",
              "| <!--/--> | a | b | c | d | e |\n",
              "|---|---|---|---|---|---|\n",
              "| A |    1 |   42 |  123 |  244 |   405 |\n",
              "| B |   12 |  154 |  336 |  558 |   820 |\n",
              "| C |   33 |  276 |  559 |  882 |  1245 |\n",
              "| D |   64 |  408 |  792 | 1216 |  1680 |\n",
              "| E |  105 |  550 | 1035 | 1560 |  2125 |\n",
              "| F |  156 |  702 | 1288 | 1914 |  2580 |\n",
              "| G |  217 |  864 | 1551 | 2278 |  3045 |\n",
              "| H |  288 | 1036 | 1824 | 2652 |  3520 |\n",
              "| I |  369 | 1218 | 2107 | 3036 |  4005 |\n",
              "| J |  460 | 1410 | 2400 | 3430 |  9000 |\n",
              "| K |  561 | 1612 | 2703 | 3834 |  5005 |\n",
              "| L |  672 | 1824 | 3016 | 4248 |  5520 |\n",
              "| M |  793 | 2046 | 3339 | 4672 |  6045 |\n",
              "| N |  924 | 2278 | 3672 | 5106 |  6580 |\n",
              "| O | 1065 | 2520 | 4015 | 5550 |  7125 |\n",
              "| P | 1216 | 2772 | 4368 | 6004 |  7680 |\n",
              "| Q | 1377 | 3034 | 4731 | 6468 |  8245 |\n",
              "| R | 1548 | 3306 | 5104 | 6942 |  8820 |\n",
              "| S | 1729 | 3588 | 5487 | 7426 |  9405 |\n",
              "| T | 1920 | 3880 | 5880 | 7920 | 10000 |\n",
              "\n"
            ],
            "text/plain": [
              "  a    b    c    d    e    \n",
              "A    1   42  123  244   405\n",
              "B   12  154  336  558   820\n",
              "C   33  276  559  882  1245\n",
              "D   64  408  792 1216  1680\n",
              "E  105  550 1035 1560  2125\n",
              "F  156  702 1288 1914  2580\n",
              "G  217  864 1551 2278  3045\n",
              "H  288 1036 1824 2652  3520\n",
              "I  369 1218 2107 3036  4005\n",
              "J  460 1410 2400 3430  9000\n",
              "K  561 1612 2703 3834  5005\n",
              "L  672 1824 3016 4248  5520\n",
              "M  793 2046 3339 4672  6045\n",
              "N  924 2278 3672 5106  6580\n",
              "O 1065 2520 4015 5550  7125\n",
              "P 1216 2772 4368 6004  7680\n",
              "Q 1377 3034 4731 6468  8245\n",
              "R 1548 3306 5104 6942  8820\n",
              "S 1729 3588 5487 7426  9405\n",
              "T 1920 3880 5880 7920 10000"
            ]
          },
          "metadata": {},
          "output_type": "display_data"
        }
      ],
      "source": [
        "# Multiplicación de matrices\n",
        "m1 * m2 # multiplicación componente a componente\n"
      ]
    },
    {
      "cell_type": "markdown",
      "metadata": {},
      "source": []
    },
    {
      "cell_type": "markdown",
      "metadata": {},
      "source": [
        "### Matriz Transpuesta\n",
        "Transponer una matriz consiste en **intercambiar sus filas por columnas**. Es decir, el elemento en la posición `[i, j]` pasa a la posición `[j, i]`.\n",
        "\n",
        "**¿Para qué sirve?**\n",
        "- En álgebra lineal, se usa para definir propiedades como **simetría**.\n",
        "- En modelos estadísticos, ayuda a reorganizar datos para el cálculo de productos matriciales.\n",
        "- En machine learning, se usa para ajustar dimensiones en operaciones de entrenamiento.\n",
        "\n",
        "```r\n",
        "# Ejemplo en R:\n",
        "A <- matrix(1:6, nrow=2)\n",
        "t(A)  # Transpuesta de A\n",
        "```"
      ]
    },
    {
      "cell_type": "code",
      "execution_count": 29,
      "metadata": {
        "id": "yxrjsz27Sqo8",
        "trusted": true,
        "vscode": {
          "languageId": "r"
        }
      },
      "outputs": [
        {
          "data": {
            "text/html": [
              "<table class=\"dataframe\">\n",
              "<caption>A matrix: 20 × 5 of type int</caption>\n",
              "<thead>\n",
              "\t<tr><th></th><th scope=col>a</th><th scope=col>b</th><th scope=col>c</th><th scope=col>d</th><th scope=col>e</th></tr>\n",
              "</thead>\n",
              "<tbody>\n",
              "\t<tr><th scope=row>A</th><td> 1</td><td> 2</td><td> 3</td><td> 4</td><td>  5</td></tr>\n",
              "\t<tr><th scope=row>B</th><td> 6</td><td> 7</td><td> 8</td><td> 9</td><td> 10</td></tr>\n",
              "\t<tr><th scope=row>C</th><td>11</td><td>12</td><td>13</td><td>14</td><td> 15</td></tr>\n",
              "\t<tr><th scope=row>D</th><td>16</td><td>17</td><td>18</td><td>19</td><td> 20</td></tr>\n",
              "\t<tr><th scope=row>E</th><td>21</td><td>22</td><td>23</td><td>24</td><td> 25</td></tr>\n",
              "\t<tr><th scope=row>F</th><td>26</td><td>27</td><td>28</td><td>29</td><td> 30</td></tr>\n",
              "\t<tr><th scope=row>G</th><td>31</td><td>32</td><td>33</td><td>34</td><td> 35</td></tr>\n",
              "\t<tr><th scope=row>H</th><td>36</td><td>37</td><td>38</td><td>39</td><td> 40</td></tr>\n",
              "\t<tr><th scope=row>I</th><td>41</td><td>42</td><td>43</td><td>44</td><td> 45</td></tr>\n",
              "\t<tr><th scope=row>J</th><td>46</td><td>47</td><td>48</td><td>49</td><td> 50</td></tr>\n",
              "\t<tr><th scope=row>K</th><td>51</td><td>52</td><td>53</td><td>54</td><td> 55</td></tr>\n",
              "\t<tr><th scope=row>L</th><td>56</td><td>57</td><td>58</td><td>59</td><td> 60</td></tr>\n",
              "\t<tr><th scope=row>M</th><td>61</td><td>62</td><td>63</td><td>64</td><td> 65</td></tr>\n",
              "\t<tr><th scope=row>N</th><td>66</td><td>67</td><td>68</td><td>69</td><td> 70</td></tr>\n",
              "\t<tr><th scope=row>O</th><td>71</td><td>72</td><td>73</td><td>74</td><td> 75</td></tr>\n",
              "\t<tr><th scope=row>P</th><td>76</td><td>77</td><td>78</td><td>79</td><td> 80</td></tr>\n",
              "\t<tr><th scope=row>Q</th><td>81</td><td>82</td><td>83</td><td>84</td><td> 85</td></tr>\n",
              "\t<tr><th scope=row>R</th><td>86</td><td>87</td><td>88</td><td>89</td><td> 90</td></tr>\n",
              "\t<tr><th scope=row>S</th><td>91</td><td>92</td><td>93</td><td>94</td><td> 95</td></tr>\n",
              "\t<tr><th scope=row>T</th><td>96</td><td>97</td><td>98</td><td>99</td><td>100</td></tr>\n",
              "</tbody>\n",
              "</table>\n"
            ],
            "text/latex": [
              "A matrix: 20 × 5 of type int\n",
              "\\begin{tabular}{r|lllll}\n",
              "  & a & b & c & d & e\\\\\n",
              "\\hline\n",
              "\tA &  1 &  2 &  3 &  4 &   5\\\\\n",
              "\tB &  6 &  7 &  8 &  9 &  10\\\\\n",
              "\tC & 11 & 12 & 13 & 14 &  15\\\\\n",
              "\tD & 16 & 17 & 18 & 19 &  20\\\\\n",
              "\tE & 21 & 22 & 23 & 24 &  25\\\\\n",
              "\tF & 26 & 27 & 28 & 29 &  30\\\\\n",
              "\tG & 31 & 32 & 33 & 34 &  35\\\\\n",
              "\tH & 36 & 37 & 38 & 39 &  40\\\\\n",
              "\tI & 41 & 42 & 43 & 44 &  45\\\\\n",
              "\tJ & 46 & 47 & 48 & 49 &  50\\\\\n",
              "\tK & 51 & 52 & 53 & 54 &  55\\\\\n",
              "\tL & 56 & 57 & 58 & 59 &  60\\\\\n",
              "\tM & 61 & 62 & 63 & 64 &  65\\\\\n",
              "\tN & 66 & 67 & 68 & 69 &  70\\\\\n",
              "\tO & 71 & 72 & 73 & 74 &  75\\\\\n",
              "\tP & 76 & 77 & 78 & 79 &  80\\\\\n",
              "\tQ & 81 & 82 & 83 & 84 &  85\\\\\n",
              "\tR & 86 & 87 & 88 & 89 &  90\\\\\n",
              "\tS & 91 & 92 & 93 & 94 &  95\\\\\n",
              "\tT & 96 & 97 & 98 & 99 & 100\\\\\n",
              "\\end{tabular}\n"
            ],
            "text/markdown": [
              "\n",
              "A matrix: 20 × 5 of type int\n",
              "\n",
              "| <!--/--> | a | b | c | d | e |\n",
              "|---|---|---|---|---|---|\n",
              "| A |  1 |  2 |  3 |  4 |   5 |\n",
              "| B |  6 |  7 |  8 |  9 |  10 |\n",
              "| C | 11 | 12 | 13 | 14 |  15 |\n",
              "| D | 16 | 17 | 18 | 19 |  20 |\n",
              "| E | 21 | 22 | 23 | 24 |  25 |\n",
              "| F | 26 | 27 | 28 | 29 |  30 |\n",
              "| G | 31 | 32 | 33 | 34 |  35 |\n",
              "| H | 36 | 37 | 38 | 39 |  40 |\n",
              "| I | 41 | 42 | 43 | 44 |  45 |\n",
              "| J | 46 | 47 | 48 | 49 |  50 |\n",
              "| K | 51 | 52 | 53 | 54 |  55 |\n",
              "| L | 56 | 57 | 58 | 59 |  60 |\n",
              "| M | 61 | 62 | 63 | 64 |  65 |\n",
              "| N | 66 | 67 | 68 | 69 |  70 |\n",
              "| O | 71 | 72 | 73 | 74 |  75 |\n",
              "| P | 76 | 77 | 78 | 79 |  80 |\n",
              "| Q | 81 | 82 | 83 | 84 |  85 |\n",
              "| R | 86 | 87 | 88 | 89 |  90 |\n",
              "| S | 91 | 92 | 93 | 94 |  95 |\n",
              "| T | 96 | 97 | 98 | 99 | 100 |\n",
              "\n"
            ],
            "text/plain": [
              "  a  b  c  d  e  \n",
              "A  1  2  3  4   5\n",
              "B  6  7  8  9  10\n",
              "C 11 12 13 14  15\n",
              "D 16 17 18 19  20\n",
              "E 21 22 23 24  25\n",
              "F 26 27 28 29  30\n",
              "G 31 32 33 34  35\n",
              "H 36 37 38 39  40\n",
              "I 41 42 43 44  45\n",
              "J 46 47 48 49  50\n",
              "K 51 52 53 54  55\n",
              "L 56 57 58 59  60\n",
              "M 61 62 63 64  65\n",
              "N 66 67 68 69  70\n",
              "O 71 72 73 74  75\n",
              "P 76 77 78 79  80\n",
              "Q 81 82 83 84  85\n",
              "R 86 87 88 89  90\n",
              "S 91 92 93 94  95\n",
              "T 96 97 98 99 100"
            ]
          },
          "metadata": {},
          "output_type": "display_data"
        },
        {
          "data": {
            "text/html": [
              "<table class=\"dataframe\">\n",
              "<caption>A matrix: 5 × 20 of type int</caption>\n",
              "<thead>\n",
              "\t<tr><th></th><th scope=col>A</th><th scope=col>B</th><th scope=col>C</th><th scope=col>D</th><th scope=col>E</th><th scope=col>F</th><th scope=col>G</th><th scope=col>H</th><th scope=col>I</th><th scope=col>J</th><th scope=col>K</th><th scope=col>L</th><th scope=col>M</th><th scope=col>N</th><th scope=col>O</th><th scope=col>P</th><th scope=col>Q</th><th scope=col>R</th><th scope=col>S</th><th scope=col>T</th></tr>\n",
              "</thead>\n",
              "<tbody>\n",
              "\t<tr><th scope=row>a</th><td>1</td><td> 6</td><td>11</td><td>16</td><td>21</td><td>26</td><td>31</td><td>36</td><td>41</td><td>46</td><td>51</td><td>56</td><td>61</td><td>66</td><td>71</td><td>76</td><td>81</td><td>86</td><td>91</td><td> 96</td></tr>\n",
              "\t<tr><th scope=row>b</th><td>2</td><td> 7</td><td>12</td><td>17</td><td>22</td><td>27</td><td>32</td><td>37</td><td>42</td><td>47</td><td>52</td><td>57</td><td>62</td><td>67</td><td>72</td><td>77</td><td>82</td><td>87</td><td>92</td><td> 97</td></tr>\n",
              "\t<tr><th scope=row>c</th><td>3</td><td> 8</td><td>13</td><td>18</td><td>23</td><td>28</td><td>33</td><td>38</td><td>43</td><td>48</td><td>53</td><td>58</td><td>63</td><td>68</td><td>73</td><td>78</td><td>83</td><td>88</td><td>93</td><td> 98</td></tr>\n",
              "\t<tr><th scope=row>d</th><td>4</td><td> 9</td><td>14</td><td>19</td><td>24</td><td>29</td><td>34</td><td>39</td><td>44</td><td>49</td><td>54</td><td>59</td><td>64</td><td>69</td><td>74</td><td>79</td><td>84</td><td>89</td><td>94</td><td> 99</td></tr>\n",
              "\t<tr><th scope=row>e</th><td>5</td><td>10</td><td>15</td><td>20</td><td>25</td><td>30</td><td>35</td><td>40</td><td>45</td><td>50</td><td>55</td><td>60</td><td>65</td><td>70</td><td>75</td><td>80</td><td>85</td><td>90</td><td>95</td><td>100</td></tr>\n",
              "</tbody>\n",
              "</table>\n"
            ],
            "text/latex": [
              "A matrix: 5 × 20 of type int\n",
              "\\begin{tabular}{r|llllllllllllllllllll}\n",
              "  & A & B & C & D & E & F & G & H & I & J & K & L & M & N & O & P & Q & R & S & T\\\\\n",
              "\\hline\n",
              "\ta & 1 &  6 & 11 & 16 & 21 & 26 & 31 & 36 & 41 & 46 & 51 & 56 & 61 & 66 & 71 & 76 & 81 & 86 & 91 &  96\\\\\n",
              "\tb & 2 &  7 & 12 & 17 & 22 & 27 & 32 & 37 & 42 & 47 & 52 & 57 & 62 & 67 & 72 & 77 & 82 & 87 & 92 &  97\\\\\n",
              "\tc & 3 &  8 & 13 & 18 & 23 & 28 & 33 & 38 & 43 & 48 & 53 & 58 & 63 & 68 & 73 & 78 & 83 & 88 & 93 &  98\\\\\n",
              "\td & 4 &  9 & 14 & 19 & 24 & 29 & 34 & 39 & 44 & 49 & 54 & 59 & 64 & 69 & 74 & 79 & 84 & 89 & 94 &  99\\\\\n",
              "\te & 5 & 10 & 15 & 20 & 25 & 30 & 35 & 40 & 45 & 50 & 55 & 60 & 65 & 70 & 75 & 80 & 85 & 90 & 95 & 100\\\\\n",
              "\\end{tabular}\n"
            ],
            "text/markdown": [
              "\n",
              "A matrix: 5 × 20 of type int\n",
              "\n",
              "| <!--/--> | A | B | C | D | E | F | G | H | I | J | K | L | M | N | O | P | Q | R | S | T |\n",
              "|---|---|---|---|---|---|---|---|---|---|---|---|---|---|---|---|---|---|---|---|---|\n",
              "| a | 1 |  6 | 11 | 16 | 21 | 26 | 31 | 36 | 41 | 46 | 51 | 56 | 61 | 66 | 71 | 76 | 81 | 86 | 91 |  96 |\n",
              "| b | 2 |  7 | 12 | 17 | 22 | 27 | 32 | 37 | 42 | 47 | 52 | 57 | 62 | 67 | 72 | 77 | 82 | 87 | 92 |  97 |\n",
              "| c | 3 |  8 | 13 | 18 | 23 | 28 | 33 | 38 | 43 | 48 | 53 | 58 | 63 | 68 | 73 | 78 | 83 | 88 | 93 |  98 |\n",
              "| d | 4 |  9 | 14 | 19 | 24 | 29 | 34 | 39 | 44 | 49 | 54 | 59 | 64 | 69 | 74 | 79 | 84 | 89 | 94 |  99 |\n",
              "| e | 5 | 10 | 15 | 20 | 25 | 30 | 35 | 40 | 45 | 50 | 55 | 60 | 65 | 70 | 75 | 80 | 85 | 90 | 95 | 100 |\n",
              "\n"
            ],
            "text/plain": [
              "  A B  C  D  E  F  G  H  I  J  K  L  M  N  O  P  Q  R  S  T  \n",
              "a 1  6 11 16 21 26 31 36 41 46 51 56 61 66 71 76 81 86 91  96\n",
              "b 2  7 12 17 22 27 32 37 42 47 52 57 62 67 72 77 82 87 92  97\n",
              "c 3  8 13 18 23 28 33 38 43 48 53 58 63 68 73 78 83 88 93  98\n",
              "d 4  9 14 19 24 29 34 39 44 49 54 59 64 69 74 79 84 89 94  99\n",
              "e 5 10 15 20 25 30 35 40 45 50 55 60 65 70 75 80 85 90 95 100"
            ]
          },
          "metadata": {},
          "output_type": "display_data"
        }
      ],
      "source": [
        "# transponer una matriz\n",
        "m1\n",
        "\n",
        "t(m1)\n"
      ]
    },
    {
      "cell_type": "markdown",
      "metadata": {},
      "source": [
        "### Determinante de una Matriz\n",
        "El **determinante** es un número que se asocia a una matriz cuadrada. Proporciona información sobre las propiedades de esa matriz.\n",
        "\n",
        "**¿Para qué sirve?**\n",
        "- **Invertibilidad**: si el determinante es 0, la matriz **no tiene inversa**.\n",
        "- **Volumen**: en geometría, representa cómo cambia el volumen bajo una transformación lineal.\n",
        "- **Estabilidad numérica**: útil en modelos estadísticos para evitar problemas con matrices singulares.\n",
        "\n",
        "```r\n",
        "# Ejemplo en R:\n",
        "A <- matrix(c(4,7,2,6), nrow=2)\n",
        "det(A)  # Determinante de A\n",
        "```\n"
      ]
    },
    {
      "cell_type": "code",
      "execution_count": 31,
      "metadata": {
        "id": "RdPKIzaySqpC",
        "trusted": true,
        "vscode": {
          "languageId": "r"
        }
      },
      "outputs": [
        {
          "data": {
            "text/html": [
              "0"
            ],
            "text/latex": [
              "0"
            ],
            "text/markdown": [
              "0"
            ],
            "text/plain": [
              "[1] 0"
            ]
          },
          "metadata": {},
          "output_type": "display_data"
        }
      ],
      "source": [
        "m4 <- matrix(1:16, 4, 4)\n",
        "\n",
        "det(m4)"
      ]
    },
    {
      "cell_type": "markdown",
      "metadata": {},
      "source": [
        "### Matriz Inversa\n",
        "La **inversa** de una matriz cuadrada `A` es otra matriz `A⁻¹` tal que:\n",
        "\n",
        "`A %*% A⁻¹ = I`, donde `I` es la matriz identidad.\n",
        "\n",
        "**¿Para qué sirve?**\n",
        "- Resolver sistemas de ecuaciones lineales.\n",
        "- En regresión lineal, se utiliza en la fórmula del estimador de mínimos cuadrados.\n",
        "- Representa un tipo de “deshacer” la transformación aplicada por una matriz.\n",
        "\n",
        "```r\n",
        "# Ejemplo en R:\n",
        "A <- matrix(c(4,7,2,6), nrow=2)\n",
        "solve(A)  # Matriz inversa de A\n",
        "```\n",
        "\n"
      ]
    },
    {
      "cell_type": "code",
      "execution_count": 33,
      "metadata": {
        "id": "Tymq9t9NSqpH",
        "trusted": true,
        "vscode": {
          "languageId": "r"
        }
      },
      "outputs": [
        {
          "data": {
            "text/html": [
              "<table class=\"dataframe\">\n",
              "<caption>A matrix: 4 × 4 of type dbl</caption>\n",
              "<tbody>\n",
              "\t<tr><td>1</td><td>0</td><td>0</td><td>0</td></tr>\n",
              "\t<tr><td>0</td><td>1</td><td>0</td><td>0</td></tr>\n",
              "\t<tr><td>0</td><td>0</td><td>1</td><td>0</td></tr>\n",
              "\t<tr><td>0</td><td>0</td><td>0</td><td>1</td></tr>\n",
              "</tbody>\n",
              "</table>\n"
            ],
            "text/latex": [
              "A matrix: 4 × 4 of type dbl\n",
              "\\begin{tabular}{llll}\n",
              "\t 1 & 0 & 0 & 0\\\\\n",
              "\t 0 & 1 & 0 & 0\\\\\n",
              "\t 0 & 0 & 1 & 0\\\\\n",
              "\t 0 & 0 & 0 & 1\\\\\n",
              "\\end{tabular}\n"
            ],
            "text/markdown": [
              "\n",
              "A matrix: 4 × 4 of type dbl\n",
              "\n",
              "| 1 | 0 | 0 | 0 |\n",
              "| 0 | 1 | 0 | 0 |\n",
              "| 0 | 0 | 1 | 0 |\n",
              "| 0 | 0 | 0 | 1 |\n",
              "\n"
            ],
            "text/plain": [
              "     [,1] [,2] [,3] [,4]\n",
              "[1,] 1    0    0    0   \n",
              "[2,] 0    1    0    0   \n",
              "[3,] 0    0    1    0   \n",
              "[4,] 0    0    0    1   "
            ]
          },
          "metadata": {},
          "output_type": "display_data"
        }
      ],
      "source": [
        "diag(c(1,1,1,1))"
      ]
    },
    {
      "cell_type": "code",
      "execution_count": null,
      "metadata": {
        "vscode": {
          "languageId": "r"
        }
      },
      "outputs": [
        {
          "data": {
            "text/html": [
              "<table class=\"dataframe\">\n",
              "<caption>A matrix: 3 × 3 of type dbl</caption>\n",
              "<tbody>\n",
              "\t<tr><td>1</td><td>4</td><td>7</td></tr>\n",
              "\t<tr><td>0</td><td>5</td><td>8</td></tr>\n",
              "\t<tr><td>0</td><td>0</td><td>9</td></tr>\n",
              "</tbody>\n",
              "</table>\n"
            ],
            "text/latex": [
              "A matrix: 3 × 3 of type dbl\n",
              "\\begin{tabular}{lll}\n",
              "\t 1 & 4 & 7\\\\\n",
              "\t 0 & 5 & 8\\\\\n",
              "\t 0 & 0 & 9\\\\\n",
              "\\end{tabular}\n"
            ],
            "text/markdown": [
              "\n",
              "A matrix: 3 × 3 of type dbl\n",
              "\n",
              "| 1 | 4 | 7 |\n",
              "| 0 | 5 | 8 |\n",
              "| 0 | 0 | 9 |\n",
              "\n"
            ],
            "text/plain": [
              "     [,1] [,2] [,3]\n",
              "[1,] 1    4    7   \n",
              "[2,] 0    5    8   \n",
              "[3,] 0    0    9   "
            ]
          },
          "metadata": {},
          "output_type": "display_data"
        },
        {
          "data": {
            "text/html": [
              "<table class=\"dataframe\">\n",
              "<caption>A matrix: 3 × 3 of type dbl</caption>\n",
              "<tbody>\n",
              "\t<tr><td>1</td><td>-2.220446e-16</td><td>-2.220446e-16</td></tr>\n",
              "\t<tr><td>0</td><td> 1.000000e+00</td><td> 2.775558e-16</td></tr>\n",
              "\t<tr><td>0</td><td> 0.000000e+00</td><td> 1.000000e+00</td></tr>\n",
              "</tbody>\n",
              "</table>\n"
            ],
            "text/latex": [
              "A matrix: 3 × 3 of type dbl\n",
              "\\begin{tabular}{lll}\n",
              "\t 1 & -2.220446e-16 & -2.220446e-16\\\\\n",
              "\t 0 &  1.000000e+00 &  2.775558e-16\\\\\n",
              "\t 0 &  0.000000e+00 &  1.000000e+00\\\\\n",
              "\\end{tabular}\n"
            ],
            "text/markdown": [
              "\n",
              "A matrix: 3 × 3 of type dbl\n",
              "\n",
              "| 1 | -2.220446e-16 | -2.220446e-16 |\n",
              "| 0 |  1.000000e+00 |  2.775558e-16 |\n",
              "| 0 |  0.000000e+00 |  1.000000e+00 |\n",
              "\n"
            ],
            "text/plain": [
              "     [,1] [,2]          [,3]         \n",
              "[1,] 1    -2.220446e-16 -2.220446e-16\n",
              "[2,] 0     1.000000e+00  2.775558e-16\n",
              "[3,] 0     0.000000e+00  1.000000e+00"
            ]
          },
          "metadata": {},
          "output_type": "display_data"
        }
      ],
      "source": [
        "m5 <- matrix(c(1,4,7,0,5,8,0,0,9), ncol= 3, nrow=3, byrow = T)\n",
        "\n",
        "\n",
        "\n",
        "solve(m5)%*%m5"
      ]
    },
    {
      "cell_type": "code",
      "execution_count": null,
      "metadata": {
        "vscode": {
          "languageId": "r"
        }
      },
      "outputs": [],
      "source": [
        "# buscar ejemplo matriz"
      ]
    },
    {
      "cell_type": "code",
      "execution_count": 50,
      "metadata": {
        "vscode": {
          "languageId": "r"
        }
      },
      "outputs": [
        {
          "data": {
            "text/html": [
              "<style>\n",
              ".list-inline {list-style: none; margin:0; padding: 0}\n",
              ".list-inline>li {display: inline-block}\n",
              ".list-inline>li:not(:last-child)::after {content: \"\\00b7\"; padding: 0 .5ex}\n",
              "</style>\n",
              "<ol class=list-inline><li>1</li><li>2</li><li>3</li><li>4</li><li>5</li></ol>\n"
            ],
            "text/latex": [
              "\\begin{enumerate*}\n",
              "\\item 1\n",
              "\\item 2\n",
              "\\item 3\n",
              "\\item 4\n",
              "\\item 5\n",
              "\\end{enumerate*}\n"
            ],
            "text/markdown": [
              "1. 1\n",
              "2. 2\n",
              "3. 3\n",
              "4. 4\n",
              "5. 5\n",
              "\n",
              "\n"
            ],
            "text/plain": [
              "[1] 1 2 3 4 5"
            ]
          },
          "metadata": {},
          "output_type": "display_data"
        },
        {
          "data": {
            "text/html": [
              "<style>\n",
              ".list-inline {list-style: none; margin:0; padding: 0}\n",
              ".list-inline>li {display: inline-block}\n",
              ".list-inline>li:not(:last-child)::after {content: \"\\00b7\"; padding: 0 .5ex}\n",
              "</style>\n",
              "<ol class=list-inline><li>1</li><li>2</li><li>3</li><li>4</li><li>5</li><li>6</li><li>7</li><li>8</li><li>9</li><li>10</li></ol>\n"
            ],
            "text/latex": [
              "\\begin{enumerate*}\n",
              "\\item 1\n",
              "\\item 2\n",
              "\\item 3\n",
              "\\item 4\n",
              "\\item 5\n",
              "\\item 6\n",
              "\\item 7\n",
              "\\item 8\n",
              "\\item 9\n",
              "\\item 10\n",
              "\\end{enumerate*}\n"
            ],
            "text/markdown": [
              "1. 1\n",
              "2. 2\n",
              "3. 3\n",
              "4. 4\n",
              "5. 5\n",
              "6. 6\n",
              "7. 7\n",
              "8. 8\n",
              "9. 9\n",
              "10. 10\n",
              "\n",
              "\n"
            ],
            "text/plain": [
              " [1]  1  2  3  4  5  6  7  8  9 10"
            ]
          },
          "metadata": {},
          "output_type": "display_data"
        }
      ],
      "source": [
        "v1 <- 1:5\n",
        "v2 <- 1:10\n",
        "\n",
        "v1;v2"
      ]
    },
    {
      "cell_type": "code",
      "execution_count": 53,
      "metadata": {
        "vscode": {
          "languageId": "r"
        }
      },
      "outputs": [
        {
          "data": {
            "text/html": [
              "<table class=\"dataframe\">\n",
              "<caption>A matrix: 10 × 2 of type int</caption>\n",
              "<thead>\n",
              "\t<tr><th scope=col>v1</th><th scope=col>v2</th></tr>\n",
              "</thead>\n",
              "<tbody>\n",
              "\t<tr><td>1</td><td> 1</td></tr>\n",
              "\t<tr><td>2</td><td> 2</td></tr>\n",
              "\t<tr><td>3</td><td> 3</td></tr>\n",
              "\t<tr><td>4</td><td> 4</td></tr>\n",
              "\t<tr><td>5</td><td> 5</td></tr>\n",
              "\t<tr><td>1</td><td> 6</td></tr>\n",
              "\t<tr><td>2</td><td> 7</td></tr>\n",
              "\t<tr><td>3</td><td> 8</td></tr>\n",
              "\t<tr><td>4</td><td> 9</td></tr>\n",
              "\t<tr><td>5</td><td>10</td></tr>\n",
              "</tbody>\n",
              "</table>\n"
            ],
            "text/latex": [
              "A matrix: 10 × 2 of type int\n",
              "\\begin{tabular}{ll}\n",
              " v1 & v2\\\\\n",
              "\\hline\n",
              "\t 1 &  1\\\\\n",
              "\t 2 &  2\\\\\n",
              "\t 3 &  3\\\\\n",
              "\t 4 &  4\\\\\n",
              "\t 5 &  5\\\\\n",
              "\t 1 &  6\\\\\n",
              "\t 2 &  7\\\\\n",
              "\t 3 &  8\\\\\n",
              "\t 4 &  9\\\\\n",
              "\t 5 & 10\\\\\n",
              "\\end{tabular}\n"
            ],
            "text/markdown": [
              "\n",
              "A matrix: 10 × 2 of type int\n",
              "\n",
              "| v1 | v2 |\n",
              "|---|---|\n",
              "| 1 |  1 |\n",
              "| 2 |  2 |\n",
              "| 3 |  3 |\n",
              "| 4 |  4 |\n",
              "| 5 |  5 |\n",
              "| 1 |  6 |\n",
              "| 2 |  7 |\n",
              "| 3 |  8 |\n",
              "| 4 |  9 |\n",
              "| 5 | 10 |\n",
              "\n"
            ],
            "text/plain": [
              "      v1 v2\n",
              " [1,] 1   1\n",
              " [2,] 2   2\n",
              " [3,] 3   3\n",
              " [4,] 4   4\n",
              " [5,] 5   5\n",
              " [6,] 1   6\n",
              " [7,] 2   7\n",
              " [8,] 3   8\n",
              " [9,] 4   9\n",
              "[10,] 5  10"
            ]
          },
          "metadata": {},
          "output_type": "display_data"
        }
      ],
      "source": [
        "m3 <- cbind(v1, v2)\n",
        "m3"
      ]
    },
    {
      "cell_type": "code",
      "execution_count": null,
      "metadata": {
        "vscode": {
          "languageId": "r"
        }
      },
      "outputs": [
        {
          "data": {
            "text/html": [
              "<style>\n",
              ".list-inline {list-style: none; margin:0; padding: 0}\n",
              ".list-inline>li {display: inline-block}\n",
              ".list-inline>li:not(:last-child)::after {content: \"\\00b7\"; padding: 0 .5ex}\n",
              "</style>\n",
              "<ol class=list-inline><li>100</li><li>2</li><li>3</li><li>4</li><li>5</li></ol>\n"
            ],
            "text/latex": [
              "\\begin{enumerate*}\n",
              "\\item 100\n",
              "\\item 2\n",
              "\\item 3\n",
              "\\item 4\n",
              "\\item 5\n",
              "\\end{enumerate*}\n"
            ],
            "text/markdown": [
              "1. 100\n",
              "2. 2\n",
              "3. 3\n",
              "4. 4\n",
              "5. 5\n",
              "\n",
              "\n"
            ],
            "text/plain": [
              "[1] 100   2   3   4   5"
            ]
          },
          "metadata": {},
          "output_type": "display_data"
        }
      ],
      "source": [
        "v1[1] <- 100\n",
        "v1"
      ]
    },
    {
      "cell_type": "code",
      "execution_count": 59,
      "metadata": {
        "vscode": {
          "languageId": "r"
        }
      },
      "outputs": [
        {
          "data": {
            "text/html": [
              "<table class=\"dataframe\">\n",
              "<caption>A matrix: 10 × 2 of type dbl</caption>\n",
              "<thead>\n",
              "\t<tr><th scope=col>v1</th><th scope=col>v2</th></tr>\n",
              "</thead>\n",
              "<tbody>\n",
              "\t<tr><td>1</td><td> 1</td></tr>\n",
              "\t<tr><td>2</td><td> 2</td></tr>\n",
              "\t<tr><td>3</td><td> 3</td></tr>\n",
              "\t<tr><td>4</td><td> 4</td></tr>\n",
              "\t<tr><td>5</td><td> 8</td></tr>\n",
              "\t<tr><td>1</td><td> 6</td></tr>\n",
              "\t<tr><td>2</td><td> 7</td></tr>\n",
              "\t<tr><td>3</td><td> 8</td></tr>\n",
              "\t<tr><td>4</td><td> 9</td></tr>\n",
              "\t<tr><td>5</td><td>10</td></tr>\n",
              "</tbody>\n",
              "</table>\n"
            ],
            "text/latex": [
              "A matrix: 10 × 2 of type dbl\n",
              "\\begin{tabular}{ll}\n",
              " v1 & v2\\\\\n",
              "\\hline\n",
              "\t 1 &  1\\\\\n",
              "\t 2 &  2\\\\\n",
              "\t 3 &  3\\\\\n",
              "\t 4 &  4\\\\\n",
              "\t 5 &  8\\\\\n",
              "\t 1 &  6\\\\\n",
              "\t 2 &  7\\\\\n",
              "\t 3 &  8\\\\\n",
              "\t 4 &  9\\\\\n",
              "\t 5 & 10\\\\\n",
              "\\end{tabular}\n"
            ],
            "text/markdown": [
              "\n",
              "A matrix: 10 × 2 of type dbl\n",
              "\n",
              "| v1 | v2 |\n",
              "|---|---|\n",
              "| 1 |  1 |\n",
              "| 2 |  2 |\n",
              "| 3 |  3 |\n",
              "| 4 |  4 |\n",
              "| 5 |  8 |\n",
              "| 1 |  6 |\n",
              "| 2 |  7 |\n",
              "| 3 |  8 |\n",
              "| 4 |  9 |\n",
              "| 5 | 10 |\n",
              "\n"
            ],
            "text/plain": [
              "      v1 v2\n",
              " [1,] 1   1\n",
              " [2,] 2   2\n",
              " [3,] 3   3\n",
              " [4,] 4   4\n",
              " [5,] 5   8\n",
              " [6,] 1   6\n",
              " [7,] 2   7\n",
              " [8,] 3   8\n",
              " [9,] 4   9\n",
              "[10,] 5  10"
            ]
          },
          "metadata": {},
          "output_type": "display_data"
        }
      ],
      "source": [
        "m3[5 , 2] <- 8\n",
        "\n",
        "m3[5 , 2] = 8\n",
        "\n",
        "#matrix(data = ,nrow = ,ncol = )\n",
        "\n",
        "m3"
      ]
    },
    {
      "cell_type": "code",
      "execution_count": null,
      "metadata": {
        "vscode": {
          "languageId": "r"
        }
      },
      "outputs": [],
      "source": [
        "#<- simbolo de asignacion\n",
        "#= igualdad"
      ]
    }
  ],
  "metadata": {
    "colab": {
      "provenance": []
    },
    "kernelspec": {
      "display_name": "R",
      "language": "R",
      "name": "ir"
    },
    "language_info": {
      "codemirror_mode": "r",
      "file_extension": ".r",
      "mimetype": "text/x-r-source",
      "name": "R",
      "pygments_lexer": "r",
      "version": "4.5.1"
    }
  },
  "nbformat": 4,
  "nbformat_minor": 0
}
