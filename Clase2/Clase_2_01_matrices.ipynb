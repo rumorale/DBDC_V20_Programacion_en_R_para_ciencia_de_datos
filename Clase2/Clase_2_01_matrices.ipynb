{
  "cells": [
    {
      "cell_type": "markdown",
      "metadata": {
        "collapsed": true,
        "id": "qGvtNqVzSqoX"
      },
      "source": [
        "# Parte 1: Introducción a R (continuación)\n",
        "\n",
        "**Profesor:** Rodrigo Morales <br>\n",
        "**E-mail:** rumorale1@gmail.com\n",
        "\n",
        "\n",
        "\n",
        "### 3.2 Matrices\n",
        "\n",
        "En R, así como en otros lenguajes de programación, una matriz es básicamente un arreglo bi-dimensional, donde las entradas horizontales se entienden como filas y las verticales como columnas. Es posible imaginar una matriz como un arreglo de vectores como columnas (o filas) del mismo largo.\n",
        "\n",
        " * ¿Qué se guarda en una matriz?<br>\n",
        "    Sólo datos de un mismo tipo.\n",
        "     \n",
        " * ¿Cómo se declara una matriz?<br>\n",
        "    Se puede definir de varias maneras, indicando los elementos que la componen, o combinando vectores como filas o columnas.\n",
        "\n",
        " * ¿Cómo se accede a sus elementos?<br>\n",
        "    Indicando la posición del vector fila, seguido de la posición del vector columna (como es usual)."
      ]
    },
    {
      "cell_type": "code",
      "execution_count": null,
      "metadata": {
        "id": "TKVO3cuZSqoY",
        "trusted": true,
        "vscode": {
          "languageId": "r"
        }
      },
      "outputs": [],
      "source": [
        "# 3.2 Matrices ------------\n",
        "#?matrix de dos filas y 3 columnas, parametros ncol, nrow y byrow\n",
        "# recibe un vector de elementos\n",
        "A <- matrix(c(1,1,2,3,5,8), ncol = 3, nrow = 2)\n",
        "A\n",
        "\n",
        "B <- matrix(c(1,1,2,3,5,8), ncol = 3, nrow = 2, byrow = T)\n",
        "B"
      ]
    },
    {
      "cell_type": "code",
      "execution_count": null,
      "metadata": {
        "id": "Gm3PDTciSqof",
        "trusted": true,
        "vscode": {
          "languageId": "r"
        }
      },
      "outputs": [
        {
          "data": {
            "text/html": [
              "<style>\n",
              ".list-inline {list-style: none; margin:0; padding: 0}\n",
              ".list-inline>li {display: inline-block}\n",
              ".list-inline>li:not(:last-child)::after {content: \"\\00b7\"; padding: 0 .5ex}\n",
              "</style>\n",
              "<ol class=list-inline><li>'matrix'</li><li>'array'</li></ol>\n"
            ],
            "text/latex": [
              "\\begin{enumerate*}\n",
              "\\item 'matrix'\n",
              "\\item 'array'\n",
              "\\end{enumerate*}\n"
            ],
            "text/markdown": [
              "1. 'matrix'\n",
              "2. 'array'\n",
              "\n",
              "\n"
            ],
            "text/plain": [
              "[1] \"matrix\" \"array\" "
            ]
          },
          "metadata": {},
          "output_type": "display_data"
        },
        {
          "data": {
            "text/html": [
              "<style>\n",
              ".list-inline {list-style: none; margin:0; padding: 0}\n",
              ".list-inline>li {display: inline-block}\n",
              ".list-inline>li:not(:last-child)::after {content: \"\\00b7\"; padding: 0 .5ex}\n",
              "</style>\n",
              "<ol class=list-inline><li>2</li><li>3</li></ol>\n"
            ],
            "text/latex": [
              "\\begin{enumerate*}\n",
              "\\item 2\n",
              "\\item 3\n",
              "\\end{enumerate*}\n"
            ],
            "text/markdown": [
              "1. 2\n",
              "2. 3\n",
              "\n",
              "\n"
            ],
            "text/plain": [
              "[1] 2 3"
            ]
          },
          "metadata": {},
          "output_type": "display_data"
        }
      ],
      "source": [
        "# clase y atributo dim"
      ]
    },
    {
      "cell_type": "code",
      "execution_count": null,
      "metadata": {
        "id": "2TXNSoedSqoh",
        "trusted": true,
        "vscode": {
          "languageId": "r"
        }
      },
      "outputs": [],
      "source": [
        "# Genere dos vectores del mismo largo y forme una matriz.\n",
        "\n"
      ]
    },
    {
      "cell_type": "markdown",
      "metadata": {},
      "source": [
        "Funciones cbind() y rbind() "
      ]
    },
    {
      "cell_type": "code",
      "execution_count": null,
      "metadata": {
        "id": "W3g76XEkSqok",
        "trusted": true,
        "vscode": {
          "languageId": "r"
        }
      },
      "outputs": [],
      "source": [
        "\n"
      ]
    },
    {
      "cell_type": "code",
      "execution_count": null,
      "metadata": {
        "id": "ds9erwbP3sMG",
        "vscode": {
          "languageId": "r"
        }
      },
      "outputs": [],
      "source": [
        "# NOTA: Podemos añadir una fila/columna a una matriz existente\n"
      ]
    },
    {
      "cell_type": "code",
      "execution_count": null,
      "metadata": {
        "id": "gDzbcsNVSqom",
        "trusted": true,
        "vscode": {
          "languageId": "r"
        }
      },
      "outputs": [],
      "source": [
        "# si combinamos vectores de distinto largo?\n",
        "# R recicla valores (recordar explicación)\n",
        "\n",
        "\n"
      ]
    },
    {
      "cell_type": "markdown",
      "metadata": {},
      "source": [
        "Matrices diagonales"
      ]
    },
    {
      "cell_type": "code",
      "execution_count": null,
      "metadata": {
        "id": "QLOH0514Sqoo",
        "trusted": true,
        "vscode": {
          "languageId": "r"
        }
      },
      "outputs": [
        {
          "data": {
            "text/html": [
              "<table class=\"dataframe\">\n",
              "<caption>A matrix: 3 × 3 of type dbl</caption>\n",
              "<tbody>\n",
              "\t<tr><td>1</td><td>0</td><td>0</td></tr>\n",
              "\t<tr><td>0</td><td>2</td><td>0</td></tr>\n",
              "\t<tr><td>0</td><td>0</td><td>3</td></tr>\n",
              "</tbody>\n",
              "</table>\n"
            ],
            "text/latex": [
              "A matrix: 3 × 3 of type dbl\n",
              "\\begin{tabular}{lll}\n",
              "\t 1 & 0 & 0\\\\\n",
              "\t 0 & 2 & 0\\\\\n",
              "\t 0 & 0 & 3\\\\\n",
              "\\end{tabular}\n"
            ],
            "text/markdown": [
              "\n",
              "A matrix: 3 × 3 of type dbl\n",
              "\n",
              "| 1 | 0 | 0 |\n",
              "| 0 | 2 | 0 |\n",
              "| 0 | 0 | 3 |\n",
              "\n"
            ],
            "text/plain": [
              "     [,1] [,2] [,3]\n",
              "[1,] 1    0    0   \n",
              "[2,] 0    2    0   \n",
              "[3,] 0    0    3   "
            ]
          },
          "metadata": {},
          "output_type": "display_data"
        }
      ],
      "source": [
        "#?diag\n",
        "\n",
        "diag(c(1,2,3))\n",
        "tr\n",
        "\n",
        "\n"
      ]
    },
    {
      "cell_type": "markdown",
      "metadata": {},
      "source": [
        "Acceso a elementos de una matriz"
      ]
    },
    {
      "cell_type": "code",
      "execution_count": null,
      "metadata": {
        "id": "xIfUV82ASqot",
        "trusted": true,
        "vscode": {
          "languageId": "r"
        }
      },
      "outputs": [],
      "source": []
    },
    {
      "cell_type": "markdown",
      "metadata": {},
      "source": [
        "Acceso a Filas y columnas"
      ]
    },
    {
      "cell_type": "code",
      "execution_count": null,
      "metadata": {
        "id": "rkq7J4nLSqow",
        "trusted": true,
        "vscode": {
          "languageId": "r"
        }
      },
      "outputs": [],
      "source": [
        "#Recordemos que podemos actualizar elementos de un vector como:\n",
        "\n",
        "# quiero cambiar el -2 por un -99 (el 5 de la pos 2,2)\n",
        "\n"
      ]
    },
    {
      "cell_type": "markdown",
      "metadata": {},
      "source": [
        "Acceso mediante nombres"
      ]
    },
    {
      "cell_type": "code",
      "execution_count": null,
      "metadata": {
        "id": "KstW38ylSkSV",
        "vscode": {
          "languageId": "r"
        }
      },
      "outputs": [],
      "source": [
        "# Acceso mediante nombres\n"
      ]
    },
    {
      "cell_type": "code",
      "execution_count": 5,
      "metadata": {
        "id": "0mKL1vhcSkVc",
        "vscode": {
          "languageId": "r"
        }
      },
      "outputs": [],
      "source": [
        "# Acceso mediante nomnbres\n",
        "# Elemento de la segunda fila tercera columna (2,3)"
      ]
    },
    {
      "cell_type": "markdown",
      "metadata": {},
      "source": [
        "Acceso mediante \"indicatrices\" lógicas"
      ]
    },
    {
      "cell_type": "code",
      "execution_count": null,
      "metadata": {
        "id": "qt9bcwQgSqo0",
        "trusted": true,
        "vscode": {
          "languageId": "r"
        }
      },
      "outputs": [],
      "source": [
        "#Quiero obtener los elementos (1,1) y (2,3) de M3\n",
        "# 1: Crear una matriz de 3x4 con TRUE en dichas posiciones y FALSE en las restantes.\n"
      ]
    },
    {
      "cell_type": "code",
      "execution_count": null,
      "metadata": {
        "id": "m4DDikCTSqo2",
        "trusted": true,
        "vscode": {
          "languageId": "r"
        }
      },
      "outputs": [],
      "source": [
        "# Podemos evaluar las casillas de una matriz mediante sentencias lógicas\n"
      ]
    },
    {
      "cell_type": "markdown",
      "metadata": {
        "id": "DtKi8VpVSqo8"
      },
      "source": [
        "### **Álgebra de matrices**\n",
        "\n",
        "Las operaciones suma (resta) y ponderación por escalar se llevan cabo mediante los mismos operadores utilizados para valores numéricos y vectores (+,-,*, /). Para multiplicar matrices en cambio, se utiliza el operador %\\*%, mientras que para invertirlas se utiliza la función solve(), t() para transponer y det() para el cálculo del determinante en el caso de matrices cuadradas."
      ]
    },
    {
      "cell_type": "code",
      "execution_count": 7,
      "metadata": {
        "id": "tSphDch3Sqo-",
        "trusted": true,
        "vscode": {
          "languageId": "r"
        }
      },
      "outputs": [],
      "source": [
        "# Álgbra de matrices  ------------\n"
      ]
    },
    {
      "cell_type": "code",
      "execution_count": null,
      "metadata": {
        "id": "crNocLSqSqpA",
        "trusted": true,
        "vscode": {
          "languageId": "r"
        }
      },
      "outputs": [],
      "source": [
        "# Multiplicación de matrices\n",
        "M2 * M1 # multiplicación componente a componente\n"
      ]
    },
    {
      "cell_type": "markdown",
      "metadata": {},
      "source": []
    },
    {
      "cell_type": "markdown",
      "metadata": {},
      "source": [
        "### Matriz Transpuesta\n",
        "Transponer una matriz consiste en **intercambiar sus filas por columnas**. Es decir, el elemento en la posición `[i, j]` pasa a la posición `[j, i]`.\n",
        "\n",
        "**¿Para qué sirve?**\n",
        "- En álgebra lineal, se usa para definir propiedades como **simetría**.\n",
        "- En modelos estadísticos, ayuda a reorganizar datos para el cálculo de productos matriciales.\n",
        "- En machine learning, se usa para ajustar dimensiones en operaciones de entrenamiento.\n",
        "\n",
        "```r\n",
        "# Ejemplo en R:\n",
        "A <- matrix(1:6, nrow=2)\n",
        "t(A)  # Transpuesta de A\n",
        "```"
      ]
    },
    {
      "cell_type": "code",
      "execution_count": null,
      "metadata": {
        "id": "yxrjsz27Sqo8",
        "trusted": true,
        "vscode": {
          "languageId": "r"
        }
      },
      "outputs": [],
      "source": [
        "# transponer una matriz\n"
      ]
    },
    {
      "cell_type": "markdown",
      "metadata": {},
      "source": [
        "### Determinante de una Matriz\n",
        "El **determinante** es un número que se asocia a una matriz cuadrada. Proporciona información sobre las propiedades de esa matriz.\n",
        "\n",
        "**¿Para qué sirve?**\n",
        "- **Invertibilidad**: si el determinante es 0, la matriz **no tiene inversa**.\n",
        "- **Volumen**: en geometría, representa cómo cambia el volumen bajo una transformación lineal.\n",
        "- **Estabilidad numérica**: útil en modelos estadísticos para evitar problemas con matrices singulares.\n",
        "\n",
        "```r\n",
        "# Ejemplo en R:\n",
        "A <- matrix(c(4,7,2,6), nrow=2)\n",
        "det(A)  # Determinante de A\n",
        "```\n"
      ]
    },
    {
      "cell_type": "code",
      "execution_count": null,
      "metadata": {
        "id": "RdPKIzaySqpC",
        "trusted": true,
        "vscode": {
          "languageId": "r"
        }
      },
      "outputs": [],
      "source": []
    },
    {
      "cell_type": "markdown",
      "metadata": {},
      "source": [
        "### Matriz Inversa\n",
        "La **inversa** de una matriz cuadrada `A` es otra matriz `A⁻¹` tal que:\n",
        "\n",
        "`A %*% A⁻¹ = I`, donde `I` es la matriz identidad.\n",
        "\n",
        "**¿Para qué sirve?**\n",
        "- Resolver sistemas de ecuaciones lineales.\n",
        "- En regresión lineal, se utiliza en la fórmula del estimador de mínimos cuadrados.\n",
        "- Representa un tipo de “deshacer” la transformación aplicada por una matriz.\n",
        "\n",
        "```r\n",
        "# Ejemplo en R:\n",
        "A <- matrix(c(4,7,2,6), nrow=2)\n",
        "solve(A)  # Matriz inversa de A\n",
        "```\n",
        "\n"
      ]
    },
    {
      "cell_type": "code",
      "execution_count": null,
      "metadata": {
        "id": "Tymq9t9NSqpH",
        "trusted": true,
        "vscode": {
          "languageId": "r"
        }
      },
      "outputs": [],
      "source": []
    }
  ],
  "metadata": {
    "colab": {
      "provenance": []
    },
    "kernelspec": {
      "display_name": "R",
      "language": "R",
      "name": "ir"
    },
    "language_info": {
      "codemirror_mode": "r",
      "file_extension": ".r",
      "mimetype": "text/x-r-source",
      "name": "R",
      "pygments_lexer": "r",
      "version": "4.5.1"
    }
  },
  "nbformat": 4,
  "nbformat_minor": 0
}
