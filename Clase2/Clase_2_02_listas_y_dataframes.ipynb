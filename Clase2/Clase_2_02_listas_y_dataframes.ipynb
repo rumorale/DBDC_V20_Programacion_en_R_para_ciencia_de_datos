{
  "cells": [
    {
      "cell_type": "markdown",
      "metadata": {
        "collapsed": true,
        "id": "fgQ2azLwTpRn"
      },
      "source": [
        "# Parte 1: Introducción a R (continuación)\n",
        "\n",
        "**Profesor:** Rodrigo Morales <br>\n",
        "**E-mail:** rumorale1@gmail.com\n",
        "\n",
        "\n",
        "## 5. Listas y Dataframes\n",
        "\n",
        "### 5.1 Listas\n",
        "\n",
        "Hasta aquí contamos con dos tipos de objetos para almacenar datos; vectores y matrices. Sin embargo, en ambos casos se tiene la limitante de que no es posible combinar distintos tipos de datos en diferentes entradas. Un objeto que permite una mayor flexibilidad son las listas. En R, una lista es básicamente un arreglo unidimensional, donde en cada entrada es posible almacenar distintos **objetos** (los cuales a su vez pueden almacenar distintos tipos de datos (u otros objetos).\n",
        "En resumen,\n",
        "\n",
        "   * ¿Qué son?<br>\n",
        "    Arreglos unidimensionales que guardan distintos tipos de datos u objetos.<br>\n",
        "\n",
        "   * ¿Cómo se declaran?<br>\n",
        "    Se pueden declarar mediante el comando list() o combinando listas existentes. <br>\n",
        "    \n",
        "   * ¿Cómo se accede a sus elementos?<br>\n",
        "    Usando [ ] (retorna lista), o bien usando [ [ ] ] (retorna el objeto).\n",
        "    En cada caso se puede indicar la posición o nombre del objeto que se quiere rescatar.<br>\n",
        "    Otra manera es mediante el símbolo $ seguido del nombre del objeto.\n",
        "\n"
      ]
    },
    {
      "cell_type": "markdown",
      "metadata": {},
      "source": [
        "Creación de una lista"
      ]
    },
    {
      "cell_type": "code",
      "execution_count": null,
      "metadata": {
        "id": "zZHpLzzRTpRp",
        "trusted": true,
        "vscode": {
          "languageId": "r"
        }
      },
      "outputs": [],
      "source": [
        "# 5. Listas y dataframes ------------\n",
        "# 5.1 Listas  ------------\n",
        "# Cómo declarar una lista (comando list() )\n",
        "#num,letra, pl, mat, lista\n"
      ]
    },
    {
      "cell_type": "markdown",
      "metadata": {},
      "source": [
        "guardar los objetos en slots con nombres"
      ]
    },
    {
      "cell_type": "code",
      "execution_count": null,
      "metadata": {
        "id": "Ao1wFCByTpRx",
        "trusted": true,
        "vscode": {
          "languageId": "r"
        }
      },
      "outputs": [],
      "source": []
    },
    {
      "cell_type": "markdown",
      "metadata": {},
      "source": [
        "Podemos combinar listas"
      ]
    },
    {
      "cell_type": "code",
      "execution_count": null,
      "metadata": {
        "id": "GBuxGL4cTpR0",
        "trusted": true,
        "vscode": {
          "languageId": "r"
        }
      },
      "outputs": [],
      "source": []
    },
    {
      "cell_type": "markdown",
      "metadata": {},
      "source": [
        "Accesos a elementos de una lista: Posición y Nombre"
      ]
    },
    {
      "cell_type": "code",
      "execution_count": null,
      "metadata": {
        "id": "L3RDKUqOTpR5",
        "trusted": true,
        "vscode": {
          "languageId": "r"
        }
      },
      "outputs": [],
      "source": []
    },
    {
      "cell_type": "markdown",
      "metadata": {},
      "source": [
        "Diferencia entre [.] y [[.]]"
      ]
    },
    {
      "cell_type": "code",
      "execution_count": null,
      "metadata": {
        "id": "kaOJqYJETpSC",
        "trusted": true,
        "vscode": {
          "languageId": "r"
        }
      },
      "outputs": [],
      "source": [
        "# de la lista l3[[5]], quiero el vector que está en el slot llamado \"b\" (segundo elemento)\n"
      ]
    },
    {
      "cell_type": "markdown",
      "metadata": {},
      "source": [
        "Operados $"
      ]
    },
    {
      "cell_type": "code",
      "execution_count": null,
      "metadata": {
        "id": "a9UBaNOuTpSI",
        "trusted": true,
        "vscode": {
          "languageId": "r"
        }
      },
      "outputs": [],
      "source": []
    },
    {
      "cell_type": "markdown",
      "metadata": {},
      "source": [
        "Nombres de los elementos de la lista"
      ]
    },
    {
      "cell_type": "code",
      "execution_count": null,
      "metadata": {
        "id": "Dumeo0-NTpSM",
        "trusted": true,
        "vscode": {
          "languageId": "r"
        }
      },
      "outputs": [],
      "source": []
    },
    {
      "cell_type": "markdown",
      "metadata": {},
      "source": [
        "Largo de la lista"
      ]
    },
    {
      "cell_type": "code",
      "execution_count": null,
      "metadata": {
        "id": "Uij1PdVrTpSO",
        "trusted": true,
        "vscode": {
          "languageId": "r"
        }
      },
      "outputs": [],
      "source": [
        "# También podemos crear nuevos \"slots\"\n",
        "## Indicando nombre en [[]] y luego asignando\n"
      ]
    },
    {
      "cell_type": "markdown",
      "metadata": {},
      "source": [
        "Crear nuevos Slot y modificarlos"
      ]
    },
    {
      "cell_type": "code",
      "execution_count": null,
      "metadata": {
        "id": "rBB4hT9RTpSQ",
        "trusted": true,
        "vscode": {
          "languageId": "r"
        }
      },
      "outputs": [],
      "source": []
    },
    {
      "cell_type": "markdown",
      "metadata": {
        "id": "128wI4ZoTpSS"
      },
      "source": [
        "### 5.2 Dataframes\n",
        "\n",
        "Un dataframe es un caso particular de una lista, donde los objetos de cada entrada corresponden a vectores de datos del mismo largo. En este caso cada vector corresponde a una columna del data.frame, mientras que la cantidad de filas corresponde al largo común de los vectores de cada entrada. El objeto resultante es una *tabla*, de ahora en adelante *data.frame*, cuyas columnas poseen distintos tipos de datos entre sí.\n",
        "\n",
        " * ¿Cómo se declara un dataframe?<br>\n",
        "     Mediante la función data.frame(), indicando los vectores que conformarán las columnas.\n",
        "\n",
        " * ¿Cómo se accede a los datos de un data.frame?<br>\n",
        "    Al ser una lista, se puede acceder de la misma manera. Sin embargo también es posible acceder del modo en que se accede a los elementos de una matriz."
      ]
    },
    {
      "cell_type": "code",
      "execution_count": null,
      "metadata": {
        "id": "qJ-2zVWVTpST",
        "trusted": true,
        "vscode": {
          "languageId": "r"
        }
      },
      "outputs": [],
      "source": [
        "# 5.2 Dataframes ----------\n",
        "# Ejemplo sencillo de definición de un data.frame\n",
        "# recordar que 1:3 es lo mismo que c(1,2,3)\n",
        "\n"
      ]
    },
    {
      "cell_type": "markdown",
      "metadata": {},
      "source": [
        "Acceso a columnas de un data frame"
      ]
    },
    {
      "cell_type": "code",
      "execution_count": null,
      "metadata": {
        "id": "nv7stC8ITpSY",
        "trusted": true,
        "vscode": {
          "languageId": "r"
        }
      },
      "outputs": [],
      "source": []
    },
    {
      "cell_type": "markdown",
      "metadata": {},
      "source": [
        "Acceso como matriz"
      ]
    },
    {
      "cell_type": "code",
      "execution_count": null,
      "metadata": {
        "id": "CojdmEs9TpSd",
        "trusted": true,
        "vscode": {
          "languageId": "r"
        }
      },
      "outputs": [],
      "source": [
        "##  Ganamos acceso como matriz\n",
        "# segundafila de df\n",
        "\n",
        "\n",
        "# segunda columna y segunda fila\n",
        "\n",
        "\n"
      ]
    },
    {
      "cell_type": "markdown",
      "metadata": {},
      "source": [
        "Creación de nuevas columnas"
      ]
    },
    {
      "cell_type": "code",
      "execution_count": null,
      "metadata": {
        "id": "FgD5Q8hFTpSf",
        "trusted": true,
        "vscode": {
          "languageId": "r"
        }
      },
      "outputs": [],
      "source": [
        "#Podemos crear nuevas columnas , del mismmo modo que creamos \"slots\" en una lista\n"
      ]
    },
    {
      "cell_type": "markdown",
      "metadata": {},
      "source": [
        "Selección de mas de una columna"
      ]
    },
    {
      "cell_type": "code",
      "execution_count": null,
      "metadata": {
        "id": "LcNQ5JHVTpSh",
        "trusted": true,
        "vscode": {
          "languageId": "r"
        }
      },
      "outputs": [],
      "source": [
        "# podemos seleccionar más de una columna a la vez. Ej: seleccionar col1y col3\n",
        "\n",
        "# Referenciando el nombre de las columnas"
      ]
    },
    {
      "cell_type": "code",
      "execution_count": null,
      "metadata": {
        "id": "NHtO3MHwTpSj",
        "trusted": true,
        "vscode": {
          "languageId": "r"
        }
      },
      "outputs": [],
      "source": [
        "# Referenciando las posiciones de las columnas\n"
      ]
    },
    {
      "cell_type": "code",
      "execution_count": 46,
      "metadata": {
        "id": "RmsAhhsWTpSm",
        "trusted": true,
        "vscode": {
          "languageId": "r"
        }
      },
      "outputs": [],
      "source": [
        "# Se mantiene la lógica de acceso a los slots de una lista.\n"
      ]
    },
    {
      "cell_type": "markdown",
      "metadata": {},
      "source": [
        "### Cuadro comparativo: Matriz vs Lista vs Data Frame en R\n",
        "\n",
        "| Característica | **Matriz (`matrix`)** | **Lista (`list`)** | **Data Frame (`data.frame`)** |\n",
        "|----------------|------------------------|---------------------|-------------------------------|\n",
        "| **Estructura básica** | Arreglo bidimensional (filas y columnas) | Colección ordenada de objetos | Tabla (colección de vectores del mismo largo) |\n",
        "| **Dimensiones** | 2 dimensiones (filas x columnas) | 1 dimensión (cada elemento puede ser cualquier cosa) | 2 dimensiones (filas x columnas) |\n",
        "| **Tipos de datos** | **Un solo tipo de dato** (todos numéricos, todos caracteres, etc.) | **Varios tipos de datos**, incluso estructuras | **Distintos tipos de datos por columna** |\n",
        "| **Indexación** | `m[filas, columnas]` | `l[[índice]]` o `l$nombre` | `df[filas, columnas]` o `df$columna` |\n",
        "| **Homogeneidad** | Homogénea (todos los elementos del mismo tipo) | Heterogénea (cada elemento puede ser distinto) | Heterogénea (cada columna puede ser de distinto tipo) |\n",
        "| **Creación** | `matrix(1:6, nrow=2, ncol=3)` | `list(nombre=\"Ana\", edad=25, notas=c(5,6,7))` | `data.frame(nombre=c(\"Ana\",\"Luis\"), edad=c(25,30))` |\n",
        "| **Uso típico** | Operaciones matemáticas o algebra lineal | Agrupar objetos de distinta naturaleza | Representar y manipular datos tabulares (similar a Excel) |\n",
        "| **Conversión posible** | Se puede convertir en `data.frame` si cumple estructura | Se puede convertir a `data.frame` si los elementos son vectores de igual largo | Se puede convertir a lista (`as.list(df)`) |\n",
        "| **Ejemplo visual** | <code>1 2 3<br>4 5 6</code> | <code>$nombre → \"Ana\"<br>$edad → 25</code> | <code>nombre edad<br>Ana 25<br>Luis 30</code> |\n",
        "\n",
        "---\n",
        "\n",
        "#### 💡 En resumen:\n",
        "- 🟦 **Matriz:** ideal para **cálculos numéricos**.  \n",
        "- 🟨 **Lista:** ideal para **guardar objetos complejos**.  \n",
        "- 🟩 **Data frame:** ideal para **análisis de datos** (es la base del *data science* en R)."
      ]
    }
  ],
  "metadata": {
    "colab": {
      "provenance": []
    },
    "kernelspec": {
      "display_name": "R",
      "language": "R",
      "name": "ir"
    },
    "language_info": {
      "codemirror_mode": "r",
      "file_extension": ".r",
      "mimetype": "text/x-r-source",
      "name": "R",
      "pygments_lexer": "r",
      "version": "4.5.1"
    }
  },
  "nbformat": 4,
  "nbformat_minor": 0
}
