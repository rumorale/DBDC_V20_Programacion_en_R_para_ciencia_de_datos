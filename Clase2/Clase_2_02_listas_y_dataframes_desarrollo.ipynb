{
  "cells": [
    {
      "cell_type": "markdown",
      "metadata": {
        "collapsed": true,
        "id": "fgQ2azLwTpRn"
      },
      "source": [
        "# Parte 1: Introducción a R (continuación)\n",
        "\n",
        "**Profesor:** Rodrigo Morales <br>\n",
        "**E-mail:** rumorale1@gmail.com\n",
        "\n",
        "\n",
        "## 5. Listas y Dataframes\n",
        "\n",
        "### 5.1 Listas\n",
        "\n",
        "Hasta aquí contamos con dos tipos de objetos para almacenar datos; vectores y matrices. Sin embargo, en ambos casos se tiene la limitante de que no es posible combinar distintos tipos de datos en diferentes entradas. Un objeto que permite una mayor flexibilidad son las listas. En R, una lista es básicamente un arreglo unidimensional, donde en cada entrada es posible almacenar distintos **objetos** (los cuales a su vez pueden almacenar distintos tipos de datos (u otros objetos).\n",
        "En resumen,\n",
        "\n",
        "   * ¿Qué son?<br>\n",
        "    Arreglos unidimensionales que guardan distintos tipos de datos u objetos.<br>\n",
        "\n",
        "   * ¿Cómo se declaran?<br>\n",
        "    Se pueden declarar mediante el comando list() o combinando listas existentes. <br>\n",
        "    \n",
        "   * ¿Cómo se accede a sus elementos?<br>\n",
        "    Usando [ ] (retorna lista), o bien usando [ [ ] ] (retorna el objeto).\n",
        "    En cada caso se puede indicar la posición o nombre del objeto que se quiere rescatar.<br>\n",
        "    Otra manera es mediante el símbolo $ seguido del nombre del objeto.\n",
        "\n"
      ]
    },
    {
      "cell_type": "markdown",
      "metadata": {},
      "source": [
        "Creación de una lista"
      ]
    },
    {
      "cell_type": "code",
      "execution_count": 10,
      "metadata": {
        "id": "zZHpLzzRTpRp",
        "trusted": true,
        "vscode": {
          "languageId": "r"
        }
      },
      "outputs": [
        {
          "data": {
            "text/html": [
              "<dl>\n",
              "\t<dt>$vector_numerico</dt>\n",
              "\t\t<dd><style>\n",
              ".list-inline {list-style: none; margin:0; padding: 0}\n",
              ".list-inline>li {display: inline-block}\n",
              ".list-inline>li:not(:last-child)::after {content: \"\\00b7\"; padding: 0 .5ex}\n",
              "</style>\n",
              "<ol class=list-inline><li>1</li><li>2</li><li>3</li><li>4</li><li>5</li></ol>\n",
              "</dd>\n",
              "\t<dt>$letras</dt>\n",
              "\t\t<dd><style>\n",
              ".list-inline {list-style: none; margin:0; padding: 0}\n",
              ".list-inline>li {display: inline-block}\n",
              ".list-inline>li:not(:last-child)::after {content: \"\\00b7\"; padding: 0 .5ex}\n",
              "</style>\n",
              "<ol class=list-inline><li>'a'</li><li>'b'</li><li>'c'</li><li>'d'</li><li>'e'</li><li>'f'</li><li>'g'</li><li>'h'</li><li>'i'</li><li>'j'</li></ol>\n",
              "</dd>\n",
              "\t<dt>$matriz</dt>\n",
              "\t\t<dd><table class=\"dataframe\">\n",
              "<caption>A matrix: 3 × 3 of type int</caption>\n",
              "<tbody>\n",
              "\t<tr><td>1</td><td>4</td><td>7</td></tr>\n",
              "\t<tr><td>2</td><td>5</td><td>8</td></tr>\n",
              "\t<tr><td>3</td><td>6</td><td>9</td></tr>\n",
              "</tbody>\n",
              "</table>\n",
              "</dd>\n",
              "\t<dt>$fechas</dt>\n",
              "\t\t<dd><style>\n",
              ".list-inline {list-style: none; margin:0; padding: 0}\n",
              ".list-inline>li {display: inline-block}\n",
              ".list-inline>li:not(:last-child)::after {content: \"\\00b7\"; padding: 0 .5ex}\n",
              "</style>\n",
              "<ol class=list-inline><li><time datetime=\"2025-01-01\">2025-01-01</time></li><li><time datetime=\"2025-10-01\">2025-10-01</time></li></ol>\n",
              "</dd>\n",
              "</dl>\n"
            ],
            "text/latex": [
              "\\begin{description}\n",
              "\\item[\\$vector\\_numerico] \\begin{enumerate*}\n",
              "\\item 1\n",
              "\\item 2\n",
              "\\item 3\n",
              "\\item 4\n",
              "\\item 5\n",
              "\\end{enumerate*}\n",
              "\n",
              "\\item[\\$letras] \\begin{enumerate*}\n",
              "\\item 'a'\n",
              "\\item 'b'\n",
              "\\item 'c'\n",
              "\\item 'd'\n",
              "\\item 'e'\n",
              "\\item 'f'\n",
              "\\item 'g'\n",
              "\\item 'h'\n",
              "\\item 'i'\n",
              "\\item 'j'\n",
              "\\end{enumerate*}\n",
              "\n",
              "\\item[\\$matriz] A matrix: 3 × 3 of type int\n",
              "\\begin{tabular}{lll}\n",
              "\t 1 & 4 & 7\\\\\n",
              "\t 2 & 5 & 8\\\\\n",
              "\t 3 & 6 & 9\\\\\n",
              "\\end{tabular}\n",
              "\n",
              "\\item[\\$fechas] \\begin{enumerate*}\n",
              "\\item 2025-01-01\n",
              "\\item 2025-10-01\n",
              "\\end{enumerate*}\n",
              "\n",
              "\\end{description}\n"
            ],
            "text/markdown": [
              "$vector_numerico\n",
              ":   1. 1\n",
              "2. 2\n",
              "3. 3\n",
              "4. 4\n",
              "5. 5\n",
              "\n",
              "\n",
              "\n",
              "$letras\n",
              ":   1. 'a'\n",
              "2. 'b'\n",
              "3. 'c'\n",
              "4. 'd'\n",
              "5. 'e'\n",
              "6. 'f'\n",
              "7. 'g'\n",
              "8. 'h'\n",
              "9. 'i'\n",
              "10. 'j'\n",
              "\n",
              "\n",
              "\n",
              "$matriz\n",
              ":   \n",
              "A matrix: 3 × 3 of type int\n",
              "\n",
              "| 1 | 4 | 7 |\n",
              "| 2 | 5 | 8 |\n",
              "| 3 | 6 | 9 |\n",
              "\n",
              "\n",
              "$fechas\n",
              ":   1. 2025-01-01\n",
              "2. 2025-10-01\n",
              "\n",
              "\n",
              "\n",
              "\n",
              "\n"
            ],
            "text/plain": [
              "$vector_numerico\n",
              "[1] 1 2 3 4 5\n",
              "\n",
              "$letras\n",
              " [1] \"a\" \"b\" \"c\" \"d\" \"e\" \"f\" \"g\" \"h\" \"i\" \"j\"\n",
              "\n",
              "$matriz\n",
              "     [,1] [,2] [,3]\n",
              "[1,]    1    4    7\n",
              "[2,]    2    5    8\n",
              "[3,]    3    6    9\n",
              "\n",
              "$fechas\n",
              "[1] \"2025-01-01\" \"2025-10-01\"\n"
            ]
          },
          "metadata": {},
          "output_type": "display_data"
        }
      ],
      "source": [
        "# 5. Listas y dataframes ------------\n",
        "# 5.1 Listas  ------------\n",
        "# Cómo declarar una lista (comando list() )\n",
        "#num,letra, pl, mat, lista\n",
        "\n",
        "\n",
        "lista <- list(vector_numerico = 1:5, \n",
        "              letras =letters[1:10], \n",
        "              matriz = matrix(data = 1:9, 3,3), \n",
        "              fechas = as.Date(c('2025-01-01', '2025-10-01')))\n",
        "\n",
        "lista"
      ]
    },
    {
      "cell_type": "markdown",
      "metadata": {},
      "source": [
        "guardar los objetos en slots con nombres"
      ]
    },
    {
      "cell_type": "code",
      "execution_count": 13,
      "metadata": {
        "id": "Ao1wFCByTpRx",
        "trusted": true,
        "vscode": {
          "languageId": "r"
        }
      },
      "outputs": [
        {
          "data": {
            "text/html": [
              "<dl>\n",
              "\t<dt>$vector_numerico</dt>\n",
              "\t\t<dd><style>\n",
              ".list-inline {list-style: none; margin:0; padding: 0}\n",
              ".list-inline>li {display: inline-block}\n",
              ".list-inline>li:not(:last-child)::after {content: \"\\00b7\"; padding: 0 .5ex}\n",
              "</style>\n",
              "<ol class=list-inline><li>1</li><li>2</li><li>3</li><li>4</li><li>5</li></ol>\n",
              "</dd>\n",
              "\t<dt>$letras</dt>\n",
              "\t\t<dd><style>\n",
              ".list-inline {list-style: none; margin:0; padding: 0}\n",
              ".list-inline>li {display: inline-block}\n",
              ".list-inline>li:not(:last-child)::after {content: \"\\00b7\"; padding: 0 .5ex}\n",
              "</style>\n",
              "<ol class=list-inline><li>'a'</li><li>'b'</li><li>'c'</li><li>'d'</li><li>'e'</li><li>'f'</li><li>'g'</li><li>'h'</li><li>'i'</li><li>'j'</li></ol>\n",
              "</dd>\n",
              "\t<dt>$matriz</dt>\n",
              "\t\t<dd><table class=\"dataframe\">\n",
              "<caption>A matrix: 3 × 3 of type int</caption>\n",
              "<tbody>\n",
              "\t<tr><td>1</td><td>4</td><td>7</td></tr>\n",
              "\t<tr><td>2</td><td>5</td><td>8</td></tr>\n",
              "\t<tr><td>3</td><td>6</td><td>9</td></tr>\n",
              "</tbody>\n",
              "</table>\n",
              "</dd>\n",
              "\t<dt>$fechas</dt>\n",
              "\t\t<dd><style>\n",
              ".list-inline {list-style: none; margin:0; padding: 0}\n",
              ".list-inline>li {display: inline-block}\n",
              ".list-inline>li:not(:last-child)::after {content: \"\\00b7\"; padding: 0 .5ex}\n",
              "</style>\n",
              "<ol class=list-inline><li><time datetime=\"2025-01-01\">2025-01-01</time></li><li><time datetime=\"2025-10-01\">2025-10-01</time></li></ol>\n",
              "</dd>\n",
              "\t<dt>$estaturas</dt>\n",
              "\t\t<dd><style>\n",
              ".list-inline {list-style: none; margin:0; padding: 0}\n",
              ".list-inline>li {display: inline-block}\n",
              ".list-inline>li:not(:last-child)::after {content: \"\\00b7\"; padding: 0 .5ex}\n",
              "</style>\n",
              "<ol class=list-inline><li>2.0013430207241</li><li>1.55611967502244</li><li>1.79642521915769</li><li>1.59871658288233</li><li>1.40272155805165</li><li>1.802488624626</li><li>1.56025892166434</li><li>1.57981035997942</li><li>1.54640728507712</li><li>1.91980455456767</li></ol>\n",
              "</dd>\n",
              "</dl>\n"
            ],
            "text/latex": [
              "\\begin{description}\n",
              "\\item[\\$vector\\_numerico] \\begin{enumerate*}\n",
              "\\item 1\n",
              "\\item 2\n",
              "\\item 3\n",
              "\\item 4\n",
              "\\item 5\n",
              "\\end{enumerate*}\n",
              "\n",
              "\\item[\\$letras] \\begin{enumerate*}\n",
              "\\item 'a'\n",
              "\\item 'b'\n",
              "\\item 'c'\n",
              "\\item 'd'\n",
              "\\item 'e'\n",
              "\\item 'f'\n",
              "\\item 'g'\n",
              "\\item 'h'\n",
              "\\item 'i'\n",
              "\\item 'j'\n",
              "\\end{enumerate*}\n",
              "\n",
              "\\item[\\$matriz] A matrix: 3 × 3 of type int\n",
              "\\begin{tabular}{lll}\n",
              "\t 1 & 4 & 7\\\\\n",
              "\t 2 & 5 & 8\\\\\n",
              "\t 3 & 6 & 9\\\\\n",
              "\\end{tabular}\n",
              "\n",
              "\\item[\\$fechas] \\begin{enumerate*}\n",
              "\\item 2025-01-01\n",
              "\\item 2025-10-01\n",
              "\\end{enumerate*}\n",
              "\n",
              "\\item[\\$estaturas] \\begin{enumerate*}\n",
              "\\item 2.0013430207241\n",
              "\\item 1.55611967502244\n",
              "\\item 1.79642521915769\n",
              "\\item 1.59871658288233\n",
              "\\item 1.40272155805165\n",
              "\\item 1.802488624626\n",
              "\\item 1.56025892166434\n",
              "\\item 1.57981035997942\n",
              "\\item 1.54640728507712\n",
              "\\item 1.91980455456767\n",
              "\\end{enumerate*}\n",
              "\n",
              "\\end{description}\n"
            ],
            "text/markdown": [
              "$vector_numerico\n",
              ":   1. 1\n",
              "2. 2\n",
              "3. 3\n",
              "4. 4\n",
              "5. 5\n",
              "\n",
              "\n",
              "\n",
              "$letras\n",
              ":   1. 'a'\n",
              "2. 'b'\n",
              "3. 'c'\n",
              "4. 'd'\n",
              "5. 'e'\n",
              "6. 'f'\n",
              "7. 'g'\n",
              "8. 'h'\n",
              "9. 'i'\n",
              "10. 'j'\n",
              "\n",
              "\n",
              "\n",
              "$matriz\n",
              ":   \n",
              "A matrix: 3 × 3 of type int\n",
              "\n",
              "| 1 | 4 | 7 |\n",
              "| 2 | 5 | 8 |\n",
              "| 3 | 6 | 9 |\n",
              "\n",
              "\n",
              "$fechas\n",
              ":   1. 2025-01-01\n",
              "2. 2025-10-01\n",
              "\n",
              "\n",
              "\n",
              "$estaturas\n",
              ":   1. 2.0013430207241\n",
              "2. 1.55611967502244\n",
              "3. 1.79642521915769\n",
              "4. 1.59871658288233\n",
              "5. 1.40272155805165\n",
              "6. 1.802488624626\n",
              "7. 1.56025892166434\n",
              "8. 1.57981035997942\n",
              "9. 1.54640728507712\n",
              "10. 1.91980455456767\n",
              "\n",
              "\n",
              "\n",
              "\n",
              "\n"
            ],
            "text/plain": [
              "$vector_numerico\n",
              "[1] 1 2 3 4 5\n",
              "\n",
              "$letras\n",
              " [1] \"a\" \"b\" \"c\" \"d\" \"e\" \"f\" \"g\" \"h\" \"i\" \"j\"\n",
              "\n",
              "$matriz\n",
              "     [,1] [,2] [,3]\n",
              "[1,]    1    4    7\n",
              "[2,]    2    5    8\n",
              "[3,]    3    6    9\n",
              "\n",
              "$fechas\n",
              "[1] \"2025-01-01\" \"2025-10-01\"\n",
              "\n",
              "$estaturas\n",
              " [1] 2.001343 1.556120 1.796425 1.598717 1.402722 1.802489 1.560259 1.579810\n",
              " [9] 1.546407 1.919805\n"
            ]
          },
          "metadata": {},
          "output_type": "display_data"
        }
      ],
      "source": [
        "lista[['estaturas']] <- rnorm(n = 10, mean=1.6, sd = 0.2)\n",
        "\n",
        "lista"
      ]
    },
    {
      "cell_type": "markdown",
      "metadata": {},
      "source": [
        "Podemos combinar listas"
      ]
    },
    {
      "cell_type": "code",
      "execution_count": 16,
      "metadata": {
        "id": "GBuxGL4cTpR0",
        "trusted": true,
        "vscode": {
          "languageId": "r"
        }
      },
      "outputs": [
        {
          "data": {
            "text/html": [
              "<dl>\n",
              "\t<dt>$vector_numerico</dt>\n",
              "\t\t<dd><style>\n",
              ".list-inline {list-style: none; margin:0; padding: 0}\n",
              ".list-inline>li {display: inline-block}\n",
              ".list-inline>li:not(:last-child)::after {content: \"\\00b7\"; padding: 0 .5ex}\n",
              "</style>\n",
              "<ol class=list-inline><li>1</li><li>2</li><li>3</li><li>4</li><li>5</li></ol>\n",
              "</dd>\n",
              "\t<dt>$letras</dt>\n",
              "\t\t<dd><style>\n",
              ".list-inline {list-style: none; margin:0; padding: 0}\n",
              ".list-inline>li {display: inline-block}\n",
              ".list-inline>li:not(:last-child)::after {content: \"\\00b7\"; padding: 0 .5ex}\n",
              "</style>\n",
              "<ol class=list-inline><li>'a'</li><li>'b'</li><li>'c'</li><li>'d'</li><li>'e'</li><li>'f'</li><li>'g'</li><li>'h'</li><li>'i'</li><li>'j'</li></ol>\n",
              "</dd>\n",
              "\t<dt>$matriz</dt>\n",
              "\t\t<dd><table class=\"dataframe\">\n",
              "<caption>A matrix: 3 × 3 of type int</caption>\n",
              "<tbody>\n",
              "\t<tr><td>1</td><td>4</td><td>7</td></tr>\n",
              "\t<tr><td>2</td><td>5</td><td>8</td></tr>\n",
              "\t<tr><td>3</td><td>6</td><td>9</td></tr>\n",
              "</tbody>\n",
              "</table>\n",
              "</dd>\n",
              "\t<dt>$fechas</dt>\n",
              "\t\t<dd><style>\n",
              ".list-inline {list-style: none; margin:0; padding: 0}\n",
              ".list-inline>li {display: inline-block}\n",
              ".list-inline>li:not(:last-child)::after {content: \"\\00b7\"; padding: 0 .5ex}\n",
              "</style>\n",
              "<ol class=list-inline><li><time datetime=\"2025-01-01\">2025-01-01</time></li><li><time datetime=\"2025-10-01\">2025-10-01</time></li></ol>\n",
              "</dd>\n",
              "\t<dt>$estaturas</dt>\n",
              "\t\t<dd><style>\n",
              ".list-inline {list-style: none; margin:0; padding: 0}\n",
              ".list-inline>li {display: inline-block}\n",
              ".list-inline>li:not(:last-child)::after {content: \"\\00b7\"; padding: 0 .5ex}\n",
              "</style>\n",
              "<ol class=list-inline><li>2.0013430207241</li><li>1.55611967502244</li><li>1.79642521915769</li><li>1.59871658288233</li><li>1.40272155805165</li><li>1.802488624626</li><li>1.56025892166434</li><li>1.57981035997942</li><li>1.54640728507712</li><li>1.91980455456767</li></ol>\n",
              "</dd>\n",
              "\t<dt>$x</dt>\n",
              "\t\t<dd><style>\n",
              ".list-inline {list-style: none; margin:0; padding: 0}\n",
              ".list-inline>li {display: inline-block}\n",
              ".list-inline>li:not(:last-child)::after {content: \"\\00b7\"; padding: 0 .5ex}\n",
              "</style>\n",
              "<ol class=list-inline><li>50</li><li>51</li><li>52</li><li>53</li><li>54</li><li>55</li><li>56</li><li>57</li><li>58</li><li>59</li><li>60</li></ol>\n",
              "</dd>\n",
              "\t<dt>$y</dt>\n",
              "\t\t<dd><style>\n",
              ".list-inline {list-style: none; margin:0; padding: 0}\n",
              ".list-inline>li {display: inline-block}\n",
              ".list-inline>li:not(:last-child)::after {content: \"\\00b7\"; padding: 0 .5ex}\n",
              "</style>\n",
              "<ol class=list-inline><li>70</li><li>71</li><li>72</li><li>73</li><li>74</li><li>75</li><li>76</li><li>77</li><li>78</li><li>79</li><li>80</li><li>81</li><li>82</li><li>83</li><li>84</li><li>85</li><li>86</li><li>87</li><li>88</li><li>89</li><li>90</li><li>91</li><li>92</li><li>93</li><li>94</li><li>95</li><li>96</li><li>97</li><li>98</li><li>99</li><li>100</li></ol>\n",
              "</dd>\n",
              "</dl>\n"
            ],
            "text/latex": [
              "\\begin{description}\n",
              "\\item[\\$vector\\_numerico] \\begin{enumerate*}\n",
              "\\item 1\n",
              "\\item 2\n",
              "\\item 3\n",
              "\\item 4\n",
              "\\item 5\n",
              "\\end{enumerate*}\n",
              "\n",
              "\\item[\\$letras] \\begin{enumerate*}\n",
              "\\item 'a'\n",
              "\\item 'b'\n",
              "\\item 'c'\n",
              "\\item 'd'\n",
              "\\item 'e'\n",
              "\\item 'f'\n",
              "\\item 'g'\n",
              "\\item 'h'\n",
              "\\item 'i'\n",
              "\\item 'j'\n",
              "\\end{enumerate*}\n",
              "\n",
              "\\item[\\$matriz] A matrix: 3 × 3 of type int\n",
              "\\begin{tabular}{lll}\n",
              "\t 1 & 4 & 7\\\\\n",
              "\t 2 & 5 & 8\\\\\n",
              "\t 3 & 6 & 9\\\\\n",
              "\\end{tabular}\n",
              "\n",
              "\\item[\\$fechas] \\begin{enumerate*}\n",
              "\\item 2025-01-01\n",
              "\\item 2025-10-01\n",
              "\\end{enumerate*}\n",
              "\n",
              "\\item[\\$estaturas] \\begin{enumerate*}\n",
              "\\item 2.0013430207241\n",
              "\\item 1.55611967502244\n",
              "\\item 1.79642521915769\n",
              "\\item 1.59871658288233\n",
              "\\item 1.40272155805165\n",
              "\\item 1.802488624626\n",
              "\\item 1.56025892166434\n",
              "\\item 1.57981035997942\n",
              "\\item 1.54640728507712\n",
              "\\item 1.91980455456767\n",
              "\\end{enumerate*}\n",
              "\n",
              "\\item[\\$x] \\begin{enumerate*}\n",
              "\\item 50\n",
              "\\item 51\n",
              "\\item 52\n",
              "\\item 53\n",
              "\\item 54\n",
              "\\item 55\n",
              "\\item 56\n",
              "\\item 57\n",
              "\\item 58\n",
              "\\item 59\n",
              "\\item 60\n",
              "\\end{enumerate*}\n",
              "\n",
              "\\item[\\$y] \\begin{enumerate*}\n",
              "\\item 70\n",
              "\\item 71\n",
              "\\item 72\n",
              "\\item 73\n",
              "\\item 74\n",
              "\\item 75\n",
              "\\item 76\n",
              "\\item 77\n",
              "\\item 78\n",
              "\\item 79\n",
              "\\item 80\n",
              "\\item 81\n",
              "\\item 82\n",
              "\\item 83\n",
              "\\item 84\n",
              "\\item 85\n",
              "\\item 86\n",
              "\\item 87\n",
              "\\item 88\n",
              "\\item 89\n",
              "\\item 90\n",
              "\\item 91\n",
              "\\item 92\n",
              "\\item 93\n",
              "\\item 94\n",
              "\\item 95\n",
              "\\item 96\n",
              "\\item 97\n",
              "\\item 98\n",
              "\\item 99\n",
              "\\item 100\n",
              "\\end{enumerate*}\n",
              "\n",
              "\\end{description}\n"
            ],
            "text/markdown": [
              "$vector_numerico\n",
              ":   1. 1\n",
              "2. 2\n",
              "3. 3\n",
              "4. 4\n",
              "5. 5\n",
              "\n",
              "\n",
              "\n",
              "$letras\n",
              ":   1. 'a'\n",
              "2. 'b'\n",
              "3. 'c'\n",
              "4. 'd'\n",
              "5. 'e'\n",
              "6. 'f'\n",
              "7. 'g'\n",
              "8. 'h'\n",
              "9. 'i'\n",
              "10. 'j'\n",
              "\n",
              "\n",
              "\n",
              "$matriz\n",
              ":   \n",
              "A matrix: 3 × 3 of type int\n",
              "\n",
              "| 1 | 4 | 7 |\n",
              "| 2 | 5 | 8 |\n",
              "| 3 | 6 | 9 |\n",
              "\n",
              "\n",
              "$fechas\n",
              ":   1. 2025-01-01\n",
              "2. 2025-10-01\n",
              "\n",
              "\n",
              "\n",
              "$estaturas\n",
              ":   1. 2.0013430207241\n",
              "2. 1.55611967502244\n",
              "3. 1.79642521915769\n",
              "4. 1.59871658288233\n",
              "5. 1.40272155805165\n",
              "6. 1.802488624626\n",
              "7. 1.56025892166434\n",
              "8. 1.57981035997942\n",
              "9. 1.54640728507712\n",
              "10. 1.91980455456767\n",
              "\n",
              "\n",
              "\n",
              "$x\n",
              ":   1. 50\n",
              "2. 51\n",
              "3. 52\n",
              "4. 53\n",
              "5. 54\n",
              "6. 55\n",
              "7. 56\n",
              "8. 57\n",
              "9. 58\n",
              "10. 59\n",
              "11. 60\n",
              "\n",
              "\n",
              "\n",
              "$y\n",
              ":   1. 70\n",
              "2. 71\n",
              "3. 72\n",
              "4. 73\n",
              "5. 74\n",
              "6. 75\n",
              "7. 76\n",
              "8. 77\n",
              "9. 78\n",
              "10. 79\n",
              "11. 80\n",
              "12. 81\n",
              "13. 82\n",
              "14. 83\n",
              "15. 84\n",
              "16. 85\n",
              "17. 86\n",
              "18. 87\n",
              "19. 88\n",
              "20. 89\n",
              "21. 90\n",
              "22. 91\n",
              "23. 92\n",
              "24. 93\n",
              "25. 94\n",
              "26. 95\n",
              "27. 96\n",
              "28. 97\n",
              "29. 98\n",
              "30. 99\n",
              "31. 100\n",
              "\n",
              "\n",
              "\n",
              "\n",
              "\n"
            ],
            "text/plain": [
              "$vector_numerico\n",
              "[1] 1 2 3 4 5\n",
              "\n",
              "$letras\n",
              " [1] \"a\" \"b\" \"c\" \"d\" \"e\" \"f\" \"g\" \"h\" \"i\" \"j\"\n",
              "\n",
              "$matriz\n",
              "     [,1] [,2] [,3]\n",
              "[1,]    1    4    7\n",
              "[2,]    2    5    8\n",
              "[3,]    3    6    9\n",
              "\n",
              "$fechas\n",
              "[1] \"2025-01-01\" \"2025-10-01\"\n",
              "\n",
              "$estaturas\n",
              " [1] 2.001343 1.556120 1.796425 1.598717 1.402722 1.802489 1.560259 1.579810\n",
              " [9] 1.546407 1.919805\n",
              "\n",
              "$x\n",
              " [1] 50 51 52 53 54 55 56 57 58 59 60\n",
              "\n",
              "$y\n",
              " [1]  70  71  72  73  74  75  76  77  78  79  80  81  82  83  84  85  86  87  88\n",
              "[20]  89  90  91  92  93  94  95  96  97  98  99 100\n"
            ]
          },
          "metadata": {},
          "output_type": "display_data"
        }
      ],
      "source": [
        "lista_numerica <- list(x = 50:60, y = 70:100)\n",
        "#lista_numerica\n",
        "\n",
        "\n",
        "append(lista, lista_numerica)"
      ]
    },
    {
      "cell_type": "code",
      "execution_count": null,
      "metadata": {
        "vscode": {
          "languageId": "r"
        }
      },
      "outputs": [],
      "source": [
        "# Generar una funcion que guarde resultados de un modelo de regresión lineal\n",
        "\n",
        "# y = a*x +b\n",
        "# input -> datos (y = estatura, x = peso)\n",
        "# output: a -> numero, b -> numero, estaturas ajustadas -> vector, datos -> matriz, \n",
        "\n",
        "\n"
      ]
    },
    {
      "cell_type": "markdown",
      "metadata": {},
      "source": [
        "Accesos a elementos de una lista: Posición y Nombre"
      ]
    },
    {
      "cell_type": "code",
      "execution_count": 21,
      "metadata": {
        "id": "L3RDKUqOTpR5",
        "trusted": true,
        "vscode": {
          "languageId": "r"
        }
      },
      "outputs": [
        {
          "data": {
            "text/html": [
              "<style>\n",
              ".list-inline {list-style: none; margin:0; padding: 0}\n",
              ".list-inline>li {display: inline-block}\n",
              ".list-inline>li:not(:last-child)::after {content: \"\\00b7\"; padding: 0 .5ex}\n",
              "</style>\n",
              "<ol class=list-inline><li>1</li><li>2</li><li>3</li><li>4</li><li>5</li></ol>\n"
            ],
            "text/latex": [
              "\\begin{enumerate*}\n",
              "\\item 1\n",
              "\\item 2\n",
              "\\item 3\n",
              "\\item 4\n",
              "\\item 5\n",
              "\\end{enumerate*}\n"
            ],
            "text/markdown": [
              "1. 1\n",
              "2. 2\n",
              "3. 3\n",
              "4. 4\n",
              "5. 5\n",
              "\n",
              "\n"
            ],
            "text/plain": [
              "[1] 1 2 3 4 5"
            ]
          },
          "metadata": {},
          "output_type": "display_data"
        },
        {
          "data": {
            "text/html": [
              "<style>\n",
              ".list-inline {list-style: none; margin:0; padding: 0}\n",
              ".list-inline>li {display: inline-block}\n",
              ".list-inline>li:not(:last-child)::after {content: \"\\00b7\"; padding: 0 .5ex}\n",
              "</style>\n",
              "<ol class=list-inline><li>1</li><li>2</li><li>3</li><li>4</li><li>5</li></ol>\n"
            ],
            "text/latex": [
              "\\begin{enumerate*}\n",
              "\\item 1\n",
              "\\item 2\n",
              "\\item 3\n",
              "\\item 4\n",
              "\\item 5\n",
              "\\end{enumerate*}\n"
            ],
            "text/markdown": [
              "1. 1\n",
              "2. 2\n",
              "3. 3\n",
              "4. 4\n",
              "5. 5\n",
              "\n",
              "\n"
            ],
            "text/plain": [
              "[1] 1 2 3 4 5"
            ]
          },
          "metadata": {},
          "output_type": "display_data"
        },
        {
          "data": {
            "text/html": [
              "<style>\n",
              ".list-inline {list-style: none; margin:0; padding: 0}\n",
              ".list-inline>li {display: inline-block}\n",
              ".list-inline>li:not(:last-child)::after {content: \"\\00b7\"; padding: 0 .5ex}\n",
              "</style>\n",
              "<ol class=list-inline><li>2.0013430207241</li><li>1.55611967502244</li><li>1.79642521915769</li><li>1.59871658288233</li><li>1.40272155805165</li><li>1.802488624626</li><li>1.56025892166434</li><li>1.57981035997942</li><li>1.54640728507712</li><li>1.91980455456767</li></ol>\n"
            ],
            "text/latex": [
              "\\begin{enumerate*}\n",
              "\\item 2.0013430207241\n",
              "\\item 1.55611967502244\n",
              "\\item 1.79642521915769\n",
              "\\item 1.59871658288233\n",
              "\\item 1.40272155805165\n",
              "\\item 1.802488624626\n",
              "\\item 1.56025892166434\n",
              "\\item 1.57981035997942\n",
              "\\item 1.54640728507712\n",
              "\\item 1.91980455456767\n",
              "\\end{enumerate*}\n"
            ],
            "text/markdown": [
              "1. 2.0013430207241\n",
              "2. 1.55611967502244\n",
              "3. 1.79642521915769\n",
              "4. 1.59871658288233\n",
              "5. 1.40272155805165\n",
              "6. 1.802488624626\n",
              "7. 1.56025892166434\n",
              "8. 1.57981035997942\n",
              "9. 1.54640728507712\n",
              "10. 1.91980455456767\n",
              "\n",
              "\n"
            ],
            "text/plain": [
              " [1] 2.001343 1.556120 1.796425 1.598717 1.402722 1.802489 1.560259 1.579810\n",
              " [9] 1.546407 1.919805"
            ]
          },
          "metadata": {},
          "output_type": "display_data"
        },
        {
          "data": {
            "text/html": [
              "<style>\n",
              ".list-inline {list-style: none; margin:0; padding: 0}\n",
              ".list-inline>li {display: inline-block}\n",
              ".list-inline>li:not(:last-child)::after {content: \"\\00b7\"; padding: 0 .5ex}\n",
              "</style>\n",
              "<ol class=list-inline><li>1</li><li>2</li><li>3</li><li>4</li><li>5</li></ol>\n"
            ],
            "text/latex": [
              "\\begin{enumerate*}\n",
              "\\item 1\n",
              "\\item 2\n",
              "\\item 3\n",
              "\\item 4\n",
              "\\item 5\n",
              "\\end{enumerate*}\n"
            ],
            "text/markdown": [
              "1. 1\n",
              "2. 2\n",
              "3. 3\n",
              "4. 4\n",
              "5. 5\n",
              "\n",
              "\n"
            ],
            "text/plain": [
              "[1] 1 2 3 4 5"
            ]
          },
          "metadata": {},
          "output_type": "display_data"
        }
      ],
      "source": [
        "# nombre\n",
        "lista[[\"vector_numerico\"]]\n",
        "\n",
        "lista$vector_numerico\n",
        "\n",
        "lista$estaturas\n",
        "\n",
        "# posicicion\n",
        "\n",
        "lista[[1]]"
      ]
    },
    {
      "cell_type": "markdown",
      "metadata": {},
      "source": [
        "Diferencia entre [.] y [[.]]"
      ]
    },
    {
      "cell_type": "code",
      "execution_count": 26,
      "metadata": {
        "id": "kaOJqYJETpSC",
        "trusted": true,
        "vscode": {
          "languageId": "r"
        }
      },
      "outputs": [
        {
          "data": {
            "text/html": [
              "'list'"
            ],
            "text/latex": [
              "'list'"
            ],
            "text/markdown": [
              "'list'"
            ],
            "text/plain": [
              "[1] \"list\""
            ]
          },
          "metadata": {},
          "output_type": "display_data"
        },
        {
          "name": "stdout",
          "output_type": "stream",
          "text": [
            "List of 1\n",
            " $ vector_numerico: int [1:5] 1 2 3 4 5\n"
          ]
        },
        {
          "data": {
            "text/html": [
              "'integer'"
            ],
            "text/latex": [
              "'integer'"
            ],
            "text/markdown": [
              "'integer'"
            ],
            "text/plain": [
              "[1] \"integer\""
            ]
          },
          "metadata": {},
          "output_type": "display_data"
        },
        {
          "name": "stdout",
          "output_type": "stream",
          "text": [
            " int [1:5] 1 2 3 4 5\n"
          ]
        }
      ],
      "source": [
        "# de la lista l3[[5]], quiero el vector que está en el slot llamado \"b\" (segundo elemento)\n",
        "class(lista[\"vector_numerico\"])\n",
        "str(lista[\"vector_numerico\"])\n",
        "\n",
        "class(lista[[\"vector_numerico\"]])\n",
        "str(lista[[\"vector_numerico\"]])"
      ]
    },
    {
      "cell_type": "markdown",
      "metadata": {},
      "source": [
        "Operados $"
      ]
    },
    {
      "cell_type": "code",
      "execution_count": 27,
      "metadata": {
        "id": "a9UBaNOuTpSI",
        "trusted": true,
        "vscode": {
          "languageId": "r"
        }
      },
      "outputs": [
        {
          "data": {
            "text/html": [
              "<style>\n",
              ".list-inline {list-style: none; margin:0; padding: 0}\n",
              ".list-inline>li {display: inline-block}\n",
              ".list-inline>li:not(:last-child)::after {content: \"\\00b7\"; padding: 0 .5ex}\n",
              "</style>\n",
              "<ol class=list-inline><li>50</li><li>51</li><li>52</li><li>53</li><li>54</li><li>55</li><li>56</li><li>57</li><li>58</li><li>59</li><li>60</li></ol>\n"
            ],
            "text/latex": [
              "\\begin{enumerate*}\n",
              "\\item 50\n",
              "\\item 51\n",
              "\\item 52\n",
              "\\item 53\n",
              "\\item 54\n",
              "\\item 55\n",
              "\\item 56\n",
              "\\item 57\n",
              "\\item 58\n",
              "\\item 59\n",
              "\\item 60\n",
              "\\end{enumerate*}\n"
            ],
            "text/markdown": [
              "1. 50\n",
              "2. 51\n",
              "3. 52\n",
              "4. 53\n",
              "5. 54\n",
              "6. 55\n",
              "7. 56\n",
              "8. 57\n",
              "9. 58\n",
              "10. 59\n",
              "11. 60\n",
              "\n",
              "\n"
            ],
            "text/plain": [
              " [1] 50 51 52 53 54 55 56 57 58 59 60"
            ]
          },
          "metadata": {},
          "output_type": "display_data"
        }
      ],
      "source": [
        "lista_numerica$x"
      ]
    },
    {
      "cell_type": "markdown",
      "metadata": {},
      "source": [
        "Nombres de los elementos de la lista"
      ]
    },
    {
      "cell_type": "code",
      "execution_count": 29,
      "metadata": {
        "id": "Dumeo0-NTpSM",
        "trusted": true,
        "vscode": {
          "languageId": "r"
        }
      },
      "outputs": [
        {
          "data": {
            "text/html": [
              "<style>\n",
              ".list-inline {list-style: none; margin:0; padding: 0}\n",
              ".list-inline>li {display: inline-block}\n",
              ".list-inline>li:not(:last-child)::after {content: \"\\00b7\"; padding: 0 .5ex}\n",
              "</style>\n",
              "<ol class=list-inline><li>'vector_numerico'</li><li>'letras'</li><li>'matriz'</li><li>'fechas'</li><li>'estaturas'</li></ol>\n"
            ],
            "text/latex": [
              "\\begin{enumerate*}\n",
              "\\item 'vector\\_numerico'\n",
              "\\item 'letras'\n",
              "\\item 'matriz'\n",
              "\\item 'fechas'\n",
              "\\item 'estaturas'\n",
              "\\end{enumerate*}\n"
            ],
            "text/markdown": [
              "1. 'vector_numerico'\n",
              "2. 'letras'\n",
              "3. 'matriz'\n",
              "4. 'fechas'\n",
              "5. 'estaturas'\n",
              "\n",
              "\n"
            ],
            "text/plain": [
              "[1] \"vector_numerico\" \"letras\"          \"matriz\"          \"fechas\"         \n",
              "[5] \"estaturas\"      "
            ]
          },
          "metadata": {},
          "output_type": "display_data"
        }
      ],
      "source": [
        "names(lista) \n",
        "\n"
      ]
    },
    {
      "cell_type": "markdown",
      "metadata": {},
      "source": [
        "Largo de la lista"
      ]
    },
    {
      "cell_type": "code",
      "execution_count": 31,
      "metadata": {
        "id": "Uij1PdVrTpSO",
        "trusted": true,
        "vscode": {
          "languageId": "r"
        }
      },
      "outputs": [
        {
          "data": {
            "text/html": [
              "5"
            ],
            "text/latex": [
              "5"
            ],
            "text/markdown": [
              "5"
            ],
            "text/plain": [
              "[1] 5"
            ]
          },
          "metadata": {},
          "output_type": "display_data"
        },
        {
          "data": {
            "text/html": [
              "<dl>\n",
              "\t<dt>$vector_numerico</dt>\n",
              "\t\t<dd><style>\n",
              ".list-inline {list-style: none; margin:0; padding: 0}\n",
              ".list-inline>li {display: inline-block}\n",
              ".list-inline>li:not(:last-child)::after {content: \"\\00b7\"; padding: 0 .5ex}\n",
              "</style>\n",
              "<ol class=list-inline><li>1</li><li>2</li><li>3</li><li>4</li><li>5</li></ol>\n",
              "</dd>\n",
              "\t<dt>$letras</dt>\n",
              "\t\t<dd><style>\n",
              ".list-inline {list-style: none; margin:0; padding: 0}\n",
              ".list-inline>li {display: inline-block}\n",
              ".list-inline>li:not(:last-child)::after {content: \"\\00b7\"; padding: 0 .5ex}\n",
              "</style>\n",
              "<ol class=list-inline><li>'a'</li><li>'b'</li><li>'c'</li><li>'d'</li><li>'e'</li><li>'f'</li><li>'g'</li><li>'h'</li><li>'i'</li><li>'j'</li></ol>\n",
              "</dd>\n",
              "\t<dt>$matriz</dt>\n",
              "\t\t<dd><table class=\"dataframe\">\n",
              "<caption>A matrix: 3 × 3 of type int</caption>\n",
              "<tbody>\n",
              "\t<tr><td>1</td><td>4</td><td>7</td></tr>\n",
              "\t<tr><td>2</td><td>5</td><td>8</td></tr>\n",
              "\t<tr><td>3</td><td>6</td><td>9</td></tr>\n",
              "</tbody>\n",
              "</table>\n",
              "</dd>\n",
              "\t<dt>$fechas</dt>\n",
              "\t\t<dd><style>\n",
              ".list-inline {list-style: none; margin:0; padding: 0}\n",
              ".list-inline>li {display: inline-block}\n",
              ".list-inline>li:not(:last-child)::after {content: \"\\00b7\"; padding: 0 .5ex}\n",
              "</style>\n",
              "<ol class=list-inline><li><time datetime=\"2025-01-01\">2025-01-01</time></li><li><time datetime=\"2025-10-01\">2025-10-01</time></li></ol>\n",
              "</dd>\n",
              "\t<dt>$estaturas</dt>\n",
              "\t\t<dd><style>\n",
              ".list-inline {list-style: none; margin:0; padding: 0}\n",
              ".list-inline>li {display: inline-block}\n",
              ".list-inline>li:not(:last-child)::after {content: \"\\00b7\"; padding: 0 .5ex}\n",
              "</style>\n",
              "<ol class=list-inline><li>2.0013430207241</li><li>1.55611967502244</li><li>1.79642521915769</li><li>1.59871658288233</li><li>1.40272155805165</li><li>1.802488624626</li><li>1.56025892166434</li><li>1.57981035997942</li><li>1.54640728507712</li><li>1.91980455456767</li></ol>\n",
              "</dd>\n",
              "</dl>\n"
            ],
            "text/latex": [
              "\\begin{description}\n",
              "\\item[\\$vector\\_numerico] \\begin{enumerate*}\n",
              "\\item 1\n",
              "\\item 2\n",
              "\\item 3\n",
              "\\item 4\n",
              "\\item 5\n",
              "\\end{enumerate*}\n",
              "\n",
              "\\item[\\$letras] \\begin{enumerate*}\n",
              "\\item 'a'\n",
              "\\item 'b'\n",
              "\\item 'c'\n",
              "\\item 'd'\n",
              "\\item 'e'\n",
              "\\item 'f'\n",
              "\\item 'g'\n",
              "\\item 'h'\n",
              "\\item 'i'\n",
              "\\item 'j'\n",
              "\\end{enumerate*}\n",
              "\n",
              "\\item[\\$matriz] A matrix: 3 × 3 of type int\n",
              "\\begin{tabular}{lll}\n",
              "\t 1 & 4 & 7\\\\\n",
              "\t 2 & 5 & 8\\\\\n",
              "\t 3 & 6 & 9\\\\\n",
              "\\end{tabular}\n",
              "\n",
              "\\item[\\$fechas] \\begin{enumerate*}\n",
              "\\item 2025-01-01\n",
              "\\item 2025-10-01\n",
              "\\end{enumerate*}\n",
              "\n",
              "\\item[\\$estaturas] \\begin{enumerate*}\n",
              "\\item 2.0013430207241\n",
              "\\item 1.55611967502244\n",
              "\\item 1.79642521915769\n",
              "\\item 1.59871658288233\n",
              "\\item 1.40272155805165\n",
              "\\item 1.802488624626\n",
              "\\item 1.56025892166434\n",
              "\\item 1.57981035997942\n",
              "\\item 1.54640728507712\n",
              "\\item 1.91980455456767\n",
              "\\end{enumerate*}\n",
              "\n",
              "\\end{description}\n"
            ],
            "text/markdown": [
              "$vector_numerico\n",
              ":   1. 1\n",
              "2. 2\n",
              "3. 3\n",
              "4. 4\n",
              "5. 5\n",
              "\n",
              "\n",
              "\n",
              "$letras\n",
              ":   1. 'a'\n",
              "2. 'b'\n",
              "3. 'c'\n",
              "4. 'd'\n",
              "5. 'e'\n",
              "6. 'f'\n",
              "7. 'g'\n",
              "8. 'h'\n",
              "9. 'i'\n",
              "10. 'j'\n",
              "\n",
              "\n",
              "\n",
              "$matriz\n",
              ":   \n",
              "A matrix: 3 × 3 of type int\n",
              "\n",
              "| 1 | 4 | 7 |\n",
              "| 2 | 5 | 8 |\n",
              "| 3 | 6 | 9 |\n",
              "\n",
              "\n",
              "$fechas\n",
              ":   1. 2025-01-01\n",
              "2. 2025-10-01\n",
              "\n",
              "\n",
              "\n",
              "$estaturas\n",
              ":   1. 2.0013430207241\n",
              "2. 1.55611967502244\n",
              "3. 1.79642521915769\n",
              "4. 1.59871658288233\n",
              "5. 1.40272155805165\n",
              "6. 1.802488624626\n",
              "7. 1.56025892166434\n",
              "8. 1.57981035997942\n",
              "9. 1.54640728507712\n",
              "10. 1.91980455456767\n",
              "\n",
              "\n",
              "\n",
              "\n",
              "\n"
            ],
            "text/plain": [
              "$vector_numerico\n",
              "[1] 1 2 3 4 5\n",
              "\n",
              "$letras\n",
              " [1] \"a\" \"b\" \"c\" \"d\" \"e\" \"f\" \"g\" \"h\" \"i\" \"j\"\n",
              "\n",
              "$matriz\n",
              "     [,1] [,2] [,3]\n",
              "[1,]    1    4    7\n",
              "[2,]    2    5    8\n",
              "[3,]    3    6    9\n",
              "\n",
              "$fechas\n",
              "[1] \"2025-01-01\" \"2025-10-01\"\n",
              "\n",
              "$estaturas\n",
              " [1] 2.001343 1.556120 1.796425 1.598717 1.402722 1.802489 1.560259 1.579810\n",
              " [9] 1.546407 1.919805\n"
            ]
          },
          "metadata": {},
          "output_type": "display_data"
        }
      ],
      "source": [
        "# También podemos crear nuevos \"slots\"\n",
        "## Indicando nombre en [[]] y luego asignando\n",
        "length(lista)\n",
        "\n",
        "lista"
      ]
    },
    {
      "cell_type": "code",
      "execution_count": 36,
      "metadata": {
        "vscode": {
          "languageId": "r"
        }
      },
      "outputs": [
        {
          "data": {
            "text/html": [
              "9"
            ],
            "text/latex": [
              "9"
            ],
            "text/markdown": [
              "9"
            ],
            "text/plain": [
              "[1] 9"
            ]
          },
          "metadata": {},
          "output_type": "display_data"
        },
        {
          "data": {
            "text/html": [
              "<style>\n",
              ".list-inline {list-style: none; margin:0; padding: 0}\n",
              ".list-inline>li {display: inline-block}\n",
              ".list-inline>li:not(:last-child)::after {content: \"\\00b7\"; padding: 0 .5ex}\n",
              "</style>\n",
              "<ol class=list-inline><li>3</li><li>3</li></ol>\n"
            ],
            "text/latex": [
              "\\begin{enumerate*}\n",
              "\\item 3\n",
              "\\item 3\n",
              "\\end{enumerate*}\n"
            ],
            "text/markdown": [
              "1. 3\n",
              "2. 3\n",
              "\n",
              "\n"
            ],
            "text/plain": [
              "[1] 3 3"
            ]
          },
          "metadata": {},
          "output_type": "display_data"
        },
        {
          "data": {
            "text/html": [
              "3"
            ],
            "text/latex": [
              "3"
            ],
            "text/markdown": [
              "3"
            ],
            "text/plain": [
              "[1] 3"
            ]
          },
          "metadata": {},
          "output_type": "display_data"
        },
        {
          "data": {
            "text/html": [
              "3"
            ],
            "text/latex": [
              "3"
            ],
            "text/markdown": [
              "3"
            ],
            "text/plain": [
              "[1] 3"
            ]
          },
          "metadata": {},
          "output_type": "display_data"
        }
      ],
      "source": [
        "m <- matrix(1:9, 3, 3)\n",
        "\n",
        "length(m)\n",
        "\n",
        "dim(m)\n",
        "\n",
        "nrow(m)\n",
        "\n",
        "ncol(m)\n",
        "\n"
      ]
    },
    {
      "cell_type": "markdown",
      "metadata": {},
      "source": [
        "Crear nuevos Slot y modificarlos"
      ]
    },
    {
      "cell_type": "code",
      "execution_count": 40,
      "metadata": {
        "id": "rBB4hT9RTpSQ",
        "trusted": true,
        "vscode": {
          "languageId": "r"
        }
      },
      "outputs": [
        {
          "data": {
            "text/html": [
              "<dl>\n",
              "\t<dt>$vector_numerico</dt>\n",
              "\t\t<dd><style>\n",
              ".list-inline {list-style: none; margin:0; padding: 0}\n",
              ".list-inline>li {display: inline-block}\n",
              ".list-inline>li:not(:last-child)::after {content: \"\\00b7\"; padding: 0 .5ex}\n",
              "</style>\n",
              "<ol class=list-inline><li>'A'</li><li>'B'</li><li>'C'</li><li>'D'</li><li>'E'</li><li>'F'</li><li>'G'</li><li>'H'</li><li>'I'</li><li>'J'</li></ol>\n",
              "</dd>\n",
              "\t<dt>$letras</dt>\n",
              "\t\t<dd><style>\n",
              ".list-inline {list-style: none; margin:0; padding: 0}\n",
              ".list-inline>li {display: inline-block}\n",
              ".list-inline>li:not(:last-child)::after {content: \"\\00b7\"; padding: 0 .5ex}\n",
              "</style>\n",
              "<ol class=list-inline><li>'a'</li><li>'b'</li><li>'c'</li><li>'d'</li><li>'e'</li><li>'f'</li><li>'g'</li><li>'h'</li><li>'i'</li><li>'j'</li></ol>\n",
              "</dd>\n",
              "\t<dt>$matriz</dt>\n",
              "\t\t<dd><table class=\"dataframe\">\n",
              "<caption>A matrix: 3 × 3 of type int</caption>\n",
              "<tbody>\n",
              "\t<tr><td>1</td><td>4</td><td>7</td></tr>\n",
              "\t<tr><td>2</td><td>5</td><td>8</td></tr>\n",
              "\t<tr><td>3</td><td>6</td><td>9</td></tr>\n",
              "</tbody>\n",
              "</table>\n",
              "</dd>\n",
              "\t<dt>$fechas</dt>\n",
              "\t\t<dd><style>\n",
              ".list-inline {list-style: none; margin:0; padding: 0}\n",
              ".list-inline>li {display: inline-block}\n",
              ".list-inline>li:not(:last-child)::after {content: \"\\00b7\"; padding: 0 .5ex}\n",
              "</style>\n",
              "<ol class=list-inline><li><time datetime=\"2025-01-01\">2025-01-01</time></li><li><time datetime=\"2025-10-01\">2025-10-01</time></li></ol>\n",
              "</dd>\n",
              "\t<dt>$estaturas</dt>\n",
              "\t\t<dd><style>\n",
              ".list-inline {list-style: none; margin:0; padding: 0}\n",
              ".list-inline>li {display: inline-block}\n",
              ".list-inline>li:not(:last-child)::after {content: \"\\00b7\"; padding: 0 .5ex}\n",
              "</style>\n",
              "<ol class=list-inline><li>2.0013430207241</li><li>1.55611967502244</li><li>1.79642521915769</li><li>1.59871658288233</li><li>1.40272155805165</li><li>1.802488624626</li><li>1.56025892166434</li><li>1.57981035997942</li><li>1.54640728507712</li><li>1.91980455456767</li></ol>\n",
              "</dd>\n",
              "</dl>\n"
            ],
            "text/latex": [
              "\\begin{description}\n",
              "\\item[\\$vector\\_numerico] \\begin{enumerate*}\n",
              "\\item 'A'\n",
              "\\item 'B'\n",
              "\\item 'C'\n",
              "\\item 'D'\n",
              "\\item 'E'\n",
              "\\item 'F'\n",
              "\\item 'G'\n",
              "\\item 'H'\n",
              "\\item 'I'\n",
              "\\item 'J'\n",
              "\\end{enumerate*}\n",
              "\n",
              "\\item[\\$letras] \\begin{enumerate*}\n",
              "\\item 'a'\n",
              "\\item 'b'\n",
              "\\item 'c'\n",
              "\\item 'd'\n",
              "\\item 'e'\n",
              "\\item 'f'\n",
              "\\item 'g'\n",
              "\\item 'h'\n",
              "\\item 'i'\n",
              "\\item 'j'\n",
              "\\end{enumerate*}\n",
              "\n",
              "\\item[\\$matriz] A matrix: 3 × 3 of type int\n",
              "\\begin{tabular}{lll}\n",
              "\t 1 & 4 & 7\\\\\n",
              "\t 2 & 5 & 8\\\\\n",
              "\t 3 & 6 & 9\\\\\n",
              "\\end{tabular}\n",
              "\n",
              "\\item[\\$fechas] \\begin{enumerate*}\n",
              "\\item 2025-01-01\n",
              "\\item 2025-10-01\n",
              "\\end{enumerate*}\n",
              "\n",
              "\\item[\\$estaturas] \\begin{enumerate*}\n",
              "\\item 2.0013430207241\n",
              "\\item 1.55611967502244\n",
              "\\item 1.79642521915769\n",
              "\\item 1.59871658288233\n",
              "\\item 1.40272155805165\n",
              "\\item 1.802488624626\n",
              "\\item 1.56025892166434\n",
              "\\item 1.57981035997942\n",
              "\\item 1.54640728507712\n",
              "\\item 1.91980455456767\n",
              "\\end{enumerate*}\n",
              "\n",
              "\\end{description}\n"
            ],
            "text/markdown": [
              "$vector_numerico\n",
              ":   1. 'A'\n",
              "2. 'B'\n",
              "3. 'C'\n",
              "4. 'D'\n",
              "5. 'E'\n",
              "6. 'F'\n",
              "7. 'G'\n",
              "8. 'H'\n",
              "9. 'I'\n",
              "10. 'J'\n",
              "\n",
              "\n",
              "\n",
              "$letras\n",
              ":   1. 'a'\n",
              "2. 'b'\n",
              "3. 'c'\n",
              "4. 'd'\n",
              "5. 'e'\n",
              "6. 'f'\n",
              "7. 'g'\n",
              "8. 'h'\n",
              "9. 'i'\n",
              "10. 'j'\n",
              "\n",
              "\n",
              "\n",
              "$matriz\n",
              ":   \n",
              "A matrix: 3 × 3 of type int\n",
              "\n",
              "| 1 | 4 | 7 |\n",
              "| 2 | 5 | 8 |\n",
              "| 3 | 6 | 9 |\n",
              "\n",
              "\n",
              "$fechas\n",
              ":   1. 2025-01-01\n",
              "2. 2025-10-01\n",
              "\n",
              "\n",
              "\n",
              "$estaturas\n",
              ":   1. 2.0013430207241\n",
              "2. 1.55611967502244\n",
              "3. 1.79642521915769\n",
              "4. 1.59871658288233\n",
              "5. 1.40272155805165\n",
              "6. 1.802488624626\n",
              "7. 1.56025892166434\n",
              "8. 1.57981035997942\n",
              "9. 1.54640728507712\n",
              "10. 1.91980455456767\n",
              "\n",
              "\n",
              "\n",
              "\n",
              "\n"
            ],
            "text/plain": [
              "$vector_numerico\n",
              " [1] \"A\" \"B\" \"C\" \"D\" \"E\" \"F\" \"G\" \"H\" \"I\" \"J\"\n",
              "\n",
              "$letras\n",
              " [1] \"a\" \"b\" \"c\" \"d\" \"e\" \"f\" \"g\" \"h\" \"i\" \"j\"\n",
              "\n",
              "$matriz\n",
              "     [,1] [,2] [,3]\n",
              "[1,]    1    4    7\n",
              "[2,]    2    5    8\n",
              "[3,]    3    6    9\n",
              "\n",
              "$fechas\n",
              "[1] \"2025-01-01\" \"2025-10-01\"\n",
              "\n",
              "$estaturas\n",
              " [1] 2.001343 1.556120 1.796425 1.598717 1.402722 1.802489 1.560259 1.579810\n",
              " [9] 1.546407 1.919805\n"
            ]
          },
          "metadata": {},
          "output_type": "display_data"
        }
      ],
      "source": [
        "lista[['vector_numerico']] = LETTERS[1:10]\n",
        "\n",
        "lista"
      ]
    },
    {
      "cell_type": "markdown",
      "metadata": {
        "id": "128wI4ZoTpSS"
      },
      "source": [
        "### 5.2 Dataframes\n",
        "\n",
        "Un dataframe es un caso particular de una lista, donde los objetos de cada entrada corresponden a vectores de datos del mismo largo. En este caso cada vector corresponde a una columna del data.frame, mientras que la cantidad de filas corresponde al largo común de los vectores de cada entrada. El objeto resultante es una *tabla*, de ahora en adelante *data.frame*, cuyas columnas poseen distintos tipos de datos entre sí.\n",
        "\n",
        " * ¿Cómo se declara un dataframe?<br>\n",
        "     Mediante la función data.frame(), indicando los vectores que conformarán las columnas.\n",
        "\n",
        " * ¿Cómo se accede a los datos de un data.frame?<br>\n",
        "    Al ser una lista, se puede acceder de la misma manera. Sin embargo también es posible acceder del modo en que se accede a los elementos de una matriz."
      ]
    },
    {
      "cell_type": "code",
      "execution_count": 46,
      "metadata": {
        "id": "qJ-2zVWVTpST",
        "trusted": true,
        "vscode": {
          "languageId": "r"
        }
      },
      "outputs": [
        {
          "data": {
            "text/html": [
              "'data.frame'"
            ],
            "text/latex": [
              "'data.frame'"
            ],
            "text/markdown": [
              "'data.frame'"
            ],
            "text/plain": [
              "[1] \"data.frame\""
            ]
          },
          "metadata": {},
          "output_type": "display_data"
        },
        {
          "data": {
            "text/html": [
              "'list'"
            ],
            "text/latex": [
              "'list'"
            ],
            "text/markdown": [
              "'list'"
            ],
            "text/plain": [
              "[1] \"list\""
            ]
          },
          "metadata": {},
          "output_type": "display_data"
        }
      ],
      "source": [
        "# 5.2 Dataframes ----------\n",
        "# Ejemplo sencillo de definición de un data.frame\n",
        "# recordar que 1:3 es lo mismo que c(1,2,3)\n",
        "\n",
        "class(iris)\n",
        "typeof(iris)\n",
        "\n",
        "#iris\n",
        "#cars\n"
      ]
    },
    {
      "cell_type": "code",
      "execution_count": null,
      "metadata": {
        "vscode": {
          "languageId": "r"
        }
      },
      "outputs": [
        {
          "data": {
            "text/html": [
              "<style>\n",
              ".list-inline {list-style: none; margin:0; padding: 0}\n",
              ".list-inline>li {display: inline-block}\n",
              ".list-inline>li:not(:last-child)::after {content: \"\\00b7\"; padding: 0 .5ex}\n",
              "</style>\n",
              "<ol class=list-inline><li>'numero'</li><li>'letras'</li></ol>\n"
            ],
            "text/latex": [
              "\\begin{enumerate*}\n",
              "\\item 'numero'\n",
              "\\item 'letras'\n",
              "\\end{enumerate*}\n"
            ],
            "text/markdown": [
              "1. 'numero'\n",
              "2. 'letras'\n",
              "\n",
              "\n"
            ],
            "text/plain": [
              "[1] \"numero\" \"letras\""
            ]
          },
          "metadata": {},
          "output_type": "display_data"
        }
      ],
      "source": [
        "df <- data.frame(numero = 1:10, \n",
        "                 letras = letters[1:10])\n",
        "\n",
        "\n",
        "names(df)"
      ]
    },
    {
      "cell_type": "markdown",
      "metadata": {},
      "source": [
        "Acceso a columnas de un data frame"
      ]
    },
    {
      "cell_type": "code",
      "execution_count": 53,
      "metadata": {
        "id": "nv7stC8ITpSY",
        "trusted": true,
        "vscode": {
          "languageId": "r"
        }
      },
      "outputs": [
        {
          "data": {
            "text/html": [
              "<table class=\"dataframe\">\n",
              "<caption>A data.frame: 10 × 1</caption>\n",
              "<thead>\n",
              "\t<tr><th scope=col>numero</th></tr>\n",
              "\t<tr><th scope=col>&lt;int&gt;</th></tr>\n",
              "</thead>\n",
              "<tbody>\n",
              "\t<tr><td> 1</td></tr>\n",
              "\t<tr><td> 2</td></tr>\n",
              "\t<tr><td> 3</td></tr>\n",
              "\t<tr><td> 4</td></tr>\n",
              "\t<tr><td> 5</td></tr>\n",
              "\t<tr><td> 6</td></tr>\n",
              "\t<tr><td> 7</td></tr>\n",
              "\t<tr><td> 8</td></tr>\n",
              "\t<tr><td> 9</td></tr>\n",
              "\t<tr><td>10</td></tr>\n",
              "</tbody>\n",
              "</table>\n"
            ],
            "text/latex": [
              "A data.frame: 10 × 1\n",
              "\\begin{tabular}{l}\n",
              " numero\\\\\n",
              " <int>\\\\\n",
              "\\hline\n",
              "\t  1\\\\\n",
              "\t  2\\\\\n",
              "\t  3\\\\\n",
              "\t  4\\\\\n",
              "\t  5\\\\\n",
              "\t  6\\\\\n",
              "\t  7\\\\\n",
              "\t  8\\\\\n",
              "\t  9\\\\\n",
              "\t 10\\\\\n",
              "\\end{tabular}\n"
            ],
            "text/markdown": [
              "\n",
              "A data.frame: 10 × 1\n",
              "\n",
              "| numero &lt;int&gt; |\n",
              "|---|\n",
              "|  1 |\n",
              "|  2 |\n",
              "|  3 |\n",
              "|  4 |\n",
              "|  5 |\n",
              "|  6 |\n",
              "|  7 |\n",
              "|  8 |\n",
              "|  9 |\n",
              "| 10 |\n",
              "\n"
            ],
            "text/plain": [
              "   numero\n",
              "1   1    \n",
              "2   2    \n",
              "3   3    \n",
              "4   4    \n",
              "5   5    \n",
              "6   6    \n",
              "7   7    \n",
              "8   8    \n",
              "9   9    \n",
              "10 10    "
            ]
          },
          "metadata": {},
          "output_type": "display_data"
        },
        {
          "data": {
            "text/html": [
              "<style>\n",
              ".list-inline {list-style: none; margin:0; padding: 0}\n",
              ".list-inline>li {display: inline-block}\n",
              ".list-inline>li:not(:last-child)::after {content: \"\\00b7\"; padding: 0 .5ex}\n",
              "</style>\n",
              "<ol class=list-inline><li>1</li><li>2</li><li>3</li><li>4</li><li>5</li><li>6</li><li>7</li><li>8</li><li>9</li><li>10</li></ol>\n"
            ],
            "text/latex": [
              "\\begin{enumerate*}\n",
              "\\item 1\n",
              "\\item 2\n",
              "\\item 3\n",
              "\\item 4\n",
              "\\item 5\n",
              "\\item 6\n",
              "\\item 7\n",
              "\\item 8\n",
              "\\item 9\n",
              "\\item 10\n",
              "\\end{enumerate*}\n"
            ],
            "text/markdown": [
              "1. 1\n",
              "2. 2\n",
              "3. 3\n",
              "4. 4\n",
              "5. 5\n",
              "6. 6\n",
              "7. 7\n",
              "8. 8\n",
              "9. 9\n",
              "10. 10\n",
              "\n",
              "\n"
            ],
            "text/plain": [
              " [1]  1  2  3  4  5  6  7  8  9 10"
            ]
          },
          "metadata": {},
          "output_type": "display_data"
        }
      ],
      "source": [
        "df['numero']\n",
        "\n",
        "df$numero\n"
      ]
    },
    {
      "cell_type": "markdown",
      "metadata": {},
      "source": [
        "Acceso como matriz"
      ]
    },
    {
      "cell_type": "code",
      "execution_count": 58,
      "metadata": {
        "id": "CojdmEs9TpSd",
        "trusted": true,
        "vscode": {
          "languageId": "r"
        }
      },
      "outputs": [
        {
          "data": {
            "text/html": [
              "'f'"
            ],
            "text/latex": [
              "'f'"
            ],
            "text/markdown": [
              "'f'"
            ],
            "text/plain": [
              "[1] \"f\""
            ]
          },
          "metadata": {},
          "output_type": "display_data"
        },
        {
          "data": {
            "text/html": [
              "'f'"
            ],
            "text/latex": [
              "'f'"
            ],
            "text/markdown": [
              "'f'"
            ],
            "text/plain": [
              "[1] \"f\""
            ]
          },
          "metadata": {},
          "output_type": "display_data"
        },
        {
          "data": {
            "text/html": [
              "<table class=\"dataframe\">\n",
              "<caption>A data.frame: 3 × 2</caption>\n",
              "<thead>\n",
              "\t<tr><th></th><th scope=col>numero</th><th scope=col>letras</th></tr>\n",
              "\t<tr><th></th><th scope=col>&lt;int&gt;</th><th scope=col>&lt;chr&gt;</th></tr>\n",
              "</thead>\n",
              "<tbody>\n",
              "\t<tr><th scope=row>8</th><td> 8</td><td>h</td></tr>\n",
              "\t<tr><th scope=row>9</th><td> 9</td><td>i</td></tr>\n",
              "\t<tr><th scope=row>10</th><td>10</td><td>j</td></tr>\n",
              "</tbody>\n",
              "</table>\n"
            ],
            "text/latex": [
              "A data.frame: 3 × 2\n",
              "\\begin{tabular}{r|ll}\n",
              "  & numero & letras\\\\\n",
              "  & <int> & <chr>\\\\\n",
              "\\hline\n",
              "\t8 &  8 & h\\\\\n",
              "\t9 &  9 & i\\\\\n",
              "\t10 & 10 & j\\\\\n",
              "\\end{tabular}\n"
            ],
            "text/markdown": [
              "\n",
              "A data.frame: 3 × 2\n",
              "\n",
              "| <!--/--> | numero &lt;int&gt; | letras &lt;chr&gt; |\n",
              "|---|---|---|\n",
              "| 8 |  8 | h |\n",
              "| 9 |  9 | i |\n",
              "| 10 | 10 | j |\n",
              "\n"
            ],
            "text/plain": [
              "   numero letras\n",
              "8   8     h     \n",
              "9   9     i     \n",
              "10 10     j     "
            ]
          },
          "metadata": {},
          "output_type": "display_data"
        }
      ],
      "source": [
        "##  Ganamos acceso como matriz\n",
        "# segundafila de df\n",
        "df[6, 'letras']\n",
        "\n",
        "#df[  , ]\n",
        "\n",
        "# segunda columna y segunda fila\n",
        "\n",
        "df[6, 2]\n",
        "\n",
        "\n",
        "df[ df$numero >= 8,]"
      ]
    },
    {
      "cell_type": "markdown",
      "metadata": {},
      "source": [
        "Creación de nuevas columnas"
      ]
    },
    {
      "cell_type": "code",
      "execution_count": 66,
      "metadata": {
        "id": "FgD5Q8hFTpSf",
        "trusted": true,
        "vscode": {
          "languageId": "r"
        }
      },
      "outputs": [
        {
          "data": {
            "text/html": [
              "<table class=\"dataframe\">\n",
              "<caption>A data.frame: 10 × 5</caption>\n",
              "<thead>\n",
              "\t<tr><th scope=col>numero</th><th scope=col>letras</th><th scope=col>numero_letra</th><th scope=col>numero_letra_numero</th><th scope=col>numerox2</th></tr>\n",
              "\t<tr><th scope=col>&lt;int&gt;</th><th scope=col>&lt;chr&gt;</th><th scope=col>&lt;chr&gt;</th><th scope=col>&lt;chr&gt;</th><th scope=col>&lt;dbl&gt;</th></tr>\n",
              "</thead>\n",
              "<tbody>\n",
              "\t<tr><td> 1</td><td>a</td><td>a1 </td><td>1a1  </td><td> 2</td></tr>\n",
              "\t<tr><td> 2</td><td>b</td><td>b2 </td><td>2b2  </td><td> 4</td></tr>\n",
              "\t<tr><td> 3</td><td>c</td><td>c3 </td><td>3c3  </td><td> 6</td></tr>\n",
              "\t<tr><td> 4</td><td>d</td><td>d4 </td><td>4d4  </td><td> 8</td></tr>\n",
              "\t<tr><td> 5</td><td>e</td><td>e5 </td><td>5e5  </td><td>10</td></tr>\n",
              "\t<tr><td> 6</td><td>f</td><td>f6 </td><td>6f6  </td><td>12</td></tr>\n",
              "\t<tr><td> 7</td><td>g</td><td>g7 </td><td>7g7  </td><td>14</td></tr>\n",
              "\t<tr><td> 8</td><td>h</td><td>h8 </td><td>8h8  </td><td>16</td></tr>\n",
              "\t<tr><td> 9</td><td>i</td><td>i9 </td><td>9i9  </td><td>18</td></tr>\n",
              "\t<tr><td>10</td><td>j</td><td>j10</td><td>10j10</td><td>20</td></tr>\n",
              "</tbody>\n",
              "</table>\n"
            ],
            "text/latex": [
              "A data.frame: 10 × 5\n",
              "\\begin{tabular}{lllll}\n",
              " numero & letras & numero\\_letra & numero\\_letra\\_numero & numerox2\\\\\n",
              " <int> & <chr> & <chr> & <chr> & <dbl>\\\\\n",
              "\\hline\n",
              "\t  1 & a & a1  & 1a1   &  2\\\\\n",
              "\t  2 & b & b2  & 2b2   &  4\\\\\n",
              "\t  3 & c & c3  & 3c3   &  6\\\\\n",
              "\t  4 & d & d4  & 4d4   &  8\\\\\n",
              "\t  5 & e & e5  & 5e5   & 10\\\\\n",
              "\t  6 & f & f6  & 6f6   & 12\\\\\n",
              "\t  7 & g & g7  & 7g7   & 14\\\\\n",
              "\t  8 & h & h8  & 8h8   & 16\\\\\n",
              "\t  9 & i & i9  & 9i9   & 18\\\\\n",
              "\t 10 & j & j10 & 10j10 & 20\\\\\n",
              "\\end{tabular}\n"
            ],
            "text/markdown": [
              "\n",
              "A data.frame: 10 × 5\n",
              "\n",
              "| numero &lt;int&gt; | letras &lt;chr&gt; | numero_letra &lt;chr&gt; | numero_letra_numero &lt;chr&gt; | numerox2 &lt;dbl&gt; |\n",
              "|---|---|---|---|---|\n",
              "|  1 | a | a1  | 1a1   |  2 |\n",
              "|  2 | b | b2  | 2b2   |  4 |\n",
              "|  3 | c | c3  | 3c3   |  6 |\n",
              "|  4 | d | d4  | 4d4   |  8 |\n",
              "|  5 | e | e5  | 5e5   | 10 |\n",
              "|  6 | f | f6  | 6f6   | 12 |\n",
              "|  7 | g | g7  | 7g7   | 14 |\n",
              "|  8 | h | h8  | 8h8   | 16 |\n",
              "|  9 | i | i9  | 9i9   | 18 |\n",
              "| 10 | j | j10 | 10j10 | 20 |\n",
              "\n"
            ],
            "text/plain": [
              "   numero letras numero_letra numero_letra_numero numerox2\n",
              "1   1     a      a1           1a1                  2      \n",
              "2   2     b      b2           2b2                  4      \n",
              "3   3     c      c3           3c3                  6      \n",
              "4   4     d      d4           4d4                  8      \n",
              "5   5     e      e5           5e5                 10      \n",
              "6   6     f      f6           6f6                 12      \n",
              "7   7     g      g7           7g7                 14      \n",
              "8   8     h      h8           8h8                 16      \n",
              "9   9     i      i9           9i9                 18      \n",
              "10 10     j      j10          10j10               20      "
            ]
          },
          "metadata": {},
          "output_type": "display_data"
        }
      ],
      "source": [
        "#Podemos crear nuevas columnas , del mismmo modo que creamos \"slots\" en una lista\n",
        "df$numero_letra <- paste(df$letras, df$numero, sep = \"\")\n",
        "\n",
        "\n",
        "df['numero_letra_numero' ]<- paste(df$numero, df$letras, df$numero, sep = \"\")\n",
        "\n",
        "df['numerox2'] <- df['numero'] *2\n",
        "\n",
        "df"
      ]
    },
    {
      "cell_type": "markdown",
      "metadata": {},
      "source": [
        "Selección de mas de una columna"
      ]
    },
    {
      "cell_type": "code",
      "execution_count": 71,
      "metadata": {
        "id": "LcNQ5JHVTpSh",
        "trusted": true,
        "vscode": {
          "languageId": "r"
        }
      },
      "outputs": [
        {
          "data": {
            "text/html": [
              "<table class=\"dataframe\">\n",
              "<caption>A data.frame: 10 × 2</caption>\n",
              "<thead>\n",
              "\t<tr><th scope=col>numero</th><th scope=col>numerox2</th></tr>\n",
              "\t<tr><th scope=col>&lt;int&gt;</th><th scope=col>&lt;dbl&gt;</th></tr>\n",
              "</thead>\n",
              "<tbody>\n",
              "\t<tr><td> 1</td><td> 2</td></tr>\n",
              "\t<tr><td> 2</td><td> 4</td></tr>\n",
              "\t<tr><td> 3</td><td> 6</td></tr>\n",
              "\t<tr><td> 4</td><td> 8</td></tr>\n",
              "\t<tr><td> 5</td><td>10</td></tr>\n",
              "\t<tr><td> 6</td><td>12</td></tr>\n",
              "\t<tr><td> 7</td><td>14</td></tr>\n",
              "\t<tr><td> 8</td><td>16</td></tr>\n",
              "\t<tr><td> 9</td><td>18</td></tr>\n",
              "\t<tr><td>10</td><td>20</td></tr>\n",
              "</tbody>\n",
              "</table>\n"
            ],
            "text/latex": [
              "A data.frame: 10 × 2\n",
              "\\begin{tabular}{ll}\n",
              " numero & numerox2\\\\\n",
              " <int> & <dbl>\\\\\n",
              "\\hline\n",
              "\t  1 &  2\\\\\n",
              "\t  2 &  4\\\\\n",
              "\t  3 &  6\\\\\n",
              "\t  4 &  8\\\\\n",
              "\t  5 & 10\\\\\n",
              "\t  6 & 12\\\\\n",
              "\t  7 & 14\\\\\n",
              "\t  8 & 16\\\\\n",
              "\t  9 & 18\\\\\n",
              "\t 10 & 20\\\\\n",
              "\\end{tabular}\n"
            ],
            "text/markdown": [
              "\n",
              "A data.frame: 10 × 2\n",
              "\n",
              "| numero &lt;int&gt; | numerox2 &lt;dbl&gt; |\n",
              "|---|---|\n",
              "|  1 |  2 |\n",
              "|  2 |  4 |\n",
              "|  3 |  6 |\n",
              "|  4 |  8 |\n",
              "|  5 | 10 |\n",
              "|  6 | 12 |\n",
              "|  7 | 14 |\n",
              "|  8 | 16 |\n",
              "|  9 | 18 |\n",
              "| 10 | 20 |\n",
              "\n"
            ],
            "text/plain": [
              "   numero numerox2\n",
              "1   1      2      \n",
              "2   2      4      \n",
              "3   3      6      \n",
              "4   4      8      \n",
              "5   5     10      \n",
              "6   6     12      \n",
              "7   7     14      \n",
              "8   8     16      \n",
              "9   9     18      \n",
              "10 10     20      "
            ]
          },
          "metadata": {},
          "output_type": "display_data"
        },
        {
          "data": {
            "text/html": [
              "<table class=\"dataframe\">\n",
              "<caption>A data.frame: 2 × 2</caption>\n",
              "<thead>\n",
              "\t<tr><th></th><th scope=col>letras</th><th scope=col>numero_letra_numero</th></tr>\n",
              "\t<tr><th></th><th scope=col>&lt;chr&gt;</th><th scope=col>&lt;chr&gt;</th></tr>\n",
              "</thead>\n",
              "<tbody>\n",
              "\t<tr><th scope=row>9</th><td>i</td><td>9i9  </td></tr>\n",
              "\t<tr><th scope=row>10</th><td>j</td><td>10j10</td></tr>\n",
              "</tbody>\n",
              "</table>\n"
            ],
            "text/latex": [
              "A data.frame: 2 × 2\n",
              "\\begin{tabular}{r|ll}\n",
              "  & letras & numero\\_letra\\_numero\\\\\n",
              "  & <chr> & <chr>\\\\\n",
              "\\hline\n",
              "\t9 & i & 9i9  \\\\\n",
              "\t10 & j & 10j10\\\\\n",
              "\\end{tabular}\n"
            ],
            "text/markdown": [
              "\n",
              "A data.frame: 2 × 2\n",
              "\n",
              "| <!--/--> | letras &lt;chr&gt; | numero_letra_numero &lt;chr&gt; |\n",
              "|---|---|---|\n",
              "| 9 | i | 9i9   |\n",
              "| 10 | j | 10j10 |\n",
              "\n"
            ],
            "text/plain": [
              "   letras numero_letra_numero\n",
              "9  i      9i9                \n",
              "10 j      10j10              "
            ]
          },
          "metadata": {},
          "output_type": "display_data"
        }
      ],
      "source": [
        "# podemos seleccionar más de una columna a la vez. Ej: seleccionar col1y col3\n",
        "\n",
        "df[  ,  c(1, 5) ]\n",
        "\n",
        "# Referenciando el nombre de las columnas\n",
        "\n",
        "\n",
        "df[  df$numero >= 9 ,  c(\"letras\", \"numero_letra_numero\") ]"
      ]
    },
    {
      "cell_type": "code",
      "execution_count": null,
      "metadata": {
        "id": "NHtO3MHwTpSj",
        "trusted": true,
        "vscode": {
          "languageId": "r"
        }
      },
      "outputs": [],
      "source": [
        "# Referenciando las posiciones de las columnas\n"
      ]
    },
    {
      "cell_type": "code",
      "execution_count": 46,
      "metadata": {
        "id": "RmsAhhsWTpSm",
        "trusted": true,
        "vscode": {
          "languageId": "r"
        }
      },
      "outputs": [],
      "source": [
        "# Se mantiene la lógica de acceso a los slots de una lista.\n"
      ]
    },
    {
      "cell_type": "markdown",
      "metadata": {},
      "source": [
        "### Cuadro comparativo: Matriz vs Lista vs Data Frame en R\n",
        "\n",
        "| Característica | **Matriz (`matrix`)** | **Lista (`list`)** | **Data Frame (`data.frame`)** |\n",
        "|----------------|------------------------|---------------------|-------------------------------|\n",
        "| **Estructura básica** | Arreglo bidimensional (filas y columnas) | Colección ordenada de objetos | Tabla (colección de vectores del mismo largo) |\n",
        "| **Dimensiones** | 2 dimensiones (filas x columnas) | 1 dimensión (cada elemento puede ser cualquier cosa) | 2 dimensiones (filas x columnas) |\n",
        "| **Tipos de datos** | **Un solo tipo de dato** (todos numéricos, todos caracteres, etc.) | **Varios tipos de datos**, incluso estructuras | **Distintos tipos de datos por columna** |\n",
        "| **Indexación** | `m[filas, columnas]` | `l[[índice]]` o `l$nombre` | `df[filas, columnas]` o `df$columna` |\n",
        "| **Homogeneidad** | Homogénea (todos los elementos del mismo tipo) | Heterogénea (cada elemento puede ser distinto) | Heterogénea (cada columna puede ser de distinto tipo) |\n",
        "| **Creación** | `matrix(1:6, nrow=2, ncol=3)` | `list(nombre=\"Ana\", edad=25, notas=c(5,6,7))` | `data.frame(nombre=c(\"Ana\",\"Luis\"), edad=c(25,30))` |\n",
        "| **Uso típico** | Operaciones matemáticas o algebra lineal | Agrupar objetos de distinta naturaleza | Representar y manipular datos tabulares (similar a Excel) |\n",
        "| **Conversión posible** | Se puede convertir en `data.frame` si cumple estructura | Se puede convertir a `data.frame` si los elementos son vectores de igual largo | Se puede convertir a lista (`as.list(df)`) |\n",
        "| **Ejemplo visual** | <code>1 2 3<br>4 5 6</code> | <code>$nombre → \"Ana\"<br>$edad → 25</code> | <code>nombre edad<br>Ana 25<br>Luis 30</code> |\n",
        "\n",
        "---\n",
        "\n",
        "#### 💡 En resumen:\n",
        "- 🟦 **Matriz:** ideal para **cálculos numéricos**.  \n",
        "- 🟨 **Lista:** ideal para **guardar objetos complejos**.  \n",
        "- 🟩 **Data frame:** ideal para **análisis de datos** (es la base del *data science* en R)."
      ]
    },
    {
      "cell_type": "code",
      "execution_count": 80,
      "metadata": {
        "vscode": {
          "languageId": "r"
        }
      },
      "outputs": [
        {
          "data": {
            "text/html": [
              "<style>\n",
              ".list-inline {list-style: none; margin:0; padding: 0}\n",
              ".list-inline>li {display: inline-block}\n",
              ".list-inline>li:not(:last-child)::after {content: \"\\00b7\"; padding: 0 .5ex}\n",
              "</style>\n",
              "<ol class=list-inline><li>setosa</li><li>versicolor</li><li>virginica</li></ol>\n",
              "\n",
              "<details>\n",
              "\t<summary style=display:list-item;cursor:pointer>\n",
              "\t\t<strong>Levels</strong>:\n",
              "\t</summary>\n",
              "\t<style>\n",
              "\t.list-inline {list-style: none; margin:0; padding: 0}\n",
              "\t.list-inline>li {display: inline-block}\n",
              "\t.list-inline>li:not(:last-child)::after {content: \"\\00b7\"; padding: 0 .5ex}\n",
              "\t</style>\n",
              "\t<ol class=list-inline><li>'setosa'</li><li>'versicolor'</li><li>'virginica'</li></ol>\n",
              "</details>"
            ],
            "text/latex": [
              "\\begin{enumerate*}\n",
              "\\item setosa\n",
              "\\item versicolor\n",
              "\\item virginica\n",
              "\\end{enumerate*}\n",
              "\n",
              "\\emph{Levels}: \\begin{enumerate*}\n",
              "\\item 'setosa'\n",
              "\\item 'versicolor'\n",
              "\\item 'virginica'\n",
              "\\end{enumerate*}\n"
            ],
            "text/markdown": [
              "1. setosa\n",
              "2. versicolor\n",
              "3. virginica\n",
              "\n",
              "\n",
              "\n",
              "**Levels**: 1. 'setosa'\n",
              "2. 'versicolor'\n",
              "3. 'virginica'\n",
              "\n",
              "\n"
            ],
            "text/plain": [
              "[1] setosa     versicolor virginica \n",
              "Levels: setosa versicolor virginica"
            ]
          },
          "metadata": {},
          "output_type": "display_data"
        },
        {
          "data": {
            "text/html": [
              "1.462"
            ],
            "text/latex": [
              "1.462"
            ],
            "text/markdown": [
              "1.462"
            ],
            "text/plain": [
              "[1] 1.462"
            ]
          },
          "metadata": {},
          "output_type": "display_data"
        },
        {
          "data": {
            "text/html": [
              "4.26"
            ],
            "text/latex": [
              "4.26"
            ],
            "text/markdown": [
              "4.26"
            ],
            "text/plain": [
              "[1] 4.26"
            ]
          },
          "metadata": {},
          "output_type": "display_data"
        },
        {
          "data": {
            "text/html": [
              "5.552"
            ],
            "text/latex": [
              "5.552"
            ],
            "text/markdown": [
              "5.552"
            ],
            "text/plain": [
              "[1] 5.552"
            ]
          },
          "metadata": {},
          "output_type": "display_data"
        },
        {
          "data": {
            "text/html": [
              "0.246"
            ],
            "text/latex": [
              "0.246"
            ],
            "text/markdown": [
              "0.246"
            ],
            "text/plain": [
              "[1] 0.246"
            ]
          },
          "metadata": {},
          "output_type": "display_data"
        },
        {
          "data": {
            "text/html": [
              "1.326"
            ],
            "text/latex": [
              "1.326"
            ],
            "text/markdown": [
              "1.326"
            ],
            "text/plain": [
              "[1] 1.326"
            ]
          },
          "metadata": {},
          "output_type": "display_data"
        },
        {
          "data": {
            "text/html": [
              "2.026"
            ],
            "text/latex": [
              "2.026"
            ],
            "text/markdown": [
              "2.026"
            ],
            "text/plain": [
              "[1] 2.026"
            ]
          },
          "metadata": {},
          "output_type": "display_data"
        },
        {
          "name": "stdout",
          "output_type": "stream",
          "text": [
            "[1] \"hay NA's\"\n"
          ]
        },
        {
          "data": {
            "text/html": [
              "0"
            ],
            "text/latex": [
              "0"
            ],
            "text/markdown": [
              "0"
            ],
            "text/plain": [
              "[1] 0"
            ]
          },
          "metadata": {},
          "output_type": "display_data"
        },
        {
          "data": {
            "text/plain": [
              "  Sepal.Length    Sepal.Width     Petal.Length    Petal.Width   \n",
              " Min.   :4.300   Min.   :2.000   Min.   :1.000   Min.   :0.100  \n",
              " 1st Qu.:5.100   1st Qu.:2.800   1st Qu.:1.600   1st Qu.:0.300  \n",
              " Median :5.800   Median :3.000   Median :4.350   Median :1.300  \n",
              " Mean   :5.843   Mean   :3.057   Mean   :3.758   Mean   :1.199  \n",
              " 3rd Qu.:6.400   3rd Qu.:3.300   3rd Qu.:5.100   3rd Qu.:1.800  \n",
              " Max.   :7.900   Max.   :4.400   Max.   :6.900   Max.   :2.500  \n",
              "       Species  \n",
              " setosa    :50  \n",
              " versicolor:50  \n",
              " virginica :50  \n",
              "                \n",
              "                \n",
              "                "
            ]
          },
          "metadata": {},
          "output_type": "display_data"
        }
      ],
      "source": [
        "# \n",
        "unique(iris$Species)\n",
        "\n",
        "\n",
        "mean(iris$Petal.Length[ iris$Species == \"setosa\"])\n",
        "mean(iris$Petal.Length[ iris$Species == \"versicolor\"])\n",
        "mean(iris$Petal.Length[ iris$Species == \"virginica\"])\n",
        "\n",
        "mean(iris$Petal.Width[ iris$Species == \"setosa\"])\n",
        "mean(iris$Petal.Width[ iris$Species == \"versicolor\"])\n",
        "mean(iris$Petal.Width[ iris$Species == \"virginica\"])\n",
        "\n",
        "print(\"hay NA's\")\n",
        "sum(is.na(iris$Petal.Length))\n",
        "\n",
        "\n",
        "summary(iris)\n",
        "\n",
        "\n"
      ]
    },
    {
      "cell_type": "code",
      "execution_count": null,
      "metadata": {
        "vscode": {
          "languageId": "r"
        }
      },
      "outputs": [],
      "source": []
    }
  ],
  "metadata": {
    "colab": {
      "provenance": []
    },
    "kernelspec": {
      "display_name": "R",
      "language": "R",
      "name": "ir"
    },
    "language_info": {
      "codemirror_mode": "r",
      "file_extension": ".r",
      "mimetype": "text/x-r-source",
      "name": "R",
      "pygments_lexer": "r",
      "version": "4.5.1"
    }
  },
  "nbformat": 4,
  "nbformat_minor": 0
}
