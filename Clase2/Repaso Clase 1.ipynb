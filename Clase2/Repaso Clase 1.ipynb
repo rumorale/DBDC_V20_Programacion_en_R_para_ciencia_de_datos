{
 "cells": [
  {
   "cell_type": "markdown",
   "id": "657de583",
   "metadata": {},
   "source": [
    "## Repaso Clase 01\n",
    "\n",
    "**En R, todo es un objeto**\n",
    "\n",
    "Tipos comunes: `numeric`, `character`, `logical`, `factor`, `date`\n",
    "\n",
    "Funciones clave:\n",
    "- `class()` → cómo R lo interpreta  \n",
    "- `typeof()` → cómo se almacena internamente  \n",
    "- `str()` → cómo está estructurado  \n"
   ]
  },
  {
   "cell_type": "markdown",
   "id": "99c806e9",
   "metadata": {},
   "source": [
    "### 1) Vectores en R\n",
    "- Creación con `c()`\n",
    "- Tipos homogéneos y **coerción automática**\n",
    "- Utilidades: `length()`, `names()`"
   ]
  },
  {
   "cell_type": "code",
   "execution_count": null,
   "id": "da08f6cb",
   "metadata": {
    "vscode": {
     "languageId": "r"
    }
   },
   "outputs": [],
   "source": [
    "## R\n",
    "# Creación de vectores y coerción\n",
    "a <- c(1, 2, 3)\n",
    "b <- c(\"1\", 2, 3)  # coerción a character\n",
    "length(a); length(b)\n",
    "\n",
    "names(a) <- c(\"x\", \"y\", \"z\")\n",
    "a"
   ]
  },
  {
   "cell_type": "markdown",
   "id": "ced12b8d",
   "metadata": {},
   "source": [
    "### 2) Acceso a elementos\n",
    "- Por **posición**, **nombre** y **condición lógica**\n",
    "- `which()` para posiciones que cumplen una condición"
   ]
  },
  {
   "cell_type": "code",
   "execution_count": null,
   "id": "56fe57c0",
   "metadata": {
    "vscode": {
     "languageId": "r"
    }
   },
   "outputs": [],
   "source": [
    "## R\n",
    "v <- c(5, 10, 15, 20)\n",
    "names(v) <- c(\"A\",\"B\",\"C\",\"D\")\n",
    "\n",
    "v[2]            # posición\n",
    "v[\"C\"]         # nombre\n",
    "v[v >= 10]      # condición lógica\n",
    "which(v >= 10)  # posiciones"
   ]
  },
  {
   "cell_type": "markdown",
   "id": "055d718f",
   "metadata": {},
   "source": [
    "### 3) Operaciones vectorizadas\n",
    "- Aritmética y comparación **elemento a elemento**\n",
    "- **Reciclaje** cuando las longitudes no coinciden"
   ]
  },
  {
   "cell_type": "code",
   "execution_count": null,
   "id": "20e282e4",
   "metadata": {
    "vscode": {
     "languageId": "r"
    }
   },
   "outputs": [],
   "source": [
    "## R\n",
    "a <- c(2, 4, 6, 8)\n",
    "b <- c(1, 3, 5, 7)\n",
    "\n",
    "a + b\n",
    "a * b\n",
    "\n",
    "# Reciclaje (warning si no es múltiplo exacto)\n",
    "b2 <- c(1, 3)\n",
    "a + b2"
   ]
  },
  {
   "cell_type": "markdown",
   "id": "cf006331",
   "metadata": {},
   "source": [
    "### 4) Operadores lógicos y funciones\n",
    "- `>`, `<`, `==`, `!=`, `>=`, `<=`\n",
    "- `&`, `|`, `!`\n",
    "- `any()`, `all()`"
   ]
  },
  {
   "cell_type": "code",
   "execution_count": 5,
   "id": "2dcda2c4",
   "metadata": {
    "vscode": {
     "languageId": "r"
    }
   },
   "outputs": [
    {
     "data": {
      "text/html": [
       "<style>\n",
       ".list-inline {list-style: none; margin:0; padding: 0}\n",
       ".list-inline>li {display: inline-block}\n",
       ".list-inline>li:not(:last-child)::after {content: \"\\00b7\"; padding: 0 .5ex}\n",
       "</style>\n",
       "<ol class=list-inline><li>TRUE</li><li>FALSE</li><li>FALSE</li></ol>\n"
      ],
      "text/latex": [
       "\\begin{enumerate*}\n",
       "\\item TRUE\n",
       "\\item FALSE\n",
       "\\item FALSE\n",
       "\\end{enumerate*}\n"
      ],
      "text/markdown": [
       "1. TRUE\n",
       "2. FALSE\n",
       "3. FALSE\n",
       "\n",
       "\n"
      ],
      "text/plain": [
       "[1]  TRUE FALSE FALSE"
      ]
     },
     "metadata": {},
     "output_type": "display_data"
    },
    {
     "data": {
      "text/html": [
       "<style>\n",
       ".list-inline {list-style: none; margin:0; padding: 0}\n",
       ".list-inline>li {display: inline-block}\n",
       ".list-inline>li:not(:last-child)::after {content: \"\\00b7\"; padding: 0 .5ex}\n",
       "</style>\n",
       "<ol class=list-inline><li>TRUE</li><li>TRUE</li><li>TRUE</li></ol>\n"
      ],
      "text/latex": [
       "\\begin{enumerate*}\n",
       "\\item TRUE\n",
       "\\item TRUE\n",
       "\\item TRUE\n",
       "\\end{enumerate*}\n"
      ],
      "text/markdown": [
       "1. TRUE\n",
       "2. TRUE\n",
       "3. TRUE\n",
       "\n",
       "\n"
      ],
      "text/plain": [
       "[1] TRUE TRUE TRUE"
      ]
     },
     "metadata": {},
     "output_type": "display_data"
    },
    {
     "data": {
      "text/html": [
       "<style>\n",
       ".list-inline {list-style: none; margin:0; padding: 0}\n",
       ".list-inline>li {display: inline-block}\n",
       ".list-inline>li:not(:last-child)::after {content: \"\\00b7\"; padding: 0 .5ex}\n",
       "</style>\n",
       "<ol class=list-inline><li>FALSE</li><li>TRUE</li><li>FALSE</li></ol>\n"
      ],
      "text/latex": [
       "\\begin{enumerate*}\n",
       "\\item FALSE\n",
       "\\item TRUE\n",
       "\\item FALSE\n",
       "\\end{enumerate*}\n"
      ],
      "text/markdown": [
       "1. FALSE\n",
       "2. TRUE\n",
       "3. FALSE\n",
       "\n",
       "\n"
      ],
      "text/plain": [
       "[1] FALSE  TRUE FALSE"
      ]
     },
     "metadata": {},
     "output_type": "display_data"
    },
    {
     "data": {
      "text/html": [
       "TRUE"
      ],
      "text/latex": [
       "TRUE"
      ],
      "text/markdown": [
       "TRUE"
      ],
      "text/plain": [
       "[1] TRUE"
      ]
     },
     "metadata": {},
     "output_type": "display_data"
    },
    {
     "data": {
      "text/html": [
       "FALSE"
      ],
      "text/latex": [
       "FALSE"
      ],
      "text/markdown": [
       "FALSE"
      ],
      "text/plain": [
       "[1] FALSE"
      ]
     },
     "metadata": {},
     "output_type": "display_data"
    }
   ],
   "source": [
    "## R\n",
    "x <- c(TRUE, FALSE, TRUE)\n",
    "y <- c(TRUE, TRUE, FALSE)\n",
    "\n",
    "x & y\n",
    "x | y\n",
    "!x\n",
    "any(x)\n",
    "all(y)"
   ]
  },
  {
   "cell_type": "markdown",
   "id": "89373a18",
   "metadata": {},
   "source": [
    "### 5) Generación de secuencias\n",
    "- `:` secuencias simples\n",
    "- `seq()` por paso o por longitud (`length.out`)\n",
    "- `rep()` repetir elementos"
   ]
  },
  {
   "cell_type": "code",
   "execution_count": 4,
   "id": "e5d6a998",
   "metadata": {
    "vscode": {
     "languageId": "r"
    }
   },
   "outputs": [
    {
     "data": {
      "text/html": [
       "<style>\n",
       ".list-inline {list-style: none; margin:0; padding: 0}\n",
       ".list-inline>li {display: inline-block}\n",
       ".list-inline>li:not(:last-child)::after {content: \"\\00b7\"; padding: 0 .5ex}\n",
       "</style>\n",
       "<ol class=list-inline><li>1</li><li>2</li><li>3</li><li>4</li><li>5</li><li>6</li><li>7</li><li>8</li><li>9</li><li>10</li></ol>\n"
      ],
      "text/latex": [
       "\\begin{enumerate*}\n",
       "\\item 1\n",
       "\\item 2\n",
       "\\item 3\n",
       "\\item 4\n",
       "\\item 5\n",
       "\\item 6\n",
       "\\item 7\n",
       "\\item 8\n",
       "\\item 9\n",
       "\\item 10\n",
       "\\end{enumerate*}\n"
      ],
      "text/markdown": [
       "1. 1\n",
       "2. 2\n",
       "3. 3\n",
       "4. 4\n",
       "5. 5\n",
       "6. 6\n",
       "7. 7\n",
       "8. 8\n",
       "9. 9\n",
       "10. 10\n",
       "\n",
       "\n"
      ],
      "text/plain": [
       " [1]  1  2  3  4  5  6  7  8  9 10"
      ]
     },
     "metadata": {},
     "output_type": "display_data"
    },
    {
     "data": {
      "text/html": [
       "<style>\n",
       ".list-inline {list-style: none; margin:0; padding: 0}\n",
       ".list-inline>li {display: inline-block}\n",
       ".list-inline>li:not(:last-child)::after {content: \"\\00b7\"; padding: 0 .5ex}\n",
       "</style>\n",
       "<ol class=list-inline><li>0</li><li>0.2</li><li>0.4</li><li>0.6</li><li>0.8</li><li>1</li></ol>\n"
      ],
      "text/latex": [
       "\\begin{enumerate*}\n",
       "\\item 0\n",
       "\\item 0.2\n",
       "\\item 0.4\n",
       "\\item 0.6\n",
       "\\item 0.8\n",
       "\\item 1\n",
       "\\end{enumerate*}\n"
      ],
      "text/markdown": [
       "1. 0\n",
       "2. 0.2\n",
       "3. 0.4\n",
       "4. 0.6\n",
       "5. 0.8\n",
       "6. 1\n",
       "\n",
       "\n"
      ],
      "text/plain": [
       "[1] 0.0 0.2 0.4 0.6 0.8 1.0"
      ]
     },
     "metadata": {},
     "output_type": "display_data"
    },
    {
     "data": {
      "text/html": [
       "<style>\n",
       ".list-inline {list-style: none; margin:0; padding: 0}\n",
       ".list-inline>li {display: inline-block}\n",
       ".list-inline>li:not(:last-child)::after {content: \"\\00b7\"; padding: 0 .5ex}\n",
       "</style>\n",
       "<ol class=list-inline><li>0</li><li>0.25</li><li>0.5</li><li>0.75</li><li>1</li></ol>\n"
      ],
      "text/latex": [
       "\\begin{enumerate*}\n",
       "\\item 0\n",
       "\\item 0.25\n",
       "\\item 0.5\n",
       "\\item 0.75\n",
       "\\item 1\n",
       "\\end{enumerate*}\n"
      ],
      "text/markdown": [
       "1. 0\n",
       "2. 0.25\n",
       "3. 0.5\n",
       "4. 0.75\n",
       "5. 1\n",
       "\n",
       "\n"
      ],
      "text/plain": [
       "[1] 0.00 0.25 0.50 0.75 1.00"
      ]
     },
     "metadata": {},
     "output_type": "display_data"
    },
    {
     "data": {
      "text/html": [
       "<style>\n",
       ".list-inline {list-style: none; margin:0; padding: 0}\n",
       ".list-inline>li {display: inline-block}\n",
       ".list-inline>li:not(:last-child)::after {content: \"\\00b7\"; padding: 0 .5ex}\n",
       "</style>\n",
       "<ol class=list-inline><li>'a'</li><li>'b'</li><li>'a'</li><li>'b'</li><li>'a'</li><li>'b'</li></ol>\n"
      ],
      "text/latex": [
       "\\begin{enumerate*}\n",
       "\\item 'a'\n",
       "\\item 'b'\n",
       "\\item 'a'\n",
       "\\item 'b'\n",
       "\\item 'a'\n",
       "\\item 'b'\n",
       "\\end{enumerate*}\n"
      ],
      "text/markdown": [
       "1. 'a'\n",
       "2. 'b'\n",
       "3. 'a'\n",
       "4. 'b'\n",
       "5. 'a'\n",
       "6. 'b'\n",
       "\n",
       "\n"
      ],
      "text/plain": [
       "[1] \"a\" \"b\" \"a\" \"b\" \"a\" \"b\""
      ]
     },
     "metadata": {},
     "output_type": "display_data"
    }
   ],
   "source": [
    "## R\n",
    "1:10\n",
    "seq(0, 1, by = 0.2)\n",
    "seq(0, 1, length.out = 5)\n",
    "rep(c(\"a\",\"b\"), times = 3)"
   ]
  },
  {
   "cell_type": "markdown",
   "id": "224543a0",
   "metadata": {},
   "source": [
    "## Pendiente\n",
    "### 6) Operaciones sobre texto\n",
    "- `nchar()`, `substr()`, `tolower()`, `toupper()`\n",
    "- `grep()`/`grepl()` para buscar patrones\n",
    "- `gsub()` para reemplazar\n",
    "- `trimws()` eliminar espacios en blanco de los extremos"
   ]
  },
  {
   "cell_type": "code",
   "execution_count": 2,
   "id": "f09c55a6",
   "metadata": {
    "vscode": {
     "languageId": "r"
    }
   },
   "outputs": [],
   "source": [
    "## R\n",
    "frases <- c(\"R es genial\", \"Me gusta programar en R\", \"Python también\", \"R y datos\")\n"
   ]
  },
  {
   "cell_type": "markdown",
   "id": "ff0723e0",
   "metadata": {},
   "source": [
    "#### Ejercicio (Pendiente Clase 1): Funciones con texto\n",
    "Objetivo: aplicar nchar(), substr(), grep(), gsub().\n",
    "\n",
    "1. Usa nchar() para obtener la longitud de cada texto.\n",
    "2. Extrae los primeros 5 caracteres de cada frase.\n",
    "3. Usa grep() para identificar qué frases contienen la palabra \"R\".\n",
    "4. Usa gsub() para reemplazar \"R\" por \"RStudio\" en todo el vector.\n",
    "5. Crea un nuevo vector donde todas las letras estén en minúscula."
   ]
  },
  {
   "cell_type": "markdown",
   "id": "8f1a9fe9",
   "metadata": {},
   "source": [
    "### 7) Valores especiales\n",
    "- `NA` (faltante), `NaN` (indefinido), `Inf` / `-Inf` (infinito)\n",
    "- Detección: `is.na()`, `is.nan()`, `is.infinite()`"
   ]
  },
  {
   "cell_type": "code",
   "execution_count": null,
   "id": "2e624c18",
   "metadata": {
    "vscode": {
     "languageId": "r"
    }
   },
   "outputs": [],
   "source": [
    "## R\n",
    "v <- c(1, NA, NaN, Inf, -Inf, 3)\n",
    "\n",
    "is.na(v)\n",
    "is.nan(v)\n",
    "is.infinite(v)\n",
    "\n",
    "mean(v)                 # Propaga NA\n",
    "mean(v, na.rm = TRUE)   # Ignora NA"
   ]
  }
 ],
 "metadata": {
  "kernelspec": {
   "display_name": "R",
   "language": "R",
   "name": "ir"
  },
  "language_info": {
   "codemirror_mode": "r",
   "file_extension": ".r",
   "mimetype": "text/x-r-source",
   "name": "R",
   "pygments_lexer": "r",
   "version": "4.5.1"
  }
 },
 "nbformat": 4,
 "nbformat_minor": 5
}
